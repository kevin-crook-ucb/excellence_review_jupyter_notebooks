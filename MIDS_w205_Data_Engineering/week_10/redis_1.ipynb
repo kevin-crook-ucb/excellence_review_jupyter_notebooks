{
 "cells": [
  {
   "cell_type": "markdown",
   "id": "b7e51eda",
   "metadata": {},
   "source": [
    "# Redis 1"
   ]
  },
  {
   "cell_type": "markdown",
   "id": "8d35b490",
   "metadata": {},
   "source": [
    "# Lab: Redis"
   ]
  },
  {
   "cell_type": "code",
   "execution_count": 1,
   "id": "6209b8cd",
   "metadata": {},
   "outputs": [],
   "source": [
    "import redis\n",
    "\n",
    "import json\n",
    "\n",
    "import pprint\n",
    "\n",
    "from datetime import timedelta\n",
    "\n",
    "import time\n",
    "\n",
    "import numpy as np\n"
   ]
  },
  {
   "cell_type": "markdown",
   "id": "4e9b4494",
   "metadata": {},
   "source": [
    "## Connect to the redis database; redis the container name is used for the host name; TCP port is 6379; databases are given a integer number instead of a name"
   ]
  },
  {
   "cell_type": "code",
   "execution_count": 2,
   "id": "7fc9706a",
   "metadata": {},
   "outputs": [],
   "source": [
    "cities_db = redis.Redis(host='redis', port=6379, db=0)"
   ]
  },
  {
   "cell_type": "markdown",
   "id": "022d900f",
   "metadata": {},
   "source": [
    "## Flush (delete all) from the cities database in case there are key / value pairs left from prior runs"
   ]
  },
  {
   "cell_type": "code",
   "execution_count": 3,
   "id": "6789d336",
   "metadata": {},
   "outputs": [
    {
     "data": {
      "text/plain": [
       "True"
      ]
     },
     "execution_count": 3,
     "metadata": {},
     "output_type": "execute_result"
    }
   ],
   "source": [
    "cities_db.flushdb()"
   ]
  },
  {
   "cell_type": "markdown",
   "id": "7dcce7ab",
   "metadata": {},
   "source": [
    "## Example of key / value pairs where both the key and the value are simple strings; the logic for key / value pairs is basically the same as a Python dictionary:  if the key does not exist, create a new \"slot\" with the key / value pair, if the key already exists, overwrite the value"
   ]
  },
  {
   "cell_type": "code",
   "execution_count": 4,
   "id": "a3c35d9d",
   "metadata": {},
   "outputs": [
    {
     "data": {
      "text/plain": [
       "True"
      ]
     },
     "execution_count": 4,
     "metadata": {},
     "output_type": "execute_result"
    }
   ],
   "source": [
    "cities_db.set(\"Berkeley\", \"California\")\n",
    "cities_db.set(\"Portland\", \"Oregon\")\n",
    "cities_db.set(\"Seattle\", \"Washington\")\n",
    "cities_db.set(\"Dallas\", \"Texas\")\n",
    "cities_db.set(\"Nashville\", \"Tennessee\")\n",
    "cities_db.set(\"Chicago\", \"Illinois\")\n",
    "cities_db.set(\"Miami\", \"Florida\")"
   ]
  },
  {
   "cell_type": "code",
   "execution_count": 5,
   "id": "8f4da69c",
   "metadata": {},
   "outputs": [
    {
     "data": {
      "text/plain": [
       "[b'Miami',\n",
       " b'Berkeley',\n",
       " b'Seattle',\n",
       " b'Dallas',\n",
       " b'Chicago',\n",
       " b'Nashville',\n",
       " b'Portland']"
      ]
     },
     "execution_count": 5,
     "metadata": {},
     "output_type": "execute_result"
    }
   ],
   "source": [
    "cities_db.keys()"
   ]
  },
  {
   "cell_type": "code",
   "execution_count": 6,
   "id": "fcb74a41",
   "metadata": {},
   "outputs": [
    {
     "data": {
      "text/plain": [
       "b'California'"
      ]
     },
     "execution_count": 6,
     "metadata": {},
     "output_type": "execute_result"
    }
   ],
   "source": [
    "cities_db.get(\"Berkeley\")"
   ]
  },
  {
   "cell_type": "code",
   "execution_count": 7,
   "id": "8867fa24",
   "metadata": {},
   "outputs": [
    {
     "name": "stdout",
     "output_type": "stream",
     "text": [
      "key: b'Miami' value: b'Florida'\n",
      "key: b'Berkeley' value: b'California'\n",
      "key: b'Seattle' value: b'Washington'\n",
      "key: b'Dallas' value: b'Texas'\n",
      "key: b'Chicago' value: b'Illinois'\n",
      "key: b'Nashville' value: b'Tennessee'\n",
      "key: b'Portland' value: b'Oregon'\n"
     ]
    }
   ],
   "source": [
    "for key in cities_db.keys():\n",
    "    print(\"key:\", key, \"value:\", cities_db.get(key))"
   ]
  },
  {
   "cell_type": "code",
   "execution_count": 8,
   "id": "f75d2218",
   "metadata": {},
   "outputs": [
    {
     "data": {
      "text/plain": [
       "True"
      ]
     },
     "execution_count": 8,
     "metadata": {},
     "output_type": "execute_result"
    }
   ],
   "source": [
    "cities_db.set(\"Berkeley\", \"CA\")\n",
    "cities_db.set(\"Portland\", \"OR\")\n",
    "cities_db.set(\"Seattle\", \"WA\")\n",
    "cities_db.set(\"Dallas\", \"TX\")\n",
    "cities_db.set(\"Nashville\", \"TN\")\n",
    "cities_db.set(\"Chicago\", \"IL\")\n",
    "cities_db.set(\"Miami\", \"FL\")"
   ]
  },
  {
   "cell_type": "code",
   "execution_count": 9,
   "id": "e5b4712e",
   "metadata": {},
   "outputs": [
    {
     "name": "stdout",
     "output_type": "stream",
     "text": [
      "key: b'Miami' value: b'FL'\n",
      "key: b'Berkeley' value: b'CA'\n",
      "key: b'Seattle' value: b'WA'\n",
      "key: b'Dallas' value: b'TX'\n",
      "key: b'Chicago' value: b'IL'\n",
      "key: b'Nashville' value: b'TN'\n",
      "key: b'Portland' value: b'OR'\n"
     ]
    }
   ],
   "source": [
    "for key in cities_db.keys():\n",
    "    print(\"key:\", key, \"value:\", cities_db.get(key))"
   ]
  },
  {
   "cell_type": "markdown",
   "id": "6fc1a801",
   "metadata": {},
   "source": [
    "## If we want to set a lot of values at the same time, we can use a feature called pipelining, which is more efficient than setting them one at a time; not until we execute the pipeline do the changes get made;"
   ]
  },
  {
   "cell_type": "code",
   "execution_count": 10,
   "id": "b2a94066",
   "metadata": {},
   "outputs": [],
   "source": [
    "cities_pipe = cities_db.pipeline()\n",
    "\n",
    "cities_list = [[\"Berkeley\", \"California\"], \n",
    "               [\"Portland\", \"Oregon\"],\n",
    "               [\"Seattle\", \"Washington\"],\n",
    "               [\"Dallas\", \"Texas\"],\n",
    "               [\"Nashville\", \"Tennessee\"],\n",
    "               [\"Chicago\", \"Illinois\"],\n",
    "               [\"Miami\", \"Florida\"]\n",
    "              ]\n",
    "\n",
    "for (city, state) in cities_list:\n",
    "    cities_pipe.set(city, state)\n"
   ]
  },
  {
   "cell_type": "code",
   "execution_count": 11,
   "id": "72afa4b8",
   "metadata": {},
   "outputs": [
    {
     "name": "stdout",
     "output_type": "stream",
     "text": [
      "key: b'Miami' value: b'FL'\n",
      "key: b'Berkeley' value: b'CA'\n",
      "key: b'Seattle' value: b'WA'\n",
      "key: b'Dallas' value: b'TX'\n",
      "key: b'Chicago' value: b'IL'\n",
      "key: b'Nashville' value: b'TN'\n",
      "key: b'Portland' value: b'OR'\n"
     ]
    }
   ],
   "source": [
    "for key in cities_db.keys():\n",
    "    print(\"key:\", key, \"value:\", cities_db.get(key))"
   ]
  },
  {
   "cell_type": "code",
   "execution_count": 12,
   "id": "0d693a3d",
   "metadata": {},
   "outputs": [
    {
     "data": {
      "text/plain": [
       "[True, True, True, True, True, True, True]"
      ]
     },
     "execution_count": 12,
     "metadata": {},
     "output_type": "execute_result"
    }
   ],
   "source": [
    "cities_pipe.execute()"
   ]
  },
  {
   "cell_type": "code",
   "execution_count": 13,
   "id": "fc3b5f47",
   "metadata": {},
   "outputs": [
    {
     "name": "stdout",
     "output_type": "stream",
     "text": [
      "key: b'Miami' value: b'Florida'\n",
      "key: b'Berkeley' value: b'California'\n",
      "key: b'Seattle' value: b'Washington'\n",
      "key: b'Dallas' value: b'Texas'\n",
      "key: b'Chicago' value: b'Illinois'\n",
      "key: b'Nashville' value: b'Tennessee'\n",
      "key: b'Portland' value: b'Oregon'\n"
     ]
    }
   ],
   "source": [
    "for key in cities_db.keys():\n",
    "    print(\"key:\", key, \"value:\", cities_db.get(key))"
   ]
  },
  {
   "cell_type": "markdown",
   "id": "8689ce5e",
   "metadata": {},
   "source": [
    "## We can put an expirey on a key / value pair;  once the key / value pair expires, it is deleted; there are methods to specify time in milliseconds, seconds, minutes, specific date, time, etc.; set New York for 10 seconds, watch it disappear"
   ]
  },
  {
   "cell_type": "code",
   "execution_count": 19,
   "id": "a0da2d90",
   "metadata": {},
   "outputs": [
    {
     "data": {
      "text/plain": [
       "True"
      ]
     },
     "execution_count": 19,
     "metadata": {},
     "output_type": "execute_result"
    }
   ],
   "source": [
    "cities_db.setex(\"New York\", timedelta(seconds=10), \"NY\")"
   ]
  },
  {
   "cell_type": "code",
   "execution_count": 20,
   "id": "71e101c8",
   "metadata": {},
   "outputs": [
    {
     "data": {
      "text/plain": [
       "b'NY'"
      ]
     },
     "execution_count": 20,
     "metadata": {},
     "output_type": "execute_result"
    }
   ],
   "source": [
    "cities_db.get(\"New York\")"
   ]
  },
  {
   "cell_type": "code",
   "execution_count": 25,
   "id": "dae989ba",
   "metadata": {},
   "outputs": [],
   "source": [
    "# wait 10 seconds and see it disappear\n",
    "cities_db.get(\"New York\")"
   ]
  },
  {
   "cell_type": "markdown",
   "id": "d2dd24c1",
   "metadata": {},
   "source": [
    "## We are been using simple strings, which are not that useful;  JSON values are much more useful and typical;  create a new database 1 (flush it to clean out from prior runs); load the temp_stores_nested.json using the store_id as the key and the JSON as a string as the value"
   ]
  },
  {
   "cell_type": "code",
   "execution_count": 26,
   "id": "d6a65263",
   "metadata": {},
   "outputs": [],
   "source": [
    "stores_db = redis.Redis(host='redis', port=6379, db=1)\n",
    "\n",
    "stores_db.flushdb()\n",
    "\n",
    "stores_pipe = stores_db.pipeline()"
   ]
  },
  {
   "cell_type": "code",
   "execution_count": 27,
   "id": "d966e0fd",
   "metadata": {},
   "outputs": [],
   "source": [
    "f = open(\"temp_stores_nested.json\")\n",
    "file_json = json.load(f)\n",
    "f.close()\n",
    "\n",
    "stores_json_list = file_json[\"stores\"]"
   ]
  },
  {
   "cell_type": "code",
   "execution_count": 28,
   "id": "0f7dde6b",
   "metadata": {},
   "outputs": [
    {
     "data": {
      "text/plain": [
       "[True, True, True, True, True]"
      ]
     },
     "execution_count": 28,
     "metadata": {},
     "output_type": "execute_result"
    }
   ],
   "source": [
    "for store in stores_json_list:\n",
    "    stores_pipe.set(store[\"store_id\"], json.dumps(store))\n",
    "    \n",
    "stores_pipe.execute()"
   ]
  },
  {
   "cell_type": "code",
   "execution_count": 29,
   "id": "5717c400",
   "metadata": {},
   "outputs": [
    {
     "name": "stdout",
     "output_type": "stream",
     "text": [
      "key: b'3' value: b'{\"store_id\": 3, \"street\": \"2510 McKinney Ave\", \"city\": \"Dallas\", \"state\": \"TX\", \"zip\": \"75'\n",
      "key: b'1' value: b'{\"store_id\": 1, \"street\": \"3000 Telegraph Ave\", \"city\": \"Berkeley\", \"state\": \"CA\", \"zip\": '\n",
      "key: b'5' value: b'{\"store_id\": 5, \"street\": \"1202 Broadway\", \"city\": \"Nashville\", \"state\": \"TN\", \"zip\": \"372'\n",
      "key: b'2' value: b'{\"store_id\": 2, \"street\": \"1001 Broadway\", \"city\": \"Seattle\", \"state\": \"WA\", \"zip\": \"98122'\n",
      "key: b'4' value: b'{\"store_id\": 4, \"street\": \"299 SE 3rd Ave\", \"city\": \"Miami\", \"state\": \"FL\", \"zip\": \"33131\"'\n"
     ]
    }
   ],
   "source": [
    "# print only the first 90 characters of the JSON object, since they are large\n",
    "\n",
    "for key in stores_db.keys():\n",
    "    print(\"key:\", key, \"value:\", stores_db.get(key)[:90])"
   ]
  },
  {
   "cell_type": "markdown",
   "id": "8dbbaba0",
   "metadata": {},
   "source": [
    "## Where redis really shines is that it is a scale out, in memory solution;  memory is backed to disk at periodic intervals, which can be changed in the config file;  one great example would be a leader board for a multi-player online game; we will simulate a multi-player game with random scores "
   ]
  },
  {
   "cell_type": "code",
   "execution_count": 30,
   "id": "c5ce383e",
   "metadata": {},
   "outputs": [],
   "source": [
    "games_db = redis.Redis(host='redis', port=6379, db=2)\n",
    "\n",
    "games_db.flushdb()\n",
    "\n",
    "game_id = 3874297973"
   ]
  },
  {
   "cell_type": "markdown",
   "id": "0b5c70a5",
   "metadata": {},
   "source": [
    "## Run the Jupyter Notebook redis_2 to get the set values (actually you can make several copies of redis_2 and run several at the same time!)\n",
    "\n",
    "## Infine loop - to stop: menu bar => Kernet => Interrupt"
   ]
  },
  {
   "cell_type": "code",
   "execution_count": 31,
   "id": "0e7e66bf",
   "metadata": {},
   "outputs": [
    {
     "ename": "KeyboardInterrupt",
     "evalue": "",
     "output_type": "error",
     "traceback": [
      "\u001b[0;31m---------------------------------------------------------------------------\u001b[0m",
      "\u001b[0;31mKeyboardInterrupt\u001b[0m                         Traceback (most recent call last)",
      "\u001b[0;32m<ipython-input-31-864c3403a97e>\u001b[0m in \u001b[0;36m<module>\u001b[0;34m\u001b[0m\n\u001b[1;32m     18\u001b[0m     \u001b[0mgames_db\u001b[0m\u001b[0;34m.\u001b[0m\u001b[0mset\u001b[0m\u001b[0;34m(\u001b[0m\u001b[0mgame_id\u001b[0m\u001b[0;34m,\u001b[0m \u001b[0mjson\u001b[0m\u001b[0;34m.\u001b[0m\u001b[0mdumps\u001b[0m\u001b[0;34m(\u001b[0m\u001b[0mscores\u001b[0m\u001b[0;34m)\u001b[0m\u001b[0;34m)\u001b[0m\u001b[0;34m\u001b[0m\u001b[0;34m\u001b[0m\u001b[0m\n\u001b[1;32m     19\u001b[0m \u001b[0;34m\u001b[0m\u001b[0m\n\u001b[0;32m---> 20\u001b[0;31m     \u001b[0mtime\u001b[0m\u001b[0;34m.\u001b[0m\u001b[0msleep\u001b[0m\u001b[0;34m(\u001b[0m\u001b[0;36m1.0\u001b[0m\u001b[0;34m)\u001b[0m\u001b[0;34m\u001b[0m\u001b[0;34m\u001b[0m\u001b[0m\n\u001b[0m\u001b[1;32m     21\u001b[0m \u001b[0;34m\u001b[0m\u001b[0m\n",
      "\u001b[0;31mKeyboardInterrupt\u001b[0m: "
     ]
    }
   ],
   "source": [
    "scores = {}\n",
    "\n",
    "base_score = 0\n",
    "\n",
    "while (True):\n",
    "    \n",
    "    base_score += 50\n",
    "    \n",
    "    scores[\"Alice\"] = base_score + np.random.randint(16,20)\n",
    "    scores[\"Bob\"] = base_score + np.random.randint(16,20)\n",
    "    scores[\"Mary\"] = base_score + np.random.randint(11,15)\n",
    "    scores[\"Jeff\"] = base_score + np.random.randint(11,15)\n",
    "    scores[\"Roberta\"] = base_score + np.random.randint(6,10)\n",
    "    scores[\"Trevor\"] = base_score + np.random.randint(6,10)\n",
    "    scores[\"Wanda\"] = base_score + np.random.randint(1,5)\n",
    "    scores[\"Walter\"] = base_score + np.random.randint(1,5)\n",
    "    \n",
    "    games_db.set(game_id, json.dumps(scores))\n",
    "    \n",
    "    time.sleep(1.0)\n",
    "    "
   ]
  },
  {
   "cell_type": "markdown",
   "id": "1be2d2f3",
   "metadata": {},
   "source": [
    "## You try it\n",
    "\n",
    "## Create database 3 for sales; load the file temp_sales_nested.json into the sales database with the receipt as the key and the JSON as the value\n",
    "\n",
    "## Create database 4 for customers; load the file temp_customers_nested.json into the customers database with the customer_id as the key and the JSON as the value"
   ]
  },
  {
   "cell_type": "code",
   "execution_count": null,
   "id": "d65b63e7",
   "metadata": {},
   "outputs": [],
   "source": []
  }
 ],
 "metadata": {
  "kernelspec": {
   "display_name": "Python 3",
   "language": "python",
   "name": "python3"
  },
  "language_info": {
   "codemirror_mode": {
    "name": "ipython",
    "version": 3
   },
   "file_extension": ".py",
   "mimetype": "text/x-python",
   "name": "python",
   "nbconvert_exporter": "python",
   "pygments_lexer": "ipython3",
   "version": "3.8.8"
  }
 },
 "nbformat": 4,
 "nbformat_minor": 5
}
