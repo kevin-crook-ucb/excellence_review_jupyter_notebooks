{
 "cells": [
  {
   "cell_type": "markdown",
   "metadata": {
    "collapsed": false
   },
   "source": [
    "### UC Berkeley, MICS, W202-Cryptography\n",
    "### Week 02  Breakout 3\n",
    "### Shamir Secret Sharing\n",
    "\n",
    "As our lecture notes point out secure multi-party computation is a SUPER HOT area of cybersecurity today!  Shamir Secret Sharing is the leading algorithm in this area.  However, as you will notice, it's not covered in our textbooks, nor in any book I could find.  This makes it a great opportunity for students to learn something that is really hot in industry, but does not have a lot of people with exposure to it!\n",
    "\n",
    "Sharmir Secret Sharing \n",
    "* n users receive a \"share\" (not the secret)\n",
    "* a quorum q <= n of the n users, each with a share, are needed to recover the secret\n",
    "\n",
    "For example, we may have the combination to a safe that needs to be kept secret at a big box store.  We have 12 management employees that each have their own share. We require that 3 of these management employees present their shares to recover the secret combination to the safe.  Any 3 of the 12 can present their share and the secret can be recovered.\n",
    "\n",
    "The simplified basic principle works like this:  In high school algebra, you learned that 2 points determine a line. If we have two points, we can write an equation for a line. A line is a polynomial of degree 1. \n",
    "\n",
    "Generalizing this concept to all polynomials: if we want a quorum of q, we write a polynomial f(x) of degree (q-1).  f(0) will be the secret. Shares can be f(1), f(2), ..., f(n). It will take q shares to recover the secret.\n",
    "\n",
    "Further, we limit our polynomials to Finite Fields (aka Galios Fields) in modulo prime, usually writen GF(p)\n",
    "\n",
    "* f(x) = a_(q-1) * x^(q-1) + ... + a_1 * x + a_0 (mod p)\n",
    "* f(0) = a_0 = secret\n",
    "* shares: f(1), f(2), f(3)..., f(p-1)\n",
    "\n",
    "When Shamir secret sharing is used for secure multi-party computation, the minimum size of p is determined based on the size of inputs and operations that are performed during the computation. It could be as small as 100 bits or as big as 4k bits.\n",
    "\n",
    "Below we will run the example given to us in the lecture."
   ]
  },
  {
   "cell_type": "markdown",
   "metadata": {
    "collapsed": false
   },
   "source": [
    "### Example\n",
    "\n",
    "We require a quorum of 3 shares to recover the secret, q = 3\n",
    "\n",
    "We write a polynomial of degree 2 using Shamir's forumla, (q-1) = 2\n",
    "\n",
    "To create our GF(p), we decide to use p = 97, that is our polynomial will be in (mod 97)\n",
    "\n",
    "We give out the following shares:\n",
    "* f(1) = 53\n",
    "* f(3) = 5\n",
    "* f(4) = 4\n",
    "\n",
    "Recover the secret."
   ]
  },
  {
   "cell_type": "code",
   "execution_count": 1,
   "metadata": {
    "collapsed": false
   },
   "outputs": [
   ],
   "source": [
    "from sage.all import *"
   ]
  },
  {
   "cell_type": "code",
   "execution_count": 2,
   "metadata": {
    "collapsed": false
   },
   "outputs": [
   ],
   "source": [
    "def my_shamir_recover_secret(q, p, points):\n",
    "    \"given the quorum q, the mod p, and a list of points, recover a shamir secret\"\n",
    "    \n",
    "    if len(points) != q:\n",
    "        print (\"must submit exactly\", q, \"points!\")\n",
    "        return\n",
    "    \n",
    "    print (\"\\n\")\n",
    "    \n",
    "    temp_matrix = []\n",
    "    \n",
    "    temp_vector = []\n",
    "    \n",
    "    for i in range(0,q):\n",
    "        \n",
    "        s1 = \"f(\" + str(points[i][0]) + \") = \"\n",
    "        s2 = \"f(\" + str(points[i][0]) + \") = \"\n",
    "        \n",
    "        temp_row = []\n",
    "        \n",
    "        for j in range(q-1,-1,-1):\n",
    "            \n",
    "            temp_row.append(points[i][0] ** j)\n",
    "            \n",
    "            s1 += \"a_\" + str(j) + \" * \" + str(points[i][0] ** j)\n",
    "            s2 += \"a_\" + str(j) + \" * \" + str(points[i][0]) + \"^\" + str(j)\n",
    "            \n",
    "            if j != 0:\n",
    "                s1 += \" + \"\n",
    "                s2 += \" + \"\n",
    "                \n",
    "        temp_matrix.append(temp_row)\n",
    "        temp_vector.append(points[i][1])\n",
    "        \n",
    "        print (s1 + \" = \" + str(points[i][1]))\n",
    "        print (s2 + \" = \" + str(points[i][1]) + \"\\n\")\n",
    "        \n",
    "    print (\"Place the coefficients from the above system of equations into a matrix of coefficienct and a vector of function values and use a Leibniz solver over GF(p) to find the solution\\n\")\n",
    "     \n",
    "    # create GF(p) to ensure the Liebniz solver will be able to use it throughout,\n",
    "    # otherwise, if it can't cut by mod during certain steps, it will give the wrong answer\n",
    "    \n",
    "    R = IntegerModRing(p)\n",
    "    \n",
    "    my_matrix = Matrix(R, temp_matrix)\n",
    "    print (my_matrix, \"\\n\")\n",
    "    \n",
    "    my_vector = vector(R, temp_vector)\n",
    "    print (my_vector, \"\\n\")\n",
    "    \n",
    "    solution = my_matrix.solve_right(my_vector)\n",
    "    \n",
    "    print (\"solution vector:\")\n",
    "    print (solution, \"\\n\")\n",
    "            \n",
    "    # print (\"secret:\\nf(0) = \" + str(Integer(round(solution[-1][0]))))\n",
    "    print (\"secret:\\nf(0) = \" + str(solution[q-1]))\n",
    "    \n",
    "    return solution"
   ]
  },
  {
   "cell_type": "code",
   "execution_count": 3,
   "metadata": {
    "collapsed": false
   },
   "outputs": [
    {
     "name": "stdout",
     "output_type": "stream",
     "text": [
      "\n",
      "\n",
      "f(1) = a_2 * 1 + a_1 * 1 + a_0 * 1 = 53\n",
      "f(1) = a_2 * 1^2 + a_1 * 1^1 + a_0 * 1^0 = 53\n",
      "\n",
      "f(3) = a_2 * 9 + a_1 * 3 + a_0 * 1 = 5\n",
      "f(3) = a_2 * 3^2 + a_1 * 3^1 + a_0 * 3^0 = 5\n",
      "\n",
      "f(4) = a_2 * 16 + a_1 * 4 + a_0 * 1 = 4\n",
      "f(4) = a_2 * 4^2 + a_1 * 4^1 + a_0 * 4^0 = 4\n",
      "\n",
      "Place the coefficients from the above system of equations into a matrix of coefficienct and a vector of function values and use a Leibniz solver over GF(p) to find the solution\n",
      "\n",
      "[ 1  1  1]\n",
      "[ 9  3  1]\n",
      "[16  4  1] \n",
      "\n",
      "(53, 5, 4) \n",
      "\n",
      "solution vector:\n",
      "(40, 10, 3) \n",
      "\n",
      "secret:\n",
      "f(0) = 3\n"
     ]
    }
   ],
   "source": [
    "solution = my_shamir_recover_secret(3, 97, [(1,53),(3,5),(4,4)])"
   ]
  },
  {
   "cell_type": "markdown",
   "metadata": {
    "collapsed": false
   },
   "source": [
    "### Now that we have the solution vector which includes the secret, let's use the solution vector to enumerate all of the values f(0) through f(p-1)"
   ]
  },
  {
   "cell_type": "code",
   "execution_count": 4,
   "metadata": {
    "collapsed": false
   },
   "outputs": [
    {
     "data": {
      "text/plain": [
       "(40, 10, 3)"
      ]
     },
     "execution_count": 4,
     "metadata": {
     },
     "output_type": "execute_result"
    }
   ],
   "source": [
    "solution"
   ]
  },
  {
   "cell_type": "code",
   "execution_count": 5,
   "metadata": {
    "collapsed": false
   },
   "outputs": [
   ],
   "source": [
    "def my_shamir_list_values(q, p, solution):\n",
    "    \"given a mod value p and a solution vector, f(0) through f(m-1) inclusive\"\n",
    "    \n",
    "    print (\"\")\n",
    "    \n",
    "    if q != len(solution):\n",
    "        print (\"must submit a solution of \", q, \"values\")\n",
    "    \n",
    "    if p < 100:\n",
    "        range_limit = p\n",
    "    else:\n",
    "        range_limit = 101\n",
    "    \n",
    "    for i in range(0,range_limit):\n",
    "        \n",
    "        value = 0\n",
    "        exponent = 0\n",
    "        \n",
    "        for j in range(q-1,-1,-1):\n",
    "           \n",
    "            value += (i ** exponent) * solution[j]\n",
    "            exponent += 1\n",
    "            \n",
    "        value %= p   \n",
    "        \n",
    "        print (\"f(\" + str(i) + \") = \" + str(value))\n",
    "            \n",
    "    if i >= 100:\n",
    "        print (\"\\n*** only printed the first 100 shares ***\")\n",
    "        "
   ]
  },
  {
   "cell_type": "code",
   "execution_count": 6,
   "metadata": {
    "collapsed": false,
    "scrolled": true
   },
   "outputs": [
    {
     "name": "stdout",
     "output_type": "stream",
     "text": [
      "\n",
      "f(0) = 3\n",
      "f(1) = 53\n",
      "f(2) = 86\n",
      "f(3) = 5\n",
      "f(4) = 4\n",
      "f(5) = 83\n",
      "f(6) = 48\n",
      "f(7) = 93\n",
      "f(8) = 24\n",
      "f(9) = 35\n",
      "f(10) = 29\n",
      "f(11) = 6\n",
      "f(12) = 63\n",
      "f(13) = 6\n",
      "f(14) = 29\n",
      "f(15) = 35\n",
      "f(16) = 24\n",
      "f(17) = 93\n",
      "f(18) = 48\n",
      "f(19) = 83\n",
      "f(20) = 4\n",
      "f(21) = 5\n",
      "f(22) = 86\n",
      "f(23) = 53\n",
      "f(24) = 3\n",
      "f(25) = 33\n",
      "f(26) = 46\n",
      "f(27) = 42\n",
      "f(28) = 21\n",
      "f(29) = 80\n",
      "f(30) = 25\n",
      "f(31) = 50\n",
      "f(32) = 58\n",
      "f(33) = 49\n",
      "f(34) = 23\n",
      "f(35) = 77\n",
      "f(36) = 17\n",
      "f(37) = 37\n",
      "f(38) = 40\n",
      "f(39) = 26\n",
      "f(40) = 92\n",
      "f(41) = 44\n",
      "f(42) = 76\n",
      "f(43) = 91\n",
      "f(44) = 89\n",
      "f(45) = 70\n",
      "f(46) = 34\n",
      "f(47) = 78\n",
      "f(48) = 8\n",
      "f(49) = 18\n",
      "f(50) = 11\n",
      "f(51) = 84\n",
      "f(52) = 43\n",
      "f(53) = 82\n",
      "f(54) = 7\n",
      "f(55) = 12\n",
      "f(56) = 0\n",
      "f(57) = 68\n",
      "f(58) = 22\n",
      "f(59) = 56\n",
      "f(60) = 73\n",
      "f(61) = 73\n",
      "f(62) = 56\n",
      "f(63) = 22\n",
      "f(64) = 68\n",
      "f(65) = 0\n",
      "f(66) = 12\n",
      "f(67) = 7\n",
      "f(68) = 82\n",
      "f(69) = 43\n",
      "f(70) = 84\n",
      "f(71) = 11\n",
      "f(72) = 18\n",
      "f(73) = 8\n",
      "f(74) = 78\n",
      "f(75) = 34\n",
      "f(76) = 70\n",
      "f(77) = 89\n",
      "f(78) = 91\n",
      "f(79) = 76\n",
      "f(80) = 44\n",
      "f(81) = 92\n",
      "f(82) = 26\n",
      "f(83) = 40\n",
      "f(84) = 37\n",
      "f(85) = 17\n",
      "f(86) = 77\n",
      "f(87) = 23\n",
      "f(88) = 49\n",
      "f(89) = 58\n",
      "f(90) = 50\n",
      "f(91) = 25\n",
      "f(92) = 80\n",
      "f(93) = 21\n",
      "f(94) = 42\n",
      "f(95) = 46\n",
      "f(96) = 33\n"
     ]
    }
   ],
   "source": [
    "my_shamir_list_values(3, 97, solution)"
   ]
  },
  {
   "cell_type": "code",
   "execution_count": 7,
   "metadata": {
    "collapsed": false
   },
   "outputs": [
    {
     "name": "stdout",
     "output_type": "stream",
     "text": [
      "\n",
      "\n",
      "f(43) = a_2 * 1849 + a_1 * 43 + a_0 * 1 = 91\n",
      "f(43) = a_2 * 43^2 + a_1 * 43^1 + a_0 * 43^0 = 91\n",
      "\n",
      "f(67) = a_2 * 4489 + a_1 * 67 + a_0 * 1 = 7\n",
      "f(67) = a_2 * 67^2 + a_1 * 67^1 + a_0 * 67^0 = 7\n",
      "\n",
      "f(96) = a_2 * 9216 + a_1 * 96 + a_0 * 1 = 33\n",
      "f(96) = a_2 * 96^2 + a_1 * 96^1 + a_0 * 96^0 = 33\n",
      "\n",
      "Place the coefficients from the above system of equations into a matrix of coefficienct and a vector of function values and use a Leibniz solver over GF(p) to find the solution\n",
      "\n",
      "[ 6 43  1]\n",
      "[27 67  1]\n",
      "[ 1 96  1] \n",
      "\n",
      "(91, 7, 33) \n",
      "\n",
      "solution vector:\n",
      "(40, 10, 3) \n",
      "\n",
      "secret:\n",
      "f(0) = 3\n"
     ]
    }
   ],
   "source": [
    "# try various combinations of 3 points to verify that they all give the same solution\n",
    "\n",
    "solution = my_shamir_recover_secret(3, 97, [(43,91),(67,7),(96,33)])"
   ]
  },
  {
   "cell_type": "code",
   "execution_count": 8,
   "metadata": {
    "collapsed": false
   },
   "outputs": [
    {
     "name": "stdout",
     "output_type": "stream",
     "text": [
      "\n",
      "\n",
      "f(66) = a_2 * 4356 + a_1 * 66 + a_0 * 1 = 12\n",
      "f(66) = a_2 * 66^2 + a_1 * 66^1 + a_0 * 66^0 = 12\n",
      "\n",
      "f(27) = a_2 * 729 + a_1 * 27 + a_0 * 1 = 42\n",
      "f(27) = a_2 * 27^2 + a_1 * 27^1 + a_0 * 27^0 = 42\n",
      "\n",
      "f(11) = a_2 * 121 + a_1 * 11 + a_0 * 1 = 6\n",
      "f(11) = a_2 * 11^2 + a_1 * 11^1 + a_0 * 11^0 = 6\n",
      "\n",
      "Place the coefficients from the above system of equations into a matrix of coefficienct and a vector of function values and use a Leibniz solver over GF(p) to find the solution\n",
      "\n",
      "[88 66  1]\n",
      "[50 27  1]\n",
      "[24 11  1] \n",
      "\n",
      "(12, 42, 6) \n",
      "\n",
      "solution vector:\n",
      "(40, 10, 3) \n",
      "\n",
      "secret:\n",
      "f(0) = 3\n"
     ]
    }
   ],
   "source": [
    "solution = my_shamir_recover_secret(3, 97, [(66,12),(27,42),(11,6)])"
   ]
  },
  {
   "cell_type": "code",
   "execution_count": 9,
   "metadata": {
    "collapsed": false
   },
   "outputs": [
    {
     "name": "stdout",
     "output_type": "stream",
     "text": [
      "\n",
      "\n",
      "f(12) = a_2 * 144 + a_1 * 12 + a_0 * 1 = 63\n",
      "f(12) = a_2 * 12^2 + a_1 * 12^1 + a_0 * 12^0 = 63\n",
      "\n",
      "f(10) = a_2 * 100 + a_1 * 10 + a_0 * 1 = 29\n",
      "f(10) = a_2 * 10^2 + a_1 * 10^1 + a_0 * 10^0 = 29\n",
      "\n",
      "f(9) = a_2 * 81 + a_1 * 9 + a_0 * 1 = 35\n",
      "f(9) = a_2 * 9^2 + a_1 * 9^1 + a_0 * 9^0 = 35\n",
      "\n",
      "Place the coefficients from the above system of equations into a matrix of coefficienct and a vector of function values and use a Leibniz solver over GF(p) to find the solution\n",
      "\n",
      "[47 12  1]\n",
      "[ 3 10  1]\n",
      "[81  9  1] \n",
      "\n",
      "(63, 29, 35) \n",
      "\n",
      "solution vector:\n",
      "(40, 10, 3) \n",
      "\n",
      "secret:\n",
      "f(0) = 3\n"
     ]
    }
   ],
   "source": [
    "solution = my_shamir_recover_secret(3, 97, [(12,63),(10,29),(9,35)])"
   ]
  },
  {
   "cell_type": "markdown",
   "metadata": {
    "collapsed": false
   },
   "source": [
    "### Now let's consider that one holder of a share decides to attack the algorithm. \n",
    "\n",
    "If one holder of a share decided to give the wrong number to the share, what happens?\n",
    "\n",
    "The other users will recover an invalid number for the secret.\n",
    "\n",
    "Worse, the holder who gave the wrong number, if he received the other shares submitted, can recover the real secret."
   ]
  },
  {
   "cell_type": "code",
   "execution_count": 10,
   "metadata": {
    "collapsed": false
   },
   "outputs": [
    {
     "name": "stdout",
     "output_type": "stream",
     "text": [
      "\n",
      "\n",
      "f(12) = a_2 * 144 + a_1 * 12 + a_0 * 1 = 63\n",
      "f(12) = a_2 * 12^2 + a_1 * 12^1 + a_0 * 12^0 = 63\n",
      "\n",
      "f(10) = a_2 * 100 + a_1 * 10 + a_0 * 1 = 29\n",
      "f(10) = a_2 * 10^2 + a_1 * 10^1 + a_0 * 10^0 = 29\n",
      "\n",
      "f(9) = a_2 * 81 + a_1 * 9 + a_0 * 1 = 34\n",
      "f(9) = a_2 * 9^2 + a_1 * 9^1 + a_0 * 9^0 = 34\n",
      "\n",
      "Place the coefficients from the above system of equations into a matrix of coefficienct and a vector of function values and use a Leibniz solver over GF(p) to find the solution\n",
      "\n",
      "[47 12  1]\n",
      "[ 3 10  1]\n",
      "[81  9  1] \n",
      "\n",
      "(63, 29, 34) \n",
      "\n",
      "solution vector:\n",
      "(72, 82, 60) \n",
      "\n",
      "secret:\n",
      "f(0) = 60\n"
     ]
    }
   ],
   "source": [
    "# change the valid point (9,35) to the invalid point (9,34)\n",
    "# it will recover an invalid number for the secret\n",
    "\n",
    "solution = my_shamir_recover_secret(3, 97, [(12,63),(10,29),(9,34)])"
   ]
  },
  {
   "cell_type": "markdown",
   "metadata": {
    "collapsed": false
   },
   "source": [
    "### Let's create our own share with a polynomial of degree 4, with a quorum q of 5, GF(p) with p of 97, a secret of 15, and 4 random values for the remaining a's"
   ]
  },
  {
   "cell_type": "code",
   "execution_count": 11,
   "metadata": {
    "collapsed": false,
    "scrolled": true
   },
   "outputs": [
    {
     "name": "stdout",
     "output_type": "stream",
     "text": [
      "\n",
      "f(0) = 15\n",
      "f(1) = 18\n",
      "f(2) = 64\n",
      "f(3) = 96\n",
      "f(4) = 49\n",
      "f(5) = 44\n",
      "f(6) = 0\n",
      "f(7) = 22\n",
      "f(8) = 13\n",
      "f(9) = 62\n",
      "f(10) = 56\n",
      "f(11) = 68\n",
      "f(12) = 66\n",
      "f(13) = 10\n",
      "f(14) = 46\n",
      "f(15) = 21\n",
      "f(16) = 65\n",
      "f(17) = 9\n",
      "f(18) = 64\n",
      "f(19) = 45\n",
      "f(20) = 50\n",
      "f(21) = 72\n",
      "f(22) = 96\n",
      "f(23) = 2\n",
      "f(24) = 50\n",
      "f(25) = 7\n",
      "f(26) = 20\n",
      "f(27) = 34\n",
      "f(28) = 83\n",
      "f(29) = 96\n",
      "f(30) = 91\n",
      "f(31) = 78\n",
      "f(32) = 59\n",
      "f(33) = 28\n",
      "f(34) = 68\n",
      "f(35) = 60\n",
      "f(36) = 71\n",
      "f(37) = 63\n",
      "f(38) = 87\n",
      "f(39) = 89\n",
      "f(40) = 7\n",
      "f(41) = 62\n",
      "f(42) = 79\n",
      "f(43) = 69\n",
      "f(44) = 35\n",
      "f(45) = 69\n",
      "f(46) = 61\n",
      "f(47) = 87\n",
      "f(48) = 21\n",
      "f(49) = 20\n",
      "f(50) = 39\n",
      "f(51) = 25\n",
      "f(52) = 14\n",
      "f(53) = 34\n",
      "f(54) = 8\n",
      "f(55) = 45\n",
      "f(56) = 52\n",
      "f(57) = 25\n",
      "f(58) = 49\n",
      "f(59) = 7\n",
      "f(60) = 65\n",
      "f(61) = 90\n",
      "f(62) = 38\n",
      "f(63) = 51\n",
      "f(64) = 69\n",
      "f(65) = 24\n",
      "f(66) = 34\n",
      "f(67) = 15\n",
      "f(68) = 69\n",
      "f(69) = 96\n",
      "f(70) = 85\n",
      "f(71) = 17\n",
      "f(72) = 59\n",
      "f(73) = 79\n",
      "f(74) = 34\n",
      "f(75) = 67\n",
      "f(76) = 22\n",
      "f(77) = 26\n",
      "f(78) = 4\n",
      "f(79) = 67\n",
      "f(80) = 27\n",
      "f(81) = 76\n",
      "f(82) = 10\n",
      "f(83) = 5\n",
      "f(84) = 35\n",
      "f(85) = 66\n",
      "f(86) = 56\n",
      "f(87) = 52\n",
      "f(88) = 93\n",
      "f(89) = 16\n",
      "f(90) = 38\n",
      "f(91) = 77\n",
      "f(92) = 43\n",
      "f(93) = 32\n",
      "f(94) = 35\n",
      "f(95) = 35\n",
      "f(96) = 7\n"
     ]
    }
   ],
   "source": [
    "my_shamir_list_values(5, 97, [32,41,14,13,15])"
   ]
  },
  {
   "cell_type": "code",
   "execution_count": 12,
   "metadata": {
    "collapsed": false
   },
   "outputs": [
    {
     "name": "stdout",
     "output_type": "stream",
     "text": [
      "\n",
      "\n",
      "f(13) = a_4 * 28561 + a_3 * 2197 + a_2 * 169 + a_1 * 13 + a_0 * 1 = 10\n",
      "f(13) = a_4 * 13^4 + a_3 * 13^3 + a_2 * 13^2 + a_1 * 13^1 + a_0 * 13^0 = 10\n",
      "\n",
      "f(16) = a_4 * 65536 + a_3 * 4096 + a_2 * 256 + a_1 * 16 + a_0 * 1 = 65\n",
      "f(16) = a_4 * 16^4 + a_3 * 16^3 + a_2 * 16^2 + a_1 * 16^1 + a_0 * 16^0 = 65\n",
      "\n",
      "f(27) = a_4 * 531441 + a_3 * 19683 + a_2 * 729 + a_1 * 27 + a_0 * 1 = 34\n",
      "f(27) = a_4 * 27^4 + a_3 * 27^3 + a_2 * 27^2 + a_1 * 27^1 + a_0 * 27^0 = 34\n",
      "\n",
      "f(47) = a_4 * 4879681 + a_3 * 103823 + a_2 * 2209 + a_1 * 47 + a_0 * 1 = 87\n",
      "f(47) = a_4 * 47^4 + a_3 * 47^3 + a_2 * 47^2 + a_1 * 47^1 + a_0 * 47^0 = 87\n",
      "\n",
      "f(78) = a_4 * 37015056 + a_3 * 474552 + a_2 * 6084 + a_1 * 78 + a_0 * 1 = 4\n",
      "f(78) = a_4 * 78^4 + a_3 * 78^3 + a_2 * 78^2 + a_1 * 78^1 + a_0 * 78^0 = 4\n",
      "\n",
      "Place the coefficients from the above system of equations into a matrix of coefficienct and a vector of function values and use a Leibniz solver over GF(p) to find the solution\n",
      "\n"
     ]
    },
    {
     "name": "stdout",
     "output_type": "stream",
     "text": [
      "[43 63 72 13  1]\n",
      "[61 22 62 16  1]\n",
      "[75 89 50 27  1]\n",
      "[96 33 75 47  1]\n",
      "[50 28 70 78  1] \n",
      "\n",
      "(10, 65, 34, 87, 4) \n",
      "\n",
      "solution vector:\n",
      "(32, 41, 14, 13, 15) \n",
      "\n",
      "secret:\n",
      "f(0) = 15\n"
     ]
    }
   ],
   "source": [
    "# let's verify by solving based on quorum q of 5, GF(p) with p of 97, and 5 points from the previous printout\n",
    "\n",
    "solution = my_shamir_recover_secret(5, 97, [(13,10),(16,65),(27,34),(47,87),(78,4)])"
   ]
  },
  {
   "cell_type": "markdown",
   "metadata": {
    "collapsed": false
   },
   "source": [
    "### We have been using a low value for p for testing purposes.  Let's try it with larger values for p"
   ]
  },
  {
   "cell_type": "code",
   "execution_count": 13,
   "metadata": {
    "collapsed": false,
    "scrolled": true
   },
   "outputs": [
   ],
   "source": [
    "def my_shamir_given_bit_size(b, q, secret):\n",
    "    \"given a bit size, a quorum size, and a secret, create a list of shares\"\n",
    "\n",
    "\n",
    "    upper_limit = (2^b) - 1\n",
    "    lower_limit = (2^(b-1))\n",
    "    \n",
    "    p = random_prime(upper_limit, false, lower_limit)\n",
    "    \n",
    "    print (\"\\nquorum:\", q, \"\\n\")\n",
    "    \n",
    "    print (\"p:\", p, \"\\n\")\n",
    "    \n",
    "    # let's generate q-1 random numbers for the solution vector\n",
    "    solution = []\n",
    "    for i in range(0,q-1):\n",
    "        solution.append(randint(floor(p/2), floor(p*0.9)))\n",
    "    \n",
    "    # the secret will b the last spot in the solution vector\n",
    "    solution.append(secret)\n",
    "    \n",
    "    print (\"solution:\", solution, \"\\n\")\n",
    "    \n",
    "    my_shamir_list_values(q, p, solution)"
   ]
  },
  {
   "cell_type": "code",
   "execution_count": 14,
   "metadata": {
    "collapsed": false,
    "scrolled": true
   },
   "outputs": [
    {
     "name": "stdout",
     "output_type": "stream",
     "text": [
      "\n",
      "quorum: 5 \n",
      "\n",
      "p: 12448885587372983053 \n",
      "\n",
      "solution: [9202842298751828775, 10906939795474264502, 6837100599868031071, 9042783072982306872, 192935] \n",
      "\n",
      "\n",
      "f(0) = 192935\n",
      "f(1) = 11091894592330658049\n",
      "f(2) = 6059480767054680213\n",
      "f(3) = 8180152430894190749\n",
      "f(4) = 172921325782367466\n",
      "f(5) = 11340616140474516031\n",
      "f(6) = 5529912224191222492\n",
      "f(7) = 5620187460348183808\n",
      "f(8) = 6381323154945326478\n",
      "f(9) = 11820360798685755700\n",
      "f(10) = 10283730892229789265\n",
      "f(11) = 11803909708313906716\n",
      "f(12) = 10752762529631800189\n",
      "f(13) = 10739314823580340519\n",
      "f(14) = 12160866654886594187\n",
      "f(15) = 12202992685607823320\n",
      "f(16) = 4839542175131485691\n",
      "f(17) = 5730410154921200825\n",
      "f(18) = 2425995079024817787\n",
      "f(19) = 4162741173566347394\n",
      "f(20) = 4516481674627013056\n",
      "f(21) = 6300210002991216882\n",
      "f(22) = 9115194176773556627\n",
      "f(23) = 9350976811418825692\n",
      "f(24) = 185375119702013124\n",
      "f(25) = 8931137673847252775\n",
      "f(26) = 9893745293916941931\n",
      "f(27) = 11513610159422622683\n",
      "f(28) = 6570533459833049715\n",
      "f(29) = 9530362156693139463\n",
      "f(30) = 6749446634132037903\n",
      "f(31) = 6270183048355052763\n",
      "f(32) = 474356565524704364\n",
      "f(33) = 3429798123879674779\n",
      "f(34) = 1094842084242875621\n",
      "f(35) = 1113868579513380255\n",
      "f(36) = 7919532339920457692\n",
      "f(37) = 10283877105650589536\n",
      "f(38) = 6216106801593436090\n",
      "f(39) = 2962585537341836356\n",
      "f(40) = 4557952019818824982\n",
      "f(41) = 11825119553277632262\n",
      "f(42) = 9926390451928701083\n",
      "f(43) = 5710112802058636084\n",
      "f(44) = 2812909287284237550\n",
      "f(45) = 1659677188552501412\n",
      "f(46) = 11912473971513602300\n",
      "f(47) = 2674974937028961331\n",
      "f(48) = 2083557920155110533\n",
      "f(49) = 10165104178532811474\n",
      "f(50) = 11285883979760038315\n",
      "f(51) = 11498213363510926969\n",
      "f(52) = 1193797379416825942\n",
      "f(53) = 4899272436558228545\n",
      "f(54) = 6582892779226874576\n",
      "f(55) = 11898958423790665585\n",
      "f(56) = 10841158396574715715\n",
      "f(57) = 2640341908607317808\n",
      "f(58) = 8213403942992926458\n",
      "f(59) = 7918857318047242746\n",
      "f(60) = 3801260624162129505\n",
      "f(61) = 7142332636432628267\n",
      "f(62) = 1114295552538010104\n",
      "f(63) = 3024302929606690893\n",
      "f(64) = 2070011747351316051\n",
      "f(65) = 9135124757560692747\n",
      "f(66) = 6993848134607857690\n",
      "f(67) = 106433824942009341\n",
      "f(68) = 2170293959715524860\n",
      "f(69) = 11222229680037994000\n",
      "f(70) = 9638431136976219107\n",
      "f(71) = 1481134253673164279\n",
      "f(72) = 49735137974972313\n",
      "f(73) = 2983018907684998599\n",
      "f(74) = 4708045277936794173\n",
      "f(75) = 8889034148567088770\n",
      "f(76) = 3529594429369824718\n",
      "f(77) = 10768266389588089150\n",
      "f(78) = 12185208133676215686\n",
      "f(79) = 11046623538164699698\n",
      "f(80) = 7406991076914232204\n",
      "f(81) = 10557949408488682921\n",
      "f(82) = 1681640614036151106\n",
      "f(83) = 8544023721526863874\n",
      "f(84) = 5903790006769311774\n",
      "f(85) = 2654562105021130160\n",
      "f(86) = 4478237248870150032\n",
      "f(87) = 1396101680861414983\n",
      "f(88) = 5115487415616130358\n",
      "f(89) = 11683115477712714095\n",
      "f(90) = 1485095901686796725\n",
      "f(91) = 1491355668896136637\n",
      "f(92) = 10562325183282721760\n",
      "f(93) = 11897823858745752616\n",
      "f(94) = 10383716881260591479\n",
      "f(95) = 7694144034132796269\n",
      "f(96) = 2291519697998120552\n",
      "f(97) = 1875418438195496593\n",
      "f(98) = 10933689417394052303\n",
      "f(99) = 5844685220847145133\n",
      "f(100) = 9570575380630260392\n",
      "\n",
      "*** only printed the first 100 shares ***\n"
     ]
    }
   ],
   "source": [
    "#set the number of bits for p\n",
    "b = 64\n",
    "#b = 128\n",
    "#b = 512\n",
    "#b = 1024\n",
    "#b = 2048\n",
    "#b = 4096\n",
    "\n",
    "# set the quorum\n",
    "q = 5\n",
    "\n",
    "#set the secret (my high school locker combination from 1979 - 1983)\n",
    "secret = 192935\n",
    "\n",
    "my_shamir_given_bit_size(b, q, secret)"
   ]
  },
  {
   "cell_type": "code",
   "execution_count": 15,
   "metadata": {
    "collapsed": false
   },
   "outputs": [
    {
     "name": "stdout",
     "output_type": "stream",
     "text": [
      "\n",
      "\n",
      "f(1) = a_4 * 1 + a_3 * 1 + a_2 * 1 + a_1 * 1 + a_0 * 1 = 8898586958560387597\n",
      "f(1) = a_4 * 1^4 + a_3 * 1^3 + a_2 * 1^2 + a_1 * 1^1 + a_0 * 1^0 = 8898586958560387597\n",
      "\n",
      "f(33) = a_4 * 1185921 + a_3 * 35937 + a_2 * 1089 + a_1 * 33 + a_0 * 1 = 10187478313697365727\n",
      "f(33) = a_4 * 33^4 + a_3 * 33^3 + a_2 * 33^2 + a_1 * 33^1 + a_0 * 33^0 = 10187478313697365727\n",
      "\n",
      "f(56) = a_4 * 9834496 + a_3 * 175616 + a_2 * 3136 + a_1 * 56 + a_0 * 1 = 16661803173988792227\n",
      "f(56) = a_4 * 56^4 + a_3 * 56^3 + a_2 * 56^2 + a_1 * 56^1 + a_0 * 56^0 = 16661803173988792227\n",
      "\n",
      "f(77) = a_4 * 35153041 + a_3 * 456533 + a_2 * 5929 + a_1 * 77 + a_0 * 1 = 10127357201381662851\n",
      "f(77) = a_4 * 77^4 + a_3 * 77^3 + a_2 * 77^2 + a_1 * 77^1 + a_0 * 77^0 = 10127357201381662851\n",
      "\n",
      "f(96) = a_4 * 84934656 + a_3 * 884736 + a_2 * 9216 + a_1 * 96 + a_0 * 1 = 1919136716310013690\n",
      "f(96) = a_4 * 96^4 + a_3 * 96^3 + a_2 * 96^2 + a_1 * 96^1 + a_0 * 96^0 = 1919136716310013690\n",
      "\n",
      "Place the coefficients from the above system of equations into a matrix of coefficienct and a vector of function values and use a Leibniz solver over GF(p) to find the solution\n",
      "\n",
      "[       1        1        1        1        1]\n",
      "[ 1185921    35937     1089       33        1]\n",
      "[ 9834496   175616     3136       56        1]\n",
      "[35153041   456533     5929       77        1]\n",
      "[84934656   884736     9216       96        1] \n",
      "\n",
      "(8898586958560387597, 10187478313697365727, 16661803173988792227, 10127357201381662851, 1919136716310013690) \n",
      "\n",
      "solution vector:\n",
      "(9297396452983317899, 12600238711951106142, 12244652727634771482, 11615335175859952541, 192935) \n",
      "\n",
      "secret:\n",
      "f(0) = 192935\n"
     ]
    }
   ],
   "source": [
    "# now let's recover the secret.  I put in fixed points from a run I made with 64 bit.  you can copy this cell and fill in your values\n",
    "\n",
    "solution = my_shamir_recover_secret(5, 18429518054934476701, [(1,8898586958560387597),(33,10187478313697365727),(56,16661803173988792227),(77,10127357201381662851),(96,1919136716310013690)])"
   ]
  },
  {
   "cell_type": "markdown",
   "metadata": {
    "collapsed": true
   },
   "source": [
    "### Discussion (Time Permitting)\n",
    "\n",
    "Discuss applications for this technology. As mentioned before, it's super hot in industry right now."
   ]
  },
  {
   "cell_type": "code",
   "execution_count": 0,
   "metadata": {
    "collapsed": false
   },
   "outputs": [
   ],
   "source": [
   ]
  }
 ],
 "metadata": {
  "kernelspec": {
   "display_name": "SageMath 9.1",
   "language": "sagemath",
   "metadata": {
    "cocalc": {
     "description": "Open-source mathematical software system",
     "priority": 10,
     "url": "https://www.sagemath.org/"
    }
   },
   "name": "sage-9.1"
  },
  "language_info": {
   "codemirror_mode": {
    "name": "ipython",
    "version": 3
   },
   "file_extension": ".py",
   "mimetype": "text/x-python",
   "name": "python",
   "nbconvert_exporter": "python",
   "pygments_lexer": "ipython3",
   "version": "3.7.3"
  }
 },
 "nbformat": 4,
 "nbformat_minor": 4
}