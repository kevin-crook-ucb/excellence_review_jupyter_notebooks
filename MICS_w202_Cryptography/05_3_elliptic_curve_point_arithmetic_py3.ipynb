{
 "cells": [
  {
   "cell_type": "markdown",
   "metadata": {
    "collapsed": false
   },
   "source": [
    "### UC Berkeley, MICS, W202-Cryptography\n",
    "### Week 05 Breakout 3\n",
    "### Elliptic Curves - Prime Curves - Point Arithmetic - Adding two different points, adding a point to itself, scalar multiplication"
   ]
  },
  {
   "cell_type": "markdown",
   "metadata": {
    "collapsed": false
   },
   "source": [
    "Some unique characteristics of non-singular elliptic curves (real or prime):\n",
    "\n",
    "* if we draw a pure vertical line, it will intersect a point with its reflection.  A point plus its reflection is the point at infinity.  \n",
    "\n",
    "* if we draw a line between two valid points, the line will intersect a third valid point (and no more).  This concept forms the basis of point addition for adding two different points and yielding a third different point.\n",
    "\n",
    "* if we draw a tangent line from a single valid point, the tangent line intersects the curve at exactly one other valid point.  This concept forms the basis of point addition for adding a point to itself.\n",
    "\n",
    "* if we add a point P to itself k times, this forms the basis for scalar multiplication.  For example 5P = P+P+P+P+P. In the next breakout, we will learn that this forms the basis for the Elliptic Curve Discrete Logarithm problem.\n",
    "\n",
    "We will use an interactive 3rd party web page which demonstrates the concepts of point addition.  Although this is over the real numbers and not over GF(p), it will demonstrate the concept for us.\n",
    "\n",
    "Note that the slope calculation has division.  We do division in modulo prime p using multiplicative inverses in modulo prime p.  If we are doing it by hand, we can use this relationship:\n",
    "\n",
    "a^-1 (mod p) = a^(p-2) (mod p)\n",
    "\n",
    "The SageMath power_mod() function can accept -1 as an exponent.\n",
    "\n",
    "For point addition for two different points, the slope (lambda) is given by the following formula, very similar to a line in the real number system, but it is done in modulo prime p:\n",
    "\n",
    "slope\n",
    "\n",
    "= (y2 - y1) / (x2 - x1) (mod p) \n",
    "\n",
    "= (y2 - y1) * (x2 - x1)^-1 (mod p) \n",
    "\n",
    "= (y2 - y1) * (x2 - x1)^(p-2) (mod p)\n",
    "\n",
    "For point addition for a point with itself, the slope (lambda) is given by the 1st derivative of the Weierstrass Equation, but it is done in modulo prime p:\n",
    "\n",
    "slope\n",
    "\n",
    "= ((3 * x^2) + A) / (2y) (mod p) \n",
    "\n",
    "= ((3 * x^2) + A) * (2y)^-1 (mod p) \n",
    "\n",
    "= ((3 * x^2) + A) * (2y)^(p-2) (mod p)\n",
    "\n",
    "Once we have the slope (lambda), the remainder of the calculation is the same:\n",
    "\n",
    "x3 = (slope^2 - x1 - x2) (mod p)\n",
    "\n",
    "y3 = (slope * (x1 - x3)) - y1  (mod p)\n",
    "\n",
    "\n",
    "\n",
    "\n"
   ]
  },
  {
   "cell_type": "markdown",
   "metadata": {
    "collapsed": false
   },
   "source": [
    "#### Use the following (or similar) web based simulator to see how a line between 2 points will intersect a third point, and how a single point will intersect a second point\n",
    "\n",
    "Be sure and try curves where the ellipse and curve are separate graphs - it still works!\n",
    "\n",
    "https://www.desmos.com/calculator/ialhd71we3\n",
    "\n"
   ]
  },
  {
   "cell_type": "code",
   "execution_count": 1,
   "metadata": {
    "collapsed": false
   },
   "outputs": [
   ],
   "source": [
    "from sage.all import *"
   ]
  },
  {
   "cell_type": "code",
   "execution_count": 2,
   "metadata": {
    "collapsed": false
   },
   "outputs": [
   ],
   "source": [
    "def my_format_plus_minus(x):\n",
    "    \"given an integer, format it with a plus or minus, a blank, and the integer\"\n",
    "    \n",
    "    if x < 0:\n",
    "        s = \"- \" + str(abs(x))\n",
    "    else:\n",
    "        s = \"+ \" + str(abs(x))\n",
    "    \n",
    "    return s"
   ]
  },
  {
   "cell_type": "code",
   "execution_count": 3,
   "metadata": {
    "collapsed": false
   },
   "outputs": [
   ],
   "source": [
    "def my_add_points(A, B, p, pt_1, pt_2):\n",
    "    \"Given an elliptic curve prime curve defined by A, B, p, and two points, add the two points\"\n",
    "    \n",
    "    A_string = my_format_plus_minus(A)\n",
    "    B_string = my_format_plus_minus(B)\n",
    "    \n",
    "    x_1 = pt_1[0]\n",
    "    y_1 = pt_1[1]\n",
    "    \n",
    "    x_2 = pt_2[0]\n",
    "    y_2 = pt_2[1]\n",
    "    \n",
    "    print (\"\\nElliptic Curve Prime Curve:  y^2 = x^3 \" + A_string + \"x \" + B_string + \" (mod \" + str(p) + \")\\n\")\n",
    "    \n",
    "    E = EllipticCurve(GF(p),[A,B])\n",
    "    E_pt_3 = E(pt_1) + E(pt_2)\n",
    "    \n",
    "    if E_pt_3[2] == 0:\n",
    "        print (\"Points are reflections of each other, sum is the point at infinity\\n\")\n",
    "        print (\"points: (\" + str(x_1) + \", \" + str(y_1) + \") + (\" + str(x_2) + \", \" + str(y_2) + \") = INFINITY\")\n",
    "        return\n",
    "    \n",
    "    print (\"points: (\" + str(x_1) + \", \" + str(y_1) + \") + (\" + str(x_2) + \", \" + str(y_2) + \") = (\" \\\n",
    "                + str(E_pt_3[0]) + \", \" + str(E_pt_3[1]) + \")\\n\")\n",
    "    \n",
    "    if pt_1 == pt_2:\n",
    "        print (\"Adding the same point to itself:\\n\")\n",
    "        print (\"    slope\")\n",
    "        print (\"       = ((3 * x^2) + A) * (2 * y)^(-1) (mod p)\")\n",
    "        print (\"       = ((3 * \" + str(x_1) + \"^2) + \" + str(A) + \") * (2 * \" + str(y_1) + \")^(-1) (mod \" + str(p) + \")\")\n",
    "        slope = ((3 * power_mod(x_1, 2, p) + A) * power_mod(2 * y_1, -1, p) ) % p\n",
    "        print (\"       = \" + str(slope) + \"\\n\")\n",
    "    else:\n",
    "        print (\"Adding two different points:\\n\")\n",
    "        print (\"    slope\")\n",
    "        print (\"       = (y2 - y1) * (x2 - x1)^(-1) (mod p)\")\n",
    "        print (\"       = (\" + str(y_2) + \" - \" + str(y_1) + \") * (\" + str(x_2) + \" - \" \\\n",
    "                + str(x_1) + \")^(-1) (mod \" + str(p) + \")\")\n",
    "        slope = ((y_2 - y_1) * power_mod(x_2 - x_1, -1, p) ) %p\n",
    "        print (\"       = \" + str(slope) + \"\\n\")\n",
    "    \n",
    "    x_3 = (slope ** 2 - x_1 - x_2) % p\n",
    "    \n",
    "    print (\"    x3 = (slope^2 - x1 - x2) (mod p)\")\n",
    "    print (\"       = (\" + str(slope) + \"^2 - \" + str(x_1) + \" - \" + str(x_2) + \") (mod \" + str(p) + \")\")\n",
    "    print (\"       = \" + str(x_3) + \"\\n\")\n",
    "    \n",
    "    y_3 = (slope * (x_1 - x_3) - y_1) % p\n",
    "    \n",
    "    print (\"    y3 = (slope * (x1 - x3)) - y1 (mod p)\")\n",
    "    print (\"       = (\" + str(slope) + \" * (\" + str(x_1) + \" - \" + str(x_3) + \")) - \" \\\n",
    "                    + str(y_1) + \" (mod \" + str(p) + \")\")\n",
    "    print (\"       = \" + str(y_3) + \"\\n\")\n",
    "    \n",
    "    "
   ]
  },
  {
   "cell_type": "markdown",
   "metadata": {
    "collapsed": false
   },
   "source": [
    "#### Examples of adding a point to its reflection which yields the point at infinity"
   ]
  },
  {
   "cell_type": "code",
   "execution_count": 4,
   "metadata": {
    "collapsed": false
   },
   "outputs": [
    {
     "name": "stdout",
     "output_type": "stream",
     "text": [
      "\n",
      "Elliptic Curve Prime Curve:  y^2 = x^3 + 4x + 3 (mod 11)\n",
      "\n",
      "Points are reflections of each other, sum is the point at infinity\n",
      "\n",
      "points: (6, 1) + (6, 10) = INFINITY\n"
     ]
    }
   ],
   "source": [
    "# in this example, we use a point and its reflection\n",
    "# remember -1 (mod 11) = 10, so (6,1) and (6,10) are reflections\n",
    "\n",
    "A = 4\n",
    "B = 3\n",
    "p = 11\n",
    "\n",
    "pt_1 = (6,1)\n",
    "pt_2 = (6,10)\n",
    "\n",
    "my_add_points(A, B, p, pt_1, pt_2)"
   ]
  },
  {
   "cell_type": "code",
   "execution_count": 5,
   "metadata": {
    "collapsed": false
   },
   "outputs": [
    {
     "name": "stdout",
     "output_type": "stream",
     "text": [
      "\n",
      "Elliptic Curve Prime Curve:  y^2 = x^3 + 4x + 3 (mod 13)\n",
      "\n",
      "Points are reflections of each other, sum is the point at infinity\n",
      "\n",
      "points: (10, 4) + (10, 9) = INFINITY\n"
     ]
    }
   ],
   "source": [
    "# in this example, we use a point and its reflection\n",
    "# remember -4 (mod 13) = 9, so (10,4) and (10,9) are reflections\n",
    "\n",
    "A = 4\n",
    "B = 3\n",
    "p = 13\n",
    "\n",
    "pt_1 = (10,4)\n",
    "pt_2 = (10,9)\n",
    "\n",
    "my_add_points(A, B, p, pt_1, pt_2)"
   ]
  },
  {
   "cell_type": "code",
   "execution_count": 6,
   "metadata": {
    "collapsed": false
   },
   "outputs": [
    {
     "name": "stdout",
     "output_type": "stream",
     "text": [
      "\n",
      "Elliptic Curve Prime Curve:  y^2 = x^3 + 4x + 3 (mod 97)\n",
      "\n",
      "Points are reflections of each other, sum is the point at infinity\n",
      "\n",
      "points: (51, 29) + (51, 68) = INFINITY\n"
     ]
    }
   ],
   "source": [
    "# in this example, we use a point and its reflection\n",
    "# remember -29 (mod 97) = 68, so (51,29) and (51,68) are reflections\n",
    "\n",
    "A = 4\n",
    "B = 3\n",
    "p = 97\n",
    "\n",
    "pt_1 = (51,29)\n",
    "pt_2 = (51,68)\n",
    "\n",
    "my_add_points(A, B, p, pt_1, pt_2)"
   ]
  },
  {
   "cell_type": "markdown",
   "metadata": {
    "collapsed": false
   },
   "source": [
    "#### Examples of adding two different points"
   ]
  },
  {
   "cell_type": "code",
   "execution_count": 7,
   "metadata": {
    "collapsed": false
   },
   "outputs": [
    {
     "name": "stdout",
     "output_type": "stream",
     "text": [
      "\n",
      "Elliptic Curve Prime Curve:  y^2 = x^3 + 4x + 3 (mod 11)\n",
      "\n",
      "points: (3, 8) + (5, 4) = (7, 0)\n",
      "\n",
      "Adding two different points:\n",
      "\n",
      "    slope\n",
      "       = (y2 - y1) * (x2 - x1)^(-1) (mod p)\n",
      "       = (4 - 8) * (5 - 3)^(-1) (mod 11)\n",
      "       = 9\n",
      "\n",
      "    x3 = (slope^2 - x1 - x2) (mod p)\n",
      "       = (9^2 - 3 - 5) (mod 11)\n",
      "       = 7\n",
      "\n",
      "    y3 = (slope * (x1 - x3)) - y1 (mod p)\n",
      "       = (9 * (3 - 7)) - 8 (mod 11)\n",
      "       = 0\n",
      "\n"
     ]
    }
   ],
   "source": [
    "A = 4\n",
    "B = 3\n",
    "p = 11\n",
    "\n",
    "pt_1 = (3,8)\n",
    "pt_2 = (5,4)\n",
    "\n",
    "my_add_points(A, B, p, pt_1, pt_2)"
   ]
  },
  {
   "cell_type": "code",
   "execution_count": 8,
   "metadata": {
    "collapsed": false
   },
   "outputs": [
    {
     "name": "stdout",
     "output_type": "stream",
     "text": [
      "\n",
      "Elliptic Curve Prime Curve:  y^2 = x^3 + 4x + 3 (mod 13)\n",
      "\n",
      "points: (3, 4) + (7, 6) = (0, 4)\n",
      "\n",
      "Adding two different points:\n",
      "\n",
      "    slope\n",
      "       = (y2 - y1) * (x2 - x1)^(-1) (mod p)\n",
      "       = (6 - 4) * (7 - 3)^(-1) (mod 13)\n",
      "       = 7\n",
      "\n",
      "    x3 = (slope^2 - x1 - x2) (mod p)\n",
      "       = (7^2 - 3 - 7) (mod 13)\n",
      "       = 0\n",
      "\n",
      "    y3 = (slope * (x1 - x3)) - y1 (mod p)\n",
      "       = (7 * (3 - 0)) - 4 (mod 13)\n",
      "       = 4\n",
      "\n"
     ]
    }
   ],
   "source": [
    "A = 4\n",
    "B = 3\n",
    "p = 13\n",
    "\n",
    "pt_1 = (3,4)\n",
    "pt_2 = (7,6)\n",
    "\n",
    "my_add_points(A, B, p, pt_1, pt_2)"
   ]
  },
  {
   "cell_type": "code",
   "execution_count": 9,
   "metadata": {
    "collapsed": false
   },
   "outputs": [
    {
     "name": "stdout",
     "output_type": "stream",
     "text": [
      "\n",
      "Elliptic Curve Prime Curve:  y^2 = x^3 + 4x + 3 (mod 53)\n",
      "\n",
      "points: (8, 21) + (42, 18) = (18, 36)\n",
      "\n",
      "Adding two different points:\n",
      "\n",
      "    slope\n",
      "       = (y2 - y1) * (x2 - x1)^(-1) (mod p)\n",
      "       = (18 - 21) * (42 - 8)^(-1) (mod 53)\n",
      "       = 42\n",
      "\n",
      "    x3 = (slope^2 - x1 - x2) (mod p)\n",
      "       = (42^2 - 8 - 42) (mod 53)\n",
      "       = 18\n",
      "\n",
      "    y3 = (slope * (x1 - x3)) - y1 (mod p)\n",
      "       = (42 * (8 - 18)) - 21 (mod 53)\n",
      "       = 36\n",
      "\n"
     ]
    }
   ],
   "source": [
    "A = 4\n",
    "B = 3\n",
    "p = 53\n",
    "\n",
    "pt_1 = (8,21)\n",
    "pt_2 = (42,18)\n",
    "\n",
    "my_add_points(A, B, p, pt_1, pt_2)"
   ]
  },
  {
   "cell_type": "code",
   "execution_count": 10,
   "metadata": {
    "collapsed": false
   },
   "outputs": [
    {
     "name": "stdout",
     "output_type": "stream",
     "text": [
      "\n",
      "Elliptic Curve Prime Curve:  y^2 = x^3 + 4x + 3 (mod 97)\n",
      "\n",
      "points: (21, 6) + (64, 55) = (8, 81)\n",
      "\n",
      "Adding two different points:\n",
      "\n",
      "    slope\n",
      "       = (y2 - y1) * (x2 - x1)^(-1) (mod p)\n",
      "       = (55 - 6) * (64 - 21)^(-1) (mod 97)\n",
      "       = 44\n",
      "\n",
      "    x3 = (slope^2 - x1 - x2) (mod p)\n",
      "       = (44^2 - 21 - 64) (mod 97)\n",
      "       = 8\n",
      "\n",
      "    y3 = (slope * (x1 - x3)) - y1 (mod p)\n",
      "       = (44 * (21 - 8)) - 6 (mod 97)\n",
      "       = 81\n",
      "\n"
     ]
    }
   ],
   "source": [
    "A = 4\n",
    "B = 3\n",
    "p = 97\n",
    "\n",
    "pt_1 = (21,6)\n",
    "pt_2 = (64,55)\n",
    "\n",
    "my_add_points(A, B, p, pt_1, pt_2)"
   ]
  },
  {
   "cell_type": "markdown",
   "metadata": {
    "collapsed": false
   },
   "source": [
    "#### Examples of adding a point to itself"
   ]
  },
  {
   "cell_type": "code",
   "execution_count": 11,
   "metadata": {
    "collapsed": false
   },
   "outputs": [
    {
     "name": "stdout",
     "output_type": "stream",
     "text": [
      "\n",
      "Elliptic Curve Prime Curve:  y^2 = x^3 + 4x + 3 (mod 11)\n",
      "\n",
      "points: (5, 7) + (5, 7) = (10, 8)\n",
      "\n",
      "Adding the same point to itself:\n",
      "\n",
      "    slope\n",
      "       = ((3 * x^2) + A) * (2 * y)^(-1) (mod p)\n",
      "       = ((3 * 5^2) + 4) * (2 * 7)^(-1) (mod 11)\n",
      "       = 8\n",
      "\n",
      "    x3 = (slope^2 - x1 - x2) (mod p)\n",
      "       = (8^2 - 5 - 5) (mod 11)\n",
      "       = 10\n",
      "\n",
      "    y3 = (slope * (x1 - x3)) - y1 (mod p)\n",
      "       = (8 * (5 - 10)) - 7 (mod 11)\n",
      "       = 8\n",
      "\n"
     ]
    }
   ],
   "source": [
    "A = 4\n",
    "B = 3\n",
    "p = 11\n",
    "\n",
    "pt_1 = (5,7)\n",
    "pt_2 = (5,7)\n",
    "\n",
    "my_add_points(A, B, p, pt_1, pt_2)"
   ]
  },
  {
   "cell_type": "code",
   "execution_count": 12,
   "metadata": {
    "collapsed": false
   },
   "outputs": [
    {
     "name": "stdout",
     "output_type": "stream",
     "text": [
      "\n",
      "Elliptic Curve Prime Curve:  y^2 = x^3 + 4x + 3 (mod 13)\n",
      "\n",
      "points: (8, 1) + (8, 1) = (7, 6)\n",
      "\n",
      "Adding the same point to itself:\n",
      "\n",
      "    slope\n",
      "       = ((3 * x^2) + A) * (2 * y)^(-1) (mod p)\n",
      "       = ((3 * 8^2) + 4) * (2 * 1)^(-1) (mod 13)\n",
      "       = 7\n",
      "\n",
      "    x3 = (slope^2 - x1 - x2) (mod p)\n",
      "       = (7^2 - 8 - 8) (mod 13)\n",
      "       = 7\n",
      "\n",
      "    y3 = (slope * (x1 - x3)) - y1 (mod p)\n",
      "       = (7 * (8 - 7)) - 1 (mod 13)\n",
      "       = 6\n",
      "\n"
     ]
    }
   ],
   "source": [
    "A = 4\n",
    "B = 3\n",
    "p = 13\n",
    "\n",
    "pt_1 = (8,1)\n",
    "pt_2 = (8,1)\n",
    "\n",
    "my_add_points(A, B, p, pt_1, pt_2)"
   ]
  },
  {
   "cell_type": "code",
   "execution_count": 13,
   "metadata": {
    "collapsed": false
   },
   "outputs": [
    {
     "name": "stdout",
     "output_type": "stream",
     "text": [
      "\n",
      "Elliptic Curve Prime Curve:  y^2 = x^3 + 4x + 3 (mod 13)\n",
      "\n",
      "points: (8, 1) + (8, 1) = (7, 6)\n",
      "\n",
      "Adding the same point to itself:\n",
      "\n",
      "    slope\n",
      "       = ((3 * x^2) + A) * (2 * y)^(-1) (mod p)\n",
      "       = ((3 * 8^2) + 4) * (2 * 1)^(-1) (mod 13)\n",
      "       = 7\n",
      "\n",
      "    x3 = (slope^2 - x1 - x2) (mod p)\n",
      "       = (7^2 - 8 - 8) (mod 13)\n",
      "       = 7\n",
      "\n",
      "    y3 = (slope * (x1 - x3)) - y1 (mod p)\n",
      "       = (7 * (8 - 7)) - 1 (mod 13)\n",
      "       = 6\n",
      "\n"
     ]
    }
   ],
   "source": [
    "A = 4\n",
    "B = 3\n",
    "p = 13\n",
    "\n",
    "pt_1 = (8,1)\n",
    "pt_2 = (8,1)\n",
    "\n",
    "my_add_points(A, B, p, pt_1, pt_2)"
   ]
  },
  {
   "cell_type": "code",
   "execution_count": 14,
   "metadata": {
    "collapsed": false
   },
   "outputs": [
    {
     "name": "stdout",
     "output_type": "stream",
     "text": [
      "\n",
      "Elliptic Curve Prime Curve:  y^2 = x^3 + 3x + 8 (mod 13)\n",
      "\n",
      "points: (2, 3) + (2, 3) = (12, 11)\n",
      "\n",
      "Adding the same point to itself:\n",
      "\n",
      "    slope\n",
      "       = ((3 * x^2) + A) * (2 * y)^(-1) (mod p)\n",
      "       = ((3 * 2^2) + 3) * (2 * 3)^(-1) (mod 13)\n",
      "       = 9\n",
      "\n",
      "    x3 = (slope^2 - x1 - x2) (mod p)\n",
      "       = (9^2 - 2 - 2) (mod 13)\n",
      "       = 12\n",
      "\n",
      "    y3 = (slope * (x1 - x3)) - y1 (mod p)\n",
      "       = (9 * (2 - 12)) - 3 (mod 13)\n",
      "       = 11\n",
      "\n"
     ]
    }
   ],
   "source": [
    "A = 3\n",
    "B = 8\n",
    "p = 13\n",
    "\n",
    "pt_1 = (2,3)\n",
    "pt_2 = (2,3)\n",
    "\n",
    "my_add_points(A, B, p, pt_1, pt_2)"
   ]
  },
  {
   "cell_type": "code",
   "execution_count": 15,
   "metadata": {
    "collapsed": false,
    "scrolled": true
   },
   "outputs": [
    {
     "name": "stdout",
     "output_type": "stream",
     "text": [
      "\n",
      "Elliptic Curve Prime Curve:  y^2 = x^3 + 4x + 3 (mod 97)\n",
      "\n",
      "points: (21, 6) + (21, 6) = (61, 65)\n",
      "\n",
      "Adding the same point to itself:\n",
      "\n",
      "    slope\n",
      "       = ((3 * x^2) + A) * (2 * y)^(-1) (mod p)\n",
      "       = ((3 * 21^2) + 4) * (2 * 6)^(-1) (mod 97)\n",
      "       = 54\n",
      "\n",
      "    x3 = (slope^2 - x1 - x2) (mod p)\n",
      "       = (54^2 - 21 - 21) (mod 97)\n",
      "       = 61\n",
      "\n",
      "    y3 = (slope * (x1 - x3)) - y1 (mod p)\n",
      "       = (54 * (21 - 61)) - 6 (mod 97)\n",
      "       = 65\n",
      "\n"
     ]
    }
   ],
   "source": [
    "A = 4\n",
    "B = 3\n",
    "p = 97\n",
    "\n",
    "pt_1 = (21,6)\n",
    "pt_2 = (21,6)\n",
    "\n",
    "my_add_points(A, B, p, pt_1, pt_2)"
   ]
  },
  {
   "cell_type": "markdown",
   "metadata": {
    "collapsed": false
   },
   "source": [
    "#### Examples of scalar multiplication\n",
    "\n",
    "Notice the patterns that repeat"
   ]
  },
  {
   "cell_type": "code",
   "execution_count": 16,
   "metadata": {
    "collapsed": false
   },
   "outputs": [
   ],
   "source": [
    "def my_scalar_multiplication(A, B, p, pt, k):\n",
    "    \"Given an elliptic curve prime curve defined by A, B, p, and a point and an integer, perform scalar multiplication\"\n",
    "    \n",
    "    A_string = my_format_plus_minus(A)\n",
    "    B_string = my_format_plus_minus(B)\n",
    "        \n",
    "    print (\"\\nElliptic Curve Prime Curve:  y^2 = x^3 \" + A_string + \"x \" + B_string + \" (mod \" + str(p) + \")\\n\")\n",
    "    \n",
    "    E = EllipticCurve(GF(p),[A,B])\n",
    "    \n",
    "    E_pt = E(pt)\n",
    "    \n",
    "    for i in range(1, k+1):\n",
    "        \n",
    "        E_s = E_pt * i\n",
    "        \n",
    "        if E_s[2] == 0:\n",
    "            s = \"INFINITY\"\n",
    "        else:\n",
    "            s = \"(\" + str(E_s[0]) + \", \" + str(E_s[1]) + \")\"\n",
    "        \n",
    "        print (str(i) + \" * (\" + str(E_pt[0]) + \", \" + str(E_pt[1]) + \") = \" + s )\n",
    "    "
   ]
  },
  {
   "cell_type": "code",
   "execution_count": 17,
   "metadata": {
    "collapsed": false,
    "scrolled": true
   },
   "outputs": [
    {
     "name": "stdout",
     "output_type": "stream",
     "text": [
      "\n",
      "Elliptic Curve Prime Curve:  y^2 = x^3 + 4x + 3 (mod 11)\n",
      "\n",
      "1 * (5, 4) = (5, 4)\n",
      "2 * (5, 4) = (10, 3)\n",
      "3 * (5, 4) = (0, 6)\n",
      "4 * (5, 4) = (0, 5)\n",
      "5 * (5, 4) = (10, 8)\n",
      "6 * (5, 4) = (5, 7)\n",
      "7 * (5, 4) = INFINITY\n",
      "8 * (5, 4) = (5, 4)\n",
      "9 * (5, 4) = (10, 3)\n",
      "10 * (5, 4) = (0, 6)\n",
      "11 * (5, 4) = (0, 5)\n",
      "12 * (5, 4) = (10, 8)\n",
      "13 * (5, 4) = (5, 7)\n",
      "14 * (5, 4) = INFINITY\n",
      "15 * (5, 4) = (5, 4)\n",
      "16 * (5, 4) = (10, 3)\n",
      "17 * (5, 4) = (0, 6)\n",
      "18 * (5, 4) = (0, 5)\n",
      "19 * (5, 4) = (10, 8)\n",
      "20 * (5, 4) = (5, 7)\n",
      "21 * (5, 4) = INFINITY\n",
      "22 * (5, 4) = (5, 4)\n",
      "23 * (5, 4) = (10, 3)\n",
      "24 * (5, 4) = (0, 6)\n",
      "25 * (5, 4) = (0, 5)\n",
      "26 * (5, 4) = (10, 8)\n",
      "27 * (5, 4) = (5, 7)\n",
      "28 * (5, 4) = INFINITY\n",
      "29 * (5, 4) = (5, 4)\n",
      "30 * (5, 4) = (10, 3)\n",
      "31 * (5, 4) = (0, 6)\n",
      "32 * (5, 4) = (0, 5)\n",
      "33 * (5, 4) = (10, 8)\n",
      "34 * (5, 4) = (5, 7)\n",
      "35 * (5, 4) = INFINITY\n",
      "36 * (5, 4) = (5, 4)\n",
      "37 * (5, 4) = (10, 3)\n",
      "38 * (5, 4) = (0, 6)\n",
      "39 * (5, 4) = (0, 5)\n",
      "40 * (5, 4) = (10, 8)\n",
      "41 * (5, 4) = (5, 7)\n",
      "42 * (5, 4) = INFINITY\n",
      "43 * (5, 4) = (5, 4)\n",
      "44 * (5, 4) = (10, 3)\n",
      "45 * (5, 4) = (0, 6)\n",
      "46 * (5, 4) = (0, 5)\n",
      "47 * (5, 4) = (10, 8)\n",
      "48 * (5, 4) = (5, 7)\n",
      "49 * (5, 4) = INFINITY\n",
      "50 * (5, 4) = (5, 4)\n",
      "51 * (5, 4) = (10, 3)\n",
      "52 * (5, 4) = (0, 6)\n",
      "53 * (5, 4) = (0, 5)\n",
      "54 * (5, 4) = (10, 8)\n",
      "55 * (5, 4) = (5, 7)\n",
      "56 * (5, 4) = INFINITY\n",
      "57 * (5, 4) = (5, 4)\n",
      "58 * (5, 4) = (10, 3)\n",
      "59 * (5, 4) = (0, 6)\n",
      "60 * (5, 4) = (0, 5)\n",
      "61 * (5, 4) = (10, 8)\n",
      "62 * (5, 4) = (5, 7)\n",
      "63 * (5, 4) = INFINITY\n",
      "64 * (5, 4) = (5, 4)\n",
      "65 * (5, 4) = (10, 3)\n",
      "66 * (5, 4) = (0, 6)\n",
      "67 * (5, 4) = (0, 5)\n",
      "68 * (5, 4) = (10, 8)\n",
      "69 * (5, 4) = (5, 7)\n",
      "70 * (5, 4) = INFINITY\n",
      "71 * (5, 4) = (5, 4)\n",
      "72 * (5, 4) = (10, 3)\n",
      "73 * (5, 4) = (0, 6)\n",
      "74 * (5, 4) = (0, 5)\n",
      "75 * (5, 4) = (10, 8)\n",
      "76 * (5, 4) = (5, 7)\n",
      "77 * (5, 4) = INFINITY\n",
      "78 * (5, 4) = (5, 4)\n",
      "79 * (5, 4) = (10, 3)\n",
      "80 * (5, 4) = (0, 6)\n",
      "81 * (5, 4) = (0, 5)\n",
      "82 * (5, 4) = (10, 8)\n",
      "83 * (5, 4) = (5, 7)\n",
      "84 * (5, 4) = INFINITY\n",
      "85 * (5, 4) = (5, 4)\n",
      "86 * (5, 4) = (10, 3)\n",
      "87 * (5, 4) = (0, 6)\n",
      "88 * (5, 4) = (0, 5)\n",
      "89 * (5, 4) = (10, 8)\n",
      "90 * (5, 4) = (5, 7)\n",
      "91 * (5, 4) = INFINITY\n",
      "92 * (5, 4) = (5, 4)\n",
      "93 * (5, 4) = (10, 3)\n",
      "94 * (5, 4) = (0, 6)\n",
      "95 * (5, 4) = (0, 5)\n",
      "96 * (5, 4) = (10, 8)\n",
      "97 * (5, 4) = (5, 7)\n",
      "98 * (5, 4) = INFINITY\n",
      "99 * (5, 4) = (5, 4)\n",
      "100 * (5, 4) = (10, 3)\n"
     ]
    }
   ],
   "source": [
    "A = 4\n",
    "B = 3\n",
    "p = 11\n",
    "\n",
    "pt = (5,4)\n",
    "\n",
    "k = 100\n",
    "\n",
    "my_scalar_multiplication(A, B, p, pt, k)"
   ]
  },
  {
   "cell_type": "code",
   "execution_count": 18,
   "metadata": {
    "collapsed": false
   },
   "outputs": [
    {
     "name": "stdout",
     "output_type": "stream",
     "text": [
      "\n",
      "Elliptic Curve Prime Curve:  y^2 = x^3 + 4x + 3 (mod 53)\n",
      "\n",
      "1 * (42, 18) = (42, 18)\n",
      "2 * (42, 18) = (5, 25)\n",
      "3 * (42, 18) = (30, 27)\n",
      "4 * (42, 18) = (18, 17)\n",
      "5 * (42, 18) = (8, 32)\n",
      "6 * (42, 18) = (47, 9)\n",
      "7 * (42, 18) = (16, 20)\n",
      "8 * (42, 18) = (11, 0)\n",
      "9 * (42, 18) = (16, 33)\n",
      "10 * (42, 18) = (47, 44)\n",
      "11 * (42, 18) = (8, 21)\n",
      "12 * (42, 18) = (18, 36)\n",
      "13 * (42, 18) = (30, 26)\n",
      "14 * (42, 18) = (5, 28)\n",
      "15 * (42, 18) = (42, 35)\n",
      "16 * (42, 18) = INFINITY\n",
      "17 * (42, 18) = (42, 18)\n",
      "18 * (42, 18) = (5, 25)\n",
      "19 * (42, 18) = (30, 27)\n",
      "20 * (42, 18) = (18, 17)\n",
      "21 * (42, 18) = (8, 32)\n",
      "22 * (42, 18) = (47, 9)\n",
      "23 * (42, 18) = (16, 20)\n",
      "24 * (42, 18) = (11, 0)\n",
      "25 * (42, 18) = (16, 33)\n",
      "26 * (42, 18) = (47, 44)\n",
      "27 * (42, 18) = (8, 21)\n",
      "28 * (42, 18) = (18, 36)\n",
      "29 * (42, 18) = (30, 26)\n",
      "30 * (42, 18) = (5, 28)\n",
      "31 * (42, 18) = (42, 35)\n",
      "32 * (42, 18) = INFINITY\n",
      "33 * (42, 18) = (42, 18)\n",
      "34 * (42, 18) = (5, 25)\n",
      "35 * (42, 18) = (30, 27)\n",
      "36 * (42, 18) = (18, 17)\n",
      "37 * (42, 18) = (8, 32)\n",
      "38 * (42, 18) = (47, 9)\n",
      "39 * (42, 18) = (16, 20)\n",
      "40 * (42, 18) = (11, 0)\n",
      "41 * (42, 18) = (16, 33)\n",
      "42 * (42, 18) = (47, 44)\n",
      "43 * (42, 18) = (8, 21)\n",
      "44 * (42, 18) = (18, 36)\n",
      "45 * (42, 18) = (30, 26)\n",
      "46 * (42, 18) = (5, 28)\n",
      "47 * (42, 18) = (42, 35)\n",
      "48 * (42, 18) = INFINITY\n",
      "49 * (42, 18) = (42, 18)\n",
      "50 * (42, 18) = (5, 25)\n",
      "51 * (42, 18) = (30, 27)\n",
      "52 * (42, 18) = (18, 17)\n",
      "53 * (42, 18) = (8, 32)\n",
      "54 * (42, 18) = (47, 9)\n",
      "55 * (42, 18) = (16, 20)\n",
      "56 * (42, 18) = (11, 0)\n",
      "57 * (42, 18) = (16, 33)\n",
      "58 * (42, 18) = (47, 44)\n",
      "59 * (42, 18) = (8, 21)\n",
      "60 * (42, 18) = (18, 36)\n",
      "61 * (42, 18) = (30, 26)\n",
      "62 * (42, 18) = (5, 28)\n",
      "63 * (42, 18) = (42, 35)\n",
      "64 * (42, 18) = INFINITY\n",
      "65 * (42, 18) = (42, 18)\n",
      "66 * (42, 18) = (5, 25)\n",
      "67 * (42, 18) = (30, 27)\n",
      "68 * (42, 18) = (18, 17)\n",
      "69 * (42, 18) = (8, 32)\n",
      "70 * (42, 18) = (47, 9)\n",
      "71 * (42, 18) = (16, 20)\n",
      "72 * (42, 18) = (11, 0)\n",
      "73 * (42, 18) = (16, 33)\n",
      "74 * (42, 18) = (47, 44)\n",
      "75 * (42, 18) = (8, 21)\n",
      "76 * (42, 18) = (18, 36)\n",
      "77 * (42, 18) = (30, 26)\n",
      "78 * (42, 18) = (5, 28)\n",
      "79 * (42, 18) = (42, 35)\n",
      "80 * (42, 18) = INFINITY\n",
      "81 * (42, 18) = (42, 18)\n",
      "82 * (42, 18) = (5, 25)\n",
      "83 * (42, 18) = (30, 27)\n",
      "84 * (42, 18) = (18, 17)\n",
      "85 * (42, 18) = (8, 32)\n",
      "86 * (42, 18) = (47, 9)\n",
      "87 * (42, 18) = (16, 20)\n",
      "88 * (42, 18) = (11, 0)\n",
      "89 * (42, 18) = (16, 33)\n",
      "90 * (42, 18) = (47, 44)\n",
      "91 * (42, 18) = (8, 21)\n",
      "92 * (42, 18) = (18, 36)\n",
      "93 * (42, 18) = (30, 26)\n",
      "94 * (42, 18) = (5, 28)\n",
      "95 * (42, 18) = (42, 35)\n",
      "96 * (42, 18) = INFINITY\n",
      "97 * (42, 18) = (42, 18)\n",
      "98 * (42, 18) = (5, 25)\n",
      "99 * (42, 18) = (30, 27)\n",
      "100 * (42, 18) = (18, 17)\n"
     ]
    }
   ],
   "source": [
    "A = 4\n",
    "B = 3\n",
    "p = 53\n",
    "\n",
    "pt = (42,18)\n",
    "\n",
    "k = 100\n",
    "\n",
    "my_scalar_multiplication(A, B, p, pt, k)"
   ]
  },
  {
   "cell_type": "code",
   "execution_count": 0,
   "metadata": {
    "collapsed": false
   },
   "outputs": [
   ],
   "source": [
   ]
  },
  {
   "cell_type": "code",
   "execution_count": 0,
   "metadata": {
    "collapsed": false
   },
   "outputs": [
   ],
   "source": [
   ]
  }
 ],
 "metadata": {
  "kernelspec": {
   "display_name": "SageMath 9.1",
   "language": "sagemath",
   "metadata": {
    "cocalc": {
     "description": "Open-source mathematical software system",
     "priority": 10,
     "url": "https://www.sagemath.org/"
    }
   },
   "name": "sage-9.1"
  },
  "language_info": {
   "codemirror_mode": {
    "name": "ipython",
    "version": 3
   },
   "file_extension": ".py",
   "mimetype": "text/x-python",
   "name": "python",
   "nbconvert_exporter": "python",
   "pygments_lexer": "ipython3",
   "version": "3.7.3"
  }
 },
 "nbformat": 4,
 "nbformat_minor": 4
}