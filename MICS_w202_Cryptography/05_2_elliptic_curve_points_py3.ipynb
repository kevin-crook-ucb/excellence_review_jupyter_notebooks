{
 "cells": [
  {
   "cell_type": "markdown",
   "metadata": {
    "collapsed": false
   },
   "source": [
    "### UC Berkeley, MICS, W202-Cryptography\n",
    "### Week 05 Breakout 2\n",
    "### Elliptic Curves - Prime Curves (over a finite field in modulo prime GF(p)), verifying singularity of a prime curve, verifying points on a prime curve, listing all points on a prime curve, plotting all points on a prime curve"
   ]
  },
  {
   "cell_type": "markdown",
   "metadata": {
    "collapsed": false
   },
   "source": [
    "Elliptic Curve Prime Curves are over finite fields in modulo prime, GF(p), very much like our discrete logarithms we previous studied.\n",
    "\n",
    "They are based on the same Weierstrass Equation, but in modulo prime p:\n",
    "\n",
    "y^2 = x^3 + Ax + B (mod p)\n",
    "\n",
    "(Remember our notation, the (mod p) applies to the whole equation!)\n",
    "\n",
    "We will start by validating some elliptic curve prime curves for non-singularity.  We will be using the same test, but it will be in modulo p:\n",
    "\n",
    "4 A^3 + 27 B^2 not equal 0 (mod p)\n",
    "\n",
    "We will then validate some points on various elliptic curve prime curves.  Just like the real numbers, not every combination of x and y will be a valid point.  We have to plug x and y into the Weierstrass Equation, calculate the left size of the equation, calculate the right size of the equation, and validate that both match!\n",
    "\n",
    "(We will learn in coming weeks that validation of points is extremely important.  For example, submitting an invalid point to Diffie Hellman Elliptic Curve Key Exchange can form the basis of an Invalid Curve Attack. Validating points guards against this attack.)\n",
    "\n",
    "We will then look at some example elliptic curve prime curves, see how many points they have, list out the points, and show the validation of each point.\n",
    "\n",
    "Finally, we will graph some prime curves from mod 13 to mod 499. They will not look like the nice prototypical elliptic curve seen in textbooks for real numbers.  They will look like a scatter plot that is distributed along complex patterns.\n",
    "\n",
    "Note: these numbers are ridiculously small for the purposes of learning.  Secure cryptography systems based on elliptic curve prime curves must use large prime numbers!"
   ]
  },
  {
   "cell_type": "code",
   "execution_count": 1,
   "metadata": {
    "collapsed": false
   },
   "outputs": [
   ],
   "source": [
    "from sage.all import *"
   ]
  },
  {
   "cell_type": "code",
   "execution_count": 2,
   "metadata": {
    "collapsed": false
   },
   "outputs": [
   ],
   "source": [
    "def my_format_plus_minus(x):\n",
    "    \"given an integer, format it with a plus or minus, a blank, and the integer\"\n",
    "    \n",
    "    if x < 0:\n",
    "        s = \"- \" + str(abs(x))\n",
    "    else:\n",
    "        s = \"+ \" + str(abs(x))\n",
    "    \n",
    "    return s"
   ]
  },
  {
   "cell_type": "markdown",
   "metadata": {
    "collapsed": false
   },
   "source": [
    "#### Examples of validating an Elliptic Curve Prime Curve to be non-singular.  Examples below will include those that are singular and those that are non-singular so you can see the difference."
   ]
  },
  {
   "cell_type": "code",
   "execution_count": 3,
   "metadata": {
    "collapsed": false
   },
   "outputs": [
   ],
   "source": [
    "def my_validate_elliptic_curve_non_singular(A, B, p):\n",
    "    \"given A, B, p, validate that the elliptic curve will be non-singular, that is 4 A^3 + 27 B^2 not equal 0\"\n",
    "    \n",
    "    A_string = my_format_plus_minus(A)\n",
    "    B_string = my_format_plus_minus(B)\n",
    "    \n",
    "    print (\"\\nValidating the Elliptic Curve to ensure it's non-singular:  y^2 = x^3 \" + A_string + \"x \" + B_string + \" (mod \" + str(p) + \")\\n\")\n",
    "    \n",
    "    t = (4 * (A ** 3) + 27 * (B ** 2)) % p\n",
    "    \n",
    "    print (\"4 A^3 + 27 B^2 (mod \" + str(p) + \") = 4 * (\" + str(A) + \"^3) + 27 * (\" + str(B) + \"^2) (mod \" + str(p) + \") = \" + str(t) + \"\\n\")\n",
    "    \n",
    "    if  t == 0:\n",
    "        print (\"Curve is singular - NOT acceptable\")\n",
    "    else:\n",
    "        print (\"Curve is non-singular - acceptable\")"
   ]
  },
  {
   "cell_type": "code",
   "execution_count": 4,
   "metadata": {
    "collapsed": false
   },
   "outputs": [
    {
     "name": "stdout",
     "output_type": "stream",
     "text": [
      "\n",
      "Validating the Elliptic Curve to ensure it's non-singular:  y^2 = x^3 + 3x + 8 (mod 3)\n",
      "\n",
      "4 A^3 + 27 B^2 (mod 3) = 4 * (3^3) + 27 * (8^2) (mod 3) = 0\n",
      "\n",
      "Curve is singular - NOT acceptable\n"
     ]
    }
   ],
   "source": [
    "A = 3\n",
    "B = 8\n",
    "p = 3\n",
    "\n",
    "my_validate_elliptic_curve_non_singular(A, B, p)"
   ]
  },
  {
   "cell_type": "code",
   "execution_count": 5,
   "metadata": {
    "collapsed": false
   },
   "outputs": [
    {
     "name": "stdout",
     "output_type": "stream",
     "text": [
      "\n",
      "Validating the Elliptic Curve to ensure it's non-singular:  y^2 = x^3 + 5x + 15 (mod 5)\n",
      "\n",
      "4 A^3 + 27 B^2 (mod 5) = 4 * (5^3) + 27 * (15^2) (mod 5) = 0\n",
      "\n",
      "Curve is singular - NOT acceptable\n"
     ]
    }
   ],
   "source": [
    "A = 5\n",
    "B = 15\n",
    "p = 5\n",
    "\n",
    "my_validate_elliptic_curve_non_singular(A, B, p)"
   ]
  },
  {
   "cell_type": "code",
   "execution_count": 6,
   "metadata": {
    "collapsed": false
   },
   "outputs": [
    {
     "name": "stdout",
     "output_type": "stream",
     "text": [
      "\n",
      "Validating the Elliptic Curve to ensure it's non-singular:  y^2 = x^3 + 14x + 21 (mod 7)\n",
      "\n",
      "4 A^3 + 27 B^2 (mod 7) = 4 * (14^3) + 27 * (21^2) (mod 7) = 0\n",
      "\n",
      "Curve is singular - NOT acceptable\n"
     ]
    }
   ],
   "source": [
    "A = 14\n",
    "B = 21\n",
    "p = 7\n",
    "\n",
    "my_validate_elliptic_curve_non_singular(A, B, p)"
   ]
  },
  {
   "cell_type": "code",
   "execution_count": 7,
   "metadata": {
    "collapsed": false
   },
   "outputs": [
    {
     "name": "stdout",
     "output_type": "stream",
     "text": [
      "\n",
      "Validating the Elliptic Curve to ensure it's non-singular:  y^2 = x^3 + 4x + 3 (mod 3)\n",
      "\n",
      "4 A^3 + 27 B^2 (mod 3) = 4 * (4^3) + 27 * (3^2) (mod 3) = 1\n",
      "\n",
      "Curve is non-singular - acceptable\n"
     ]
    }
   ],
   "source": [
    "A = 4\n",
    "B = 3\n",
    "p = 3\n",
    "\n",
    "my_validate_elliptic_curve_non_singular(A, B, p)"
   ]
  },
  {
   "cell_type": "code",
   "execution_count": 8,
   "metadata": {
    "collapsed": false
   },
   "outputs": [
    {
     "name": "stdout",
     "output_type": "stream",
     "text": [
      "\n",
      "Validating the Elliptic Curve to ensure it's non-singular:  y^2 = x^3 + 4x + 3 (mod 5)\n",
      "\n",
      "4 A^3 + 27 B^2 (mod 5) = 4 * (4^3) + 27 * (3^2) (mod 5) = 4\n",
      "\n",
      "Curve is non-singular - acceptable\n"
     ]
    }
   ],
   "source": [
    "A = 4\n",
    "B = 3\n",
    "p = 5\n",
    "\n",
    "my_validate_elliptic_curve_non_singular(A, B, p)"
   ]
  },
  {
   "cell_type": "code",
   "execution_count": 9,
   "metadata": {
    "collapsed": false
   },
   "outputs": [
    {
     "name": "stdout",
     "output_type": "stream",
     "text": [
      "\n",
      "Validating the Elliptic Curve to ensure it's non-singular:  y^2 = x^3 + 4x + 3 (mod 7)\n",
      "\n",
      "4 A^3 + 27 B^2 (mod 7) = 4 * (4^3) + 27 * (3^2) (mod 7) = 2\n",
      "\n",
      "Curve is non-singular - acceptable\n"
     ]
    }
   ],
   "source": [
    "A = 4\n",
    "B = 3\n",
    "p = 7\n",
    "\n",
    "my_validate_elliptic_curve_non_singular(A, B, p)"
   ]
  },
  {
   "cell_type": "markdown",
   "metadata": {
    "collapsed": false
   },
   "source": [
    "#### Examples of validating points as valid or invalid over an Elliptic Curve Prime Curve\n",
    "\n",
    "(This will become really important later when we study Invalid Curve Attacks in which a Diffie Hellman Elliptic Curve Key Exchange accepts a point without validating it which opens the door to an invalid curve attack)"
   ]
  },
  {
   "cell_type": "code",
   "execution_count": 10,
   "metadata": {
    "collapsed": false
   },
   "outputs": [
   ],
   "source": [
    "def my_format_point(pt):\n",
    "    \"Given a point on an elliptic curve, format it\"\n",
    "    \n",
    "    if pt[2] == 0:\n",
    "        s = \"INFINITY\"\n",
    "    else:\n",
    "        s = \"(\" + str(pt[0]) + \", \" + str(pt[1]) + \")\"\n",
    "        \n",
    "    return s"
   ]
  },
  {
   "cell_type": "code",
   "execution_count": 11,
   "metadata": {
    "collapsed": false
   },
   "outputs": [
   ],
   "source": [
    "def my_validate_point_1(A, B, p, pt):\n",
    "    \"Given A, B, p which define an elliptic curve, and a point pt, validate pt is indeed a point on the elliptic curve\"\n",
    "    \n",
    "    A_string = my_format_plus_minus(A)\n",
    "    B_string = my_format_plus_minus(B)\n",
    "    \n",
    "    y_side = (pt[1] ** 2) % p    \n",
    "    x_side = (pt[0] ** 3 + A * pt[0] + B) % p\n",
    "    \n",
    "    print (\"        y^2 (mod \" + str(p) + \") = \" + str(pt[1]) + \"^2 (mod \" + str(p) + \") = \" + str(y_side))\n",
    "    print (\"        x^3 \" + A_string + \"x \" + B_string + \" (mod \" + str(p) + \") = \" + str(pt[0]) + \"^3 \" + A_string \\\n",
    "                + \"*\" + str(pt[0]) + \" \" + B_string + \" (mod \" + str(p) + \") = \" + str(x_side) + \"\\n\")\n",
    "        \n",
    "    if y_side == x_side:\n",
    "        print (\"        valid point\")\n",
    "    else:\n",
    "        print (\"        invalid point\")"
   ]
  },
  {
   "cell_type": "code",
   "execution_count": 12,
   "metadata": {
    "collapsed": false
   },
   "outputs": [
   ],
   "source": [
    "def my_given_elliptic_curve_validate_point(A, B, p, pt_1):\n",
    "    \"Print a nice header and validate a point using my_verify_point()\"\n",
    "    \n",
    "    A_string = my_format_plus_minus(A)\n",
    "    B_string = my_format_plus_minus(B)\n",
    "    \n",
    "    E = EllipticCurve(GF(p),[A,B])\n",
    "    \n",
    "    print (\"\\nElliptic Curve: y^2 = x^3 \" + A_string + \"x \" + B_string + \" (mod \" + str(p) + \")\\n\")\n",
    "    \n",
    "    my_validate_point_1(A, B, p, pt_1)"
   ]
  },
  {
   "cell_type": "code",
   "execution_count": 13,
   "metadata": {
    "collapsed": false
   },
   "outputs": [
    {
     "name": "stdout",
     "output_type": "stream",
     "text": [
      "\n",
      "Elliptic Curve: y^2 = x^3 + 4x + 3 (mod 7)\n",
      "\n",
      "        y^2 (mod 7) = 4^2 (mod 7) = 2\n",
      "        x^3 + 4x + 3 (mod 7) = 3^3 + 4*3 + 3 (mod 7) = 0\n",
      "\n",
      "        invalid point\n"
     ]
    }
   ],
   "source": [
    "A = 4\n",
    "B = 3\n",
    "p = 7\n",
    "pt = (3,4)\n",
    "\n",
    "my_given_elliptic_curve_validate_point(A, B, p, pt)"
   ]
  },
  {
   "cell_type": "code",
   "execution_count": 14,
   "metadata": {
    "collapsed": false
   },
   "outputs": [
    {
     "name": "stdout",
     "output_type": "stream",
     "text": [
      "\n",
      "Elliptic Curve: y^2 = x^3 + 4x + 3 (mod 7)\n",
      "\n",
      "        y^2 (mod 7) = 1^2 (mod 7) = 1\n",
      "        x^3 + 4x + 3 (mod 7) = 5^3 + 4*5 + 3 (mod 7) = 1\n",
      "\n",
      "        valid point\n"
     ]
    }
   ],
   "source": [
    "A = 4\n",
    "B = 3\n",
    "p = 7\n",
    "pt = (5,1)\n",
    "\n",
    "my_given_elliptic_curve_validate_point(A, B, p, pt)"
   ]
  },
  {
   "cell_type": "code",
   "execution_count": 15,
   "metadata": {
    "collapsed": false
   },
   "outputs": [
    {
     "name": "stdout",
     "output_type": "stream",
     "text": [
      "\n",
      "Elliptic Curve: y^2 = x^3 + 4x + 3 (mod 11)\n",
      "\n",
      "        y^2 (mod 11) = 3^2 (mod 11) = 9\n",
      "        x^3 + 4x + 3 (mod 11) = 2^3 + 4*2 + 3 (mod 11) = 8\n",
      "\n",
      "        invalid point\n"
     ]
    }
   ],
   "source": [
    "A = 4\n",
    "B = 3\n",
    "p = 11\n",
    "\n",
    "pt = (2,3)\n",
    "\n",
    "my_given_elliptic_curve_validate_point(A, B, p, pt)"
   ]
  },
  {
   "cell_type": "code",
   "execution_count": 16,
   "metadata": {
    "collapsed": false
   },
   "outputs": [
    {
     "name": "stdout",
     "output_type": "stream",
     "text": [
      "\n",
      "Elliptic Curve: y^2 = x^3 + 4x + 3 (mod 11)\n",
      "\n",
      "        y^2 (mod 11) = 8^2 (mod 11) = 9\n",
      "        x^3 + 4x + 3 (mod 11) = 9^3 + 4*9 + 3 (mod 11) = 9\n",
      "\n",
      "        valid point\n"
     ]
    }
   ],
   "source": [
    "A = 4\n",
    "B = 3\n",
    "p = 11\n",
    "\n",
    "pt = (9,8)\n",
    "\n",
    "my_given_elliptic_curve_validate_point(A, B, p, pt)"
   ]
  },
  {
   "cell_type": "code",
   "execution_count": 17,
   "metadata": {
    "collapsed": false
   },
   "outputs": [
    {
     "name": "stdout",
     "output_type": "stream",
     "text": [
      "\n",
      "Elliptic Curve: y^2 = x^3 + 4x + 3 (mod 13)\n",
      "\n",
      "        y^2 (mod 13) = 8^2 (mod 13) = 12\n",
      "        x^3 + 4x + 3 (mod 13) = 5^3 + 4*5 + 3 (mod 13) = 5\n",
      "\n",
      "        invalid point\n"
     ]
    }
   ],
   "source": [
    "A = 4\n",
    "B = 3\n",
    "p = 13\n",
    "\n",
    "pt = (5,8)\n",
    "\n",
    "my_given_elliptic_curve_validate_point(A, B, p, pt)"
   ]
  },
  {
   "cell_type": "code",
   "execution_count": 18,
   "metadata": {
    "collapsed": false
   },
   "outputs": [
    {
     "name": "stdout",
     "output_type": "stream",
     "text": [
      "\n",
      "Elliptic Curve: y^2 = x^3 + 4x + 3 (mod 13)\n",
      "\n",
      "        y^2 (mod 13) = 4^2 (mod 13) = 3\n",
      "        x^3 + 4x + 3 (mod 13) = 10^3 + 4*10 + 3 (mod 13) = 3\n",
      "\n",
      "        valid point\n"
     ]
    }
   ],
   "source": [
    "A = 4\n",
    "B = 3\n",
    "p = 13\n",
    "\n",
    "pt = (10,4)\n",
    "\n",
    "my_given_elliptic_curve_validate_point(A, B, p, pt)"
   ]
  },
  {
   "cell_type": "markdown",
   "metadata": {
    "collapsed": false
   },
   "source": [
    "#### Examples of listing all points and showing the validation for the points for various Elliptic Curve Prime Curves"
   ]
  },
  {
   "cell_type": "code",
   "execution_count": 19,
   "metadata": {
    "collapsed": false
   },
   "outputs": [
   ],
   "source": [
    "def my_validate_point_2(A, B, p, pt):\n",
    "    \"Given A, B, p which define an elliptic curve, and a point pt, validate pt is indeed a point on the elliptic curve\"\n",
    "    \n",
    "    A_string = my_format_plus_minus(A)\n",
    "    B_string = my_format_plus_minus(B)\n",
    "    \n",
    "    if pt[2] == 0:\n",
    "        print (\"        (Infinity is always a valid point by definition)\")\n",
    "    else:\n",
    "        y_side = (pt[1] ** 2) % p\n",
    "        x_side = (pt[0] ** 3 + A * pt[0] + B) % p\n",
    "        print (\"        y^2 (mod \" + str(p) + \") = \" + str(pt[1]) + \"^2 (mod \" + str(p) + \") = \" + str(y_side))\n",
    "        print (\"        x^3 \" + A_string + \"x \" + B_string + \" (mod \" + str(p) + \") = \" + str(pt[0]) + \"^3 \" + A_string \\\n",
    "                + \"*\" + str(pt[0]) + \" \" + B_string + \" (mod \" + str(p) + \") = \" + str(x_side))\n",
    "        \n",
    "        if y_side == x_side:\n",
    "            print (\"        valid point\")\n",
    "        else:\n",
    "            print (\"        invalid point\")"
   ]
  },
  {
   "cell_type": "code",
   "execution_count": 20,
   "metadata": {
    "collapsed": false
   },
   "outputs": [
   ],
   "source": [
    "def my_elliptic_curve_prime_list_points(A, B, p):\n",
    "    \"Given A, B, and p, create an elliptic curve prime curve and write out the points, including infinity\"\n",
    "    \n",
    "    A_string = my_format_plus_minus(A)\n",
    "    B_string = my_format_plus_minus(B)\n",
    "    \n",
    "    E = EllipticCurve(GF(p),[A,B])\n",
    "    \n",
    "    print (\"\\nElliptic Curve: y^2 = x^3 \" + A_string + \"x \" + B_string + \" (mod \" + str(p) + \")\\n\")\n",
    "    print (\"Total Points:\", len(E.points()), \"\\n\")\n",
    "    \n",
    "    for pt in E.points():\n",
    "        print (my_format_point(pt))\n",
    "        my_validate_point_2(A, B, p, pt)"
   ]
  },
  {
   "cell_type": "code",
   "execution_count": 21,
   "metadata": {
    "collapsed": false
   },
   "outputs": [
    {
     "name": "stdout",
     "output_type": "stream",
     "text": [
      "\n",
      "Elliptic Curve: y^2 = x^3 + 4x + 3 (mod 3)\n",
      "\n",
      "Total Points: 4 \n",
      "\n",
      "(0, 0)\n",
      "        y^2 (mod 3) = 0^2 (mod 3) = 0\n",
      "        x^3 + 4x + 3 (mod 3) = 0^3 + 4*0 + 3 (mod 3) = 0\n",
      "        valid point\n",
      "INFINITY\n",
      "        (Infinity is always a valid point by definition)\n",
      "(2, 1)\n",
      "        y^2 (mod 3) = 1^2 (mod 3) = 1\n",
      "        x^3 + 4x + 3 (mod 3) = 2^3 + 4*2 + 3 (mod 3) = 1\n",
      "        valid point\n",
      "(2, 2)\n",
      "        y^2 (mod 3) = 2^2 (mod 3) = 1\n",
      "        x^3 + 4x + 3 (mod 3) = 2^3 + 4*2 + 3 (mod 3) = 1\n",
      "        valid point\n"
     ]
    }
   ],
   "source": [
    "A = 4\n",
    "B = 3\n",
    "p = 3\n",
    "\n",
    "my_elliptic_curve_prime_list_points(A, B, p)"
   ]
  },
  {
   "cell_type": "code",
   "execution_count": 22,
   "metadata": {
    "collapsed": false
   },
   "outputs": [
    {
     "name": "stdout",
     "output_type": "stream",
     "text": [
      "\n",
      "Elliptic Curve: y^2 = x^3 + 4x + 3 (mod 5)\n",
      "\n",
      "Total Points: 3 \n",
      "\n",
      "INFINITY\n",
      "        (Infinity is always a valid point by definition)\n",
      "(2, 2)\n",
      "        y^2 (mod 5) = 2^2 (mod 5) = 4\n",
      "        x^3 + 4x + 3 (mod 5) = 2^3 + 4*2 + 3 (mod 5) = 4\n",
      "        valid point\n",
      "(2, 3)\n",
      "        y^2 (mod 5) = 3^2 (mod 5) = 4\n",
      "        x^3 + 4x + 3 (mod 5) = 2^3 + 4*2 + 3 (mod 5) = 4\n",
      "        valid point\n"
     ]
    }
   ],
   "source": [
    "A = 4\n",
    "B = 3\n",
    "p = 5\n",
    "\n",
    "my_elliptic_curve_prime_list_points(A, B, p)"
   ]
  },
  {
   "cell_type": "code",
   "execution_count": 23,
   "metadata": {
    "collapsed": false
   },
   "outputs": [
    {
     "name": "stdout",
     "output_type": "stream",
     "text": [
      "\n",
      "Elliptic Curve: y^2 = x^3 + 4x + 3 (mod 7)\n",
      "\n",
      "Total Points: 6 \n",
      "\n",
      "INFINITY\n",
      "        (Infinity is always a valid point by definition)\n",
      "(1, 1)\n",
      "        y^2 (mod 7) = 1^2 (mod 7) = 1\n",
      "        x^3 + 4x + 3 (mod 7) = 1^3 + 4*1 + 3 (mod 7) = 1\n",
      "        valid point\n",
      "(1, 6)\n",
      "        y^2 (mod 7) = 6^2 (mod 7) = 1\n",
      "        x^3 + 4x + 3 (mod 7) = 1^3 + 4*1 + 3 (mod 7) = 1\n",
      "        valid point\n",
      "(3, 0)\n",
      "        y^2 (mod 7) = 0^2 (mod 7) = 0\n",
      "        x^3 + 4x + 3 (mod 7) = 3^3 + 4*3 + 3 (mod 7) = 0\n",
      "        valid point\n",
      "(5, 1)\n",
      "        y^2 (mod 7) = 1^2 (mod 7) = 1\n",
      "        x^3 + 4x + 3 (mod 7) = 5^3 + 4*5 + 3 (mod 7) = 1\n",
      "        valid point\n",
      "(5, 6)\n",
      "        y^2 (mod 7) = 6^2 (mod 7) = 1\n",
      "        x^3 + 4x + 3 (mod 7) = 5^3 + 4*5 + 3 (mod 7) = 1\n",
      "        valid point\n"
     ]
    }
   ],
   "source": [
    "A = 4\n",
    "B = 3\n",
    "p = 7\n",
    "\n",
    "my_elliptic_curve_prime_list_points(A, B, p)"
   ]
  },
  {
   "cell_type": "code",
   "execution_count": 24,
   "metadata": {
    "collapsed": false
   },
   "outputs": [
    {
     "name": "stdout",
     "output_type": "stream",
     "text": [
      "\n",
      "Elliptic Curve: y^2 = x^3 + 4x + 3 (mod 11)\n",
      "\n",
      "Total Points: 14 \n",
      "\n",
      "INFINITY\n",
      "        (Infinity is always a valid point by definition)\n",
      "(0, 5)\n",
      "        y^2 (mod 11) = 5^2 (mod 11) = 3\n",
      "        x^3 + 4x + 3 (mod 11) = 0^3 + 4*0 + 3 (mod 11) = 3\n",
      "        valid point\n",
      "(0, 6)\n",
      "        y^2 (mod 11) = 6^2 (mod 11) = 3\n",
      "        x^3 + 4x + 3 (mod 11) = 0^3 + 4*0 + 3 (mod 11) = 3\n",
      "        valid point\n",
      "(3, 3)\n",
      "        y^2 (mod 11) = 3^2 (mod 11) = 9\n",
      "        x^3 + 4x + 3 (mod 11) = 3^3 + 4*3 + 3 (mod 11) = 9\n",
      "        valid point\n",
      "(3, 8)\n",
      "        y^2 (mod 11) = 8^2 (mod 11) = 9\n",
      "        x^3 + 4x + 3 (mod 11) = 3^3 + 4*3 + 3 (mod 11) = 9\n",
      "        valid point\n",
      "(5, 4)\n",
      "        y^2 (mod 11) = 4^2 (mod 11) = 5\n",
      "        x^3 + 4x + 3 (mod 11) = 5^3 + 4*5 + 3 (mod 11) = 5\n",
      "        valid point\n",
      "(5, 7)\n",
      "        y^2 (mod 11) = 7^2 (mod 11) = 5\n",
      "        x^3 + 4x + 3 (mod 11) = 5^3 + 4*5 + 3 (mod 11) = 5\n",
      "        valid point\n",
      "(6, 1)\n",
      "        y^2 (mod 11) = 1^2 (mod 11) = 1\n",
      "        x^3 + 4x + 3 (mod 11) = 6^3 + 4*6 + 3 (mod 11) = 1\n",
      "        valid point\n",
      "(6, 10)\n",
      "        y^2 (mod 11) = 10^2 (mod 11) = 1\n",
      "        x^3 + 4x + 3 (mod 11) = 6^3 + 4*6 + 3 (mod 11) = 1\n",
      "        valid point\n",
      "(7, 0)\n",
      "        y^2 (mod 11) = 0^2 (mod 11) = 0\n",
      "        x^3 + 4x + 3 (mod 11) = 7^3 + 4*7 + 3 (mod 11) = 0\n",
      "        valid point\n",
      "(9, 3)\n",
      "        y^2 (mod 11) = 3^2 (mod 11) = 9\n",
      "        x^3 + 4x + 3 (mod 11) = 9^3 + 4*9 + 3 (mod 11) = 9\n",
      "        valid point\n",
      "(9, 8)\n",
      "        y^2 (mod 11) = 8^2 (mod 11) = 9\n",
      "        x^3 + 4x + 3 (mod 11) = 9^3 + 4*9 + 3 (mod 11) = 9\n",
      "        valid point\n",
      "(10, 3)\n",
      "        y^2 (mod 11) = 3^2 (mod 11) = 9\n",
      "        x^3 + 4x + 3 (mod 11) = 10^3 + 4*10 + 3 (mod 11) = 9\n",
      "        valid point\n",
      "(10, 8)\n",
      "        y^2 (mod 11) = 8^2 (mod 11) = 9\n",
      "        x^3 + 4x + 3 (mod 11) = 10^3 + 4*10 + 3 (mod 11) = 9\n",
      "        valid point\n"
     ]
    }
   ],
   "source": [
    "A = 4\n",
    "B = 3\n",
    "p = 11\n",
    "\n",
    "my_elliptic_curve_prime_list_points(A, B, p)"
   ]
  },
  {
   "cell_type": "code",
   "execution_count": 25,
   "metadata": {
    "collapsed": false
   },
   "outputs": [
    {
     "name": "stdout",
     "output_type": "stream",
     "text": [
      "\n",
      "Elliptic Curve: y^2 = x^3 + 4x + 3 (mod 13)\n",
      "\n",
      "Total Points: 16 \n",
      "\n",
      "INFINITY\n",
      "        (Infinity is always a valid point by definition)\n",
      "(0, 4)\n",
      "        y^2 (mod 13) = 4^2 (mod 13) = 3\n",
      "        x^3 + 4x + 3 (mod 13) = 0^3 + 4*0 + 3 (mod 13) = 3\n",
      "        valid point\n",
      "(0, 9)\n",
      "        y^2 (mod 13) = 9^2 (mod 13) = 3\n",
      "        x^3 + 4x + 3 (mod 13) = 0^3 + 4*0 + 3 (mod 13) = 3\n",
      "        valid point\n",
      "(3, 4)\n",
      "        y^2 (mod 13) = 4^2 (mod 13) = 3\n",
      "        x^3 + 4x + 3 (mod 13) = 3^3 + 4*3 + 3 (mod 13) = 3\n",
      "        valid point\n",
      "(3, 9)\n",
      "        y^2 (mod 13) = 9^2 (mod 13) = 3\n",
      "        x^3 + 4x + 3 (mod 13) = 3^3 + 4*3 + 3 (mod 13) = 3\n",
      "        valid point\n",
      "(6, 3)\n",
      "        y^2 (mod 13) = 3^2 (mod 13) = 9\n",
      "        x^3 + 4x + 3 (mod 13) = 6^3 + 4*6 + 3 (mod 13) = 9\n",
      "        valid point\n",
      "(6, 10)\n",
      "        y^2 (mod 13) = 10^2 (mod 13) = 9\n",
      "        x^3 + 4x + 3 (mod 13) = 6^3 + 4*6 + 3 (mod 13) = 9\n",
      "        valid point\n",
      "(7, 6)\n",
      "        y^2 (mod 13) = 6^2 (mod 13) = 10\n",
      "        x^3 + 4x + 3 (mod 13) = 7^3 + 4*7 + 3 (mod 13) = 10\n",
      "        valid point\n",
      "(7, 7)\n",
      "        y^2 (mod 13) = 7^2 (mod 13) = 10\n",
      "        x^3 + 4x + 3 (mod 13) = 7^3 + 4*7 + 3 (mod 13) = 10\n",
      "        valid point\n",
      "(8, 1)\n",
      "        y^2 (mod 13) = 1^2 (mod 13) = 1\n",
      "        x^3 + 4x + 3 (mod 13) = 8^3 + 4*8 + 3 (mod 13) = 1\n",
      "        valid point\n",
      "(8, 12)\n",
      "        y^2 (mod 13) = 12^2 (mod 13) = 1\n",
      "        x^3 + 4x + 3 (mod 13) = 8^3 + 4*8 + 3 (mod 13) = 1\n",
      "        valid point\n",
      "(9, 1)\n",
      "        y^2 (mod 13) = 1^2 (mod 13) = 1\n",
      "        x^3 + 4x + 3 (mod 13) = 9^3 + 4*9 + 3 (mod 13) = 1\n",
      "        valid point\n",
      "(9, 12)\n",
      "        y^2 (mod 13) = 12^2 (mod 13) = 1\n",
      "        x^3 + 4x + 3 (mod 13) = 9^3 + 4*9 + 3 (mod 13) = 1\n",
      "        valid point\n",
      "(10, 4)\n",
      "        y^2 (mod 13) = 4^2 (mod 13) = 3\n",
      "        x^3 + 4x + 3 (mod 13) = 10^3 + 4*10 + 3 (mod 13) = 3\n",
      "        valid point\n",
      "(10, 9)\n",
      "        y^2 (mod 13) = 9^2 (mod 13) = 3\n",
      "        x^3 + 4x + 3 (mod 13) = 10^3 + 4*10 + 3 (mod 13) = 3\n",
      "        valid point\n",
      "(11, 0)\n",
      "        y^2 (mod 13) = 0^2 (mod 13) = 0\n",
      "        x^3 + 4x + 3 (mod 13) = 11^3 + 4*11 + 3 (mod 13) = 0\n",
      "        valid point\n"
     ]
    }
   ],
   "source": [
    "A = 4\n",
    "B = 3\n",
    "p = 13\n",
    "\n",
    "my_elliptic_curve_prime_list_points(A, B, p)"
   ]
  },
  {
   "cell_type": "markdown",
   "metadata": {
    "collapsed": false
   },
   "source": [
    "#### Examples of graphing Elliptic Curve Prime Curves (they don't look like the prototypical elliptic curves over real numbers)"
   ]
  },
  {
   "cell_type": "code",
   "execution_count": 26,
   "metadata": {
    "collapsed": false
   },
   "outputs": [
   ],
   "source": [
    "def my_elliptic_curve_prime_graph(A, B, p, figure_size, marker_size):\n",
    "    \"Given A, B, and p, create an elliptic curve prime curve and graph it\"\n",
    "    \n",
    "    A_string = my_format_plus_minus(A)\n",
    "    B_string = my_format_plus_minus(B)\n",
    "    \n",
    "    E = EllipticCurve(GF(p),[A,B])\n",
    "    \n",
    "    print (\"\\nElliptic Curve: y^2 = x^3 \" + A_string + \"x \" + B_string + \" (mod \" + str(p) + \")\\n\")\n",
    "    print (\"Total Points:\", len(E.points()), \"\\n\")\n",
    "    \n",
    "    points_list = []\n",
    "    \n",
    "    for pt in E.points():\n",
    "        if pt[2] != 0:\n",
    "            points_list.append((pt[0],pt[1]))\n",
    "        \n",
    "    if len(points_list) < 100:\n",
    "        print (points_list, \"\\n\")\n",
    "    \n",
    "    show(scatter_plot(points_list, markersize = marker_size, figsize = figure_size))\n",
    "    "
   ]
  },
  {
   "cell_type": "code",
   "execution_count": 27,
   "metadata": {
    "collapsed": false
   },
   "outputs": [
    {
     "name": "stdout",
     "output_type": "stream",
     "text": [
      "\n",
      "Elliptic Curve: y^2 = x^3 + 4x + 3 (mod 13)\n",
      "\n",
      "Total Points: 16 \n",
      "\n",
      "[(0, 4), (0, 9), (3, 4), (3, 9), (6, 3), (6, 10), (7, 6), (7, 7), (8, 1), (8, 12), (9, 1), (9, 12), (10, 4), (10, 9), (11, 0)] \n",
      "\n"
     ]
    },
    {
     "data": {
      "image/png": "[encoded data removed]",
      "text/plain": [
       "Graphics object consisting of 1 graphics primitive"
      ]
     },
     "execution_count": 27,
     "metadata": {
     },
     "output_type": "execute_result"
    }
   ],
   "source": [
    "figure_size = 5\n",
    "marker_size = 10\n",
    "\n",
    "A = 4\n",
    "B = 3\n",
    "p = 13\n",
    "\n",
    "my_elliptic_curve_prime_graph(A, B, p, figure_size, marker_size)"
   ]
  },
  {
   "cell_type": "code",
   "execution_count": 28,
   "metadata": {
    "collapsed": false
   },
   "outputs": [
    {
     "name": "stdout",
     "output_type": "stream",
     "text": [
      "\n",
      "Elliptic Curve: y^2 = x^3 + 4x + 3 (mod 53)\n",
      "\n",
      "Total Points: 48 \n",
      "\n",
      "[(3, 25), (3, 28), (5, 25), (5, 28), (8, 21), (8, 32), (10, 6), (10, 47), (11, 0), (14, 10), (14, 43), (15, 24), (15, 29), (16, 20), (16, 33), (18, 17), (18, 36), (24, 14), (24, 39), (25, 26), (25, 27), (27, 5), (27, 48), (30, 26), (30, 27), (34, 8), (34, 45), (36, 2), (36, 51), (38, 15), (38, 38), (41, 20), (41, 33), (42, 18), (42, 35), (45, 25), (45, 28), (47, 9), (47, 44), (48, 21), (48, 32), (49, 20), (49, 33), (50, 21), (50, 32), (51, 26), (51, 27)] \n",
      "\n"
     ]
    },
    {
     "data": {
      "image/png": "[encoded data removed]",
      "text/plain": [
       "Graphics object consisting of 1 graphics primitive"
      ]
     },
     "execution_count": 28,
     "metadata": {
     },
     "output_type": "execute_result"
    }
   ],
   "source": [
    "figure_size = 5\n",
    "marker_size = 10\n",
    "\n",
    "A = 4\n",
    "B = 3\n",
    "p = 53\n",
    "\n",
    "my_elliptic_curve_prime_graph(A, B, p, figure_size, marker_size)"
   ]
  },
  {
   "cell_type": "code",
   "execution_count": 29,
   "metadata": {
    "collapsed": false
   },
   "outputs": [
    {
     "name": "stdout",
     "output_type": "stream",
     "text": [
      "\n",
      "Elliptic Curve: y^2 = x^3 + 4x + 3 (mod 97)\n",
      "\n",
      "Total Points: 90 \n",
      "\n",
      "[(0, 10), (0, 87), (1, 28), (1, 69), (6, 7), (6, 90), (8, 16), (8, 81), (9, 34), (9, 63), (10, 48), (10, 49), (12, 18), (12, 79), (15, 25), (15, 72), (16, 34), (16, 63), (20, 41), (20, 56), (21, 6), (21, 91), (27, 43), (27, 54), (28, 40), (28, 57), (29, 8), (29, 89), (32, 4), (32, 93), (33, 45), (33, 52), (34, 35), (34, 62), (35, 12), (35, 85), (36, 7), (36, 90), (37, 48), (37, 49), (41, 11), (41, 86), (42, 32), (42, 65), (44, 10), (44, 87), (45, 15), (45, 82), (50, 48), (50, 49), (51, 29), (51, 68), (52, 13), (52, 84), (53, 10), (53, 87), (55, 7), (55, 90), (56, 46), (56, 51), (58, 38), (58, 59), (59, 47), (59, 50), (61, 32), (61, 65), (64, 42), (64, 55), (66, 35), (66, 62), (67, 25), (67, 72), (70, 0), (72, 34), (72, 63), (79, 4), (79, 93), (80, 39), (80, 58), (83, 4), (83, 93), (85, 19), (85, 78), (91, 32), (91, 65), (94, 35), (94, 62), (96, 17), (96, 80)] \n",
      "\n"
     ]
    },
    {
     "data": {
      "image/png": "[encoded data removed]",
      "text/plain": [
       "Graphics object consisting of 1 graphics primitive"
      ]
     },
     "execution_count": 29,
     "metadata": {
     },
     "output_type": "execute_result"
    }
   ],
   "source": [
    "figure_size = 5\n",
    "marker_size = 10\n",
    "\n",
    "A = 4\n",
    "B = 3\n",
    "p = 97\n",
    "\n",
    "my_elliptic_curve_prime_graph(A, B, p, figure_size, marker_size)"
   ]
  },
  {
   "cell_type": "code",
   "execution_count": 30,
   "metadata": {
    "collapsed": false
   },
   "outputs": [
    {
     "name": "stdout",
     "output_type": "stream",
     "text": [
      "\n",
      "Elliptic Curve: y^2 = x^3 + 4x + 3 (mod 251)\n",
      "\n",
      "Total Points: 233 \n",
      "\n"
     ]
    },
    {
     "data": {
      "image/png": "[encoded data removed]",
      "text/plain": [
       "Graphics object consisting of 1 graphics primitive"
      ]
     },
     "execution_count": 30,
     "metadata": {
     },
     "output_type": "execute_result"
    }
   ],
   "source": [
    "figure_size = 5\n",
    "marker_size = 10\n",
    "\n",
    "A = 4\n",
    "B = 3\n",
    "p = 251\n",
    "\n",
    "my_elliptic_curve_prime_graph(A, B, p, figure_size, marker_size)"
   ]
  },
  {
   "cell_type": "code",
   "execution_count": 31,
   "metadata": {
    "collapsed": false
   },
   "outputs": [
    {
     "name": "stdout",
     "output_type": "stream",
     "text": [
      "\n",
      "Elliptic Curve: y^2 = x^3 + 4x + 5 (mod 499)\n",
      "\n",
      "Total Points: 524 \n",
      "\n"
     ]
    },
    {
     "data": {
      "image/png": "[encoded data removed]",
      "text/plain": [
       "Graphics object consisting of 1 graphics primitive"
      ]
     },
     "execution_count": 31,
     "metadata": {
     },
     "output_type": "execute_result"
    }
   ],
   "source": [
    "figure_size = 5\n",
    "marker_size = 10\n",
    "\n",
    "A = 4\n",
    "B = 5\n",
    "p = 499\n",
    "\n",
    "my_elliptic_curve_prime_graph(A, B, p, figure_size, marker_size)"
   ]
  },
  {
   "cell_type": "code",
   "execution_count": 0,
   "metadata": {
    "collapsed": false
   },
   "outputs": [
   ],
   "source": [
   ]
  }
 ],
 "metadata": {
  "kernelspec": {
   "display_name": "SageMath 9.1",
   "language": "sagemath",
   "metadata": {
    "cocalc": {
     "description": "Open-source mathematical software system",
     "priority": 10,
     "url": "https://www.sagemath.org/"
    }
   },
   "name": "sage-9.1"
  },
  "language_info": {
   "codemirror_mode": {
    "name": "ipython",
    "version": 3
   },
   "file_extension": ".py",
   "mimetype": "text/x-python",
   "name": "python",
   "nbconvert_exporter": "python",
   "pygments_lexer": "ipython3",
   "version": "3.7.3"
  }
 },
 "nbformat": 4,
 "nbformat_minor": 4
}