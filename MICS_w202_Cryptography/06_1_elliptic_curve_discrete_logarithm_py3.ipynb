{
 "cells": [
  {
   "cell_type": "markdown",
   "metadata": {
    "collapsed": false
   },
   "source": [
    "### UC Berkeley, MICS, W202-Cryptography\n",
    "### Week 06 Breakout 1\n",
    "### Elliptic Curve Discrete Logarithm Problem (ECDLP)"
   ]
  },
  {
   "cell_type": "markdown",
   "metadata": {
    "collapsed": false
   },
   "source": [
    "Elliptic Curve Discrete Logarithm Problem: Given an elliptic curve prime curve in modulo prime p, a valid point P, a valid point Q, find k such that kP = Q.\n",
    "\n",
    "The computational intractability of the ECDLP forms the basis for Elliptic Curve Cryptography.\n",
    "\n",
    "In a breakout last week, we saw that in order to achieve computational intractability, we need to ensure the following:\n",
    "\n",
    "* select a large enough prime p. p determines the number of points.\n",
    "\n",
    "* select proper A and B for p that yields a long period for scalar multiplication. (A common misconception is that a large p is all we need. A large p does not guarantee a long period for scalar multiplication.) \n",
    "\n",
    "* ensure we always validate points that are given to us by others as part of any elliptic curve cryptography system.\n",
    "\n",
    "* ensure we select large scalar multipliers k. Scalar multipliers should be of the similar size to p.\n",
    "\n",
    "Let's look at some examples using some of the industry standard curves with a large k value.\n",
    "\n",
    "Industry standard curves typically give us:\n",
    "\n",
    "* p - large prime\n",
    "\n",
    "* A - which tends to be really small, or even 0\n",
    "\n",
    "* B - sized similar to p\n",
    "\n",
    "* P - base point to start from for scalar multiplication\n",
    "\n",
    "We need to choose a large random k value of similar size to p\n",
    "\n"
   ]
  },
  {
   "cell_type": "code",
   "execution_count": 1,
   "metadata": {
    "collapsed": false
   },
   "outputs": [
   ],
   "source": [
    "from sage.all import *"
   ]
  },
  {
   "cell_type": "code",
   "execution_count": 2,
   "metadata": {
    "collapsed": false
   },
   "outputs": [
   ],
   "source": [
    "def my_elliptic_curve_discrete_logarithm(A, B, p, P_x, P_y, k):\n",
    "    \"Given a published industry standard prime curve, a large random integer k, compute kP\"\n",
    "    \n",
    "    E = EllipticCurve(GF(p), [A,B])\n",
    "    \n",
    "    P = E(P_x,P_y)\n",
    "    \n",
    "    print (\"\\n\")\n",
    "    print (\"A:\" + str(A) + \"\\n\")\n",
    "    print (\"B:\\n\" + str(B.hex()) + \"\\n\" + \"{:,}\".format(B) + \"\\ndigits:\" + str(B.ndigits()) + \"\\n\")\n",
    "    print (\"p:\\n\" + str(p.hex()) + \"\\n\" + \"{:,}\".format(p) + \"\\ndigits:\" + str(p.ndigits()) + \"\\n\")\n",
    "    \n",
    "    print (\"Base Point:\\n\" + str(P_x.hex()) + \"\\n\" + str(P_y.hex()) + \"\\n\")\n",
    "    \n",
    "    print (\"k:\\n\" + str(k.hex()) + \"\\n\" + \"{:,}\".format(k) + \"\\ndigits:\" + str(k.ndigits()) + \"\\n\")\n",
    "    \n",
    "    Q = k * P\n",
    "        \n",
    "    Q_x = Integer(Q[0])\n",
    "    Q_y = Integer(Q[1])\n",
    "        \n",
    "    print (\"kP:\\n\" + str(Q_x.hex()) + \"\\n\" + str(Q_y.hex()) + \"\\n\")\n",
    "    \n",
    "    "
   ]
  },
  {
   "cell_type": "code",
   "execution_count": 3,
   "metadata": {
    "collapsed": false
   },
   "outputs": [
   ],
   "source": [
    "def my_random_k(p):\n",
    "    \"Given prime p, determine it's bit size, generate a random number 1 bit less than p's size\"\n",
    "    \n",
    "    upper_limit = (p-2)\n",
    "    lower_limit = ( (p-2) // 2)\n",
    "    \n",
    "    return Integer(randint(lower_limit, upper_limit))"
   ]
  },
  {
   "cell_type": "code",
   "execution_count": 4,
   "metadata": {
    "collapsed": false
   },
   "outputs": [
    {
     "name": "stdout",
     "output_type": "stream",
     "text": [
      "\n",
      "\n",
      "A:-3\n",
      "\n",
      "B:\n",
      "64210519e59c80e70fa7e9ab72243049feb8deecc146b9b1\n",
      "2,455,155,546,008,943,817,740,293,915,197,451,784,769,108,058,161,191,238,065\n",
      "digits:58\n",
      "\n",
      "p:\n",
      "fffffffffffffffffffffffffffffffeffffffffffffffff\n",
      "6,277,101,735,386,680,763,835,789,423,207,666,416,083,908,700,390,324,961,279\n",
      "digits:58\n",
      "\n",
      "Base Point:\n",
      "188da80eb03090f67cbf20eb43a18800f4ff0afd82ff1012\n",
      "7192b95ffc8da78631011ed6b24cdd573f977a11e794811\n",
      "\n",
      "k:\n",
      "90dabe14e5e20f3b9934a8db2a46cd9299ccbeddaca4673d\n",
      "3,551,821,095,881,378,368,986,884,924,322,242,269,763,859,971,585,748,526,909\n",
      "digits:58\n",
      "\n",
      "kP:\n",
      "848e1557630742c52d4ce2f58a48d2f60741e04521644041\n",
      "dc5c2a1d3731d44c64eacb5778d19e753efdbeaeb610f241\n",
      "\n"
     ]
    }
   ],
   "source": [
    "# FIPS Curve P-192\n",
    "\n",
    "p = 0xfffffffffffffffffffffffffffffffeffffffffffffffff\n",
    "\n",
    "A = -3\n",
    "B = 0x64210519e59c80e70fa7e9ab72243049feb8deecc146b9b1\n",
    "\n",
    "P_x = 0x188da80eb03090f67cbf20eb43a18800f4ff0afd82ff1012\n",
    "P_y = 0x07192b95ffc8da78631011ed6b24cdd573f977a11e794811\n",
    "\n",
    "k = my_random_k(p)\n",
    "\n",
    "my_elliptic_curve_discrete_logarithm(A, B, p, P_x, P_y, k)"
   ]
  },
  {
   "cell_type": "code",
   "execution_count": 5,
   "metadata": {
    "collapsed": false
   },
   "outputs": [
    {
     "name": "stdout",
     "output_type": "stream",
     "text": [
      "\n",
      "\n",
      "A:-3\n",
      "\n",
      "B:\n",
      "b4050a850c04b3abf54132565044b0b7d7bfd8ba270b39432355ffb4\n",
      "18,958,286,285,566,608,000,408,668,544,493,926,415,504,680,968,679,321,075,787,234,672,564\n",
      "digits:68\n",
      "\n",
      "p:\n",
      "ffffffffffffffffffffffffffffffff000000000000000000000001\n",
      "26,959,946,667,150,639,794,667,015,087,019,630,673,557,916,260,026,308,143,510,066,298,881\n",
      "digits:68\n",
      "\n",
      "Base Point:\n",
      "b70e0cbd6bb4bf7f321390b94a03c1d356c21122343280d6115c1d21\n",
      "bd376388b5f723fb4c22dfe6cd4375a05a07476444d5819985007e34\n",
      "\n",
      "k:\n",
      "ed179ca729e1920b84b542013f232ab3db5026ffb60b17000053e91c\n",
      "24,968,726,508,290,466,829,478,429,250,578,737,591,392,845,180,223,953,691,153,985,169,692\n",
      "digits:68\n",
      "\n",
      "kP:\n",
      "ac0fa7d6ebd538130bf53e18f6033ccd2b2890e68f4817ed70c7df40\n",
      "7830eec9ee9859d08210a436c33f19647d771e6cefb1799e24628c60\n",
      "\n"
     ]
    }
   ],
   "source": [
    "# FIPS Curve P-224\n",
    "\n",
    "p = 0xffffffffffffffffffffffffffffffff000000000000000000000001\n",
    "\n",
    "A = -3\n",
    "B = 0xb4050a850c04b3abf54132565044b0b7d7bfd8ba270b39432355ffb4\n",
    "\n",
    "P_x = 0xb70e0cbd6bb4bf7f321390b94a03c1d356c21122343280d6115c1d21\n",
    "P_y = 0xbd376388b5f723fb4c22dfe6cd4375a05a07476444d5819985007e34\n",
    "\n",
    "k = my_random_k(p)\n",
    "\n",
    "my_elliptic_curve_discrete_logarithm(A, B, p, P_x, P_y, k)"
   ]
  },
  {
   "cell_type": "code",
   "execution_count": 6,
   "metadata": {
    "collapsed": false
   },
   "outputs": [
    {
     "name": "stdout",
     "output_type": "stream",
     "text": [
      "\n",
      "\n",
      "A:-3\n",
      "\n",
      "B:\n",
      "5ac635d8aa3a93e7b3ebbd55769886bc651d06b0cc53b0f63bce3c3e27d2604b\n",
      "41,058,363,725,152,142,129,326,129,780,047,268,409,114,441,015,993,725,554,835,256,314,039,467,401,291\n",
      "digits:77\n",
      "\n",
      "p:\n",
      "ffffffff00000001000000000000000000000000ffffffffffffffffffffffff\n",
      "115,792,089,210,356,248,762,697,446,949,407,573,530,086,143,415,290,314,195,533,631,308,867,097,853,951\n",
      "digits:78\n",
      "\n",
      "Base Point:\n",
      "6b17d1f2e12c4247f8bce6e563a440f277037d812deb33a0f4a13945d898c296\n",
      "4fe342e2fe1a7f9b8ee7eb4a7c0f9e162bce33576b315ececbb6406837bf51f5\n",
      "\n",
      "k:\n",
      "bd6c0218c8e9bc96802b2cfc987afd47baf475518631474086ee709aeae0fe6b\n",
      "85,677,962,336,923,438,526,131,857,218,241,522,580,687,293,587,675,408,192,638,915,344,141,874,429,547\n",
      "digits:77\n",
      "\n",
      "kP:\n",
      "3154eb2997113d5d05d0c798f03b0de8925ac8d8899176b64a0f51613a89eb0a\n",
      "5fec9796c099eed2a5416c64e81ef8b32b01003748418425f3c435a926416a77\n",
      "\n"
     ]
    }
   ],
   "source": [
    "# FIPS Curve P-256\n",
    "\n",
    "p = 0xffffffff00000001000000000000000000000000ffffffffffffffffffffffff\n",
    "\n",
    "A = -3\n",
    "B = 0x5ac635d8aa3a93e7b3ebbd55769886bc651d06b0cc53b0f63bce3c3e27d2604b\n",
    "\n",
    "P_x = 0x6b17d1f2e12c4247f8bce6e563a440f277037d812deb33a0f4a13945d898c296\n",
    "P_y = 0x4fe342e2fe1a7f9b8ee7eb4a7c0f9e162bce33576b315ececbb6406837bf51f5\n",
    "\n",
    "k = my_random_k(p)\n",
    "\n",
    "my_elliptic_curve_discrete_logarithm(A, B, p, P_x, P_y, k)"
   ]
  },
  {
   "cell_type": "code",
   "execution_count": 7,
   "metadata": {
    "collapsed": false
   },
   "outputs": [
    {
     "name": "stdout",
     "output_type": "stream",
     "text": [
      "\n",
      "\n",
      "A:-3\n",
      "\n",
      "B:\n",
      "b3312fa7e23ee7e4988e056be3f82d19181d9c6efe8141120314088f5013875ac656398d8a2ed19d2a85c8edd3ec2aef\n",
      "27,580,193,559,959,705,877,849,011,840,389,048,093,056,905,856,361,568,521,428,707,301,988,689,241,309,860,865,136,260,764,883,745,107,765,439,761,230,575\n",
      "digits:116\n",
      "\n",
      "p:\n",
      "fffffffffffffffffffffffffffffffffffffffffffffffffffffffffffffffeffffffff0000000000000000ffffffff\n",
      "39,402,006,196,394,479,212,279,040,100,143,613,805,079,739,270,465,446,667,948,293,404,245,721,771,496,870,329,047,266,088,258,938,001,861,606,973,112,319\n",
      "digits:116\n",
      "\n",
      "Base Point:\n",
      "aa87ca22be8b05378eb1c71ef320ad746e1d3b628ba79b9859f741e082542a385502f25dbf55296c3a545e3872760ab7\n",
      "3617de4a96262c6f5d9e98bf9292dc29f8f41dbd289a147ce9da3113b5f0b8c00a60b1ce1d7e819d7a431d7c90ea0e5f\n",
      "\n",
      "k:\n",
      "c949f78a92f86dd8c3d447f34e718a46f7feafdce42c220aeea5fbc57ba4ec6903cdb46c04065058dad7845cea77525e\n",
      "30,981,202,352,720,731,204,526,023,661,417,755,564,971,042,450,947,865,681,088,193,525,005,652,760,938,070,747,681,468,265,469,992,559,648,864,690,721,374\n",
      "digits:116\n",
      "\n",
      "kP:\n",
      "67381aad6630e864b8a17951c9ca27c9db6f89db29de8e556c48046ee9d990ecb7b3f50dbaa3a48d8007e34a74b6b9cb\n",
      "bf7cdca8debb761745829186e47dc264d3003464506fa8548234d6a17b04b00e44ad16d08539f72fca6d5a308b722b38\n",
      "\n"
     ]
    }
   ],
   "source": [
    "# FIPS Curve P-384\n",
    "\n",
    "p = 0xfffffffffffffffffffffffffffffffffffffffffffffffffffffffffffffffeffffffff0000000000000000ffffffff\n",
    "\n",
    "A = -3\n",
    "B = 0xb3312fa7e23ee7e4988e056be3f82d19181d9c6efe8141120314088f5013875ac656398d8a2ed19d2a85c8edd3ec2aef\n",
    "\n",
    "P_x = 0xaa87ca22be8b05378eb1c71ef320ad746e1d3b628ba79b9859f741e082542a385502f25dbf55296c3a545e3872760ab7\n",
    "P_y = 0x3617de4a96262c6f5d9e98bf9292dc29f8f41dbd289a147ce9da3113b5f0b8c00a60b1ce1d7e819d7a431d7c90ea0e5f \n",
    "\n",
    "k = my_random_k(p)\n",
    "\n",
    "my_elliptic_curve_discrete_logarithm(A, B, p, P_x, P_y, k)"
   ]
  },
  {
   "cell_type": "code",
   "execution_count": 8,
   "metadata": {
    "collapsed": false
   },
   "outputs": [
    {
     "name": "stdout",
     "output_type": "stream",
     "text": [
      "\n",
      "\n",
      "A:-3\n",
      "\n",
      "B:\n",
      "51953eb9618e1c9a1f929a21a0b68540eea2da725b99b315f3b8b489918ef109e156193951ec7e937b1652c0bd3bb1bf073573df883d2c34f1ef451fd46b503f00\n",
      "1,093,849,038,073,734,274,511,112,390,766,805,569,936,207,598,951,683,748,994,586,394,495,953,116,150,735,016,013,708,737,573,759,623,248,592,132,296,706,313,309,438,452,531,591,012,912,142,327,488,478,985,984\n",
      "digits:157\n",
      "\n",
      "p:\n",
      "1ffffffffffffffffffffffffffffffffffffffffffffffffffffffffffffffffffffffffffffffffffffffffffffffffffffffffffffffffffffffffffffffffff\n",
      "6,864,797,660,130,609,714,981,900,799,081,393,217,269,435,300,143,305,409,394,463,459,185,543,183,397,656,052,122,559,640,661,454,554,977,296,311,391,480,858,037,121,987,999,716,643,812,574,028,291,115,057,151\n",
      "digits:157\n",
      "\n",
      "Base Point:\n",
      "c6858e06b70404e9cd9e3ecb662395b4429c648139053fb521f828af606b4d3dbaa14b5e77efe75928fe1dc127a2ffa8de3348b3c1856a429bf97e7e31c2e5bd66\n",
      "11839296a789a3bc0045c8a5fb42c7d1bd998f54449579b446817afbd17273e662c97ee72995ef42640c550b9013fad0761353c7086a272c24088be94769fd16650\n",
      "\n",
      "k:\n",
      "15c6373d937aa84e17fa46fc19cef32478323698efe7c18742519c0cac6e45087563a38e0f99fd6d335158ce694795bb44f4928ca85fc06fe1699aa131e5b8e132d\n",
      "4,671,125,911,431,076,536,121,860,321,277,369,083,411,808,748,665,723,140,110,648,943,408,861,884,191,738,243,730,138,752,712,558,102,443,537,362,419,512,727,731,885,849,982,263,771,313,328,038,360,518,628,141\n",
      "digits:157\n",
      "\n",
      "kP:\n",
      "c342452a5c90e1a5b71af4a1e4d31ae5784d11d9a90971db523d150683b351e81a760106b765754ad1a8185ff3f20461e854116a17d38821f6e5fd275681eed6ec\n",
      "1d753f26f1763da1e39ff1aa4333ad28d27bbd1ce099fee1111eae3c6c9ee7a5b494c1e2e98e1e40353e7a5e736127865c999ec164eb5020f4ac4650c418c102dd8\n",
      "\n"
     ]
    }
   ],
   "source": [
    "# FIPS Curve P-521\n",
    "\n",
    "p = 0x1ffffffffffffffffffffffffffffffffffffffffffffffffffffffffffffffffffffffffffffffffffffffffffffffffffffffffffffffffffffffffffffffffff\n",
    "A = -3\n",
    "B = 0x051953eb9618e1c9a1f929a21a0b68540eea2da725b99b315f3b8b489918ef109e156193951ec7e937b1652c0bd3bb1bf073573df883d2c34f1ef451fd46b503f00\n",
    "\n",
    "P_x = 0xc6858e06b70404e9cd9e3ecb662395b4429c648139053fb521f828af606b4d3dbaa14b5e77efe75928fe1dc127a2ffa8de3348b3c1856a429bf97e7e31c2e5bd66\n",
    "P_y = 0x11839296a789a3bc0045c8a5fb42c7d1bd998f54449579b446817afbd17273e662c97ee72995ef42640c550b9013fad0761353c7086a272c24088be94769fd16650\n",
    "\n",
    "k = my_random_k(p)\n",
    "\n",
    "my_elliptic_curve_discrete_logarithm(A, B, p, P_x, P_y, k)"
   ]
  },
  {
   "cell_type": "code",
   "execution_count": 0,
   "metadata": {
    "collapsed": false
   },
   "outputs": [
   ],
   "source": [
   ]
  }
 ],
 "metadata": {
  "kernelspec": {
   "display_name": "SageMath 9.1",
   "language": "sagemath",
   "metadata": {
    "cocalc": {
     "description": "Open-source mathematical software system",
     "priority": 10,
     "url": "https://www.sagemath.org/"
    }
   },
   "name": "sage-9.1"
  },
  "language_info": {
   "codemirror_mode": {
    "name": "ipython",
    "version": 3
   },
   "file_extension": ".py",
   "mimetype": "text/x-python",
   "name": "python",
   "nbconvert_exporter": "python",
   "pygments_lexer": "ipython3",
   "version": "3.7.3"
  }
 },
 "nbformat": 4,
 "nbformat_minor": 4
}