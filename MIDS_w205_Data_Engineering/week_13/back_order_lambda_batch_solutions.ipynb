{
 "cells": [
  {
   "cell_type": "markdown",
   "id": "1c272b32",
   "metadata": {},
   "source": [
    "# Back Order Lambda Batch Solutions"
   ]
  },
  {
   "cell_type": "code",
   "execution_count": 1,
   "id": "a1da48d2",
   "metadata": {},
   "outputs": [],
   "source": [
    "import kafka\n",
    "\n",
    "import pprint\n",
    "\n",
    "from IPython.display import clear_output\n",
    "\n",
    "import time"
   ]
  },
  {
   "cell_type": "markdown",
   "id": "761b6c04",
   "metadata": {},
   "source": [
    "## You try it - \n",
    "\n",
    "\n",
    "## Modify back_order_process to publish to the back_order_pub_sub topic;  create a new jupyter notebook back_order_lambda_batch to subscribe to back_order_pub_sub in batch mode; solutions can be found in back_order_process_solutions and back_order_lambda_batch_solutions\n"
   ]
  },
  {
   "cell_type": "code",
   "execution_count": 2,
   "id": "c0db0d80",
   "metadata": {},
   "outputs": [],
   "source": [
    "topic = \"back_order_pub_sub\"\n",
    "\n",
    "subscriber_read_all = kafka.KafkaConsumer(topic, \n",
    "                                          bootstrap_servers=['kafka:29092'], \n",
    "                                          auto_offset_reset='earliest')\n"
   ]
  },
  {
   "cell_type": "code",
   "execution_count": 3,
   "id": "851ff5bb",
   "metadata": {},
   "outputs": [
    {
     "name": "stdout",
     "output_type": "stream",
     "text": [
      "Offset: 0    Value: b'{\"order_id\": 13975, \"line_items\": [{\"product_id\": 2, \"product_name\": \"8 GiB'\n",
      "Offset: 1    Value: b'{\"order_id\": 13976, \"line_items\": [{\"product_id\": 2, \"product_name\": \"8 GiB'\n",
      "Offset: 2    Value: b'{\"order_id\": 13977, \"line_items\": [{\"product_id\": 2, \"product_name\": \"8 GiB'\n",
      "Offset: 3    Value: b'{\"order_id\": 13979, \"line_items\": [{\"product_id\": 2, \"product_name\": \"8 GiB'\n",
      "Offset: 4    Value: b'{\"order_id\": 13981, \"line_items\": [{\"product_id\": 2, \"product_name\": \"8 GiB'\n",
      "\n",
      "... only showing a max of first 5 and max of last 5 ... \n",
      "\n",
      "Offset: 400    Value: b'{\"order_id\": 14602, \"sub_total\": 269.55, \"tax\": 21.56, \"total\": 291.11, \"li'\n",
      "Offset: 401    Value: b'{\"order_id\": 14607, \"sub_total\": 59.9, \"tax\": 4.79, \"total\": 64.69, \"line_i'\n",
      "Offset: 402    Value: b'{\"order_id\": 14608, \"sub_total\": 239.6, \"tax\": 19.17, \"total\": 258.77, \"lin'\n",
      "Offset: 403    Value: b'{\"order_id\": 14609, \"sub_total\": 179.7, \"tax\": 14.38, \"total\": 194.08, \"lin'\n",
      "Offset: 404    Value: b'{\"order_id\": 14610, \"sub_total\": 239.6, \"tax\": 19.17, \"total\": 258.77, \"lin'\n"
     ]
    }
   ],
   "source": [
    "if subscriber_read_all.assignment():\n",
    "\n",
    "    subscriber_read_all.seek_to_beginning()\n",
    "\n",
    "message_list = []\n",
    "\n",
    "while (True):\n",
    "    \n",
    "    poll_result = subscriber_read_all.poll(timeout_ms=500)\n",
    "    \n",
    "    if poll_result == {}:\n",
    "        break\n",
    "\n",
    "    items = poll_result.items()\n",
    "\n",
    "    for (topic, messages) in items:\n",
    "    \n",
    "        for message in messages:\n",
    "            \n",
    "            message_list.append([message.offset, message.value])\n",
    "            \n",
    "i = 0\n",
    "\n",
    "for message in message_list:\n",
    "    \n",
    "    if (i < 5) or (i > len(message_list) - 6):\n",
    "        print(\"Offset:\", message[0], \"   Value:\", message[1][:75])\n",
    "   \n",
    "    if i == 5:\n",
    "        print(\"\\n... only showing a max of first 5 and max of last 5 ... \\n\")\n",
    "        \n",
    "    i += 1\n",
    "    \n",
    "    "
   ]
  },
  {
   "cell_type": "code",
   "execution_count": 4,
   "id": "43c80b0f",
   "metadata": {},
   "outputs": [],
   "source": [
    "topic = \"back_order_pub_sub\"\n",
    "\n",
    "subscriber_batch = kafka.KafkaConsumer(topic, \n",
    "                                       bootstrap_servers=['kafka:29092'], \n",
    "                                       auto_offset_reset='earliest')\n"
   ]
  },
  {
   "cell_type": "code",
   "execution_count": 5,
   "id": "6c08b3ec",
   "metadata": {},
   "outputs": [
    {
     "name": "stdout",
     "output_type": "stream",
     "text": [
      "\n",
      "======================================\n",
      "   Back Order Lambda Batch Process\n",
      "=======================================\n",
      "\n",
      "\n",
      "------------------------\n",
      "   Batch  81\n",
      "------------------------\n",
      "\n",
      "\n",
      "Offset: 623    Value: b'{\"order_id\": 14964, \"sub_total\": 149.75, \"tax\": 11.98, \"total\": 161.73, \"li'\n",
      "Offset: 624    Value: b'{\"order_id\": 14965, \"sub_total\": 359.4, \"tax\": 28.75, \"total\": 388.15, \"lin'\n"
     ]
    },
    {
     "ename": "KeyboardInterrupt",
     "evalue": "",
     "output_type": "error",
     "traceback": [
      "\u001b[0;31m---------------------------------------------------------------------------\u001b[0m",
      "\u001b[0;31mKeyboardInterrupt\u001b[0m                         Traceback (most recent call last)",
      "\u001b[0;32m<ipython-input-5-21240debe8b8>\u001b[0m in \u001b[0;36m<module>\u001b[0;34m\u001b[0m\n\u001b[1;32m     34\u001b[0m             \u001b[0mbatch_number\u001b[0m \u001b[0;34m+=\u001b[0m \u001b[0;36m1\u001b[0m\u001b[0;34m\u001b[0m\u001b[0;34m\u001b[0m\u001b[0m\n\u001b[1;32m     35\u001b[0m \u001b[0;34m\u001b[0m\u001b[0m\n\u001b[0;32m---> 36\u001b[0;31m         \u001b[0mtime\u001b[0m\u001b[0;34m.\u001b[0m\u001b[0msleep\u001b[0m\u001b[0;34m(\u001b[0m\u001b[0mbatch_time_interval\u001b[0m\u001b[0;34m)\u001b[0m\u001b[0;34m\u001b[0m\u001b[0;34m\u001b[0m\u001b[0m\n\u001b[0m\u001b[1;32m     37\u001b[0m \u001b[0;34m\u001b[0m\u001b[0m\n\u001b[1;32m     38\u001b[0m     \u001b[0;32melse\u001b[0m\u001b[0;34m:\u001b[0m\u001b[0;34m\u001b[0m\u001b[0;34m\u001b[0m\u001b[0m\n",
      "\u001b[0;31mKeyboardInterrupt\u001b[0m: "
     ]
    }
   ],
   "source": [
    "batch_time_interval = 5.0\n",
    "\n",
    "if subscriber_batch.assignment():\n",
    "\n",
    "    subscriber_batch.seek_to_beginning()\n",
    "\n",
    "batch_number = 1\n",
    "\n",
    "message_list = []\n",
    "\n",
    "while (True):\n",
    "    \n",
    "    poll_result = subscriber_batch.poll(timeout_ms=500)\n",
    "    \n",
    "    if poll_result == {}:\n",
    "        \n",
    "        if len(message_list) > 0:\n",
    "            \n",
    "            clear_output(wait=True)\n",
    "            \n",
    "            print(\"\\n======================================\")\n",
    "            print(\"   Back Order Lambda Batch Process\")\n",
    "            print(\"=======================================\\n\")\n",
    "            print(\"\\n------------------------\")\n",
    "            print(\"   Batch \", batch_number)\n",
    "            print(\"------------------------\\n\\n\")\n",
    "            \n",
    "            for message in message_list:\n",
    "                \n",
    "                print(\"Offset:\", message[0], \"   Value:\", message[1][:75])\n",
    "                \n",
    "            message_list = []\n",
    "            \n",
    "            batch_number += 1\n",
    "            \n",
    "        time.sleep(batch_time_interval)\n",
    "              \n",
    "    else:\n",
    "\n",
    "        items = poll_result.items()\n",
    "\n",
    "        for (topic, messages) in items:\n",
    "    \n",
    "            for message in messages:\n",
    "        \n",
    "                message_list.append([message.offset, message.value])\n"
   ]
  },
  {
   "cell_type": "code",
   "execution_count": null,
   "id": "eee0ef42",
   "metadata": {},
   "outputs": [],
   "source": []
  }
 ],
 "metadata": {
  "kernelspec": {
   "display_name": "Python 3",
   "language": "python",
   "name": "python3"
  },
  "language_info": {
   "codemirror_mode": {
    "name": "ipython",
    "version": 3
   },
   "file_extension": ".py",
   "mimetype": "text/x-python",
   "name": "python",
   "nbconvert_exporter": "python",
   "pygments_lexer": "ipython3",
   "version": "3.8.8"
  }
 },
 "nbformat": 4,
 "nbformat_minor": 5
}
