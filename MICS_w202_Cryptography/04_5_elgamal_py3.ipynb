{
 "cells": [
  {
   "cell_type": "markdown",
   "metadata": {
    "collapsed": false
   },
   "source": [
    "### UC Berkeley, MICS, W202-Cryptography\n",
    "### Week 04 Breakout 5\n",
    "### Elgamal Cryptosystem\n"
   ]
  },
  {
   "cell_type": "markdown",
   "metadata": {
    "collapsed": false
   },
   "source": [
    "The Elgamal Cryptosystem is very similar to the Diffie Hellman Key Exchange, except that a chosen message may be sent (which is generally used as a key).\n",
    "\n",
    "Both Diffie Hellman and Elgamal are based on the computational intractibility of the discrete logarithm problem for a large prime number p.  \n",
    "\n",
    "In Diffie Hellman, neither Alice nor Bob was able to choose the key directly.  The key was generated as part of the algorithm.  With Elgamal, Alice gets to choose a message that she sends to Bob.  The message will generally be used as a key.\n",
    "\n",
    "Since Elgamal is so similar to Diffie Hellman, it's not a surprise that Elgamal is also subject to man in the middle attacks.\n",
    "\n",
    "The Elgamal algorithm works as follows (using the names and notation from our lectures):\n",
    "\n",
    "* Publically known: for the discrete logarithm, the large prime p, and the generator g.  \n",
    "\n",
    "* Elgamal specifies that a \"referee\" controls p and g.\n",
    "\n",
    "* Bob generates a large random number x of similar bit size to p that is < p.  The number can be odd or even, prime or composite.  This is Bob's exponent, which he must keep secret!\n",
    "\n",
    "* Bob takes his exponent x and calculates y = g ^ x (mod p)\n",
    "\n",
    "* Bob sends y to Alice\n",
    "\n",
    "* Alice generates a large random number k of similar bit size to p that is < p.  The number can be odd or even, prime or composite.  This is Alice's exponent, which she must keep secret!\n",
    "\n",
    "* Alice takes her secret exponent k and calculates a = g ^ k (mod p)\n",
    "\n",
    "* Alice also gets to choose a message m (plaintext).  m is usually a key to be put into symmetrical such as AES256.\n",
    "\n",
    "* Alice takes her secret exponent k, her message m (plaintext), and the y she recieved from Bob and calculates b (ciphertext of m)\n",
    "\n",
    "* Alice sends her a and b to Bob\n",
    "\n",
    "* Bob can now take the b (cipher text) and decrypt it to the original message m (plaintext) using Alice's a and b and his secret exponent x"
   ]
  },
  {
   "cell_type": "code",
   "execution_count": 1,
   "metadata": {
    "collapsed": false
   },
   "outputs": [
   ],
   "source": [
    "from sage.all import *"
   ]
  },
  {
   "cell_type": "code",
   "execution_count": 2,
   "metadata": {
    "collapsed": false
   },
   "outputs": [
   ],
   "source": [
    "def my_print_number(label, x):\n",
    "    \"prints a number in decimal, number of digits, hex, number of bits\"\n",
    "    \n",
    "    print (\"\\n\", label, '\\n')\n",
    "    print (\"decimal:\", \"{:,}\".format(x), \"\\n\")\n",
    "    print (\"number of digits:\", x.ndigits(), \"\\n\")\n",
    "    print (\"hex:\", x.hex(), \"\\n\")\n",
    "    print (\"number of bits:\", x.nbits(), \"\\n\")"
   ]
  },
  {
   "cell_type": "code",
   "execution_count": 3,
   "metadata": {
    "collapsed": false
   },
   "outputs": [
   ],
   "source": [
    "# b is the number of bits in p\n",
    "# we will use it to ensure that Alice's and Bob's exponents are of similar size to b\n",
    "\n",
    "b = 1024"
   ]
  },
  {
   "cell_type": "markdown",
   "metadata": {
    "collapsed": false
   },
   "source": [
    "### p and g are publically known.  p is a large prime number of similar sizing as in RSA.  g is the smallest generator for p.  the security of the discrete logarithm problem does not depend on the size of g, so a small g is fine."
   ]
  },
  {
   "cell_type": "code",
   "execution_count": 4,
   "metadata": {
    "collapsed": false
   },
   "outputs": [
   ],
   "source": [
    "# p and g are publically known\n",
    "\n",
    "# g is the smallest generator we found for p\n",
    "# p is a large prime \n",
    "\n",
    "# it's always best to select a p in which 2 is a generator as it speeds things up without losing security\n",
    "\n",
    "g = 2\n",
    "\n",
    "p = 0xa42667765996150b81063e7a253b91b5da58af0ff49328bf8a3f9f38bdf1e357272af338846d1d612a71a31e35f590d6c131634306ed75bdb45c4cb9b15072127f2afac831560bc5c1f697479b1d7d6f0da191faa68eaabf5b138ea782f97ae6624c9244150d38f28231993fe0d6435d852d42782b8263aea061a40da802903b"
   ]
  },
  {
   "cell_type": "code",
   "execution_count": 5,
   "metadata": {
    "collapsed": false
   },
   "outputs": [
    {
     "name": "stdout",
     "output_type": "stream",
     "text": [
      "\n",
      " p \n",
      "\n",
      "decimal: 115,270,061,416,921,866,062,188,383,030,847,280,859,479,926,375,604,672,663,124,358,614,555,215,978,993,787,838,406,298,575,203,649,480,844,189,752,685,847,453,468,731,960,555,557,838,447,956,623,493,236,754,000,427,739,727,368,609,894,359,124,610,032,258,486,582,384,311,834,472,633,840,703,883,057,700,772,340,022,758,927,012,248,883,130,603,620,091,710,872,172,650,710,125,452,082,076,641,079,289,492,705,339 \n",
      "\n",
      "number of digits: 309 \n",
      "\n",
      "hex: a42667765996150b81063e7a253b91b5da58af0ff49328bf8a3f9f38bdf1e357272af338846d1d612a71a31e35f590d6c131634306ed75bdb45c4cb9b15072127f2afac831560bc5c1f697479b1d7d6f0da191faa68eaabf5b138ea782f97ae6624c9244150d38f28231993fe0d6435d852d42782b8263aea061a40da802903b \n",
      "\n",
      "number of bits: 1024 \n",
      "\n"
     ]
    }
   ],
   "source": [
    "my_print_number(\"p\", p)"
   ]
  },
  {
   "cell_type": "markdown",
   "metadata": {
    "collapsed": false
   },
   "source": [
    "### Bob will get a random exponent x of similar size to p, and can be even or odd, prime or composite.  Bob will calculate y by raising the generator g to the power of his exponent in modulo p.  Bob will send y to Alice."
   ]
  },
  {
   "cell_type": "code",
   "execution_count": 6,
   "metadata": {
    "collapsed": false
   },
   "outputs": [
   ],
   "source": [
    "def my_get_random_exponent(b, p):\n",
    "    \"given a number of bits, find a random exponent of that bit size -1\"\n",
    "    \n",
    "    upper_limit = (p-2)\n",
    "    lower_limit = ( (p-2) // 2)\n",
    "    \n",
    "    return Integer(randint(lower_limit, upper_limit))"
   ]
  },
  {
   "cell_type": "code",
   "execution_count": 7,
   "metadata": {
    "collapsed": false
   },
   "outputs": [
   ],
   "source": [
    "bob_x = my_get_random_exponent(b, p)"
   ]
  },
  {
   "cell_type": "code",
   "execution_count": 8,
   "metadata": {
    "collapsed": false
   },
   "outputs": [
    {
     "name": "stdout",
     "output_type": "stream",
     "text": [
      "\n",
      " Bob's x \n",
      "\n",
      "decimal: 83,328,282,758,701,848,773,083,411,179,996,620,896,293,372,239,689,231,344,562,410,145,916,902,266,113,109,476,494,724,320,012,143,147,745,425,954,250,636,294,693,348,936,635,618,923,748,968,607,668,317,551,113,841,350,311,409,360,488,538,419,850,742,589,919,138,372,461,128,718,563,420,868,903,089,406,633,112,493,513,644,905,474,590,606,592,220,559,981,285,940,594,642,658,632,673,938,740,242,994,064,181,871 \n",
      "\n",
      "number of digits: 308 \n",
      "\n",
      "hex: 76a9d578173c513bb9abd708e45f88b9f3a955f035138eb7b3240fe9beaec830aecf6acdafb627ace034d48e0eb3d3c010808082d31335e2496f3e9a484c0b55ae4f6a36ea519e91fcd948acadcc49513bb9e5af6e02804261ef3e5e04248df174e9875425bf9b048d8753aa24b3f163f80fe00e010524afbd15fba0a3b2ca6f \n",
      "\n",
      "number of bits: 1023 \n",
      "\n"
     ]
    }
   ],
   "source": [
    "my_print_number(\"Bob's x\", bob_x)"
   ]
  },
  {
   "cell_type": "code",
   "execution_count": 9,
   "metadata": {
    "collapsed": false
   },
   "outputs": [
   ],
   "source": [
    "bob_y = power_mod(g, bob_x, p)"
   ]
  },
  {
   "cell_type": "code",
   "execution_count": 10,
   "metadata": {
    "collapsed": false
   },
   "outputs": [
    {
     "name": "stdout",
     "output_type": "stream",
     "text": [
      "\n",
      " Bob's y \n",
      "\n",
      "decimal: 69,281,891,116,742,116,400,843,112,929,143,115,904,460,128,361,399,333,870,502,806,485,434,788,482,371,988,534,792,521,831,161,964,728,619,794,626,107,007,450,957,535,762,397,986,591,257,959,061,251,952,054,055,686,176,911,377,142,741,502,584,575,835,921,234,899,997,047,626,623,348,878,165,638,134,372,104,940,948,391,972,182,687,143,833,270,470,748,622,862,055,335,456,622,182,368,814,559,515,872,201,146,662 \n",
      "\n",
      "number of digits: 308 \n",
      "\n",
      "hex: 62a922d70c93fd664e1fca265752ef9f2621c7d16ecbf613b293cbdcaf632ab5699ffc959bf642ce056156205afcdc9eff9dcead6c41e363321dd415fdcbb252a28525522d1018d291c438ddc39804c3bc9bb92ddbce07204e9c32ae285b7dfc2ea669399809294b8cda16f6ea09cf7b768fdcb6cf73acc4966fa01b14b60126 \n",
      "\n",
      "number of bits: 1023 \n",
      "\n"
     ]
    }
   ],
   "source": [
    "my_print_number(\"Bob's y\", bob_y)"
   ]
  },
  {
   "cell_type": "code",
   "execution_count": 11,
   "metadata": {
    "collapsed": false
   },
   "outputs": [
   ],
   "source": [
    "# p, g are public\n",
    "# Bob sends y to Alice\n"
   ]
  },
  {
   "cell_type": "markdown",
   "metadata": {
    "collapsed": false
   },
   "source": [
    "### Alice gets to choose a message m (plaintext). m is usually a key to be put into symmetrical such as AES256.  Alice also generates a large random number k of similar bit size to p that is < p.  k can be odd or even, prime or composite.  Alice will calculate a by raising g to the power of her exponent k.  Alice will encrypt the message m (plaintext) into b (ciphertext), using her exponent k and the y she received from Bob.  Alice sends a and b to Bob."
   ]
  },
  {
   "cell_type": "code",
   "execution_count": 12,
   "metadata": {
    "collapsed": false
   },
   "outputs": [
   ],
   "source": [
    "# unlike Diffie Hellman, Alice gets to set a message \n",
    "\n",
    "alice_m = 1234567890"
   ]
  },
  {
   "cell_type": "code",
   "execution_count": 13,
   "metadata": {
    "collapsed": false
   },
   "outputs": [
   ],
   "source": [
    "alice_k = my_get_random_exponent(b, p)"
   ]
  },
  {
   "cell_type": "code",
   "execution_count": 14,
   "metadata": {
    "collapsed": false
   },
   "outputs": [
    {
     "name": "stdout",
     "output_type": "stream",
     "text": [
      "\n",
      " Alice's k \n",
      "\n",
      "decimal: 109,938,079,518,769,294,410,222,342,338,310,625,548,600,949,696,177,990,373,325,365,669,554,371,287,246,486,780,272,197,542,655,780,392,099,734,908,119,274,979,074,294,169,713,567,811,180,999,777,180,655,766,712,834,321,120,642,090,957,631,801,499,319,918,565,672,976,774,927,859,410,508,416,424,723,554,360,099,507,623,748,537,340,503,430,795,660,511,752,402,373,275,044,843,038,788,702,388,154,180,356,922,116 \n",
      "\n",
      "number of digits: 309 \n",
      "\n",
      "hex: 9c8e98fd842d8b320a18ee4d7d13f504d086f79b948ced37674353eed8378af467519f4a4ab9c355b6d0431885d5f86070c2a613097c89117c98765186f29de6c846c447a7c6bcc197042b1ddd3c093a3435b1bd70e88f39fea985ba5c3a3e2a7affa565a99183139f2b330d232bf040f8912ca440a8e6b499810108ccf9db04 \n",
      "\n",
      "number of bits: 1024 \n",
      "\n"
     ]
    }
   ],
   "source": [
    "my_print_number(\"Alice's k\", alice_k)"
   ]
  },
  {
   "cell_type": "code",
   "execution_count": 15,
   "metadata": {
    "collapsed": false
   },
   "outputs": [
   ],
   "source": [
    "alice_a = power_mod(g, alice_k, p)"
   ]
  },
  {
   "cell_type": "code",
   "execution_count": 16,
   "metadata": {
    "collapsed": false
   },
   "outputs": [
    {
     "name": "stdout",
     "output_type": "stream",
     "text": [
      "\n",
      " Alice's a \n",
      "\n",
      "decimal: 110,835,494,823,331,786,008,465,985,450,938,066,652,018,054,104,564,320,816,787,951,945,980,317,141,916,889,872,236,809,934,130,882,575,229,111,196,132,325,983,989,528,207,205,299,080,127,610,403,147,279,937,313,443,287,802,139,636,053,162,869,547,232,833,260,107,595,539,227,373,649,277,270,309,926,543,231,508,749,965,611,264,706,450,727,501,612,260,479,327,655,723,395,184,597,347,084,739,212,716,766,154,685 \n",
      "\n",
      "number of digits: 309 \n",
      "\n",
      "hex: 9dd5c17ee8ee4384965cd65730b93d3f60151ec178d24a6b14e9d86616b030b7e7a03369c2e2b4ddebd736efa1e8b316b9f6fb9a41d6ea6fc7b2e4ec1b18f69cbda3a007c228fb2e1c2f440cb571c1937594416b4da2c1885f0671a5a9932c37edf2dee0326410d9f47863b784c64a87eadd631d3a06b60d52f18f4248fc4fbd \n",
      "\n",
      "number of bits: 1024 \n",
      "\n"
     ]
    }
   ],
   "source": [
    "my_print_number(\"Alice's a\", alice_a)"
   ]
  },
  {
   "cell_type": "code",
   "execution_count": 17,
   "metadata": {
    "collapsed": false
   },
   "outputs": [
   ],
   "source": [
    "alice_b = ( (alice_m % p) * power_mod(bob_y, alice_k, p) ) % p"
   ]
  },
  {
   "cell_type": "code",
   "execution_count": 18,
   "metadata": {
    "collapsed": false
   },
   "outputs": [
    {
     "name": "stdout",
     "output_type": "stream",
     "text": [
      "\n",
      " Alice's b \n",
      "\n",
      "decimal: 25,834,063,576,456,767,291,764,052,192,255,597,383,059,116,117,629,270,596,314,610,159,335,739,616,617,060,340,758,539,075,826,205,384,304,695,210,737,791,519,906,637,279,309,145,804,289,143,582,271,585,610,845,478,019,431,041,727,433,626,875,059,904,678,050,919,432,656,561,132,427,376,656,242,106,487,408,430,709,372,816,780,274,200,402,035,249,693,055,372,766,087,394,123,036,711,880,069,205,615,342,411,936 \n",
      "\n",
      "number of digits: 308 \n",
      "\n",
      "hex: 24c9f72a57b203723d60d5c1dbd795481b6ea9ee1cf4982369772546e48bcc95c78e6adf9425bd2ba0001fb06f2a70d41527af766ef43f3a9055d8313271004a709f2b98749f6de92961217fdf8d559de9d22ea5d4744fe74f8215b58e54b0f161465341cfdbb2f7fd62ac9e33086464497f966de538ee8655fdd1bb491260a0 \n",
      "\n",
      "number of bits: 1022 \n",
      "\n"
     ]
    }
   ],
   "source": [
    "my_print_number(\"Alice's b\", alice_b)"
   ]
  },
  {
   "cell_type": "code",
   "execution_count": 19,
   "metadata": {
    "collapsed": false
   },
   "outputs": [
   ],
   "source": [
    "# alice sends a and b to Bob"
   ]
  },
  {
   "cell_type": "markdown",
   "metadata": {
    "collapsed": false
   },
   "source": [
    "### Bob receives a and b (ciphertext) from Alice.  Using his secret exponent x, Bob can decrypt b (ciphertext) into the original m (plaintext).  Alice and Bob now both have m which they would typically use as a key."
   ]
  },
  {
   "cell_type": "code",
   "execution_count": 20,
   "metadata": {
    "collapsed": false
   },
   "outputs": [
   ],
   "source": [
    "bob_m = ( (alice_b % p) * power_mod(alice_a, -bob_x, p) ) % p"
   ]
  },
  {
   "cell_type": "code",
   "execution_count": 21,
   "metadata": {
    "collapsed": false
   },
   "outputs": [
    {
     "data": {
      "text/plain": [
       "1234567890"
      ]
     },
     "execution_count": 21,
     "metadata": {
     },
     "output_type": "execute_result"
    }
   ],
   "source": [
    "bob_m"
   ]
  },
  {
   "cell_type": "code",
   "execution_count": 22,
   "metadata": {
    "collapsed": false
   },
   "outputs": [
    {
     "name": "stdout",
     "output_type": "stream",
     "text": [
      "Bob's message matches Alice's message\n"
     ]
    }
   ],
   "source": [
    "if bob_m == alice_m:\n",
    "    print (\"Bob's message matches Alice's message\")\n",
    "else:\n",
    "    print (\"Error - Bob's message does not match Alice's message\")"
   ]
  },
  {
   "cell_type": "code",
   "execution_count": 0,
   "metadata": {
    "collapsed": false
   },
   "outputs": [
   ],
   "source": [
   ]
  }
 ],
 "metadata": {
  "kernelspec": {
   "display_name": "SageMath 9.1",
   "language": "sagemath",
   "metadata": {
    "cocalc": {
     "description": "Open-source mathematical software system",
     "priority": 10,
     "url": "https://www.sagemath.org/"
    }
   },
   "name": "sage-9.1"
  },
  "language_info": {
   "codemirror_mode": {
    "name": "ipython",
    "version": 3
   },
   "file_extension": ".py",
   "mimetype": "text/x-python",
   "name": "python",
   "nbconvert_exporter": "python",
   "pygments_lexer": "ipython3",
   "version": "3.7.3"
  }
 },
 "nbformat": 4,
 "nbformat_minor": 4
}