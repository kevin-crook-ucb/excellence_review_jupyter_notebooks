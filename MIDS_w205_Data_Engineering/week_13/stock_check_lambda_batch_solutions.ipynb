{
 "cells": [
  {
   "cell_type": "markdown",
   "id": "1c272b32",
   "metadata": {},
   "source": [
    "# Stock Check Lambda Batch Solutions"
   ]
  },
  {
   "cell_type": "code",
   "execution_count": 2,
   "id": "a1da48d2",
   "metadata": {},
   "outputs": [],
   "source": [
    "import kafka\n",
    "\n",
    "import pprint\n",
    "\n",
    "from IPython.display import clear_output\n",
    "\n",
    "import time"
   ]
  },
  {
   "cell_type": "markdown",
   "id": "5b40c41d",
   "metadata": {},
   "source": [
    "## You try it - \n",
    "\n",
    "## Modify stock_check_process to publish to the stock_check_pub_sub topic; create a new jupyter notebook stock_check_lambda_batch to subscribe to stock_check_pub_sub in batch mode; solutions can be found in stock_check_process_solutions and stock_check_lambda_batch_solutions\n"
   ]
  },
  {
   "cell_type": "code",
   "execution_count": 3,
   "id": "c0db0d80",
   "metadata": {},
   "outputs": [],
   "source": [
    "topic = \"stock_check_pub_sub\"\n",
    "\n",
    "subscriber_read_all = kafka.KafkaConsumer(topic, \n",
    "                                          bootstrap_servers=['kafka:29092'], \n",
    "                                          auto_offset_reset='earliest')\n"
   ]
  },
  {
   "cell_type": "code",
   "execution_count": 6,
   "id": "851ff5bb",
   "metadata": {},
   "outputs": [
    {
     "name": "stdout",
     "output_type": "stream",
     "text": [
      "Offset: 0    Value: b'{\"order_id\": 13931, \"sub_total\": 1639.2, \"tax\": 131.14, \"total\": 1770.34, \"'\n",
      "Offset: 1    Value: b'{\"order_id\": 13932, \"sub_total\": 799.6, \"tax\": 63.97, \"total\": 863.57, \"lin'\n",
      "Offset: 2    Value: b'{\"order_id\": 13933, \"sub_total\": 1469.25, \"tax\": 117.54, \"total\": 1586.79, '\n",
      "Offset: 3    Value: b'{\"order_id\": 13934, \"sub_total\": 369.8, \"tax\": 29.58, \"total\": 399.38, \"lin'\n",
      "Offset: 4    Value: b'{\"order_id\": 13935, \"sub_total\": 3118.6, \"tax\": 249.49, \"total\": 3368.09, \"'\n",
      "\n",
      "... only showing a max of first 5 and max of last 5 ... \n",
      "\n",
      "Offset: 54    Value: b'{\"order_id\": 13989, \"sub_total\": 149.95, \"tax\": 12.0, \"total\": 161.95, \"lin'\n",
      "Offset: 55    Value: b'{\"order_id\": 13990, \"sub_total\": 2858.7, \"tax\": 228.7, \"total\": 3087.4, \"li'\n",
      "Offset: 56    Value: b'{\"order_id\": 13991, \"sub_total\": 1599.15, \"tax\": 127.93, \"total\": 1727.08, '\n",
      "Offset: 57    Value: b'{\"order_id\": 13993, \"sub_total\": 1259.25, \"tax\": 100.74, \"total\": 1359.99, '\n",
      "Offset: 58    Value: b'{\"order_id\": 13994, \"sub_total\": 279.8, \"tax\": 22.38, \"total\": 302.18, \"lin'\n"
     ]
    }
   ],
   "source": [
    "if subscriber_read_all.assignment():\n",
    "\n",
    "    subscriber_read_all.seek_to_beginning()\n",
    "\n",
    "message_list = []\n",
    "\n",
    "while (True):\n",
    "    \n",
    "    poll_result = subscriber_read_all.poll(timeout_ms=500)\n",
    "    \n",
    "    if poll_result == {}:\n",
    "        break\n",
    "\n",
    "    items = poll_result.items()\n",
    "\n",
    "    for (topic, messages) in items:\n",
    "    \n",
    "        for message in messages:\n",
    "            \n",
    "            message_list.append([message.offset, message.value])\n",
    "            \n",
    "i = 0\n",
    "\n",
    "for message in message_list:\n",
    "    \n",
    "    if (i < 5) or (i > len(message_list) - 6):\n",
    "        print(\"Offset:\", message[0], \"   Value:\", message[1][:75])\n",
    "   \n",
    "    if i == 5:\n",
    "        print(\"\\n... only showing a max of first 5 and max of last 5 ... \\n\")\n",
    "        \n",
    "    i += 1\n",
    "    \n",
    "    "
   ]
  },
  {
   "cell_type": "code",
   "execution_count": 9,
   "id": "43c80b0f",
   "metadata": {},
   "outputs": [],
   "source": [
    "topic = \"stock_check_pub_sub\"\n",
    "\n",
    "subscriber_batch = kafka.KafkaConsumer(topic, \n",
    "                                       bootstrap_servers=['kafka:29092'], \n",
    "                                       auto_offset_reset='earliest')\n"
   ]
  },
  {
   "cell_type": "code",
   "execution_count": 13,
   "id": "6c08b3ec",
   "metadata": {},
   "outputs": [
    {
     "name": "stdout",
     "output_type": "stream",
     "text": [
      "\n",
      "======================================\n",
      "   Stock Check Lambda Batch Process\n",
      "=======================================\n",
      "\n",
      "\n",
      "------------------------\n",
      "   Batch  94\n",
      "------------------------\n",
      "\n",
      "\n",
      "Offset: 418    Value: b'{\"order_id\": 14378, \"sub_total\": 1479.15, \"tax\": 118.33, \"total\": 1597.48, '\n",
      "Offset: 419    Value: b'{\"order_id\": 14379, \"sub_total\": 1799.4, \"tax\": 143.95, \"total\": 1943.35, \"'\n",
      "Offset: 420    Value: b'{\"order_id\": 14380, \"sub_total\": 1979.1, \"tax\": 158.33, \"total\": 2137.43, \"'\n"
     ]
    },
    {
     "ename": "KeyboardInterrupt",
     "evalue": "",
     "output_type": "error",
     "traceback": [
      "\u001b[0;31m---------------------------------------------------------------------------\u001b[0m",
      "\u001b[0;31mKeyboardInterrupt\u001b[0m                         Traceback (most recent call last)",
      "\u001b[0;32m<ipython-input-13-38324e7d44bd>\u001b[0m in \u001b[0;36m<module>\u001b[0;34m\u001b[0m\n\u001b[1;32m     34\u001b[0m             \u001b[0mbatch_number\u001b[0m \u001b[0;34m+=\u001b[0m \u001b[0;36m1\u001b[0m\u001b[0;34m\u001b[0m\u001b[0;34m\u001b[0m\u001b[0m\n\u001b[1;32m     35\u001b[0m \u001b[0;34m\u001b[0m\u001b[0m\n\u001b[0;32m---> 36\u001b[0;31m         \u001b[0mtime\u001b[0m\u001b[0;34m.\u001b[0m\u001b[0msleep\u001b[0m\u001b[0;34m(\u001b[0m\u001b[0mbatch_time_interval\u001b[0m\u001b[0;34m)\u001b[0m\u001b[0;34m\u001b[0m\u001b[0;34m\u001b[0m\u001b[0m\n\u001b[0m\u001b[1;32m     37\u001b[0m \u001b[0;34m\u001b[0m\u001b[0m\n\u001b[1;32m     38\u001b[0m     \u001b[0;32melse\u001b[0m\u001b[0;34m:\u001b[0m\u001b[0;34m\u001b[0m\u001b[0;34m\u001b[0m\u001b[0m\n",
      "\u001b[0;31mKeyboardInterrupt\u001b[0m: "
     ]
    }
   ],
   "source": [
    "batch_time_interval = 5.0\n",
    "\n",
    "if subscriber_batch.assignment():\n",
    "\n",
    "    subscriber_batch.seek_to_beginning()\n",
    "\n",
    "batch_number = 1\n",
    "\n",
    "message_list = []\n",
    "\n",
    "while (True):\n",
    "    \n",
    "    poll_result = subscriber_batch.poll(timeout_ms=500)\n",
    "    \n",
    "    if poll_result == {}:\n",
    "        \n",
    "        if len(message_list) > 0:\n",
    "            \n",
    "            clear_output(wait=True)\n",
    "            \n",
    "            print(\"\\n======================================\")\n",
    "            print(\"   Stock Check Lambda Batch Process\")\n",
    "            print(\"=======================================\\n\")\n",
    "            print(\"\\n------------------------\")\n",
    "            print(\"   Batch \", batch_number)\n",
    "            print(\"------------------------\\n\\n\")\n",
    "            \n",
    "            for message in message_list:\n",
    "                \n",
    "                print(\"Offset:\", message[0], \"   Value:\", message[1][:75])\n",
    "                \n",
    "            message_list = []\n",
    "            \n",
    "            batch_number += 1\n",
    "            \n",
    "        time.sleep(batch_time_interval)\n",
    "              \n",
    "    else:\n",
    "\n",
    "        items = poll_result.items()\n",
    "\n",
    "        for (topic, messages) in items:\n",
    "    \n",
    "            for message in messages:\n",
    "        \n",
    "                message_list.append([message.offset, message.value])\n"
   ]
  },
  {
   "cell_type": "code",
   "execution_count": null,
   "id": "eee0ef42",
   "metadata": {},
   "outputs": [],
   "source": []
  }
 ],
 "metadata": {
  "kernelspec": {
   "display_name": "Python 3",
   "language": "python",
   "name": "python3"
  },
  "language_info": {
   "codemirror_mode": {
    "name": "ipython",
    "version": 3
   },
   "file_extension": ".py",
   "mimetype": "text/x-python",
   "name": "python",
   "nbconvert_exporter": "python",
   "pygments_lexer": "ipython3",
   "version": "3.8.8"
  }
 },
 "nbformat": 4,
 "nbformat_minor": 5
}
