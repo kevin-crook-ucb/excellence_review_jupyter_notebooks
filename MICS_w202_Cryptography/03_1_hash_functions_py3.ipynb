{
 "cells": [
  {
   "cell_type": "markdown",
   "metadata": {
    "collapsed": false
   },
   "source": [
    "### UC Berkeley, MICS, W202-Cryptography\n",
    "### Week 03 Breakout 1\n",
    "\n",
    "### Hash Functions\n"
   ]
  },
  {
   "cell_type": "markdown",
   "metadata": {
    "collapsed": false
   },
   "source": [
    "Hash Functions take a variable size input and yield a fixed size output. They are efficient to compute.  They are pseudo-random, that is, they mix up inputs well. The same input always yields the same output.\n",
    "\n",
    "For this breakout, we will run all of the available hash functions in SageMath / Python for various examples:\n",
    "\n",
    "* MD5 - 128 bits\n",
    "\n",
    "* SHA1 - 160 bits\n",
    "\n",
    "* SHA224 - 224 bits\n",
    "\n",
    "* SHA256 - 256 bits - the most commonly used hash today - note that 256 bits matches the size of AES256 key, so it is common to put a AES256 key through SHA256 before using AES256. SHA256 is also the current smallest hash recommended for Rabin Signatures, which we will study later today.\n",
    "\n",
    "* SHA384 - 384 bits\n",
    "\n",
    "* SHA512 - 512 - becoming more commonly used in place of SHA256\n",
    "\n",
    "In all of our examples below, we will see that hashes always produce the same size output, and that hashing the same input always yeilds the same output.\n",
    "\n",
    "We will see examples of single character, a change of a single character producing vastly different hashes, a short string, and a paragraph from a novel.  \n",
    "\n",
    "Then, we will change a single character in a paragraph from a novel and see that all the hashes are vastly different.\n",
    "\n",
    "Taking this same concept to higher levels, we can calculate a hash of files of mutliple gigabytes, multiple terabytes, etc. in size and if a single byte is changed, the hash will not be the same.  \n",
    "\n",
    "For digital signatures, since we cannot sign large files directly, we take a hash of the file, and then create a digital signature based on the hash.\n",
    "\n",
    "Later today, we will be using SHA256 hashes as part of our Rabin Signatures."
   ]
  },
  {
   "cell_type": "code",
   "execution_count": 1,
   "metadata": {
    "collapsed": false
   },
   "outputs": [
   ],
   "source": [
    "import hashlib\n",
    "from sage.all import *"
   ]
  },
  {
   "cell_type": "code",
   "execution_count": 2,
   "metadata": {
    "collapsed": false
   },
   "outputs": [
    {
     "name": "stdout",
     "output_type": "stream",
     "text": [
      "('sha512', 'sha1', 'sha384', 'sha256', 'md5', 'sha224')\n"
     ]
    }
   ],
   "source": [
    "# the hashlib.alorithms attribute is a list of all hashes available for SageMath / Python\n",
    "\n",
    "all_algorithms = tuple(hashlib.algorithms_guaranteed)\n",
    "#all_algorithms = tuple(hashlib.algorithms_available)\n",
    "\n",
    "algorithms = tuple(x for x in all_algorithms if 'openssl' in str(getattr(hashlib, x)))\n",
    "\n",
    "print(algorithms)"
   ]
  },
  {
   "cell_type": "code",
   "execution_count": 3,
   "metadata": {
    "collapsed": false
   },
   "outputs": [
   ],
   "source": [
    "def my_calculate_all_available_hashes(s):\n",
    "    \"given a string s, calculate all available hashes\"\n",
    "    \n",
    "    print (\"\\nHashes for string: \", s, \"\\n\\n\")\n",
    "    \n",
    "    for h in algorithms:\n",
    "        hash_function = getattr(hashlib, h)\n",
    "        \n",
    "        print ('%7s:' % h, hash_function(s.encode('utf-8')).hexdigest())"
   ]
  },
  {
   "cell_type": "code",
   "execution_count": 4,
   "metadata": {
    "collapsed": false
   },
   "outputs": [
    {
     "name": "stdout",
     "output_type": "stream",
     "text": [
      "\n",
      "Hashes for string:  A \n",
      "\n",
      "\n",
      " sha512: 21b4f4bd9e64ed355c3eb676a28ebedaf6d8f17bdc365995b319097153044080516bd083bfcce66121a3072646994c8430cc382b8dc543e84880183bf856cff5\n",
      "   sha1: 6dcd4ce23d88e2ee9568ba546c007c63d9131c1b\n",
      " sha384: ad14aaf25020bef2fd4e3eb5ec0c50272cdfd66074b0ed037c9a11254321aac0729985374beeaa5b80a504d048be1864\n",
      " sha256: 559aead08264d5795d3909718cdd05abd49572e84fe55590eef31a88a08fdffd\n",
      "    md5: 7fc56270e7a70fa81a5935b72eacbe29\n",
      " sha224: 5cfe2cddbb9940fb4d8505e25ea77e763a0077693dbb01b1a6aa94f2\n"
     ]
    }
   ],
   "source": [
    "# we will first look at a single upper case letter A\n",
    "\n",
    "# note that hashes always return the same size in bits, shown in hex below\n",
    "\n",
    "# run it several times, you will always get the same hash values\n",
    "\n",
    "my_calculate_all_available_hashes(\"A\")"
   ]
  },
  {
   "cell_type": "code",
   "execution_count": 5,
   "metadata": {
    "collapsed": false
   },
   "outputs": [
    {
     "name": "stdout",
     "output_type": "stream",
     "text": [
      "\n",
      "Hashes for string:  a \n",
      "\n",
      "\n",
      " sha512: 1f40fc92da241694750979ee6cf582f2d5d7d28e18335de05abc54d0560e0f5302860c652bf08d560252aa5e74210546f369fbbbce8c12cfc7957b2652fe9a75\n",
      "   sha1: 86f7e437faa5a7fce15d1ddcb9eaeaea377667b8\n",
      " sha384: 54a59b9f22b0b80880d8427e548b7c23abd873486e1f035dce9cd697e85175033caa88e6d57bc35efae0b5afd3145f31\n",
      " sha256: ca978112ca1bbdcafac231b39a23dc4da786eff8147c4e72b9807785afee48bb\n",
      "    md5: 0cc175b9c0f1b6a831c399e269772661\n",
      " sha224: abd37534c7d9a2efb9465de931cd7055ffdb8879563ae98078d6d6d5\n"
     ]
    }
   ],
   "source": [
    "# now let's try a single lower case letter a\n",
    "\n",
    "# compare the hash values with the ones above, they are totally different, it's hard to find even a single hex digit that matches\n",
    "\n",
    "my_calculate_all_available_hashes(\"a\")"
   ]
  },
  {
   "cell_type": "code",
   "execution_count": 6,
   "metadata": {
    "collapsed": false
   },
   "outputs": [
    {
     "name": "stdout",
     "output_type": "stream",
     "text": [
      "\n",
      "Hashes for string:  This is a longer string than just one letter \n",
      "\n",
      "\n",
      " sha512: ab150a9b39b942f25ef55c34877f91f22519503301e96a0af38c0d8edefc97420de45576a5ca5750d07a6bea59589ff2a8971c508ead386d162ea3ec6bf0e306\n",
      "   sha1: af832295743e70c76437eee49ff9fffea13b7e68\n",
      " sha384: 2efb7a79674c7b073452e407a4c20f24b1e5a6f19eecb7815a58aa45ae5161d17a180b1876d13ac57452c274a539529e\n",
      " sha256: 18d1d20ee0febd93f996348d0975f1d347a5258530cd714018423c90e9852c59\n",
      "    md5: a91af2fa9b39c2515c3348ec1294185c\n",
      " sha224: 8ef50b2423e9551a40145a03d941805ea8a6508c41d69a7bfed25966\n"
     ]
    }
   ],
   "source": [
    "# now let's try a bit longer string than just one letter\n",
    "\n",
    "# also run it multiple times and see that you always get the same hash values\n",
    "\n",
    "my_calculate_all_available_hashes(\"This is a longer string than just one letter\")"
   ]
  },
  {
   "cell_type": "code",
   "execution_count": 7,
   "metadata": {
    "collapsed": false
   },
   "outputs": [
    {
     "name": "stdout",
     "output_type": "stream",
     "text": [
      "\n",
      "Hashes for string:  \n",
      "I only slept a few hours when I went to bed, and feeling that I could\n",
      "not sleep any more, got up. I had hung my shaving glass by the window,\n",
      "and was just beginning to shave. Suddenly I felt a hand on my shoulder,\n",
      "and heard the Count's voice saying to me, \"Good-morning.\" I started, for\n",
      "it amazed me that I had not seen him, since the reflection of the glass\n",
      "covered the whole room behind me. In starting I had cut myself slightly,\n",
      "but did not notice it at the moment. Having answered the Count's\n",
      "salutation, I turned to the glass again to see how I had been mistaken.\n",
      "This time there could be no error, for the man was close to me, and I\n",
      "could see him over my shoulder. But there was no reflection of him in\n",
      "the mirror! The whole room behind me was displayed; but there was no\n",
      "sign of a man in it, except myself. This was startling, and, coming on\n",
      "the top of so many strange things, was beginning to increase that vague\n",
      "feeling of uneasiness which I always have when the Count is near; but at\n",
      "the instant I saw that the cut had bled a little, and the blood was\n",
      "trickling over my chin. I laid down the razor, turning as I did so half\n",
      "round to look for some sticking plaster. When the Count saw my face, his\n",
      "eyes blazed with a sort of demoniac fury, and he suddenly made a grab at\n",
      "my throat. I drew away, and his hand touched the string of beads which\n",
      "held the crucifix. It made an instant change in him, for the fury passed\n",
      "so quickly that I could hardly believe that it was ever there.\n",
      " \n",
      "\n",
      "\n",
      " sha512: 7c275a88d6efafacc445d6b4ac69ea68e7c61318a3029a69990c64e9e01a241b28c5d83ad2601b46a11afcd6650a8880fd0456e249318a8d7f871d49b23e0488\n",
      "   sha1: 496a8e9db0e33a1728cb059a8b1e5910ed33f992\n",
      " sha384: 94208ca4870f66477ea35342bb5998b7548cfd8086e98f947e908feb089bc5ea164f4dac59b9b81d8b74c5d56230671a\n",
      " sha256: d8bc833d9c1d6e0e2e9ba3f75744521e1839d4d465cd8e3f500d136d6dcad431\n",
      "    md5: 5d560dbc475eaddb930f69eada4d0716\n",
      " sha224: 98ababed62e1f248be7085d59d8a7623ea87d1d3a7443c9ff0b0cd3d\n"
     ]
    }
   ],
   "source": [
    "# now let's try a paragraph from Bram Stoker's Dracula \n",
    "\n",
    "# note that the paragraph is larger than any of the hash sizes above\n",
    "\n",
    "# also run it multiple times and see that you always get the same hash values\n",
    "\n",
    "dracula_string_1 = \"\"\"\n",
    "I only slept a few hours when I went to bed, and feeling that I could\n",
    "not sleep any more, got up. I had hung my shaving glass by the window,\n",
    "and was just beginning to shave. Suddenly I felt a hand on my shoulder,\n",
    "and heard the Count's voice saying to me, \"Good-morning.\" I started, for\n",
    "it amazed me that I had not seen him, since the reflection of the glass\n",
    "covered the whole room behind me. In starting I had cut myself slightly,\n",
    "but did not notice it at the moment. Having answered the Count's\n",
    "salutation, I turned to the glass again to see how I had been mistaken.\n",
    "This time there could be no error, for the man was close to me, and I\n",
    "could see him over my shoulder. But there was no reflection of him in\n",
    "the mirror! The whole room behind me was displayed; but there was no\n",
    "sign of a man in it, except myself. This was startling, and, coming on\n",
    "the top of so many strange things, was beginning to increase that vague\n",
    "feeling of uneasiness which I always have when the Count is near; but at\n",
    "the instant I saw that the cut had bled a little, and the blood was\n",
    "trickling over my chin. I laid down the razor, turning as I did so half\n",
    "round to look for some sticking plaster. When the Count saw my face, his\n",
    "eyes blazed with a sort of demoniac fury, and he suddenly made a grab at\n",
    "my throat. I drew away, and his hand touched the string of beads which\n",
    "held the crucifix. It made an instant change in him, for the fury passed\n",
    "so quickly that I could hardly believe that it was ever there.\n",
    "\"\"\"\n",
    "\n",
    "my_calculate_all_available_hashes(dracula_string_1)"
   ]
  },
  {
   "cell_type": "markdown",
   "metadata": {
    "collapsed": false
   },
   "source": [
    "### Now let's try an example using the paragraph from Bram Stoker's Dracula above by changing only 1 character and seeing that the hashes are totally different"
   ]
  },
  {
   "cell_type": "code",
   "execution_count": 8,
   "metadata": {
    "collapsed": false
   },
   "outputs": [
    {
     "name": "stdout",
     "output_type": "stream",
     "text": [
      "But there was no reflection of him in\n",
      "the mirror! The whole room behind me was displayed; but there was no\n",
      "sign of a man in it, except myself. \n"
     ]
    }
   ],
   "source": [
    "# take a look at the couple of sentences below\n",
    "\n",
    "print (dracula_string_1[671:814])"
   ]
  },
  {
   "cell_type": "code",
   "execution_count": 9,
   "metadata": {
    "collapsed": false
   },
   "outputs": [
    {
     "name": "stdout",
     "output_type": "stream",
     "text": [
      "But there was no reflection of him on\n",
      "the mirror! The whole room behind me was displayed; but there was no\n",
      "sign of a man in it, except myself. \n"
     ]
    }
   ],
   "source": [
    "# let's change the \"reflection of him in the mirror!\" to \"refection of him on the mirror!\"\n",
    "# note that we are only changing 1 character, the i to an o\n",
    "\n",
    "dracula_string_2 = dracula_string_1[:706] + \"o\" + dracula_string_1[707:]\n",
    "\n",
    "print (dracula_string_2[671:814])"
   ]
  },
  {
   "cell_type": "code",
   "execution_count": 10,
   "metadata": {
    "collapsed": false
   },
   "outputs": [
   ],
   "source": [
    "def my_calculate_all_available_hashes_2_strings(s1, s2):\n",
    "    \"given two strings, calculate all available hashes, to compare them\"\n",
    "    \n",
    "    for h in algorithms:\n",
    "        \n",
    "        hash_function = getattr(hashlib, h)\n",
    "        \n",
    "        print ('%7s:' % h, hash_function(s1.encode('utf-8')).hexdigest())\n",
    "        print ('%7s:' % h, hash_function(s2.encode('utf-8')).hexdigest(), \"\\n\")"
   ]
  },
  {
   "cell_type": "code",
   "execution_count": 11,
   "metadata": {
    "collapsed": false
   },
   "outputs": [
    {
     "name": "stdout",
     "output_type": "stream",
     "text": [
      " sha512: 7c275a88d6efafacc445d6b4ac69ea68e7c61318a3029a69990c64e9e01a241b28c5d83ad2601b46a11afcd6650a8880fd0456e249318a8d7f871d49b23e0488\n",
      " sha512: 8b01e5ee0e94c298170deb1707d98d482e88cf408d17b486be232565666118cd8185d1822158e0f6616d9e1fe1c62dcff1bf5e0d5daa70f4116400e52c921a82 \n",
      "\n",
      "   sha1: 496a8e9db0e33a1728cb059a8b1e5910ed33f992\n",
      "   sha1: d8226137f09a2d41651dc0a299bdc5fc5a818f8b \n",
      "\n",
      " sha384: 94208ca4870f66477ea35342bb5998b7548cfd8086e98f947e908feb089bc5ea164f4dac59b9b81d8b74c5d56230671a\n",
      " sha384: 854bd40dceb238e2f931028cdb1a93e18f7cf2ec83d2399f060db646acf9cbc05f61601ea3d2e8af78981d6b23d9bab4 \n",
      "\n",
      " sha256: d8bc833d9c1d6e0e2e9ba3f75744521e1839d4d465cd8e3f500d136d6dcad431\n",
      " sha256: 63d543451377572d47b7d44cc470248edcf0cec58d83fc56364bc9711a0f0fbd \n",
      "\n",
      "    md5: 5d560dbc475eaddb930f69eada4d0716\n",
      "    md5: 86c8040d3bcd4948d44bf35e11065f91 \n",
      "\n",
      " sha224: 98ababed62e1f248be7085d59d8a7623ea87d1d3a7443c9ff0b0cd3d\n",
      " sha224: 290403fc4f15e14961fe20e662932ffa4cc1a674e6238c0fd8c9b855 \n",
      "\n"
     ]
    }
   ],
   "source": [
    "# let's compare the hashes from the Dracula paragraph\n",
    "# for each hash, the first value is the original version with \"in\"\n",
    "# the second value is our change of \"in\" to \"on\", a change of i to o, 1 character\n",
    "\n",
    "# note how the 1 character change makes a dramatic differences in all of the hashes\n",
    "\n",
    "my_calculate_all_available_hashes_2_strings(dracula_string_1, dracula_string_2)"
   ]
  },
  {
   "cell_type": "markdown",
   "metadata": {
    "collapsed": false
   },
   "source": [
    "#### "
   ]
  },
  {
   "cell_type": "code",
   "execution_count": 0,
   "metadata": {
    "collapsed": false
   },
   "outputs": [
   ],
   "source": [
   ]
  }
 ],
 "metadata": {
  "kernelspec": {
   "display_name": "SageMath 9.1",
   "language": "sagemath",
   "metadata": {
    "cocalc": {
     "description": "Open-source mathematical software system",
     "priority": 10,
     "url": "https://www.sagemath.org/"
    }
   },
   "name": "sage-9.1"
  },
  "language_info": {
   "codemirror_mode": {
    "name": "ipython",
    "version": 3
   },
   "file_extension": ".py",
   "mimetype": "text/x-python",
   "name": "python",
   "nbconvert_exporter": "python",
   "pygments_lexer": "ipython3",
   "version": "3.7.3"
  }
 },
 "nbformat": 4,
 "nbformat_minor": 4
}