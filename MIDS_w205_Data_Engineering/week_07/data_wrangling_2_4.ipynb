{
 "cells": [
  {
   "cell_type": "markdown",
   "id": "3e8b72a9",
   "metadata": {},
   "source": [
    "# Data Wrangling 2.4"
   ]
  },
  {
   "cell_type": "code",
   "execution_count": 1,
   "id": "f821cb37",
   "metadata": {},
   "outputs": [],
   "source": [
    "import math\n",
    "import numpy as np\n",
    "import pandas as pd\n",
    "\n",
    "import psycopg2\n",
    "\n",
    "import json\n",
    "\n",
    "import csv\n",
    "\n",
    "from datetime import datetime as dt\n",
    "\n",
    "from IPython.display import display, HTML\n"
   ]
  },
  {
   "cell_type": "code",
   "execution_count": 2,
   "id": "f940c3c8",
   "metadata": {},
   "outputs": [],
   "source": [
    "connection = psycopg2.connect(\n",
    "    user = \"postgres\",\n",
    "    password = \"ucb\",\n",
    "    host = \"postgres\",\n",
    "    port = \"5432\",\n",
    "    database = \"postgres\"\n",
    ")"
   ]
  },
  {
   "cell_type": "code",
   "execution_count": 3,
   "id": "c88438c2",
   "metadata": {},
   "outputs": [],
   "source": [
    "cursor = connection.cursor()"
   ]
  },
  {
   "cell_type": "code",
   "execution_count": 4,
   "id": "3327d96c",
   "metadata": {},
   "outputs": [],
   "source": [
    "#\n",
    "# function to run a select query and return rows in a pandas dataframe\n",
    "# pandas puts all numeric values from postgres to float\n",
    "# if it will fit in an integer, change it to integer\n",
    "#\n",
    "\n",
    "def my_select_query_pandas(query, rollback_before_flag, rollback_after_flag):\n",
    "    \"function to run a select query and return rows in a pandas dataframe\"\n",
    "    \n",
    "    if rollback_before_flag:\n",
    "        connection.rollback()\n",
    "    \n",
    "    df = pd.read_sql_query(query, connection)\n",
    "    \n",
    "    if rollback_after_flag:\n",
    "        connection.rollback()\n",
    "    \n",
    "    # fix the float columns that really should be integers\n",
    "    \n",
    "    for column in df:\n",
    "    \n",
    "        if df[column].dtype == \"float64\":\n",
    "\n",
    "            fraction_flag = False\n",
    "\n",
    "            for value in df[column].values:\n",
    "                \n",
    "                if not np.isnan(value):\n",
    "                    if value - math.floor(value) != 0:\n",
    "                        fraction_flag = True\n",
    "\n",
    "            if not fraction_flag:\n",
    "                df[column] = df[column].astype('Int64')\n",
    "    \n",
    "    return(df)\n",
    "    "
   ]
  },
  {
   "cell_type": "markdown",
   "id": "c05eb7e9",
   "metadata": {},
   "source": [
    "# Lab: Data Cleansing - Consistency, Contradictions"
   ]
  },
  {
   "cell_type": "markdown",
   "id": "eb14a923",
   "metadata": {},
   "source": [
    "## Find sales where the total amount in the sales record does not match the sum of the line items"
   ]
  },
  {
   "cell_type": "code",
   "execution_count": 5,
   "id": "448a2de3",
   "metadata": {},
   "outputs": [
    {
     "data": {
      "text/html": [
       "<div>\n",
       "<style scoped>\n",
       "    .dataframe tbody tr th:only-of-type {\n",
       "        vertical-align: middle;\n",
       "    }\n",
       "\n",
       "    .dataframe tbody tr th {\n",
       "        vertical-align: top;\n",
       "    }\n",
       "\n",
       "    .dataframe thead th {\n",
       "        text-align: right;\n",
       "    }\n",
       "</style>\n",
       "<table border=\"1\" class=\"dataframe\">\n",
       "  <thead>\n",
       "    <tr style=\"text-align: right;\">\n",
       "      <th></th>\n",
       "      <th>stage_id</th>\n",
       "      <th>store_id</th>\n",
       "      <th>sale_id</th>\n",
       "      <th>customer_id</th>\n",
       "      <th>sale_date</th>\n",
       "      <th>total_amount</th>\n",
       "    </tr>\n",
       "  </thead>\n",
       "  <tbody>\n",
       "    <tr>\n",
       "      <th>0</th>\n",
       "      <td>7</td>\n",
       "      <td>1</td>\n",
       "      <td>681140</td>\n",
       "      <td>4260</td>\n",
       "      <td>2021-08-22</td>\n",
       "      <td>60</td>\n",
       "    </tr>\n",
       "    <tr>\n",
       "      <th>1</th>\n",
       "      <td>11</td>\n",
       "      <td>1</td>\n",
       "      <td>696395</td>\n",
       "      <td>1991</td>\n",
       "      <td>2021-09-07</td>\n",
       "      <td>48</td>\n",
       "    </tr>\n",
       "    <tr>\n",
       "      <th>2</th>\n",
       "      <td>14</td>\n",
       "      <td>2</td>\n",
       "      <td>548317</td>\n",
       "      <td>11779</td>\n",
       "      <td>2021-05-03</td>\n",
       "      <td>12</td>\n",
       "    </tr>\n",
       "    <tr>\n",
       "      <th>3</th>\n",
       "      <td>28</td>\n",
       "      <td>3</td>\n",
       "      <td>597247</td>\n",
       "      <td>15799</td>\n",
       "      <td>2021-07-22</td>\n",
       "      <td>424</td>\n",
       "    </tr>\n",
       "  </tbody>\n",
       "</table>\n",
       "</div>"
      ],
      "text/plain": [
       "   stage_id store_id sale_id customer_id   sale_date total_amount\n",
       "0         7        1  681140        4260  2021-08-22           60\n",
       "1        11        1  696395        1991  2021-09-07           48\n",
       "2        14        2  548317       11779  2021-05-03           12\n",
       "3        28        3  597247       15799  2021-07-22          424"
      ]
     },
     "execution_count": 5,
     "metadata": {},
     "output_type": "execute_result"
    }
   ],
   "source": [
    "rollback_before_flag = True\n",
    "rollback_after_flag = True\n",
    "\n",
    "query  = \"\"\"\n",
    "\n",
    "select *\n",
    "from stage_3_sales as sa\n",
    "where total_amount::numeric <> (select sum(quantity::numeric) * 12 \n",
    "                                from stage_3_line_items as l \n",
    "                                where sa.store_id = l.store_id and sa.sale_id = l.sale_id)\n",
    "\n",
    "\n",
    "\"\"\"\n",
    "\n",
    "my_select_query_pandas(query, rollback_before_flag, rollback_after_flag)"
   ]
  },
  {
   "cell_type": "markdown",
   "id": "82cbdeff",
   "metadata": {},
   "source": [
    "## You try it - join stage_3_sales to stage_3_line items to show the details for the contradictions on total_amount"
   ]
  },
  {
   "cell_type": "markdown",
   "id": "82097b73",
   "metadata": {},
   "source": [
    "# Lab: Data Cleansing - Completeness"
   ]
  },
  {
   "cell_type": "markdown",
   "id": "4a4c0da1",
   "metadata": {},
   "source": [
    "## Find incomplete sales without line items"
   ]
  },
  {
   "cell_type": "code",
   "execution_count": 6,
   "id": "16b2e21c",
   "metadata": {},
   "outputs": [
    {
     "data": {
      "text/html": [
       "<div>\n",
       "<style scoped>\n",
       "    .dataframe tbody tr th:only-of-type {\n",
       "        vertical-align: middle;\n",
       "    }\n",
       "\n",
       "    .dataframe tbody tr th {\n",
       "        vertical-align: top;\n",
       "    }\n",
       "\n",
       "    .dataframe thead th {\n",
       "        text-align: right;\n",
       "    }\n",
       "</style>\n",
       "<table border=\"1\" class=\"dataframe\">\n",
       "  <thead>\n",
       "    <tr style=\"text-align: right;\">\n",
       "      <th></th>\n",
       "      <th>stage_id</th>\n",
       "      <th>store_id</th>\n",
       "      <th>sale_id</th>\n",
       "      <th>customer_id</th>\n",
       "      <th>sale_date</th>\n",
       "      <th>total_amount</th>\n",
       "    </tr>\n",
       "  </thead>\n",
       "  <tbody>\n",
       "    <tr>\n",
       "      <th>0</th>\n",
       "      <td>56</td>\n",
       "      <td>55</td>\n",
       "      <td>590790</td>\n",
       "      <td>27997</td>\n",
       "      <td>2021-09-14</td>\n",
       "      <td>48</td>\n",
       "    </tr>\n",
       "  </tbody>\n",
       "</table>\n",
       "</div>"
      ],
      "text/plain": [
       "   stage_id store_id sale_id customer_id   sale_date total_amount\n",
       "0        56       55  590790       27997  2021-09-14           48"
      ]
     },
     "execution_count": 6,
     "metadata": {},
     "output_type": "execute_result"
    }
   ],
   "source": [
    "rollback_before_flag = True\n",
    "rollback_after_flag = True\n",
    "\n",
    "query  = \"\"\"\n",
    "\n",
    "select *\n",
    "from stage_3_sales as sa\n",
    "where (sa.store_id, sa.sale_id) not in (select store_id, sale_id from stage_3_line_items)\n",
    "order by stage_id, store_id, sale_id\n",
    "\n",
    "\"\"\"\n",
    "\n",
    "my_select_query_pandas(query, rollback_before_flag, rollback_after_flag)"
   ]
  },
  {
   "cell_type": "markdown",
   "id": "ba8c9d62",
   "metadata": {},
   "source": [
    "## You try it - find line items without a sale"
   ]
  },
  {
   "cell_type": "markdown",
   "id": "98492a09",
   "metadata": {},
   "source": [
    "# Lab: Data Cleansing - Uniformity"
   ]
  },
  {
   "cell_type": "markdown",
   "id": "87ae4d24",
   "metadata": {},
   "source": [
    "## distance in miles or kilometers in the stage_3_customers table; zip code 37208 has one record in miles and one record in kilometers;  they are rounded to the nearest mile or kilometer"
   ]
  },
  {
   "cell_type": "code",
   "execution_count": 7,
   "id": "b209d05d",
   "metadata": {},
   "outputs": [
    {
     "data": {
      "text/html": [
       "<div>\n",
       "<style scoped>\n",
       "    .dataframe tbody tr th:only-of-type {\n",
       "        vertical-align: middle;\n",
       "    }\n",
       "\n",
       "    .dataframe tbody tr th {\n",
       "        vertical-align: top;\n",
       "    }\n",
       "\n",
       "    .dataframe thead th {\n",
       "        text-align: right;\n",
       "    }\n",
       "</style>\n",
       "<table border=\"1\" class=\"dataframe\">\n",
       "  <thead>\n",
       "    <tr style=\"text-align: right;\">\n",
       "      <th></th>\n",
       "      <th>zip</th>\n",
       "      <th>distance</th>\n",
       "    </tr>\n",
       "  </thead>\n",
       "  <tbody>\n",
       "    <tr>\n",
       "      <th>0</th>\n",
       "      <td>37208</td>\n",
       "      <td>3</td>\n",
       "    </tr>\n",
       "    <tr>\n",
       "      <th>1</th>\n",
       "      <td>37208</td>\n",
       "      <td>2</td>\n",
       "    </tr>\n",
       "  </tbody>\n",
       "</table>\n",
       "</div>"
      ],
      "text/plain": [
       "     zip distance\n",
       "0  37208        3\n",
       "1  37208        2"
      ]
     },
     "execution_count": 7,
     "metadata": {},
     "output_type": "execute_result"
    }
   ],
   "source": [
    "rollback_before_flag = True\n",
    "rollback_after_flag = True\n",
    "\n",
    "query  = \"\"\"\n",
    "\n",
    "select zip, distance\n",
    "from stage_3_customers\n",
    "where zip = '37208'\n",
    "\n",
    "\"\"\"\n",
    "\n",
    "my_select_query_pandas(query, rollback_before_flag, rollback_after_flag)"
   ]
  },
  {
   "cell_type": "markdown",
   "id": "e05d3475",
   "metadata": {},
   "source": [
    "## You try it - check for uniformity in capitalization in last names in stage_3_customers"
   ]
  },
  {
   "cell_type": "code",
   "execution_count": null,
   "id": "e8d0fdc9",
   "metadata": {},
   "outputs": [],
   "source": []
  }
 ],
 "metadata": {
  "kernelspec": {
   "display_name": "Python 3",
   "language": "python",
   "name": "python3"
  },
  "language_info": {
   "codemirror_mode": {
    "name": "ipython",
    "version": 3
   },
   "file_extension": ".py",
   "mimetype": "text/x-python",
   "name": "python",
   "nbconvert_exporter": "python",
   "pygments_lexer": "ipython3",
   "version": "3.8.8"
  }
 },
 "nbformat": 4,
 "nbformat_minor": 5
}
