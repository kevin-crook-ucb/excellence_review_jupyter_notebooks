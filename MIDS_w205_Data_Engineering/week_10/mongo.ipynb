{
 "cells": [
  {
   "cell_type": "markdown",
   "id": "b7e51eda",
   "metadata": {},
   "source": [
    "# Mongo"
   ]
  },
  {
   "cell_type": "markdown",
   "id": "8d35b490",
   "metadata": {},
   "source": [
    "# Lab: MongoDB"
   ]
  },
  {
   "cell_type": "code",
   "execution_count": 1,
   "id": "6209b8cd",
   "metadata": {},
   "outputs": [],
   "source": [
    "import pymongo\n",
    "\n",
    "import json\n",
    "\n",
    "import pprint"
   ]
  },
  {
   "cell_type": "markdown",
   "id": "4e9b4494",
   "metadata": {},
   "source": [
    "## Connect to the mongo database; mongodb is the protocol; mongo is the hostname, which for us is the container name; 27017 is the TCP port number"
   ]
  },
  {
   "cell_type": "code",
   "execution_count": 2,
   "id": "7fc9706a",
   "metadata": {},
   "outputs": [],
   "source": [
    "mongo = pymongo.MongoClient(\"mongodb://mongo:27017/\")"
   ]
  },
  {
   "cell_type": "markdown",
   "id": "8b54bc02",
   "metadata": {},
   "source": [
    "## In case the database acme_gourmet_meals already exists from prior runs, we will delete it; if it does not exist, it will not hurt anything"
   ]
  },
  {
   "cell_type": "code",
   "execution_count": 3,
   "id": "221f8ee3",
   "metadata": {},
   "outputs": [],
   "source": [
    "mongo.drop_database(\"acme_gourmet_meals\")"
   ]
  },
  {
   "cell_type": "markdown",
   "id": "879867ca",
   "metadata": {},
   "source": [
    "## List the mongo databases"
   ]
  },
  {
   "cell_type": "code",
   "execution_count": 4,
   "id": "f84d12ac",
   "metadata": {},
   "outputs": [
    {
     "data": {
      "text/plain": [
       "['admin', 'config', 'local']"
      ]
     },
     "execution_count": 4,
     "metadata": {},
     "output_type": "execute_result"
    }
   ],
   "source": [
    "db_list = mongo.list_database_names()\n",
    "db_list"
   ]
  },
  {
   "cell_type": "markdown",
   "id": "46b3df2e",
   "metadata": {},
   "source": [
    "## Create a new database called acme_gourmet_meals; the new database will not actually get created until we add documents to it"
   ]
  },
  {
   "cell_type": "code",
   "execution_count": 5,
   "id": "970693a1",
   "metadata": {},
   "outputs": [],
   "source": [
    "db = mongo[\"acme_gourmet_meals\"]"
   ]
  },
  {
   "cell_type": "code",
   "execution_count": 6,
   "id": "b2d5d403",
   "metadata": {},
   "outputs": [
    {
     "data": {
      "text/plain": [
       "['admin', 'config', 'local']"
      ]
     },
     "execution_count": 6,
     "metadata": {},
     "output_type": "execute_result"
    }
   ],
   "source": [
    "db_list = mongo.list_database_names()\n",
    "db_list"
   ]
  },
  {
   "cell_type": "markdown",
   "id": "6db8c17b",
   "metadata": {},
   "source": [
    "## Create a collection called stores;  A collection is a collection of documents, similar to a list of JSON objects; like the database the new collection will not actually get created until we add documents to it"
   ]
  },
  {
   "cell_type": "code",
   "execution_count": 7,
   "id": "002909c9",
   "metadata": {},
   "outputs": [],
   "source": [
    "stores_collection = db[\"stores\"]"
   ]
  },
  {
   "cell_type": "code",
   "execution_count": 8,
   "id": "b16de2e9",
   "metadata": {},
   "outputs": [
    {
     "data": {
      "text/plain": [
       "['admin', 'config', 'local']"
      ]
     },
     "execution_count": 8,
     "metadata": {},
     "output_type": "execute_result"
    }
   ],
   "source": [
    "db_list = mongo.list_database_names()\n",
    "db_list"
   ]
  },
  {
   "cell_type": "code",
   "execution_count": 9,
   "id": "6bd104c8",
   "metadata": {},
   "outputs": [
    {
     "data": {
      "text/plain": [
       "[]"
      ]
     },
     "execution_count": 9,
     "metadata": {},
     "output_type": "execute_result"
    }
   ],
   "source": [
    "collection_list = db.list_collection_names()\n",
    "collection_list"
   ]
  },
  {
   "cell_type": "markdown",
   "id": "aa4bbad5",
   "metadata": {},
   "source": [
    "## Read in the JSON file temp_stores_nested.json which we have previously created back in Data Wrangling; insert the first JSON store object as a document in the stores collection in the acme_gourmet_meals database; mongo assignes a unique inserted_id to each document added "
   ]
  },
  {
   "cell_type": "code",
   "execution_count": 10,
   "id": "2b3dc056",
   "metadata": {},
   "outputs": [],
   "source": [
    "f = open(\"temp_stores_nested.json\")\n",
    "file_json = json.load(f)\n",
    "f.close()\n",
    "\n",
    "stores_json_list = file_json[\"stores\"]"
   ]
  },
  {
   "cell_type": "code",
   "execution_count": 11,
   "id": "dd5b8f7a",
   "metadata": {},
   "outputs": [],
   "source": [
    "first_store_json = stores_json_list[0]\n",
    "\n",
    "store_document = stores_collection.insert_one(first_store_json)"
   ]
  },
  {
   "cell_type": "code",
   "execution_count": 12,
   "id": "be9ec99b",
   "metadata": {},
   "outputs": [
    {
     "name": "stdout",
     "output_type": "stream",
     "text": [
      "6193126330ae9979ce863157\n"
     ]
    }
   ],
   "source": [
    "print(store_document.inserted_id)"
   ]
  },
  {
   "cell_type": "markdown",
   "id": "bf8cdc48",
   "metadata": {},
   "source": [
    "## Now that we have actually inserted a document, the database and the collection we previously specified has now been created"
   ]
  },
  {
   "cell_type": "code",
   "execution_count": 13,
   "id": "905b4af3",
   "metadata": {},
   "outputs": [
    {
     "data": {
      "text/plain": [
       "['acme_gourmet_meals', 'admin', 'config', 'local']"
      ]
     },
     "execution_count": 13,
     "metadata": {},
     "output_type": "execute_result"
    }
   ],
   "source": [
    "db_list = mongo.list_database_names()\n",
    "db_list"
   ]
  },
  {
   "cell_type": "code",
   "execution_count": 14,
   "id": "d191e27e",
   "metadata": {},
   "outputs": [
    {
     "data": {
      "text/plain": [
       "['stores']"
      ]
     },
     "execution_count": 14,
     "metadata": {},
     "output_type": "execute_result"
    }
   ],
   "source": [
    "collection_list = db.list_collection_names()\n",
    "collection_list"
   ]
  },
  {
   "cell_type": "markdown",
   "id": "a2f78797",
   "metadata": {},
   "source": [
    "## Query the document we just inserted; find_one() will find the first document in the collection; from Python, we always insert a dictionary, and find_one() returns a dictionary"
   ]
  },
  {
   "cell_type": "code",
   "execution_count": 15,
   "id": "74a05406",
   "metadata": {},
   "outputs": [],
   "source": [
    "store_document = stores_collection.find_one()"
   ]
  },
  {
   "cell_type": "code",
   "execution_count": 16,
   "id": "af934e99",
   "metadata": {},
   "outputs": [
    {
     "name": "stdout",
     "output_type": "stream",
     "text": [
      "<class 'dict'>\n"
     ]
    }
   ],
   "source": [
    "print(type(store_document))"
   ]
  },
  {
   "cell_type": "code",
   "execution_count": 17,
   "id": "183bc3f5",
   "metadata": {},
   "outputs": [
    {
     "name": "stdout",
     "output_type": "stream",
     "text": [
      "{'_id': ObjectId('6193126330ae9979ce863157'), 'store_id': 1, 'street': '3000 Telegraph Ave', 'city': 'Berkeley', 'state': 'CA', 'zip': '94705', 'latitude': 37.8555, 'longitude': -122.2604, 'sales': [{'sale_id': 128112, 'sale_date': '2020-04-30', 'total_amount': 24, 'customer': {'customer_id': 3491, 'first_name': 'Siouxie', 'last_name': \"M'Quharge\", 'street': '747 Westridge Center', 'city': 'Alameda', 'state': 'CA', 'zip': '94501', 'closest_store_id': 1, 'distance': 6}, 'line_items': [{'line_item_id': 1, 'quantity': 1, 'product': {'product_id': 1, 'description': 'Pistachio Salmon'}}, {'line_item_id': 2, 'quantity': 1, 'product': {'product_id': 8, 'description': 'Brocolli Stir Fry'}}]}, {'sale_id': 144249, 'sale_date': '2020-05-16', 'total_amount': 84, 'customer': {'customer_id': 1597, 'first_name': 'Norry', 'last_name': 'Macauley', 'street': '654 Sommers Plaza', 'city': 'Oakland', 'state': 'CA', 'zip': '94612', 'closest_store_id': 1, 'distance': 3}, 'line_items': [{'line_item_id': 1, 'quantity': 1, 'product': {'product_id': 1, 'description': 'Pistachio Salmon'}}, {'line_item_id': 2, 'quantity': 1, 'product': {'product_id': 2, 'description': 'Teriyaki Chicken'}}, {'line_item_id': 3, 'quantity': 2, 'product': {'product_id': 4, 'description': 'Eggplant Lasagna'}}, {'line_item_id': 4, 'quantity': 1, 'product': {'product_id': 6, 'description': 'Curry Chicken'}}, {'line_item_id': 5, 'quantity': 2, 'product': {'product_id': 8, 'description': 'Brocolli Stir Fry'}}]}, {'sale_id': 163141, 'sale_date': '2020-06-04', 'total_amount': 96, 'customer': {'customer_id': 4159, 'first_name': 'Cheryl', 'last_name': 'Broe', 'street': '7 Ruskin Alley', 'city': 'El Sobrante', 'state': 'CA', 'zip': '94803', 'closest_store_id': 1, 'distance': 7}, 'line_items': [{'line_item_id': 1, 'quantity': 3, 'product': {'product_id': 1, 'description': 'Pistachio Salmon'}}, {'line_item_id': 2, 'quantity': 1, 'product': {'product_id': 3, 'description': 'Spinach Orzo'}}, {'line_item_id': 3, 'quantity': 1, 'product': {'product_id': 5, 'description': 'Chicken Salad'}}, {'line_item_id': 4, 'quantity': 1, 'product': {'product_id': 7, 'description': 'Tilapia Piccata'}}, {'line_item_id': 5, 'quantity': 2, 'product': {'product_id': 8, 'description': 'Brocolli Stir Fry'}}]}, {'sale_id': 169216, 'sale_date': '2020-06-09', 'total_amount': 144, 'customer': {'customer_id': 4198, 'first_name': 'Andreana', 'last_name': 'Drew', 'street': '11039 Cordelia Alley', 'city': 'El Sobrante', 'state': 'CA', 'zip': '94803', 'closest_store_id': 1, 'distance': 7}, 'line_items': [{'line_item_id': 1, 'quantity': 3, 'product': {'product_id': 1, 'description': 'Pistachio Salmon'}}, {'line_item_id': 2, 'quantity': 1, 'product': {'product_id': 3, 'description': 'Spinach Orzo'}}, {'line_item_id': 3, 'quantity': 4, 'product': {'product_id': 4, 'description': 'Eggplant Lasagna'}}, {'line_item_id': 4, 'quantity': 1, 'product': {'product_id': 5, 'description': 'Chicken Salad'}}, {'line_item_id': 5, 'quantity': 2, 'product': {'product_id': 6, 'description': 'Curry Chicken'}}, {'line_item_id': 6, 'quantity': 1, 'product': {'product_id': 8, 'description': 'Brocolli Stir Fry'}}]}, {'sale_id': 179181, 'sale_date': '2020-06-18', 'total_amount': 48, 'customer': {'customer_id': 5394, 'first_name': 'Katharina', 'last_name': 'Bavester', 'street': '522 Cordelia Lane', 'city': 'San Francisco', 'state': 'CA', 'zip': '94102', 'closest_store_id': 1, 'distance': 10}, 'line_items': [{'line_item_id': 1, 'quantity': 1, 'product': {'product_id': 2, 'description': 'Teriyaki Chicken'}}, {'line_item_id': 2, 'quantity': 1, 'product': {'product_id': 3, 'description': 'Spinach Orzo'}}, {'line_item_id': 3, 'quantity': 1, 'product': {'product_id': 4, 'description': 'Eggplant Lasagna'}}, {'line_item_id': 4, 'quantity': 1, 'product': {'product_id': 6, 'description': 'Curry Chicken'}}]}, {'sale_id': 181897, 'sale_date': '2020-06-20', 'total_amount': 48, 'customer': {'customer_id': 1958, 'first_name': 'Theresina', 'last_name': 'Penswick', 'street': '5975 Twin Pines Hill', 'city': 'Berkeley', 'state': 'CA', 'zip': '94707', 'closest_store_id': 1, 'distance': 3}, 'line_items': [{'line_item_id': 1, 'quantity': 1, 'product': {'product_id': 1, 'description': 'Pistachio Salmon'}}, {'line_item_id': 2, 'quantity': 1, 'product': {'product_id': 6, 'description': 'Curry Chicken'}}, {'line_item_id': 3, 'quantity': 2, 'product': {'product_id': 8, 'description': 'Brocolli Stir Fry'}}]}, {'sale_id': 248269, 'sale_date': '2020-08-22', 'total_amount': 60, 'customer': {'customer_id': 4260, 'first_name': 'Dom', 'last_name': 'Risbrough', 'street': '3 Northland Crossing', 'city': 'Richmond', 'state': 'CA', 'zip': '94805', 'closest_store_id': 1, 'distance': 7}, 'line_items': [{'line_item_id': 1, 'quantity': 3, 'product': {'product_id': 1, 'description': 'Pistachio Salmon'}}, {'line_item_id': 2, 'quantity': 1, 'product': {'product_id': 5, 'description': 'Chicken Salad'}}, {'line_item_id': 3, 'quantity': 1, 'product': {'product_id': 8, 'description': 'Brocolli Stir Fry'}}]}, {'sale_id': 250031, 'sale_date': '2020-08-23', 'total_amount': 24, 'customer': {'customer_id': 6782, 'first_name': 'Lyndsay', 'last_name': 'Iuorio', 'street': '4 Thackeray Road', 'city': 'Walnut Creek', 'state': 'CA', 'zip': '94596', 'closest_store_id': 1, 'distance': 12}, 'line_items': [{'line_item_id': 1, 'quantity': 1, 'product': {'product_id': 1, 'description': 'Pistachio Salmon'}}, {'line_item_id': 2, 'quantity': 1, 'product': {'product_id': 4, 'description': 'Eggplant Lasagna'}}]}, {'sale_id': 255285, 'sale_date': '2020-08-29', 'total_amount': 36, 'customer': {'customer_id': 563, 'first_name': 'Rose', 'last_name': 'Slimings', 'street': '38 Iowa Street', 'city': 'Berkeley', 'state': 'CA', 'zip': '94704', 'closest_store_id': 1, 'distance': 1}, 'line_items': [{'line_item_id': 1, 'quantity': 1, 'product': {'product_id': 2, 'description': 'Teriyaki Chicken'}}, {'line_item_id': 2, 'quantity': 2, 'product': {'product_id': 4, 'description': 'Eggplant Lasagna'}}]}, {'sale_id': 263524, 'sale_date': '2020-09-07', 'total_amount': 48, 'customer': {'customer_id': 1991, 'first_name': 'Kevon', 'last_name': 'Wickett', 'street': '472 Arizona Court', 'city': 'Berkeley', 'state': 'CA', 'zip': '94707', 'closest_store_id': 1, 'distance': 3}, 'line_items': [{'line_item_id': 1, 'quantity': 2, 'product': {'product_id': 4, 'description': 'Eggplant Lasagna'}}, {'line_item_id': 2, 'quantity': 1, 'product': {'product_id': 6, 'description': 'Curry Chicken'}}, {'line_item_id': 3, 'quantity': 1, 'product': {'product_id': 8, 'description': 'Brocolli Stir Fry'}}]}]}\n"
     ]
    }
   ],
   "source": [
    "print(store_document)"
   ]
  },
  {
   "cell_type": "code",
   "execution_count": 18,
   "id": "cf5d7459",
   "metadata": {},
   "outputs": [
    {
     "name": "stdout",
     "output_type": "stream",
     "text": [
      "{'_id': ObjectId('6193126330ae9979ce863157'),\n",
      " 'city': 'Berkeley',\n",
      " 'latitude': 37.8555,\n",
      " 'longitude': -122.2604,\n",
      " 'sales': [{'customer': {'city': 'Alameda',\n",
      "                         'closest_store_id': 1,\n",
      "                         'customer_id': 3491,\n",
      "                         'distance': 6,\n",
      "                         'first_name': 'Siouxie',\n",
      "                         'last_name': \"M'Quharge\",\n",
      "                         'state': 'CA',\n",
      "                         'street': '747 Westridge Center',\n",
      "                         'zip': '94501'},\n",
      "            'line_items': [{'line_item_id': 1,\n",
      "                            'product': {'description': 'Pistachio Salmon',\n",
      "                                        'product_id': 1},\n",
      "                            'quantity': 1},\n",
      "                           {'line_item_id': 2,\n",
      "                            'product': {'description': 'Brocolli Stir Fry',\n",
      "                                        'product_id': 8},\n",
      "                            'quantity': 1}],\n",
      "            'sale_date': '2020-04-30',\n",
      "            'sale_id': 128112,\n",
      "            'total_amount': 24},\n",
      "           {'customer': {'city': 'Oakland',\n",
      "                         'closest_store_id': 1,\n",
      "                         'customer_id': 1597,\n",
      "                         'distance': 3,\n",
      "                         'first_name': 'Norry',\n",
      "                         'last_name': 'Macauley',\n",
      "                         'state': 'CA',\n",
      "                         'street': '654 Sommers Plaza',\n",
      "                         'zip': '94612'},\n",
      "            'line_items': [{'line_item_id': 1,\n",
      "                            'product': {'description': 'Pistachio Salmon',\n",
      "                                        'product_id': 1},\n",
      "                            'quantity': 1},\n",
      "                           {'line_item_id': 2,\n",
      "                            'product': {'description': 'Teriyaki Chicken',\n",
      "                                        'product_id': 2},\n",
      "                            'quantity': 1},\n",
      "                           {'line_item_id': 3,\n",
      "                            'product': {'description': 'Eggplant Lasagna',\n",
      "                                        'product_id': 4},\n",
      "                            'quantity': 2},\n",
      "                           {'line_item_id': 4,\n",
      "                            'product': {'description': 'Curry Chicken',\n",
      "                                        'product_id': 6},\n",
      "                            'quantity': 1},\n",
      "                           {'line_item_id': 5,\n",
      "                            'product': {'description': 'Brocolli Stir Fry',\n",
      "                                        'product_id': 8},\n",
      "                            'quantity': 2}],\n",
      "            'sale_date': '2020-05-16',\n",
      "            'sale_id': 144249,\n",
      "            'total_amount': 84},\n",
      "           {'customer': {'city': 'El Sobrante',\n",
      "                         'closest_store_id': 1,\n",
      "                         'customer_id': 4159,\n",
      "                         'distance': 7,\n",
      "                         'first_name': 'Cheryl',\n",
      "                         'last_name': 'Broe',\n",
      "                         'state': 'CA',\n",
      "                         'street': '7 Ruskin Alley',\n",
      "                         'zip': '94803'},\n",
      "            'line_items': [{'line_item_id': 1,\n",
      "                            'product': {'description': 'Pistachio Salmon',\n",
      "                                        'product_id': 1},\n",
      "                            'quantity': 3},\n",
      "                           {'line_item_id': 2,\n",
      "                            'product': {'description': 'Spinach Orzo',\n",
      "                                        'product_id': 3},\n",
      "                            'quantity': 1},\n",
      "                           {'line_item_id': 3,\n",
      "                            'product': {'description': 'Chicken Salad',\n",
      "                                        'product_id': 5},\n",
      "                            'quantity': 1},\n",
      "                           {'line_item_id': 4,\n",
      "                            'product': {'description': 'Tilapia Piccata',\n",
      "                                        'product_id': 7},\n",
      "                            'quantity': 1},\n",
      "                           {'line_item_id': 5,\n",
      "                            'product': {'description': 'Brocolli Stir Fry',\n",
      "                                        'product_id': 8},\n",
      "                            'quantity': 2}],\n",
      "            'sale_date': '2020-06-04',\n",
      "            'sale_id': 163141,\n",
      "            'total_amount': 96},\n",
      "           {'customer': {'city': 'El Sobrante',\n",
      "                         'closest_store_id': 1,\n",
      "                         'customer_id': 4198,\n",
      "                         'distance': 7,\n",
      "                         'first_name': 'Andreana',\n",
      "                         'last_name': 'Drew',\n",
      "                         'state': 'CA',\n",
      "                         'street': '11039 Cordelia Alley',\n",
      "                         'zip': '94803'},\n",
      "            'line_items': [{'line_item_id': 1,\n",
      "                            'product': {'description': 'Pistachio Salmon',\n",
      "                                        'product_id': 1},\n",
      "                            'quantity': 3},\n",
      "                           {'line_item_id': 2,\n",
      "                            'product': {'description': 'Spinach Orzo',\n",
      "                                        'product_id': 3},\n",
      "                            'quantity': 1},\n",
      "                           {'line_item_id': 3,\n",
      "                            'product': {'description': 'Eggplant Lasagna',\n",
      "                                        'product_id': 4},\n",
      "                            'quantity': 4},\n",
      "                           {'line_item_id': 4,\n",
      "                            'product': {'description': 'Chicken Salad',\n",
      "                                        'product_id': 5},\n",
      "                            'quantity': 1},\n",
      "                           {'line_item_id': 5,\n",
      "                            'product': {'description': 'Curry Chicken',\n",
      "                                        'product_id': 6},\n",
      "                            'quantity': 2},\n",
      "                           {'line_item_id': 6,\n",
      "                            'product': {'description': 'Brocolli Stir Fry',\n",
      "                                        'product_id': 8},\n",
      "                            'quantity': 1}],\n",
      "            'sale_date': '2020-06-09',\n",
      "            'sale_id': 169216,\n",
      "            'total_amount': 144},\n",
      "           {'customer': {'city': 'San Francisco',\n",
      "                         'closest_store_id': 1,\n",
      "                         'customer_id': 5394,\n",
      "                         'distance': 10,\n",
      "                         'first_name': 'Katharina',\n",
      "                         'last_name': 'Bavester',\n",
      "                         'state': 'CA',\n",
      "                         'street': '522 Cordelia Lane',\n",
      "                         'zip': '94102'},\n",
      "            'line_items': [{'line_item_id': 1,\n",
      "                            'product': {'description': 'Teriyaki Chicken',\n",
      "                                        'product_id': 2},\n",
      "                            'quantity': 1},\n",
      "                           {'line_item_id': 2,\n",
      "                            'product': {'description': 'Spinach Orzo',\n",
      "                                        'product_id': 3},\n",
      "                            'quantity': 1},\n",
      "                           {'line_item_id': 3,\n",
      "                            'product': {'description': 'Eggplant Lasagna',\n",
      "                                        'product_id': 4},\n",
      "                            'quantity': 1},\n",
      "                           {'line_item_id': 4,\n",
      "                            'product': {'description': 'Curry Chicken',\n",
      "                                        'product_id': 6},\n",
      "                            'quantity': 1}],\n",
      "            'sale_date': '2020-06-18',\n",
      "            'sale_id': 179181,\n",
      "            'total_amount': 48},\n",
      "           {'customer': {'city': 'Berkeley',\n",
      "                         'closest_store_id': 1,\n",
      "                         'customer_id': 1958,\n",
      "                         'distance': 3,\n",
      "                         'first_name': 'Theresina',\n",
      "                         'last_name': 'Penswick',\n",
      "                         'state': 'CA',\n",
      "                         'street': '5975 Twin Pines Hill',\n",
      "                         'zip': '94707'},\n",
      "            'line_items': [{'line_item_id': 1,\n",
      "                            'product': {'description': 'Pistachio Salmon',\n",
      "                                        'product_id': 1},\n",
      "                            'quantity': 1},\n",
      "                           {'line_item_id': 2,\n",
      "                            'product': {'description': 'Curry Chicken',\n",
      "                                        'product_id': 6},\n",
      "                            'quantity': 1},\n",
      "                           {'line_item_id': 3,\n",
      "                            'product': {'description': 'Brocolli Stir Fry',\n",
      "                                        'product_id': 8},\n",
      "                            'quantity': 2}],\n",
      "            'sale_date': '2020-06-20',\n",
      "            'sale_id': 181897,\n",
      "            'total_amount': 48},\n",
      "           {'customer': {'city': 'Richmond',\n",
      "                         'closest_store_id': 1,\n",
      "                         'customer_id': 4260,\n",
      "                         'distance': 7,\n",
      "                         'first_name': 'Dom',\n",
      "                         'last_name': 'Risbrough',\n",
      "                         'state': 'CA',\n",
      "                         'street': '3 Northland Crossing',\n",
      "                         'zip': '94805'},\n",
      "            'line_items': [{'line_item_id': 1,\n",
      "                            'product': {'description': 'Pistachio Salmon',\n",
      "                                        'product_id': 1},\n",
      "                            'quantity': 3},\n",
      "                           {'line_item_id': 2,\n",
      "                            'product': {'description': 'Chicken Salad',\n",
      "                                        'product_id': 5},\n",
      "                            'quantity': 1},\n",
      "                           {'line_item_id': 3,\n",
      "                            'product': {'description': 'Brocolli Stir Fry',\n",
      "                                        'product_id': 8},\n",
      "                            'quantity': 1}],\n",
      "            'sale_date': '2020-08-22',\n",
      "            'sale_id': 248269,\n",
      "            'total_amount': 60},\n",
      "           {'customer': {'city': 'Walnut Creek',\n",
      "                         'closest_store_id': 1,\n",
      "                         'customer_id': 6782,\n",
      "                         'distance': 12,\n",
      "                         'first_name': 'Lyndsay',\n",
      "                         'last_name': 'Iuorio',\n",
      "                         'state': 'CA',\n",
      "                         'street': '4 Thackeray Road',\n",
      "                         'zip': '94596'},\n",
      "            'line_items': [{'line_item_id': 1,\n",
      "                            'product': {'description': 'Pistachio Salmon',\n",
      "                                        'product_id': 1},\n",
      "                            'quantity': 1},\n",
      "                           {'line_item_id': 2,\n",
      "                            'product': {'description': 'Eggplant Lasagna',\n",
      "                                        'product_id': 4},\n",
      "                            'quantity': 1}],\n",
      "            'sale_date': '2020-08-23',\n",
      "            'sale_id': 250031,\n",
      "            'total_amount': 24},\n",
      "           {'customer': {'city': 'Berkeley',\n",
      "                         'closest_store_id': 1,\n",
      "                         'customer_id': 563,\n",
      "                         'distance': 1,\n",
      "                         'first_name': 'Rose',\n",
      "                         'last_name': 'Slimings',\n",
      "                         'state': 'CA',\n",
      "                         'street': '38 Iowa Street',\n",
      "                         'zip': '94704'},\n",
      "            'line_items': [{'line_item_id': 1,\n",
      "                            'product': {'description': 'Teriyaki Chicken',\n",
      "                                        'product_id': 2},\n",
      "                            'quantity': 1},\n",
      "                           {'line_item_id': 2,\n",
      "                            'product': {'description': 'Eggplant Lasagna',\n",
      "                                        'product_id': 4},\n",
      "                            'quantity': 2}],\n",
      "            'sale_date': '2020-08-29',\n",
      "            'sale_id': 255285,\n",
      "            'total_amount': 36},\n",
      "           {'customer': {'city': 'Berkeley',\n",
      "                         'closest_store_id': 1,\n",
      "                         'customer_id': 1991,\n",
      "                         'distance': 3,\n",
      "                         'first_name': 'Kevon',\n",
      "                         'last_name': 'Wickett',\n",
      "                         'state': 'CA',\n",
      "                         'street': '472 Arizona Court',\n",
      "                         'zip': '94707'},\n",
      "            'line_items': [{'line_item_id': 1,\n",
      "                            'product': {'description': 'Eggplant Lasagna',\n",
      "                                        'product_id': 4},\n",
      "                            'quantity': 2},\n",
      "                           {'line_item_id': 2,\n",
      "                            'product': {'description': 'Curry Chicken',\n",
      "                                        'product_id': 6},\n",
      "                            'quantity': 1},\n",
      "                           {'line_item_id': 3,\n",
      "                            'product': {'description': 'Brocolli Stir Fry',\n",
      "                                        'product_id': 8},\n",
      "                            'quantity': 1}],\n",
      "            'sale_date': '2020-09-07',\n",
      "            'sale_id': 263524,\n",
      "            'total_amount': 48}],\n",
      " 'state': 'CA',\n",
      " 'store_id': 1,\n",
      " 'street': '3000 Telegraph Ave',\n",
      " 'zip': '94705'}\n"
     ]
    }
   ],
   "source": [
    "pprint.pprint(store_document)"
   ]
  },
  {
   "cell_type": "markdown",
   "id": "7a0208e6",
   "metadata": {},
   "source": [
    "## Delete the stores collection; recreate the stores collection; load all the stores JSON objects into the collection; print the inserted_ids; "
   ]
  },
  {
   "cell_type": "code",
   "execution_count": 19,
   "id": "f2a6b903",
   "metadata": {},
   "outputs": [],
   "source": [
    "stores_collection.drop()"
   ]
  },
  {
   "cell_type": "code",
   "execution_count": 20,
   "id": "48a6a92c",
   "metadata": {},
   "outputs": [],
   "source": [
    "stores_collection = db[\"stores\"]"
   ]
  },
  {
   "cell_type": "code",
   "execution_count": 21,
   "id": "3eae3707",
   "metadata": {},
   "outputs": [],
   "source": [
    "inserted_documents = stores_collection.insert_many(stores_json_list)"
   ]
  },
  {
   "cell_type": "code",
   "execution_count": 22,
   "id": "23eabd7a",
   "metadata": {},
   "outputs": [
    {
     "name": "stdout",
     "output_type": "stream",
     "text": [
      "[ObjectId('6193126330ae9979ce863157'), ObjectId('6193130430ae9979ce863158'), ObjectId('6193130430ae9979ce863159'), ObjectId('6193130430ae9979ce86315a'), ObjectId('6193130430ae9979ce86315b')]\n"
     ]
    }
   ],
   "source": [
    "print(inserted_documents.inserted_ids)"
   ]
  },
  {
   "cell_type": "markdown",
   "id": "f5060055",
   "metadata": {},
   "source": [
    "## Query all the documents in the stores collection, loop through them, and print some info about each document "
   ]
  },
  {
   "cell_type": "code",
   "execution_count": 23,
   "id": "9dcdeca6",
   "metadata": {},
   "outputs": [
    {
     "name": "stdout",
     "output_type": "stream",
     "text": [
      "store_id: 1 city: Berkeley\n",
      "store_id: 2 city: Seattle\n",
      "store_id: 3 city: Dallas\n",
      "store_id: 4 city: Miami\n",
      "store_id: 5 city: Nashville\n"
     ]
    }
   ],
   "source": [
    "for store_document in stores_collection.find():\n",
    "    print(\"store_id:\", store_document['store_id'], \"city:\", store_document['city'])"
   ]
  },
  {
   "cell_type": "markdown",
   "id": "cff1c866",
   "metadata": {},
   "source": [
    "## Query using a filter object in the find() method"
   ]
  },
  {
   "cell_type": "code",
   "execution_count": 24,
   "id": "b9054b1b",
   "metadata": {},
   "outputs": [
    {
     "name": "stdout",
     "output_type": "stream",
     "text": [
      "store_id: 1 city: Berkeley\n"
     ]
    }
   ],
   "source": [
    "filter = { \"city\": \"Berkeley\" }\n",
    "    \n",
    "for store_document in stores_collection.find(filter):\n",
    "    print(\"store_id:\", store_document['store_id'], \"city:\", store_document['city'])"
   ]
  },
  {
   "cell_type": "code",
   "execution_count": 25,
   "id": "02b9ddad",
   "metadata": {},
   "outputs": [
    {
     "name": "stdout",
     "output_type": "stream",
     "text": [
      "store_id: 5 city: Nashville\n"
     ]
    }
   ],
   "source": [
    "filter = { \"city\": \"Nashville\" }\n",
    "    \n",
    "for store_document in stores_collection.find(filter):\n",
    "    print(\"store_id:\", store_document['store_id'], \"city:\", store_document['city'])"
   ]
  },
  {
   "cell_type": "code",
   "execution_count": 26,
   "id": "5217fbf7",
   "metadata": {},
   "outputs": [
    {
     "name": "stdout",
     "output_type": "stream",
     "text": [
      "store_id: 2 city: Seattle\n",
      "store_id: 4 city: Miami\n",
      "store_id: 5 city: Nashville\n"
     ]
    }
   ],
   "source": [
    "filter = { \"city\": { \"$gt\": \"M\"} }\n",
    "    \n",
    "for store_document in stores_collection.find(filter):\n",
    "    print(\"store_id:\", store_document['store_id'], \"city:\", store_document['city'])"
   ]
  },
  {
   "cell_type": "markdown",
   "id": "f5e73364",
   "metadata": {},
   "source": [
    "## Query on a nested field"
   ]
  },
  {
   "cell_type": "code",
   "execution_count": 27,
   "id": "592c9968",
   "metadata": {},
   "outputs": [
    {
     "name": "stdout",
     "output_type": "stream",
     "text": [
      "store_id: 1 city: Berkeley\n",
      "store_id: 4 city: Miami\n"
     ]
    }
   ],
   "source": [
    "filter = { \"sales.total_amount\": 60 }\n",
    "    \n",
    "for store_document in stores_collection.find(filter):\n",
    "    print(\"store_id:\", store_document['store_id'], \"city:\", store_document['city'])"
   ]
  },
  {
   "cell_type": "code",
   "execution_count": 28,
   "id": "f8316f6a",
   "metadata": {},
   "outputs": [
    {
     "name": "stdout",
     "output_type": "stream",
     "text": [
      "store_id: 1 city: Berkeley\n",
      "store_id: 2 city: Seattle\n",
      "store_id: 3 city: Dallas\n",
      "store_id: 4 city: Miami\n"
     ]
    }
   ],
   "source": [
    "filter = { \"sales.line_items.quantity\": 4 }\n",
    "    \n",
    "for store_document in stores_collection.find(filter):\n",
    "    print(\"store_id:\", store_document['store_id'], \"city:\", store_document['city'])"
   ]
  },
  {
   "cell_type": "markdown",
   "id": "baacf5ec",
   "metadata": {},
   "source": [
    "## Sort the results of a query in ascending order"
   ]
  },
  {
   "cell_type": "code",
   "execution_count": 29,
   "id": "09b02e8a",
   "metadata": {},
   "outputs": [
    {
     "name": "stdout",
     "output_type": "stream",
     "text": [
      "store_id: 4 city: Miami\n",
      "store_id: 5 city: Nashville\n",
      "store_id: 2 city: Seattle\n"
     ]
    }
   ],
   "source": [
    "filter = { \"city\": { \"$gt\": \"M\"} }\n",
    "    \n",
    "for store_document in stores_collection.find(filter).sort(\"city\"):\n",
    "    print(\"store_id:\", store_document['store_id'], \"city:\", store_document['city'])"
   ]
  },
  {
   "cell_type": "markdown",
   "id": "bb6fea5a",
   "metadata": {},
   "source": [
    "## Sort the results of a query in descending order"
   ]
  },
  {
   "cell_type": "code",
   "execution_count": 30,
   "id": "b68c3bf3",
   "metadata": {},
   "outputs": [
    {
     "name": "stdout",
     "output_type": "stream",
     "text": [
      "store_id: 2 city: Seattle\n",
      "store_id: 5 city: Nashville\n",
      "store_id: 4 city: Miami\n"
     ]
    }
   ],
   "source": [
    "filter = { \"city\": { \"$gt\": \"M\"} }\n",
    "    \n",
    "for store_document in stores_collection.find(filter).sort(\"city\", -1):\n",
    "    print(\"store_id:\", store_document['store_id'], \"city:\", store_document['city'])"
   ]
  },
  {
   "cell_type": "markdown",
   "id": "d78797b7",
   "metadata": {},
   "source": [
    "## Delete one document matching a filter"
   ]
  },
  {
   "cell_type": "code",
   "execution_count": 31,
   "id": "14e6bb8b",
   "metadata": {},
   "outputs": [
    {
     "data": {
      "text/plain": [
       "<pymongo.results.DeleteResult at 0x7fda3455cbc0>"
      ]
     },
     "execution_count": 31,
     "metadata": {},
     "output_type": "execute_result"
    }
   ],
   "source": [
    "filter = { \"city\": \"Berkeley\" }\n",
    "    \n",
    "stores_collection.delete_one(filter)\n"
   ]
  },
  {
   "cell_type": "code",
   "execution_count": 32,
   "id": "2c1c0d86",
   "metadata": {},
   "outputs": [
    {
     "name": "stdout",
     "output_type": "stream",
     "text": [
      "store_id: 2 city: Seattle\n",
      "store_id: 3 city: Dallas\n",
      "store_id: 4 city: Miami\n",
      "store_id: 5 city: Nashville\n"
     ]
    }
   ],
   "source": [
    "for store_document in stores_collection.find():\n",
    "    print(\"store_id:\", store_document['store_id'], \"city:\", store_document['city'])"
   ]
  },
  {
   "cell_type": "markdown",
   "id": "af890775",
   "metadata": {},
   "source": [
    "## Delete many documents matching a filter"
   ]
  },
  {
   "cell_type": "code",
   "execution_count": 33,
   "id": "cff91ac2",
   "metadata": {},
   "outputs": [
    {
     "data": {
      "text/plain": [
       "<pymongo.results.DeleteResult at 0x7fda3455cc80>"
      ]
     },
     "execution_count": 33,
     "metadata": {},
     "output_type": "execute_result"
    }
   ],
   "source": [
    "filter = { \"city\": { \"$gt\": \"N\"} }\n",
    "    \n",
    "stores_collection.delete_many(filter)"
   ]
  },
  {
   "cell_type": "code",
   "execution_count": 34,
   "id": "6cf7b280",
   "metadata": {},
   "outputs": [
    {
     "name": "stdout",
     "output_type": "stream",
     "text": [
      "store_id: 3 city: Dallas\n",
      "store_id: 4 city: Miami\n"
     ]
    }
   ],
   "source": [
    "for store_document in stores_collection.find():\n",
    "    print(\"store_id:\", store_document['store_id'], \"city:\", store_document['city'])"
   ]
  },
  {
   "cell_type": "markdown",
   "id": "a3b2fc20",
   "metadata": {},
   "source": [
    "## Delete all documents in a collection"
   ]
  },
  {
   "cell_type": "code",
   "execution_count": 35,
   "id": "30755537",
   "metadata": {},
   "outputs": [
    {
     "data": {
      "text/plain": [
       "<pymongo.results.DeleteResult at 0x7fda24240080>"
      ]
     },
     "execution_count": 35,
     "metadata": {},
     "output_type": "execute_result"
    }
   ],
   "source": [
    "filter = { }\n",
    "    \n",
    "stores_collection.delete_many(filter)"
   ]
  },
  {
   "cell_type": "code",
   "execution_count": 36,
   "id": "f8638cb6",
   "metadata": {},
   "outputs": [],
   "source": [
    "for store_document in stores_collection.find():\n",
    "    print(\"store_id:\", store_document['store_id'], \"city:\", store_document['city'])"
   ]
  },
  {
   "cell_type": "markdown",
   "id": "82fb1a92",
   "metadata": {},
   "source": [
    "## You try it\n",
    "\n",
    "## Create a collection called sales; load the file temp_sales_nested.json into the collection; run some queries on the collection\n",
    "\n",
    "## Create a collection called customers; load the file temp_customers_nested.json into the collection; run some queries on the collection"
   ]
  },
  {
   "cell_type": "code",
   "execution_count": null,
   "id": "a3c35d9d",
   "metadata": {},
   "outputs": [],
   "source": []
  }
 ],
 "metadata": {
  "kernelspec": {
   "display_name": "Python 3",
   "language": "python",
   "name": "python3"
  },
  "language_info": {
   "codemirror_mode": {
    "name": "ipython",
    "version": 3
   },
   "file_extension": ".py",
   "mimetype": "text/x-python",
   "name": "python",
   "nbconvert_exporter": "python",
   "pygments_lexer": "ipython3",
   "version": "3.8.8"
  }
 },
 "nbformat": 4,
 "nbformat_minor": 5
}
