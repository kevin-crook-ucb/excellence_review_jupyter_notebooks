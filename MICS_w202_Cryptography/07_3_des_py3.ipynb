{
 "cells": [
  {
   "cell_type": "markdown",
   "metadata": {
    "collapsed": false
   },
   "source": [
    "### UC Berkeley, MICS, W202-Cryptography\n",
    "### Week 07 Breakout 3\n",
    "### DES - Data Encryption Standard"
   ]
  },
  {
   "cell_type": "markdown",
   "metadata": {
    "collapsed": false
   },
   "source": [
    "In this breakout, we will see an example of the DES - Defense Encryption Standard"
   ]
  },
  {
   "cell_type": "code",
   "execution_count": 1,
   "metadata": {
    "collapsed": false
   },
   "outputs": [
    {
     "name": "stdout",
     "output_type": "stream",
     "text": [
      "Defaulting to user installation because normal site-packages is not writeable\r\n"
     ]
    },
    {
     "name": "stdout",
     "output_type": "stream",
     "text": [
      "Requirement already satisfied: pycryptodome==3.4.3 in /home/user/.local/lib/python3.7/site-packages (3.4.3)\r\n"
     ]
    }
   ],
   "source": [
    "# Run this cell first! The pip command may take a few minutes the first time it's run\n",
    "from sage.all import *\n",
    "!pip install pycryptodome==3.4.3\n",
    "from Crypto.Cipher import DES"
   ]
  },
  {
   "cell_type": "code",
   "execution_count": 2,
   "metadata": {
    "collapsed": false
   },
   "outputs": [
   ],
   "source": [
    "# using our key, create a DES object\n",
    "\n",
    "# the mode of ECB is electronic code block which means each block in independent\n",
    "# we will study block modes next week\n",
    "\n",
    "key = b'-8B key-'\n",
    "\n",
    "my_des = DES.new(key, DES.MODE_ECB)\n"
   ]
  },
  {
   "cell_type": "code",
   "execution_count": 3,
   "metadata": {
    "collapsed": false
   },
   "outputs": [
    {
     "data": {
      "text/plain": [
       "b'q\\x19\\xa4\\xee\\x86\\xd4\\xf2\\xa1G\\xdb\\xac\\xb00;\\xc7\\x0bn\\x18\\xc2*2,\\xdb\\x07'"
      ]
     },
     "execution_count": 3,
     "metadata": {
     },
     "output_type": "execute_result"
    }
   ],
   "source": [
    "# using our DES object encrypt some plaintext\n",
    "\n",
    "# ciphertext will be in binary format\n",
    "\n",
    "plaintext = b'sona si latine loqueris '\n",
    "\n",
    "ciphertext = my_des.encrypt(plaintext)\n",
    "\n",
    "ciphertext"
   ]
  },
  {
   "cell_type": "code",
   "execution_count": 4,
   "metadata": {
    "collapsed": false
   },
   "outputs": [
    {
     "data": {
      "text/plain": [
       "b'sona si latine loqueris '"
      ]
     },
     "execution_count": 4,
     "metadata": {
     },
     "output_type": "execute_result"
    }
   ],
   "source": [
    "# using our DES object decrypt the ciphertext back into the original plaintext\n",
    "\n",
    "decrypted_ciphertext = my_des.decrypt(ciphertext)\n",
    "\n",
    "decrypted_ciphertext"
   ]
  },
  {
   "cell_type": "code",
   "execution_count": 0,
   "metadata": {
    "collapsed": false
   },
   "outputs": [
   ],
   "source": [
   ]
  }
 ],
 "metadata": {
  "kernelspec": {
   "display_name": "SageMath 9.1",
   "language": "sagemath",
   "metadata": {
    "cocalc": {
     "description": "Open-source mathematical software system",
     "priority": 10,
     "url": "https://www.sagemath.org/"
    }
   },
   "name": "sage-9.1"
  },
  "language_info": {
   "codemirror_mode": {
    "name": "ipython",
    "version": 3
   },
   "file_extension": ".py",
   "mimetype": "text/x-python",
   "name": "python",
   "nbconvert_exporter": "python",
   "pygments_lexer": "ipython3",
   "version": "3.7.3"
  }
 },
 "nbformat": 4,
 "nbformat_minor": 4
}