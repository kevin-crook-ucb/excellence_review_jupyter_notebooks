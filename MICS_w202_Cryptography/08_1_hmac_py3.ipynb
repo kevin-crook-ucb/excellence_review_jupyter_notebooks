{
 "cells": [
  {
   "cell_type": "markdown",
   "metadata": {
    "collapsed": false
   },
   "source": [
    "### UC Berkeley, MICS, W202-Cryptography\n",
    "### Week 08 Breakout 1\n",
    "### HMAC - Keyed Hash Message Authentication Code"
   ]
  },
  {
   "cell_type": "markdown",
   "metadata": {
    "collapsed": false
   },
   "source": [
    "HMAC provides both authentication and integrity in one operation. \n",
    "\n",
    "HMAC does not provide encryption.  The message can be in either plaintext or ciphertext as needed.\n",
    "\n",
    "Authentication is provided by a key which is agreed upon between two parties and kept secret between the two parties.\n",
    "\n",
    "Integrity is provided by the hash part of the function, similar to hashes we studied previously.  If 1 byte of the message is changed, the hash will be different.  Any cryptographically secure hash function can be used.  In current usage, SHA256 is used.\n",
    "\n",
    "There are two pads which protect against certain types of attacks.  The OPAD outside pad which is repetitions of hex 5C.  The IPAD or inside pad which is repetitions of hex 36.\n"
   ]
  },
  {
   "cell_type": "code",
   "execution_count": 1,
   "metadata": {
    "collapsed": false
   },
   "outputs": [
    {
     "name": "stdout",
     "output_type": "stream",
     "text": [
      "Defaulting to user installation because normal site-packages is not writeable\r\n"
     ]
    },
    {
     "name": "stdout",
     "output_type": "stream",
     "text": [
      "Requirement already satisfied: pycryptodome==3.4.3 in /home/user/.local/lib/python3.7/site-packages (3.4.3)\r\n"
     ]
    }
   ],
   "source": [
    "# Run this cell first! The pip command may take a few minutes the first time it's run\n",
    "from sage.all import *\n",
    "!pip install pycryptodome==3.4.3\n",
    "from Crypto.Hash import HMAC"
   ]
  },
  {
   "cell_type": "code",
   "execution_count": 2,
   "metadata": {
    "collapsed": false
   },
   "outputs": [
    {
     "name": "stdout",
     "output_type": "stream",
     "text": [
      "d0ae2fdb2de552b6132f18a1ac77ad31\n"
     ]
    }
   ],
   "source": [
    "key = b'Swordfish'\n",
    "\n",
    "h = HMAC.new(key)\n",
    "\n",
    "message = b'Hello'\n",
    "\n",
    "h.update(message)\n",
    "\n",
    "print (h.hexdigest())"
   ]
  },
  {
   "cell_type": "code",
   "execution_count": 0,
   "metadata": {
    "collapsed": false
   },
   "outputs": [
   ],
   "source": [
   ]
  }
 ],
 "metadata": {
  "kernelspec": {
   "display_name": "SageMath 9.1",
   "language": "sagemath",
   "metadata": {
    "cocalc": {
     "description": "Open-source mathematical software system",
     "priority": 10,
     "url": "https://www.sagemath.org/"
    }
   },
   "name": "sage-9.1"
  },
  "language_info": {
   "codemirror_mode": {
    "name": "ipython",
    "version": 3
   },
   "file_extension": ".py",
   "mimetype": "text/x-python",
   "name": "python",
   "nbconvert_exporter": "python",
   "pygments_lexer": "ipython3",
   "version": "3.7.3"
  }
 },
 "nbformat": 4,
 "nbformat_minor": 4
}