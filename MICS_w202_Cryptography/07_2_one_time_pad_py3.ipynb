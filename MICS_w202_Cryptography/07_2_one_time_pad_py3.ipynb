{
 "cells": [
  {
   "cell_type": "markdown",
   "metadata": {
    "collapsed": false
   },
   "source": [
    "### UC Berkeley, MICS, W202-Cryptography\n",
    "### Week 07 Breakout 2\n",
    "### One Time Pad"
   ]
  },
  {
   "cell_type": "markdown",
   "metadata": {
    "collapsed": false
   },
   "source": [
    "In this breakout, we will examine the One Time Pad.\n",
    "\n",
    "One Time Pad uses a key that is a bit string of random bits that is the same size in bits as the plaintext. \n",
    "\n",
    "To encrypt:\n",
    "\n",
    "ciphertext = plaintext XOR key\n",
    "\n",
    "To decrypt:\n",
    "\n",
    "plaintext = ciphertext XOR key\n",
    "\n",
    "Security:\n",
    "\n",
    "* if the key is only used once, and it's generated from a cryptographically secure PRNG, it's the most secure encryption\n",
    "\n",
    "* however, if the key is used more than once, it's probaby the least secure encryption\n",
    "\n",
    "As discussed in the lectures, one time pads are not very practical since they rely on a key the same size as the plaintext, require that keys only be used once, and the problem of key exchange.\n",
    "\n",
    "One possible scheme would be to use a big file of random bits (or in the old days, a tape).  Each time we get want to encrypt, we consume bits from the file (or tape) and use that as the key.  Likewise, on the decrypting side, they consume bits from the file (or tape) and use that as the matching key."
   ]
  },
  {
   "cell_type": "code",
   "execution_count": 1,
   "metadata": {
    "collapsed": false
   },
   "outputs": [
   ],
   "source": [
    "from sage.all import *"
   ]
  },
  {
   "cell_type": "code",
   "execution_count": 2,
   "metadata": {
    "collapsed": false
   },
   "outputs": [
   ],
   "source": [
    "def my_print_binary(name, x, bits):\n",
    "    \"given a name, a number x, and a size, print the number in binary\"\n",
    "    \n",
    "    print (name, format(x, 'b').zfill(bits))"
   ]
  },
  {
   "cell_type": "code",
   "execution_count": 3,
   "metadata": {
    "collapsed": false
   },
   "outputs": [
   ],
   "source": [
    "def my_one_time_pad(plaintext, key):\n",
    "    \"given plaintext and a key do an xor and print details\"\n",
    "    \n",
    "    display_bits = max(plaintext.nbits(), key.nbits())\n",
    "    \n",
    "    my_print_binary('plaintext       = ', plaintext, display_bits)\n",
    "    my_print_binary('key             = ', key, display_bits)\n",
    "    \n",
    "    print (\"\")\n",
    "    \n",
    "    ciphertext = plaintext ^^ key\n",
    "    my_print_binary('ciphertext      = ', ciphertext, display_bits)\n",
    "    my_print_binary('key             = ', key, display_bits)\n",
    "    \n",
    "    print (\"\")\n",
    "    \n",
    "    decrypted_ciphertext = ciphertext ^^ key\n",
    "    my_print_binary('decrypted       = ', decrypted_ciphertext, display_bits)\n",
    "    "
   ]
  },
  {
   "cell_type": "code",
   "execution_count": 4,
   "metadata": {
    "collapsed": false
   },
   "outputs": [
    {
     "name": "stdout",
     "output_type": "stream",
     "text": [
      "plaintext       =  101\n",
      "key             =  111\n",
      "\n",
      "ciphertext      =  010\n",
      "key             =  111\n",
      "\n",
      "decrypted       =  101\n"
     ]
    }
   ],
   "source": [
    "my_one_time_pad(5,7)"
   ]
  },
  {
   "cell_type": "code",
   "execution_count": 5,
   "metadata": {
    "collapsed": false
   },
   "outputs": [
    {
     "name": "stdout",
     "output_type": "stream",
     "text": [
      "plaintext       =  1101\n",
      "key             =  1111\n",
      "\n",
      "ciphertext      =  0010\n",
      "key             =  1111\n",
      "\n",
      "decrypted       =  1101\n"
     ]
    }
   ],
   "source": [
    "my_one_time_pad(13,15)"
   ]
  },
  {
   "cell_type": "code",
   "execution_count": 6,
   "metadata": {
    "collapsed": false
   },
   "outputs": [
    {
     "name": "stdout",
     "output_type": "stream",
     "text": [
      "plaintext       =  1010011\n",
      "key             =  1100010\n",
      "\n",
      "ciphertext      =  0110001\n",
      "key             =  1100010\n",
      "\n",
      "decrypted       =  1010011\n"
     ]
    }
   ],
   "source": [
    "my_one_time_pad(83, 98)"
   ]
  },
  {
   "cell_type": "code",
   "execution_count": 7,
   "metadata": {
    "collapsed": false
   },
   "outputs": [
    {
     "name": "stdout",
     "output_type": "stream",
     "text": [
      "plaintext       =  0000001000001010001111111000100000001101100100101100010101101\n",
      "key             =  1101101111000100001011101010001001100000111011101010000110010\n",
      "\n",
      "ciphertext      =  1101100111001110000100010010101001101101011111000110010011111\n",
      "key             =  1101101111000100001011101010001001100000111011101010000110010\n"
     ]
    },
    {
     "name": "stdout",
     "output_type": "stream",
     "text": [
      "\n",
      "decrypted       =  0000001000001010001111111000100000001101100100101100010101101\n"
     ]
    }
   ],
   "source": [
    "my_one_time_pad(18374973927348397,1979479183085917234)"
   ]
  },
  {
   "cell_type": "code",
   "execution_count": 0,
   "metadata": {
    "collapsed": false
   },
   "outputs": [
   ],
   "source": [
   ]
  }
 ],
 "metadata": {
  "kernelspec": {
   "display_name": "SageMath 9.1",
   "language": "sagemath",
   "metadata": {
    "cocalc": {
     "description": "Open-source mathematical software system",
     "priority": 10,
     "url": "https://www.sagemath.org/"
    }
   },
   "name": "sage-9.1"
  },
  "language_info": {
   "codemirror_mode": {
    "name": "ipython",
    "version": 3
   },
   "file_extension": ".py",
   "mimetype": "text/x-python",
   "name": "python",
   "nbconvert_exporter": "python",
   "pygments_lexer": "ipython3",
   "version": "3.7.3"
  }
 },
 "nbformat": 4,
 "nbformat_minor": 4
}