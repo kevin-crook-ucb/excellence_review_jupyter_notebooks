{
 "cells": [
  {
   "cell_type": "markdown",
   "id": "af676b54",
   "metadata": {},
   "source": [
    "# Orders Lambda Batch"
   ]
  },
  {
   "cell_type": "code",
   "execution_count": 1,
   "id": "a1da48d2",
   "metadata": {},
   "outputs": [],
   "source": [
    "import kafka\n",
    "\n",
    "import pprint\n",
    "\n",
    "from IPython.display import clear_output\n",
    "\n",
    "import time"
   ]
  },
  {
   "cell_type": "markdown",
   "id": "113398d5",
   "metadata": {},
   "source": [
    "## Subscribe and read all the messages from the topic;  we can run this muliple times and always get all the messages; there can be an unlimited number of subscribers"
   ]
  },
  {
   "cell_type": "code",
   "execution_count": 2,
   "id": "7d75a407",
   "metadata": {},
   "outputs": [],
   "source": [
    "topic = \"orders_pub_sub\"\n",
    "\n",
    "subscriber_read_all = kafka.KafkaConsumer(topic, \n",
    "                                          bootstrap_servers=['kafka:29092'], \n",
    "                                          auto_offset_reset='earliest')\n"
   ]
  },
  {
   "cell_type": "code",
   "execution_count": 3,
   "id": "79263204",
   "metadata": {},
   "outputs": [
    {
     "name": "stdout",
     "output_type": "stream",
     "text": [
      "Offset: 0    Value: b'{\"order_id\": 13928, \"sub_total\": 859.5, \"tax\": 68.76, \"total\": 928.26, \"lin'\n",
      "Offset: 1    Value: b'{\"order_id\": 13929, \"sub_total\": 379.6, \"tax\": 30.37, \"total\": 409.97, \"lin'\n",
      "Offset: 2    Value: b'{\"order_id\": 13930, \"sub_total\": 269.55, \"tax\": 21.56, \"total\": 291.11, \"li'\n",
      "Offset: 3    Value: b'{\"order_id\": 13931, \"sub_total\": 2608.45, \"tax\": 208.68, \"total\": 2817.13, '\n",
      "Offset: 4    Value: b'{\"order_id\": 13932, \"sub_total\": 2508.6, \"tax\": 200.69, \"total\": 2709.29, \"'\n",
      "\n",
      "... only showing a max of first 5 and max of last 5 ... \n",
      "\n",
      "Offset: 666    Value: b'{\"order_id\": 14594, \"sub_total\": 739.7, \"tax\": 59.18, \"total\": 798.88, \"lin'\n",
      "Offset: 667    Value: b'{\"order_id\": 14595, \"sub_total\": 149.75, \"tax\": 11.98, \"total\": 161.73, \"li'\n",
      "Offset: 668    Value: b'{\"order_id\": 14596, \"sub_total\": 2019.1, \"tax\": 161.53, \"total\": 2180.63, \"'\n",
      "Offset: 669    Value: b'{\"order_id\": 14597, \"sub_total\": 149.75, \"tax\": 11.98, \"total\": 161.73, \"li'\n",
      "Offset: 670    Value: b'{\"order_id\": 14598, \"sub_total\": 959.4, \"tax\": 76.75, \"total\": 1036.15, \"li'\n"
     ]
    }
   ],
   "source": [
    "if subscriber_read_all.assignment():\n",
    "\n",
    "    subscriber_read_all.seek_to_beginning()\n",
    "\n",
    "message_list = []\n",
    "\n",
    "while (True):\n",
    "    \n",
    "    poll_result = subscriber_read_all.poll(timeout_ms=500)\n",
    "    \n",
    "    if poll_result == {}:\n",
    "        break\n",
    "\n",
    "    items = poll_result.items()\n",
    "\n",
    "    for (topic, messages) in items:\n",
    "    \n",
    "        for message in messages:\n",
    "            \n",
    "            message_list.append([message.offset, message.value])\n",
    "            \n",
    "i = 0\n",
    "\n",
    "for message in message_list:\n",
    "    \n",
    "    if (i < 5) or (i > len(message_list) - 6):\n",
    "        print(\"Offset:\", message[0], \"   Value:\", message[1][:75])\n",
    "   \n",
    "    if i == 5:\n",
    "        print(\"\\n... only showing a max of first 5 and max of last 5 ... \\n\")\n",
    "        \n",
    "    i += 1\n",
    "    \n",
    "    "
   ]
  },
  {
   "cell_type": "markdown",
   "id": "5f6e876a",
   "metadata": {},
   "source": [
    "## Subscribe and read in batch mode;  read all the messages from the topic the first time we read; read only new messages on subsequent reads; we have a defined batch interval, such as every day, every hour, every 10 minutes, every 1 minute; here we will use 5 seconds not to waste time waiting;  Zookeeper will keep track of the offsets for us"
   ]
  },
  {
   "cell_type": "code",
   "execution_count": 4,
   "id": "20665253",
   "metadata": {},
   "outputs": [],
   "source": [
    "topic = \"orders_pub_sub\"\n",
    "\n",
    "subscriber_batch = kafka.KafkaConsumer(topic, \n",
    "                                       bootstrap_servers=['kafka:29092'], \n",
    "                                       auto_offset_reset='earliest')\n"
   ]
  },
  {
   "cell_type": "code",
   "execution_count": 5,
   "id": "0c47cc2a",
   "metadata": {},
   "outputs": [
    {
     "name": "stdout",
     "output_type": "stream",
     "text": [
      "\n",
      "=================================\n",
      "   Orders Lambda Batch Process\n",
      "=================================\n",
      "\n",
      "\n",
      "------------------------\n",
      "   Batch  34\n",
      "------------------------\n",
      "\n",
      "\n",
      "Offset: 761    Value: b'{\"order_id\": 14689, \"sub_total\": 89.85, \"tax\": 7.19, \"total\": 97.04, \"line_'\n",
      "Offset: 762    Value: b'{\"order_id\": 14690, \"sub_total\": 1399.45, \"tax\": 111.96, \"total\": 1511.41, '\n",
      "Offset: 763    Value: b'{\"order_id\": 14691, \"sub_total\": 269.55, \"tax\": 21.56, \"total\": 291.11, \"li'\n"
     ]
    },
    {
     "ename": "KeyboardInterrupt",
     "evalue": "",
     "output_type": "error",
     "traceback": [
      "\u001b[0;31m---------------------------------------------------------------------------\u001b[0m",
      "\u001b[0;31mKeyboardInterrupt\u001b[0m                         Traceback (most recent call last)",
      "\u001b[0;32m<ipython-input-5-69dc7f9482c7>\u001b[0m in \u001b[0;36m<module>\u001b[0;34m\u001b[0m\n\u001b[1;32m     34\u001b[0m             \u001b[0mbatch_number\u001b[0m \u001b[0;34m+=\u001b[0m \u001b[0;36m1\u001b[0m\u001b[0;34m\u001b[0m\u001b[0;34m\u001b[0m\u001b[0m\n\u001b[1;32m     35\u001b[0m \u001b[0;34m\u001b[0m\u001b[0m\n\u001b[0;32m---> 36\u001b[0;31m         \u001b[0mtime\u001b[0m\u001b[0;34m.\u001b[0m\u001b[0msleep\u001b[0m\u001b[0;34m(\u001b[0m\u001b[0mbatch_time_interval\u001b[0m\u001b[0;34m)\u001b[0m\u001b[0;34m\u001b[0m\u001b[0;34m\u001b[0m\u001b[0m\n\u001b[0m\u001b[1;32m     37\u001b[0m \u001b[0;34m\u001b[0m\u001b[0m\n\u001b[1;32m     38\u001b[0m     \u001b[0;32melse\u001b[0m\u001b[0;34m:\u001b[0m\u001b[0;34m\u001b[0m\u001b[0;34m\u001b[0m\u001b[0m\n",
      "\u001b[0;31mKeyboardInterrupt\u001b[0m: "
     ]
    }
   ],
   "source": [
    "batch_time_interval = 5.0\n",
    "\n",
    "if subscriber_batch.assignment():\n",
    "\n",
    "    subscriber_batch.seek_to_beginning()\n",
    "\n",
    "batch_number = 1\n",
    "\n",
    "message_list = []\n",
    "\n",
    "while (True):\n",
    "    \n",
    "    poll_result = subscriber_batch.poll(timeout_ms=500)\n",
    "    \n",
    "    if poll_result == {}:\n",
    "        \n",
    "        if len(message_list) > 0:\n",
    "            \n",
    "            clear_output(wait=True)\n",
    "            \n",
    "            print(\"\\n=================================\")\n",
    "            print(\"   Orders Lambda Batch Process\")\n",
    "            print(\"=================================\\n\")\n",
    "            print(\"\\n------------------------\")\n",
    "            print(\"   Batch \", batch_number)\n",
    "            print(\"------------------------\\n\\n\")\n",
    "            \n",
    "            for message in message_list:\n",
    "                \n",
    "                print(\"Offset:\", message[0], \"   Value:\", message[1][:75])\n",
    "                \n",
    "            message_list = []\n",
    "            \n",
    "            batch_number += 1\n",
    "            \n",
    "        time.sleep(batch_time_interval)\n",
    "              \n",
    "    else:\n",
    "\n",
    "        items = poll_result.items()\n",
    "\n",
    "        for (topic, messages) in items:\n",
    "    \n",
    "            for message in messages:\n",
    "        \n",
    "                message_list.append([message.offset, message.value])\n"
   ]
  },
  {
   "cell_type": "markdown",
   "id": "a328fbc7",
   "metadata": {},
   "source": [
    "## You try it - demonstrate that 2 or more subscribers can subscribe to the same topic at the same time and both receive the same data;  make 1 or more copies of orders_lambda_batch and run multiple subscribers, both reading all and reading in batch mode"
   ]
  },
  {
   "cell_type": "code",
   "execution_count": null,
   "id": "168b3eee",
   "metadata": {},
   "outputs": [],
   "source": []
  }
 ],
 "metadata": {
  "kernelspec": {
   "display_name": "Python 3",
   "language": "python",
   "name": "python3"
  },
  "language_info": {
   "codemirror_mode": {
    "name": "ipython",
    "version": 3
   },
   "file_extension": ".py",
   "mimetype": "text/x-python",
   "name": "python",
   "nbconvert_exporter": "python",
   "pygments_lexer": "ipython3",
   "version": "3.8.8"
  }
 },
 "nbformat": 4,
 "nbformat_minor": 5
}
