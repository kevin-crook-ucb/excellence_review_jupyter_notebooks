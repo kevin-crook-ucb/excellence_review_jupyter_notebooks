{
 "cells": [
  {
   "cell_type": "markdown",
   "id": "9e0a5e38",
   "metadata": {},
   "source": [
    "# Web Client Solutions"
   ]
  },
  {
   "cell_type": "code",
   "execution_count": 2,
   "id": "eb21ec2e",
   "metadata": {},
   "outputs": [],
   "source": [
    "import requests\n",
    "\n",
    "import pprint"
   ]
  },
  {
   "cell_type": "markdown",
   "id": "88c2dd2f",
   "metadata": {},
   "source": [
    "## You try it - add an API call for route /api/stores which returns the stores query results as JSON; solution is in web_server_solutions and web_client_solutions\n"
   ]
  },
  {
   "cell_type": "code",
   "execution_count": 27,
   "id": "91c33c82",
   "metadata": {},
   "outputs": [
    {
     "name": "stderr",
     "output_type": "stream",
     "text": [
      "/opt/conda/lib/python3.8/site-packages/urllib3/connectionpool.py:1013: InsecureRequestWarning: Unverified HTTPS request is being made to host 'localhost'. Adding certificate verification is strongly advised. See: https://urllib3.readthedocs.io/en/latest/advanced-usage.html#ssl-warnings\n",
      "  warnings.warn(\n"
     ]
    }
   ],
   "source": [
    "r = requests.get(\"https://localhost/api/stores\", verify=False)"
   ]
  },
  {
   "cell_type": "code",
   "execution_count": 28,
   "id": "8b9abc78",
   "metadata": {},
   "outputs": [
    {
     "data": {
      "text/plain": [
       "200"
      ]
     },
     "execution_count": 28,
     "metadata": {},
     "output_type": "execute_result"
    }
   ],
   "source": [
    "r.status_code"
   ]
  },
  {
   "cell_type": "code",
   "execution_count": 29,
   "id": "8205f796",
   "metadata": {},
   "outputs": [
    {
     "data": {
      "text/plain": [
       "{'Content-Type': 'text/html; charset=utf-8', 'Content-Length': '335', 'Server': 'Werkzeug/1.0.1 Python/3.8.8', 'Date': 'Sat, 30 Oct 2021 17:55:11 GMT'}"
      ]
     },
     "execution_count": 29,
     "metadata": {},
     "output_type": "execute_result"
    }
   ],
   "source": [
    "r.headers"
   ]
  },
  {
   "cell_type": "code",
   "execution_count": 30,
   "id": "17e1ec42",
   "metadata": {},
   "outputs": [
    {
     "name": "stdout",
     "output_type": "stream",
     "text": [
      "{'Content-Length': '335',\n",
      " 'Content-Type': 'text/html; charset=utf-8',\n",
      " 'Date': 'Sat, 30 Oct 2021 17:55:11 GMT',\n",
      " 'Server': 'Werkzeug/1.0.1 Python/3.8.8'}\n"
     ]
    }
   ],
   "source": [
    "pprint.pprint(dict(r.headers))"
   ]
  },
  {
   "cell_type": "code",
   "execution_count": 31,
   "id": "2c7e3d3e",
   "metadata": {},
   "outputs": [
    {
     "data": {
      "text/plain": [
       "'[{\"store_id\": \"1\", \"city\": \"Berkeley\", \"total_sales\": \"25,041,060\"}, {\"store_id\": \"2\", \"city\": \"Seattle\", \"total_sales\": \"22,024,512\"}, {\"store_id\": \"3\", \"city\": \"Dallas\", \"total_sales\": \"19,408,260\"}, {\"store_id\": \"4\", \"city\": \"Miami\", \"total_sales\": \"17,692,404\"}, {\"store_id\": \"5\", \"city\": \"Nashville\", \"total_sales\": \"14,573,172\"}]'"
      ]
     },
     "execution_count": 31,
     "metadata": {},
     "output_type": "execute_result"
    }
   ],
   "source": [
    "r.text"
   ]
  },
  {
   "cell_type": "code",
   "execution_count": 32,
   "id": "bd63bc55",
   "metadata": {},
   "outputs": [
    {
     "data": {
      "text/plain": [
       "[{'store_id': '1', 'city': 'Berkeley', 'total_sales': '25,041,060'},\n",
       " {'store_id': '2', 'city': 'Seattle', 'total_sales': '22,024,512'},\n",
       " {'store_id': '3', 'city': 'Dallas', 'total_sales': '19,408,260'},\n",
       " {'store_id': '4', 'city': 'Miami', 'total_sales': '17,692,404'},\n",
       " {'store_id': '5', 'city': 'Nashville', 'total_sales': '14,573,172'}]"
      ]
     },
     "execution_count": 32,
     "metadata": {},
     "output_type": "execute_result"
    }
   ],
   "source": [
    "r.json()"
   ]
  },
  {
   "cell_type": "markdown",
   "id": "71525b1c",
   "metadata": {},
   "source": [
    "## You try it - modify an API call for route /api/stores to have the option of passing a store parameter; solution is in web_server_solutions and web_client_solutions\n"
   ]
  },
  {
   "cell_type": "code",
   "execution_count": 33,
   "id": "d297a5eb",
   "metadata": {},
   "outputs": [
    {
     "name": "stderr",
     "output_type": "stream",
     "text": [
      "/opt/conda/lib/python3.8/site-packages/urllib3/connectionpool.py:1013: InsecureRequestWarning: Unverified HTTPS request is being made to host 'localhost'. Adding certificate verification is strongly advised. See: https://urllib3.readthedocs.io/en/latest/advanced-usage.html#ssl-warnings\n",
      "  warnings.warn(\n"
     ]
    }
   ],
   "source": [
    "r = requests.get(\"https://localhost/api/stores?store=1\", verify=False)"
   ]
  },
  {
   "cell_type": "code",
   "execution_count": 34,
   "id": "8d9d8a6c",
   "metadata": {},
   "outputs": [
    {
     "data": {
      "text/plain": [
       "200"
      ]
     },
     "execution_count": 34,
     "metadata": {},
     "output_type": "execute_result"
    }
   ],
   "source": [
    "r.status_code"
   ]
  },
  {
   "cell_type": "code",
   "execution_count": 35,
   "id": "f0b3cbcc",
   "metadata": {},
   "outputs": [
    {
     "data": {
      "text/plain": [
       "{'Content-Type': 'text/html; charset=utf-8', 'Content-Length': '68', 'Server': 'Werkzeug/1.0.1 Python/3.8.8', 'Date': 'Sat, 30 Oct 2021 17:55:23 GMT'}"
      ]
     },
     "execution_count": 35,
     "metadata": {},
     "output_type": "execute_result"
    }
   ],
   "source": [
    "r.headers"
   ]
  },
  {
   "cell_type": "code",
   "execution_count": 36,
   "id": "2107f3b9",
   "metadata": {},
   "outputs": [
    {
     "name": "stdout",
     "output_type": "stream",
     "text": [
      "{'Content-Length': '68',\n",
      " 'Content-Type': 'text/html; charset=utf-8',\n",
      " 'Date': 'Sat, 30 Oct 2021 17:55:23 GMT',\n",
      " 'Server': 'Werkzeug/1.0.1 Python/3.8.8'}\n"
     ]
    }
   ],
   "source": [
    "pprint.pprint(dict(r.headers))"
   ]
  },
  {
   "cell_type": "code",
   "execution_count": 37,
   "id": "42252cbf",
   "metadata": {},
   "outputs": [
    {
     "data": {
      "text/plain": [
       "'[{\"store_id\": \"1\", \"city\": \"Berkeley\", \"total_sales\": \"25,041,060\"}]'"
      ]
     },
     "execution_count": 37,
     "metadata": {},
     "output_type": "execute_result"
    }
   ],
   "source": [
    "r.text"
   ]
  },
  {
   "cell_type": "code",
   "execution_count": 38,
   "id": "e5d4f1fd",
   "metadata": {},
   "outputs": [
    {
     "data": {
      "text/plain": [
       "[{'store_id': '1', 'city': 'Berkeley', 'total_sales': '25,041,060'}]"
      ]
     },
     "execution_count": 38,
     "metadata": {},
     "output_type": "execute_result"
    }
   ],
   "source": [
    "r.json()"
   ]
  },
  {
   "cell_type": "markdown",
   "id": "c334231c",
   "metadata": {},
   "source": [
    "## You try it - modify an API call for route /api/stores to have the option of passing a store parameter using JSON in a POST method; solution is in web_server_solutions and web_client_solutions\n"
   ]
  },
  {
   "cell_type": "code",
   "execution_count": 46,
   "id": "1af80b0e",
   "metadata": {},
   "outputs": [],
   "source": [
    "post_json = {\"store\": \"1\"}"
   ]
  },
  {
   "cell_type": "code",
   "execution_count": 47,
   "id": "1b397691",
   "metadata": {},
   "outputs": [
    {
     "name": "stderr",
     "output_type": "stream",
     "text": [
      "/opt/conda/lib/python3.8/site-packages/urllib3/connectionpool.py:1013: InsecureRequestWarning: Unverified HTTPS request is being made to host 'localhost'. Adding certificate verification is strongly advised. See: https://urllib3.readthedocs.io/en/latest/advanced-usage.html#ssl-warnings\n",
      "  warnings.warn(\n"
     ]
    }
   ],
   "source": [
    "r = requests.post(\"https://localhost/api/stores\", data=post_json, verify=False)"
   ]
  },
  {
   "cell_type": "code",
   "execution_count": 48,
   "id": "197c1258",
   "metadata": {},
   "outputs": [
    {
     "data": {
      "text/plain": [
       "200"
      ]
     },
     "execution_count": 48,
     "metadata": {},
     "output_type": "execute_result"
    }
   ],
   "source": [
    "r.status_code"
   ]
  },
  {
   "cell_type": "code",
   "execution_count": 49,
   "id": "54f1df64",
   "metadata": {},
   "outputs": [
    {
     "data": {
      "text/plain": [
       "{'Content-Type': 'text/html; charset=utf-8', 'Content-Length': '68', 'Server': 'Werkzeug/1.0.1 Python/3.8.8', 'Date': 'Sat, 30 Oct 2021 18:37:59 GMT'}"
      ]
     },
     "execution_count": 49,
     "metadata": {},
     "output_type": "execute_result"
    }
   ],
   "source": [
    "r.headers"
   ]
  },
  {
   "cell_type": "code",
   "execution_count": 50,
   "id": "48c1c1fb",
   "metadata": {},
   "outputs": [
    {
     "name": "stdout",
     "output_type": "stream",
     "text": [
      "{'Content-Length': '68',\n",
      " 'Content-Type': 'text/html; charset=utf-8',\n",
      " 'Date': 'Sat, 30 Oct 2021 18:37:59 GMT',\n",
      " 'Server': 'Werkzeug/1.0.1 Python/3.8.8'}\n"
     ]
    }
   ],
   "source": [
    "pprint.pprint(dict(r.headers))"
   ]
  },
  {
   "cell_type": "code",
   "execution_count": 51,
   "id": "2cb65aed",
   "metadata": {},
   "outputs": [
    {
     "data": {
      "text/plain": [
       "'[{\"store_id\": \"1\", \"city\": \"Berkeley\", \"total_sales\": \"25,041,060\"}]'"
      ]
     },
     "execution_count": 51,
     "metadata": {},
     "output_type": "execute_result"
    }
   ],
   "source": [
    "r.text"
   ]
  },
  {
   "cell_type": "code",
   "execution_count": 52,
   "id": "3c4e09ab",
   "metadata": {},
   "outputs": [
    {
     "data": {
      "text/plain": [
       "[{'store_id': '1', 'city': 'Berkeley', 'total_sales': '25,041,060'}]"
      ]
     },
     "execution_count": 52,
     "metadata": {},
     "output_type": "execute_result"
    }
   ],
   "source": [
    "r.json()"
   ]
  },
  {
   "cell_type": "code",
   "execution_count": null,
   "id": "ab42e82a",
   "metadata": {},
   "outputs": [],
   "source": []
  }
 ],
 "metadata": {
  "kernelspec": {
   "display_name": "Python 3",
   "language": "python",
   "name": "python3"
  },
  "language_info": {
   "codemirror_mode": {
    "name": "ipython",
    "version": 3
   },
   "file_extension": ".py",
   "mimetype": "text/x-python",
   "name": "python",
   "nbconvert_exporter": "python",
   "pygments_lexer": "ipython3",
   "version": "3.8.8"
  }
 },
 "nbformat": 4,
 "nbformat_minor": 5
}
