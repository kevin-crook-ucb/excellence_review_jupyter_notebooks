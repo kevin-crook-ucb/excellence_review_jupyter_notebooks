{
 "cells": [
  {
   "cell_type": "markdown",
   "metadata": {
    "collapsed": false
   },
   "source": [
    "### UC Berkeley, MICS, W202-Cryptography\n",
    "### Week 01 Breakout 4\n",
    "\n",
    "### RSA Asymmetric Cryptography\n",
    "\n",
    "RSA is based on finding two large prime numbers p and q and multiplying them to calculate n, essentially n = pq. n needs to be large enough such that it is computationally intractible to factor n into p and q.\n",
    "\n",
    "We have two keys, one for encryption, denoted e, and one for decryption denoted d.  \n",
    "\n",
    "e must be odd and realtively prime to Euler's phi = (p-1)(q-1).  Note that e does NOT have to be prime (a very common misconception)!  We typically use a large odd number randomly generated for e, although there are special exceptions where we want to choose e.\n",
    "\n",
    "Using the Extended Euclidean Algorithm, we find a raw d as the product of ed in Bezout's Identity.  We must then find d = raw d (mod phi)\n",
    "\n",
    "To encrypt, where m is our message in plaintext and c is our encrypted cypertext, c = m^e (mod n)\n",
    "\n",
    "To decrypt, m = c^d (mod n)\n",
    "\n",
    "It's two main purposes are secure key establishment and digital certificates.\n",
    "\n",
    "For secure key establishment, the message must be an integer, and there will be a finite limit.  It's typically used to establish a key that will be used for a symmetric cryptography.  It's typical to pass a 256 bit key to be used for AES-256 symmetric cryptography. n, e, c are publically known.  p, q, d, m are secret.\n",
    "\n",
    "For digital certifcates, the message must also be an integer.  To create a certificate we encrypt a message with e.  To verify a certificate, we decrypt it with d.  n, d, c, m are publicly known.  p, q, e are secret.\n",
    "\n",
    "Sizing of e and d.  Typically we want to have e and d about the same size, so both encrytion and decryption take about the same amount of time. When e is small, d will be large, and vice versa.  Sometimes there are valid reasons for making either e or d small, we call these \"short exponents\" as opposed to \"long exponets\".  Short exponents (3, 7, 63537) should ONLY be used with public keys!  Since short exponents should only be used with public keys, they are usually called \"short public exponents\"  If short exponents are used with private keys, RSA can easily be broken!\n",
    "\n"
   ]
  },
  {
   "cell_type": "code",
   "execution_count": 1,
   "metadata": {
    "collapsed": false
   },
   "outputs": [
   ],
   "source": [
    "from sage.all import *"
   ]
  },
  {
   "cell_type": "code",
   "execution_count": 2,
   "metadata": {
    "collapsed": false
   },
   "outputs": [
   ],
   "source": [
    "def my_print_number(label, x):\n",
    "    \"prints a number in decimal, number of digits, hex, number of bits\"\n",
    "    \n",
    "    print (\"\\n\", label, '\\n')\n",
    "    print (\"decimal:\", \"{:,}\".format(x), \"\\n\")\n",
    "    print (\"number of digits:\", x.ndigits(), \"\\n\")\n",
    "    print (\"hex:\", x.hex(), \"\\n\")\n",
    "    print (\"number of bits:\", x.nbits(), \"\\n\")"
   ]
  },
  {
   "cell_type": "code",
   "execution_count": 3,
   "metadata": {
    "collapsed": false
   },
   "outputs": [
   ],
   "source": [
    "def my_find_n_p_q(b):\n",
    "    \"find two primes p and q that when multiplied together yield n of the given number of bits\"\n",
    "    \n",
    "    b_half = b // 2\n",
    "    \n",
    "    upper_limit = (2^b_half) - 1\n",
    "    lower_limit = (2^(b_half-1))\n",
    "    \n",
    "    p = random_prime(upper_limit, false, lower_limit)\n",
    "    q = random_prime(upper_limit, false, lower_limit)\n",
    "    \n",
    "    n = p * q\n",
    "    \n",
    "    my_print_number(\"p\", p)\n",
    "    my_print_number(\"q\", q)\n",
    "    my_print_number(\"n\", n)\n",
    "    \n",
    "    return (p, q, n)"
   ]
  },
  {
   "cell_type": "code",
   "execution_count": 4,
   "metadata": {
    "collapsed": false
   },
   "outputs": [
    {
     "name": "stdout",
     "output_type": "stream",
     "text": [
      "\n",
      " p \n",
      "\n",
      "decimal: 2,901,354,377 \n",
      "\n",
      "number of digits: 10 \n",
      "\n",
      "hex: acef2789 \n",
      "\n",
      "number of bits: 32 \n",
      "\n",
      "\n",
      " q \n",
      "\n",
      "decimal: 2,296,471,421 \n",
      "\n",
      "number of digits: 10 \n",
      "\n",
      "hex: 88e15f7d \n",
      "\n",
      "number of bits: 32 \n",
      "\n",
      "\n",
      " n \n",
      "\n",
      "decimal: 6,662,877,408,973,759,717 \n",
      "\n",
      "number of digits: 19 \n",
      "\n",
      "hex: 5c774bb3b7db24e5 \n",
      "\n",
      "number of bits: 63 \n",
      "\n"
     ]
    }
   ],
   "source": [
    "# come back here and re-run with the remaining bit sizes\n",
    "\n",
    "(p, q, n) = my_find_n_p_q(64)\n",
    "\n",
    "#(p, q, n) = my_find_n_p_q(128)\n",
    "#(p, q, n) = my_find_n_p_q(256)\n",
    "#(p, q, n) = my_find_n_p_q(512)\n",
    "#(p, q, n) = my_find_n_p_q(1024)\n",
    "#(p, q, n) = my_find_n_p_q(2048)\n",
    "#(p, q, n) = my_find_n_p_q(4096)\n"
   ]
  },
  {
   "cell_type": "code",
   "execution_count": 5,
   "metadata": {
    "collapsed": false
   },
   "outputs": [
   ],
   "source": [
    "phi = (p - 1) * (q - 1)"
   ]
  },
  {
   "cell_type": "code",
   "execution_count": 6,
   "metadata": {
    "collapsed": false
   },
   "outputs": [
    {
     "name": "stdout",
     "output_type": "stream",
     "text": [
      "\n",
      " phi \n",
      "\n",
      "decimal: 6,662,877,403,775,933,920 \n",
      "\n",
      "number of digits: 19 \n",
      "\n",
      "hex: 5c774bb2820a9de0 \n",
      "\n",
      "number of bits: 63 \n",
      "\n"
     ]
    }
   ],
   "source": [
    "my_print_number(\"phi\", phi)"
   ]
  },
  {
   "cell_type": "code",
   "execution_count": 7,
   "metadata": {
    "collapsed": false
   },
   "outputs": [
   ],
   "source": [
    "def my_find_e(phi):\n",
    "    \"given Euler's phi, find an e as a random odd number relatively prime to phi\"\n",
    "    \n",
    "    upper_limit = phi * 0.9\n",
    "    lower_limit = phi * 0.5\n",
    "    \n",
    "    e_found = False\n",
    "    \n",
    "    while not e_found:\n",
    "        \n",
    "        e = Integer(randint(lower_limit, upper_limit))\n",
    "        \n",
    "        if is_even(e):\n",
    "            e += 1\n",
    "        \n",
    "        if gcd(e,phi) == 1:\n",
    "            e_found = True\n",
    "    \n",
    "    return e"
   ]
  },
  {
   "cell_type": "code",
   "execution_count": 8,
   "metadata": {
    "collapsed": false
   },
   "outputs": [
   ],
   "source": [
    "def my_verify_e(e, phi):\n",
    "    \"in some cases, we want to give an e instead of finding one.  this will verify an e is relatively prime to phi\"\n",
    "    \n",
    "    if gcd(e, phi) == 1:\n",
    "        print (\"e is valid\")\n",
    "    else:\n",
    "        print (\"e is NOT valid, do NOT use!\")"
   ]
  },
  {
   "cell_type": "code",
   "execution_count": 9,
   "metadata": {
    "collapsed": false
   },
   "outputs": [
   ],
   "source": [
    "e = my_find_e(phi)"
   ]
  },
  {
   "cell_type": "code",
   "execution_count": 10,
   "metadata": {
    "collapsed": false
   },
   "outputs": [
   ],
   "source": [
    "# sometimes we may want to set an e as discussed previously.  \n",
    "# this is often used for the so called \"short exponents\" (3, 7, 65537) as opposed to \"long exponents\"\n",
    "# since short exponents should only be used with public keys, they are often called \"short public exponents\"\n",
    "\n",
    "# WARNING: short exponents can only be used with public keys.  \n",
    "# If you use a short exponent with a private key, RSA can easily be broken\n",
    "\n",
    "# e = Integer(3)\n",
    "# e = Integer(7)\n",
    "# e = Integer(65537)\n",
    "\n",
    "# if you use your own e, you should always validate it\n",
    "\n",
    "# my_verify_e(e, phi)"
   ]
  },
  {
   "cell_type": "code",
   "execution_count": 11,
   "metadata": {
    "collapsed": false
   },
   "outputs": [
    {
     "name": "stdout",
     "output_type": "stream",
     "text": [
      "\n",
      " e \n",
      "\n",
      "decimal: 5,066,291,434,781,220,101 \n",
      "\n",
      "number of digits: 19 \n",
      "\n",
      "hex: 464f1537b2bd1d05 \n",
      "\n",
      "number of bits: 63 \n",
      "\n"
     ]
    }
   ],
   "source": [
    "my_print_number(\"e\", e)"
   ]
  },
  {
   "cell_type": "code",
   "execution_count": 12,
   "metadata": {
    "collapsed": false
   },
   "outputs": [
   ],
   "source": [
    "def my_calculate_d(e,phi):\n",
    "    \"given e and phi calculate d\"\n",
    "    \n",
    "    (g, d, b) = xgcd(e,phi)\n",
    "    \n",
    "    print (\"\\nd * e + b * phi = gcd(e,phi) = 1\")\n",
    "    print (\"\\n(\" + str(d) + \" * \" + str(e) + \") + (\" + str(b) + \" * \" + str(phi) + \") = \" + str(g))\n",
    "    \n",
    "    print (\"\\nraw d = \", d)\n",
    "    \n",
    "    print (\"\\nd = raw d (mod phi) = \", d % phi)\n",
    "    \n",
    "    return d % phi\n",
    "   "
   ]
  },
  {
   "cell_type": "code",
   "execution_count": 13,
   "metadata": {
    "collapsed": false
   },
   "outputs": [
    {
     "name": "stdout",
     "output_type": "stream",
     "text": [
      "\n",
      "d * e + b * phi = gcd(e,phi) = 1\n",
      "\n",
      "(288493875763019341 * 5066291434781220101) + (-219363791826143932 * 6662877403775933920) = 1\n",
      "\n",
      "raw d =  288493875763019341\n",
      "\n",
      "d = raw d (mod phi) =  288493875763019341\n"
     ]
    }
   ],
   "source": [
    "d = my_calculate_d(e,phi)"
   ]
  },
  {
   "cell_type": "code",
   "execution_count": 14,
   "metadata": {
    "collapsed": false
   },
   "outputs": [
    {
     "name": "stdout",
     "output_type": "stream",
     "text": [
      "\n",
      " d \n",
      "\n",
      "decimal: 288,493,875,763,019,341 \n",
      "\n",
      "number of digits: 18 \n",
      "\n",
      "hex: 400efa6c8bafe4d \n",
      "\n",
      "number of bits: 59 \n",
      "\n"
     ]
    }
   ],
   "source": [
    "my_print_number(\"d\", d)"
   ]
  },
  {
   "cell_type": "code",
   "execution_count": 15,
   "metadata": {
    "collapsed": false
   },
   "outputs": [
   ],
   "source": [
    "m = 1234567890"
   ]
  },
  {
   "cell_type": "code",
   "execution_count": 16,
   "metadata": {
    "collapsed": false
   },
   "outputs": [
   ],
   "source": [
    "# encrypt the message m using exponent e to yield ciphertext c\n",
    "\n",
    "c = power_mod(m, e, n)"
   ]
  },
  {
   "cell_type": "code",
   "execution_count": 17,
   "metadata": {
    "collapsed": false,
    "scrolled": true
   },
   "outputs": [
    {
     "name": "stdout",
     "output_type": "stream",
     "text": [
      "\n",
      " c \n",
      "\n",
      "decimal: 5,524,095,359,743,005,213 \n",
      "\n",
      "number of digits: 19 \n",
      "\n",
      "hex: 4ca9877636dd921d \n",
      "\n",
      "number of bits: 63 \n",
      "\n"
     ]
    }
   ],
   "source": [
    "my_print_number(\"c\", c)"
   ]
  },
  {
   "cell_type": "code",
   "execution_count": 18,
   "metadata": {
    "collapsed": false
   },
   "outputs": [
    {
     "name": "stdout",
     "output_type": "stream",
     "text": [
      "1234567890\n"
     ]
    }
   ],
   "source": [
    "# decrypt the ciphertext c using exponent d to yield plaintext m \n",
    "# m should match the orginal m set above\n",
    "\n",
    "m = power_mod(c, d, n)\n",
    "print (m)"
   ]
  },
  {
   "cell_type": "markdown",
   "metadata": {
    "collapsed": false
   },
   "source": [
    "Go back and try it with both a positive d and a negative d so you can see how both work.\n",
    "\n",
    "Go back and try for different bit sizes: 64, 128, 256, 512, 1024, 2048, 4096\n",
    "\n",
    "Go back and try the short public exponents (3, 7, and 65537) for e"
   ]
  },
  {
   "cell_type": "code",
   "execution_count": 0,
   "metadata": {
    "collapsed": false
   },
   "outputs": [
   ],
   "source": [
   ]
  }
 ],
 "metadata": {
  "kernelspec": {
   "display_name": "SageMath 9.1",
   "language": "sagemath",
   "metadata": {
    "cocalc": {
     "description": "Open-source mathematical software system",
     "priority": 10,
     "url": "https://www.sagemath.org/"
    }
   },
   "name": "sage-9.1"
  },
  "language_info": {
   "codemirror_mode": {
    "name": "ipython",
    "version": 3
   },
   "file_extension": ".py",
   "mimetype": "text/x-python",
   "name": "python",
   "nbconvert_exporter": "python",
   "pygments_lexer": "ipython3",
   "version": "3.7.3"
  }
 },
 "nbformat": 4,
 "nbformat_minor": 4
}