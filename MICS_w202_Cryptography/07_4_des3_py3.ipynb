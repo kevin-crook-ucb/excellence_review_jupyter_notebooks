{
 "cells": [
  {
   "cell_type": "markdown",
   "metadata": {
    "collapsed": false
   },
   "source": [
    "### UC Berkeley, MICS, W202-Cryptography\n",
    "### Week 07 Breakout 4\n",
    "### DES3 - Triple DES"
   ]
  },
  {
   "cell_type": "markdown",
   "metadata": {
    "collapsed": false
   },
   "source": [
    "In this breakout, we will see an example of DES3 - Triple DES.\n",
    "\n",
    "SageMath has an implementation of DES3, but I thought it would be a more useful example to use DES 3 times so we can break it down to understand how we use the keys.\n",
    "\n",
    "The normal arrangement for DES3 is as follows:\n",
    "\n",
    "* encrypt using key 1\n",
    "\n",
    "* decrypt using key 2\n",
    "\n",
    "* encrypt using key 1\n",
    "\n",
    "Note that the middle step is for backwards compatibility.  Often encryption / decryption functions are implemented in hardware.  When DES3 is implemented in hardware, we can simply submit the same key for 1 and 2. \n",
    "\n",
    "* encrypt with key 1\n",
    "\n",
    "* decrypt with key 1 (this obviously undoes the previous step)\n",
    "\n",
    "* encrypt with key 1 (essentially only this step counts)\n"
   ]
  },
  {
   "cell_type": "code",
   "execution_count": 1,
   "metadata": {
    "collapsed": false
   },
   "outputs": [
    {
     "name": "stdout",
     "output_type": "stream",
     "text": [
      "Defaulting to user installation because normal site-packages is not writeable\r\n"
     ]
    },
    {
     "name": "stdout",
     "output_type": "stream",
     "text": [
      "Requirement already satisfied: pycryptodome==3.4.3 in /home/user/.local/lib/python3.7/site-packages (3.4.3)\r\n"
     ]
    }
   ],
   "source": [
    "# Run this cell first! The pip command may take a few minutes the first time it's run\n",
    "from sage.all import *\n",
    "!pip install pycryptodome==3.4.3\n",
    "from Crypto.Cipher import DES"
   ]
  },
  {
   "cell_type": "markdown",
   "metadata": {
    "collapsed": false
   },
   "source": [
    "### First, let's do it with key 1 not the same as key 2 (the normal arrangement for DES3)"
   ]
  },
  {
   "cell_type": "code",
   "execution_count": 2,
   "metadata": {
    "collapsed": false
   },
   "outputs": [
   ],
   "source": [
    "# using our key, create a DES object\n",
    "\n",
    "# the mode of ECB is electronic code block which means each block in independent\n",
    "# we will study block modes next week\n",
    "\n",
    "key_1 = b'key 1  -'\n",
    "my_des_1 = DES.new(key_1, DES.MODE_ECB)\n",
    "\n",
    "key_2 = b'key 2  -'\n",
    "my_des_2 = DES.new(key_2, DES.MODE_ECB)"
   ]
  },
  {
   "cell_type": "code",
   "execution_count": 3,
   "metadata": {
    "collapsed": false
   },
   "outputs": [
    {
     "data": {
      "text/plain": [
       "b'-\\xd2-\\xfc\\xcd\\x04\\xd1%q*\\xed\\xab\\x803\\x88\\xd7\\xe5\\xb8\\xf5viQ\\x99\\x93'"
      ]
     },
     "execution_count": 3,
     "metadata": {
     },
     "output_type": "execute_result"
    }
   ],
   "source": [
    "# step 1: using our DES object encrypt with key_1\n",
    "\n",
    "plaintext = b'sona si latine loqueris '\n",
    "\n",
    "ciphertext_1 = my_des_1.encrypt(plaintext)\n",
    "\n",
    "ciphertext_1"
   ]
  },
  {
   "cell_type": "code",
   "execution_count": 4,
   "metadata": {
    "collapsed": false
   },
   "outputs": [
    {
     "data": {
      "text/plain": [
       "b'\\x80\\xd6B\\xefK\\xf1\\xceA6F\\xfee\\x9e8A\\xc5\\x11\\xdb\\xee\\xad.|\\xfc\\xa0'"
      ]
     },
     "execution_count": 4,
     "metadata": {
     },
     "output_type": "execute_result"
    }
   ],
   "source": [
    "# step 2: using our DES object decrypt with key_2\n",
    "\n",
    "ciphertext_2 = my_des_2.decrypt(ciphertext_1)\n",
    "\n",
    "ciphertext_2"
   ]
  },
  {
   "cell_type": "code",
   "execution_count": 5,
   "metadata": {
    "collapsed": false
   },
   "outputs": [
    {
     "data": {
      "text/plain": [
       "b'\\xc8\\xf5\\xfa\\xcei\\xb5#\\xda:\\xce<q\\xb2\\xc3\\xbc\\xf28>%\\xd4[\\xc8\\xb7:'"
      ]
     },
     "execution_count": 5,
     "metadata": {
     },
     "output_type": "execute_result"
    }
   ],
   "source": [
    "# step 3: using our DES object encrypt with key_1\n",
    "\n",
    "ciphertext_3 = my_des_1.encrypt(ciphertext_2)\n",
    "\n",
    "ciphertext_3"
   ]
  },
  {
   "cell_type": "markdown",
   "metadata": {
    "collapsed": false
   },
   "source": [
    "### Now let's reverse the process to decrypt"
   ]
  },
  {
   "cell_type": "code",
   "execution_count": 6,
   "metadata": {
    "collapsed": false
   },
   "outputs": [
    {
     "data": {
      "text/plain": [
       "b'\\x80\\xd6B\\xefK\\xf1\\xceA6F\\xfee\\x9e8A\\xc5\\x11\\xdb\\xee\\xad.|\\xfc\\xa0'"
      ]
     },
     "execution_count": 6,
     "metadata": {
     },
     "output_type": "execute_result"
    }
   ],
   "source": [
    "# step 1: decrypt with with key_1\n",
    "\n",
    "decrypting_step_1 = my_des_1.decrypt(ciphertext_3)\n",
    "\n",
    "decrypting_step_1"
   ]
  },
  {
   "cell_type": "code",
   "execution_count": 7,
   "metadata": {
    "collapsed": false
   },
   "outputs": [
    {
     "data": {
      "text/plain": [
       "b'-\\xd2-\\xfc\\xcd\\x04\\xd1%q*\\xed\\xab\\x803\\x88\\xd7\\xe5\\xb8\\xf5viQ\\x99\\x93'"
      ]
     },
     "execution_count": 7,
     "metadata": {
     },
     "output_type": "execute_result"
    }
   ],
   "source": [
    "# step 2: encrypt with with key_2\n",
    "\n",
    "decrypting_step_2 = my_des_2.encrypt(decrypting_step_1)\n",
    "\n",
    "decrypting_step_2"
   ]
  },
  {
   "cell_type": "code",
   "execution_count": 8,
   "metadata": {
    "collapsed": false
   },
   "outputs": [
    {
     "data": {
      "text/plain": [
       "b'sona si latine loqueris '"
      ]
     },
     "execution_count": 8,
     "metadata": {
     },
     "output_type": "execute_result"
    }
   ],
   "source": [
    "# step 3: decrypt with with key_1\n",
    "\n",
    "decrypting_step_3 = my_des_1.decrypt(decrypting_step_2)\n",
    "\n",
    "decrypting_step_3"
   ]
  },
  {
   "cell_type": "markdown",
   "metadata": {
    "collapsed": false
   },
   "source": [
    "### Now, let's do it with key 1 not the same as key 1 (for backwards compatibility with single key DES, useful when DES3 is implemented in hardware and we only have 1 key for DES)"
   ]
  },
  {
   "cell_type": "code",
   "execution_count": 9,
   "metadata": {
    "collapsed": false
   },
   "outputs": [
    {
     "data": {
      "text/plain": [
       "b'-\\xd2-\\xfc\\xcd\\x04\\xd1%q*\\xed\\xab\\x803\\x88\\xd7\\xe5\\xb8\\xf5viQ\\x99\\x93'"
      ]
     },
     "execution_count": 9,
     "metadata": {
     },
     "output_type": "execute_result"
    }
   ],
   "source": [
    "# step 1: using our DES object encrypt with key_1\n",
    "\n",
    "plaintext = b'sona si latine loqueris '\n",
    "\n",
    "ciphertext_1 = my_des_1.encrypt(plaintext)\n",
    "\n",
    "ciphertext_1"
   ]
  },
  {
   "cell_type": "code",
   "execution_count": 10,
   "metadata": {
    "collapsed": false
   },
   "outputs": [
    {
     "data": {
      "text/plain": [
       "b'sona si latine loqueris '"
      ]
     },
     "execution_count": 10,
     "metadata": {
     },
     "output_type": "execute_result"
    }
   ],
   "source": [
    "# step 2: using our DES object decrypt with key_1\n",
    "\n",
    "# Note: this step essentially undoes step 1\n",
    "\n",
    "ciphertext_2 = my_des_1.decrypt(ciphertext_1)\n",
    "\n",
    "ciphertext_2"
   ]
  },
  {
   "cell_type": "code",
   "execution_count": 11,
   "metadata": {
    "collapsed": false
   },
   "outputs": [
    {
     "data": {
      "text/plain": [
       "b'-\\xd2-\\xfc\\xcd\\x04\\xd1%q*\\xed\\xab\\x803\\x88\\xd7\\xe5\\xb8\\xf5viQ\\x99\\x93'"
      ]
     },
     "execution_count": 11,
     "metadata": {
     },
     "output_type": "execute_result"
    }
   ],
   "source": [
    "# step 3: using our DES object encrypt with key_1\n",
    "\n",
    "# Note: the ciphertext from this step is the same as the ciphertext from step 1\n",
    "\n",
    "ciphertext_3 = my_des_1.encrypt(ciphertext_2)\n",
    "\n",
    "ciphertext_3"
   ]
  },
  {
   "cell_type": "markdown",
   "metadata": {
    "collapsed": false
   },
   "source": [
    "### Now let's reverse the process to decrypt"
   ]
  },
  {
   "cell_type": "code",
   "execution_count": 12,
   "metadata": {
    "collapsed": false
   },
   "outputs": [
    {
     "data": {
      "text/plain": [
       "b'sona si latine loqueris '"
      ]
     },
     "execution_count": 12,
     "metadata": {
     },
     "output_type": "execute_result"
    }
   ],
   "source": [
    "# step 1: decrypt with with key_1\n",
    "\n",
    "# Note: this step has decrypted to the original plaintext\n",
    "\n",
    "decrypting_step_1 = my_des_1.decrypt(ciphertext_3)\n",
    "\n",
    "decrypting_step_1"
   ]
  },
  {
   "cell_type": "code",
   "execution_count": 13,
   "metadata": {
    "collapsed": false
   },
   "outputs": [
    {
     "data": {
      "text/plain": [
       "b'-\\xd2-\\xfc\\xcd\\x04\\xd1%q*\\xed\\xab\\x803\\x88\\xd7\\xe5\\xb8\\xf5viQ\\x99\\x93'"
      ]
     },
     "execution_count": 13,
     "metadata": {
     },
     "output_type": "execute_result"
    }
   ],
   "source": [
    "# step 2: encrypt with with key_1\n",
    "\n",
    "decrypting_step_2 = my_des_1.encrypt(decrypting_step_1)\n",
    "\n",
    "decrypting_step_2"
   ]
  },
  {
   "cell_type": "code",
   "execution_count": 14,
   "metadata": {
    "collapsed": false
   },
   "outputs": [
    {
     "data": {
      "text/plain": [
       "b'sona si latine loqueris '"
      ]
     },
     "execution_count": 14,
     "metadata": {
     },
     "output_type": "execute_result"
    }
   ],
   "source": [
    "# step 3: decrypt with with key_1\n",
    "\n",
    "# this gives use the original plaintext again\n",
    "\n",
    "decrypting_step_3 = my_des_1.decrypt(decrypting_step_2)\n",
    "\n",
    "decrypting_step_3"
   ]
  },
  {
   "cell_type": "code",
   "execution_count": 0,
   "metadata": {
    "collapsed": false
   },
   "outputs": [
   ],
   "source": [
   ]
  },
  {
   "cell_type": "code",
   "execution_count": 0,
   "metadata": {
    "collapsed": false
   },
   "outputs": [
   ],
   "source": [
   ]
  }
 ],
 "metadata": {
  "kernelspec": {
   "display_name": "SageMath 9.1",
   "language": "sagemath",
   "metadata": {
    "cocalc": {
     "description": "Open-source mathematical software system",
     "priority": 10,
     "url": "https://www.sagemath.org/"
    }
   },
   "name": "sage-9.1"
  },
  "language_info": {
   "codemirror_mode": {
    "name": "ipython",
    "version": 3
   },
   "file_extension": ".py",
   "mimetype": "text/x-python",
   "name": "python",
   "nbconvert_exporter": "python",
   "pygments_lexer": "ipython3",
   "version": "3.7.3"
  }
 },
 "nbformat": 4,
 "nbformat_minor": 4
}