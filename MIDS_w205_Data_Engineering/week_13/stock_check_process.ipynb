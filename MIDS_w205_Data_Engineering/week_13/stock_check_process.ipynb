{
 "cells": [
  {
   "cell_type": "markdown",
   "id": "45d863b1",
   "metadata": {},
   "source": [
    "# Stock Check Process"
   ]
  },
  {
   "cell_type": "code",
   "execution_count": 1,
   "id": "a1da48d2",
   "metadata": {},
   "outputs": [],
   "source": [
    "import kafka\n",
    "\n",
    "import time\n",
    "\n",
    "import numpy as np\n",
    "\n",
    "import json\n",
    "\n",
    "import pprint\n",
    "\n",
    "from IPython.display import clear_output\n"
   ]
  },
  {
   "cell_type": "markdown",
   "id": "04f289d7",
   "metadata": {},
   "source": [
    "## Read the stock_check_queue; perform a stock check (we are out of 8 GiB RAM DIMMs, everything else we have in stock); for in stock items, send them to the fulfillment_queue;  for out of stock items, send them to the back_order_queue"
   ]
  },
  {
   "cell_type": "code",
   "execution_count": 2,
   "id": "f8709c29",
   "metadata": {},
   "outputs": [],
   "source": [
    "producer = kafka.KafkaProducer(bootstrap_servers=['kafka:29092'])\n"
   ]
  },
  {
   "cell_type": "code",
   "execution_count": 3,
   "id": "e1e9d461",
   "metadata": {},
   "outputs": [],
   "source": [
    "topic = \"stock_check_queue\"\n",
    "\n",
    "stock_check_queue = kafka.KafkaConsumer(topic, \n",
    "                                       bootstrap_servers=['kafka:29092'], \n",
    "                                       auto_offset_reset='earliest')\n"
   ]
  },
  {
   "cell_type": "code",
   "execution_count": null,
   "id": "a4c563ef",
   "metadata": {},
   "outputs": [
    {
     "name": "stdout",
     "output_type": "stream",
     "text": [
      "\n",
      "=================================\n",
      "   Stock Check Process\n",
      "=================================\n",
      "\n",
      "---------------------------------------------\n",
      "   Offset: 432    Order ID: 14691\n",
      "---------------------------------------------\n",
      "\n",
      "Back Order Items:\n",
      "\n",
      "{'order_id': 14691,\n",
      " 'sub_total': 269.55,\n",
      " 'tax': 21.56,\n",
      " 'total': 291.11,\n",
      " 'line_items': [{'product_id': 2,\n",
      "                 'product_name': '8 GiB RAM DIMM',\n",
      "                 'product_price': 29.95,\n",
      "                 'quantity': 9,\n",
      "                 'total': 269.55}]}\n"
     ]
    }
   ],
   "source": [
    "for message in stock_check_queue:\n",
    "    \n",
    "    clear_output(wait=True)\n",
    "    \n",
    "    message_dict = json.loads(message.value)\n",
    "    \n",
    "    print(\"\\n=================================\")\n",
    "    print(\"   Stock Check Process\")\n",
    "    print(\"=================================\\n\")\n",
    "    print(\"---------------------------------------------\")\n",
    "    print(\"   Offset:\", message.offset, \"   Order ID:\", message_dict[\"order_id\"])\n",
    "    print(\"---------------------------------------------\")\n",
    "    \n",
    "    fulfillment_list = []\n",
    "    \n",
    "    back_order_list = []\n",
    "    \n",
    "    for item in message_dict[\"line_items\"]:\n",
    "        \n",
    "        if item[\"product_id\"] == 2:\n",
    "            \n",
    "            back_order_list.append(item)\n",
    "            \n",
    "        else:\n",
    "            \n",
    "            fulfillment_list.append(item)\n",
    "    \n",
    "    if len(fulfillment_list) > 0:\n",
    "        \n",
    "        \n",
    "        sub_total = 0\n",
    "        \n",
    "        for f in fulfillment_list:\n",
    "            sub_total += f[\"total\"]\n",
    "            \n",
    "        sub_total = round(sub_total, 2)\n",
    "        \n",
    "        tax = round(sub_total * 0.08, 2)\n",
    "        \n",
    "        total = round(sub_total + tax, 2)\n",
    "             \n",
    "        fulfillment = { \"order_id\": message_dict[\"order_id\"],\n",
    "                        \"sub_total\": sub_total,\n",
    "                        \"tax\": tax,\n",
    "                        \"total\": total,\n",
    "                        \"line_items\": fulfillment_list}\n",
    "        print(\"\\nIn stock items:\\n\")\n",
    "        pprint.pprint(fulfillment, sort_dicts=False)\n",
    "        \n",
    "        producer.send(\"fulfillment_queue\", json.dumps(fulfillment).encode())\n",
    "    \n",
    "    if len(back_order_list) > 0:\n",
    "        \n",
    "        sub_total = 0\n",
    "        \n",
    "        for b in back_order_list:\n",
    "            sub_total += b[\"total\"]\n",
    "            \n",
    "        sub_total = round(sub_total, 2)\n",
    "        \n",
    "        tax = round(sub_total * 0.08, 2)\n",
    "        \n",
    "        total = round(sub_total + tax, 2)\n",
    "        \n",
    "        back_order = { \"order_id\": message_dict[\"order_id\"],\n",
    "                       \"sub_total\": sub_total,\n",
    "                       \"tax\": tax,\n",
    "                       \"total\": total,\n",
    "                       \"line_items\": back_order_list}\n",
    "        print(\"\\nBack Order Items:\\n\")\n",
    "        pprint.pprint(back_order, sort_dicts=False)\n",
    "        \n",
    "        producer.send(\"back_order_queue\", json.dumps(back_order).encode())\n",
    "    \n",
    "    time.sleep(2.0)"
   ]
  },
  {
   "cell_type": "code",
   "execution_count": null,
   "id": "7cb96f04",
   "metadata": {},
   "outputs": [],
   "source": []
  }
 ],
 "metadata": {
  "kernelspec": {
   "display_name": "Python 3",
   "language": "python",
   "name": "python3"
  },
  "language_info": {
   "codemirror_mode": {
    "name": "ipython",
    "version": 3
   },
   "file_extension": ".py",
   "mimetype": "text/x-python",
   "name": "python",
   "nbconvert_exporter": "python",
   "pygments_lexer": "ipython3",
   "version": "3.8.8"
  }
 },
 "nbformat": 4,
 "nbformat_minor": 5
}
