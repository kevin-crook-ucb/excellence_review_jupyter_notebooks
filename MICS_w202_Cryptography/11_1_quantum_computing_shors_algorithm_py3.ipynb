{
 "cells": [
  {
   "cell_type": "markdown",
   "metadata": {
    "collapsed": false
   },
   "source": [
    "### UC Berkeley, MICS, W202-Cryptography\n",
    "### Week 11 Breakout 1\n",
    "### QC - Quantum Computing\n",
    "### Shor's Algorithm to Break Factoring"
   ]
  },
  {
   "cell_type": "markdown",
   "metadata": {
    "collapsed": false
   },
   "source": [
    "Shor's Algorithm is a QC (Quantum Computing) algorithm for integer factorization.\n",
    "\n",
    "Regarding cryptography, we are most interested in factoring the product of two large prime numbers, customarily written as n = pq, where p and q are the primes and n is the product.\n",
    "\n",
    "Shor's Algorithm has 3 parts:\n",
    "* Initial classical part\n",
    "* Quantum part - period finding algorithm\n",
    "* Final classical part\n",
    "\n"
   ]
  },
  {
   "cell_type": "markdown",
   "metadata": {
    "collapsed": false
   },
   "source": [
    "#### Simulate the quantum part - period finding algorithm - using classical\n",
    "\n",
    "We will simulate the quantum part.  Given a from the initial classical part, the modulus n, we want to find the period of a in mod n"
   ]
  },
  {
   "cell_type": "code",
   "execution_count": 1,
   "metadata": {
    "collapsed": false
   },
   "outputs": [
   ],
   "source": [
    "from sage.all import *"
   ]
  },
  {
   "cell_type": "code",
   "execution_count": 2,
   "metadata": {
    "collapsed": false
   },
   "outputs": [
   ],
   "source": [
    "def my_simulate_quantum_period_finding_algorithm(a, n):\n",
    "    \"simulate the quantum period finding algorithm for a in mod n\"\n",
    "    \n",
    "    # find the period r of the function f(x) = a^x (mod n)\n",
    "    # equivalent to finding smallest positive integer r for which:\n",
    "    #       f(x) = f(x + r)\n",
    "    #   or  a^(x + r) is congruent to a^x (mod n)\n",
    "    \n",
    "    # start with f(0) == a^0 == 1 (mod n)\n",
    "    # find the next r such that f(0+r) == f(r) == a^(x + r) == a^r == 1 (mod n)\n",
    "    \n",
    "    r_found = False\n",
    "    r = 1\n",
    "    \n",
    "    while (not r_found):\n",
    "        if power_mod(a, r, n) == 1:\n",
    "            r_found = True\n",
    "        else:\n",
    "            r += 1\n",
    "    return r"
   ]
  },
  {
   "cell_type": "markdown",
   "metadata": {
    "collapsed": false
   },
   "source": [
    "#### Shor's algorithm\n",
    "\n",
    "This function will perform the initial classical part, call the function above to simulate the quantum part to find the period of a in mod n, and perform the final classical part.\n",
    "\n",
    "If you have access to a quantum computer (or another quantum computer simulator), you may want to replace the call to the function above with a call to a quantum algorithm."
   ]
  },
  {
   "cell_type": "code",
   "execution_count": 3,
   "metadata": {
    "collapsed": false
   },
   "outputs": [
   ],
   "source": [
    "def my_shors_algorithm(n):\n",
    "    \"given n = pq, factor n into p and q using Shor's Algorithm\"\n",
    "    \n",
    "   \n",
    "    print (\"Factoring n:\", n)\n",
    "    \n",
    "    r_found = False\n",
    "    \n",
    "    while (not r_found):\n",
    "        \n",
    "        # pick a random number a < n\n",
    "        \n",
    "        upper_limit = (n - 1)\n",
    "        lower_limit = 3\n",
    "        \n",
    "        a = Integer(randint(lower_limit, upper_limit))\n",
    "        \n",
    "        print (\"\\nRandom integer a:\", a)\n",
    "    \n",
    "        # using the Euclidean Algorithm, find gcd(a,n)\n",
    "        \n",
    "        g = gcd(a,n)\n",
    "        \n",
    "        print (\"gcd(a,n) = \", g)\n",
    "    \n",
    "        # if gcd(a,n) <> 1 then a is a factor of n, n/a is the other factor, we are done!\n",
    "        \n",
    "        if g != 1:\n",
    "            print (\"gcd(a,n) is not equal to 1, therefore\", g, \"is a factor and \", n//g, \" is also a factor!\")\n",
    "            print (\"quantum simulation was not needed\")\n",
    "            p = g\n",
    "            q = n//g\n",
    "            if q > p:\n",
    "                temp = p\n",
    "                p = q\n",
    "                q = temp\n",
    "        \n",
    "            return(p, q)\n",
    "                \n",
    "        # call the quantum period finding subroutine to find r, \n",
    "        # which is the period of f(x) = a^x (mod n)\n",
    "        # (we will simulate this using classic computing)\n",
    "        \n",
    "        r = my_simulate_quantum_period_finding_algorithm(a, n)\n",
    "        \n",
    "        print (\"quantum simulation finds the period r:\", r)\n",
    "        \n",
    "        # if r is odd, it's no good, continue loop\n",
    "        if (r % 2 != 0):\n",
    "            print (\"r is odd, it's no good, we have to try another a\")\n",
    "            continue\n",
    "    \n",
    "        # if a^(r/2) is congruent to -1 (mod n), it's no good, continue loop\n",
    "        if ( power_mod(a, r//2, n) == (n - 1) ):\n",
    "            print (\"r is congruent to -1 (mod n), it's no good, we have to try another a\")\n",
    "            continue\n",
    "        \n",
    "        # r is good !\n",
    "        print (\"r is good, we can factor!\")\n",
    "        r_found = True\n",
    "        \n",
    "    \n",
    "    # having found r, at least one of these is a factor\n",
    "    # gcd((a^(r/2) + 1), n)\n",
    "    # gcd((a^(r/2) - 1), n)\n",
    "    \n",
    "    possible_factor_1 = gcd(power_mod(a, r//2, n) + 1, n)\n",
    "    \n",
    "    possible_factor_2 = gcd(power_mod(a, r//2, n) - 1, n)\n",
    "    \n",
    "    \n",
    "    # if either one of the possible factors divides n, it's a factor \n",
    "    # we can recover the other factor by diving into n\n",
    "    \n",
    "    print (\"\\nChecking possible factor gcd(a^(r/2) + 1, n):\")\n",
    "    \n",
    "    if (n % possible_factor_1) == 0:\n",
    "        print (possible_factor_1, \"is a factor, and so is\", n // possible_factor_1)\n",
    "        p = possible_factor_1\n",
    "        q = n // possible_factor_1\n",
    "            \n",
    "    print (\"\\nChecking possible factor gcd(a^(r/2) - 1, n):\")\n",
    "    \n",
    "    if (n % possible_factor_2) == 0:\n",
    "        print (possible_factor_2, \"is a factor, and so is\", n // possible_factor_2)\n",
    "        p = possible_factor_2\n",
    "        q = n // possible_factor_2\n",
    "        \n",
    "        \n",
    "    # traditionally, q < p\n",
    "    if q > p:\n",
    "        temp = p\n",
    "        p = q\n",
    "        q = temp\n",
    "        \n",
    "    return(p, q)"
   ]
  },
  {
   "cell_type": "markdown",
   "metadata": {
    "collapsed": false
   },
   "source": [
    "#### Since Shor's Algorithm relies on a random integer a, you may get different results every time you run these, so run each one several times"
   ]
  },
  {
   "cell_type": "code",
   "execution_count": 4,
   "metadata": {
    "collapsed": false
   },
   "outputs": [
    {
     "name": "stdout",
     "output_type": "stream",
     "text": [
      "Factoring n: 15\n",
      "\n",
      "Random integer a: 11\n",
      "gcd(a,n) =  1\n",
      "quantum simulation finds the period r: 2\n",
      "r is good, we can factor!\n",
      "\n",
      "Checking possible factor gcd(a^(r/2) + 1, n):\n",
      "3 is a factor, and so is 5\n",
      "\n",
      "Checking possible factor gcd(a^(r/2) - 1, n):\n",
      "5 is a factor, and so is 3\n"
     ]
    },
    {
     "data": {
      "text/plain": [
       "(5, 3)"
      ]
     },
     "execution_count": 4,
     "metadata": {
     },
     "output_type": "execute_result"
    }
   ],
   "source": [
    "my_shors_algorithm(15)"
   ]
  },
  {
   "cell_type": "code",
   "execution_count": 5,
   "metadata": {
    "collapsed": false
   },
   "outputs": [
    {
     "name": "stdout",
     "output_type": "stream",
     "text": [
      "Factoring n: 21\n",
      "\n",
      "Random integer a: 19\n",
      "gcd(a,n) =  1\n",
      "quantum simulation finds the period r: 6\n",
      "r is good, we can factor!\n",
      "\n",
      "Checking possible factor gcd(a^(r/2) + 1, n):\n",
      "7 is a factor, and so is 3\n",
      "\n",
      "Checking possible factor gcd(a^(r/2) - 1, n):\n",
      "3 is a factor, and so is 7\n"
     ]
    },
    {
     "data": {
      "text/plain": [
       "(7, 3)"
      ]
     },
     "execution_count": 5,
     "metadata": {
     },
     "output_type": "execute_result"
    }
   ],
   "source": [
    "my_shors_algorithm(21)"
   ]
  },
  {
   "cell_type": "code",
   "execution_count": 6,
   "metadata": {
    "collapsed": false
   },
   "outputs": [
    {
     "name": "stdout",
     "output_type": "stream",
     "text": [
      "Factoring n: 33\n",
      "\n",
      "Random integer a: 9\n",
      "gcd(a,n) =  3\n",
      "gcd(a,n) is not equal to 1, therefore 3 is a factor and  11  is also a factor!\n",
      "quantum simulation was not needed\n"
     ]
    },
    {
     "data": {
      "text/plain": [
       "(11, 3)"
      ]
     },
     "execution_count": 6,
     "metadata": {
     },
     "output_type": "execute_result"
    }
   ],
   "source": [
    "my_shors_algorithm(33)"
   ]
  },
  {
   "cell_type": "code",
   "execution_count": 7,
   "metadata": {
    "collapsed": false
   },
   "outputs": [
    {
     "name": "stdout",
     "output_type": "stream",
     "text": [
      "Factoring n: 35\n",
      "\n",
      "Random integer a: 20\n",
      "gcd(a,n) =  5\n",
      "gcd(a,n) is not equal to 1, therefore 5 is a factor and  7  is also a factor!\n",
      "quantum simulation was not needed\n"
     ]
    },
    {
     "data": {
      "text/plain": [
       "(7, 5)"
      ]
     },
     "execution_count": 7,
     "metadata": {
     },
     "output_type": "execute_result"
    }
   ],
   "source": [
    "my_shors_algorithm(35)"
   ]
  },
  {
   "cell_type": "code",
   "execution_count": 8,
   "metadata": {
    "collapsed": false
   },
   "outputs": [
    {
     "name": "stdout",
     "output_type": "stream",
     "text": [
      "Factoring n:"
     ]
    },
    {
     "name": "stdout",
     "output_type": "stream",
     "text": [
      " 55\n",
      "\n",
      "Random integer a: 51\n",
      "gcd(a,n) =  1\n",
      "quantum simulation finds the period r: 10\n",
      "r is good, we can factor!\n",
      "\n",
      "Checking possible factor gcd(a^(r/2) + 1, n):\n",
      "11 is a factor, and so is 5\n",
      "\n",
      "Checking possible factor gcd(a^(r/2) - 1, n):\n",
      "5 is a factor, and so is 11\n"
     ]
    },
    {
     "data": {
      "text/plain": [
       "(11, 5)"
      ]
     },
     "execution_count": 8,
     "metadata": {
     },
     "output_type": "execute_result"
    }
   ],
   "source": [
    "my_shors_algorithm(55)"
   ]
  },
  {
   "cell_type": "code",
   "execution_count": 9,
   "metadata": {
    "collapsed": false
   },
   "outputs": [
    {
     "name": "stdout",
     "output_type": "stream",
     "text": [
      "Factoring n: 65\n",
      "\n",
      "Random integer a: 34\n",
      "gcd(a,n) =  1\n",
      "quantum simulation finds the period r: 4\n",
      "r is good, we can factor!\n",
      "\n",
      "Checking possible factor gcd(a^(r/2) + 1, n):\n",
      "13 is a factor, and so is 5\n",
      "\n",
      "Checking possible factor gcd(a^(r/2) - 1, n):\n",
      "5 is a factor, and so is 13\n"
     ]
    },
    {
     "data": {
      "text/plain": [
       "(13, 5)"
      ]
     },
     "execution_count": 9,
     "metadata": {
     },
     "output_type": "execute_result"
    }
   ],
   "source": [
    "my_shors_algorithm(65)"
   ]
  },
  {
   "cell_type": "code",
   "execution_count": 10,
   "metadata": {
    "collapsed": false
   },
   "outputs": [
    {
     "name": "stdout",
     "output_type": "stream",
     "text": [
      "Factoring n: 77\n",
      "\n",
      "Random integer a: 59\n",
      "gcd(a,n) =  1\n",
      "quantum simulation finds the period r: 30\n",
      "r is good, we can factor!\n",
      "\n",
      "Checking possible factor gcd(a^(r/2) + 1, n):\n",
      "7 is a factor, and so is 11\n",
      "\n",
      "Checking possible factor gcd(a^(r/2) - 1, n):\n",
      "11 is a factor, and so is 7\n"
     ]
    },
    {
     "data": {
      "text/plain": [
       "(11, 7)"
      ]
     },
     "execution_count": 10,
     "metadata": {
     },
     "output_type": "execute_result"
    }
   ],
   "source": [
    "my_shors_algorithm(77)"
   ]
  },
  {
   "cell_type": "code",
   "execution_count": 11,
   "metadata": {
    "collapsed": false
   },
   "outputs": [
    {
     "name": "stdout",
     "output_type": "stream",
     "text": [
      "Factoring n: 143\n",
      "\n",
      "Random integer a: 91\n",
      "gcd(a,n) =  13\n",
      "gcd(a,n) is not equal to 1, therefore 13 is a factor and  11  is also a factor!\n",
      "quantum simulation was not needed\n"
     ]
    },
    {
     "data": {
      "text/plain": [
       "(13, 11)"
      ]
     },
     "execution_count": 11,
     "metadata": {
     },
     "output_type": "execute_result"
    }
   ],
   "source": [
    "my_shors_algorithm(143)"
   ]
  },
  {
   "cell_type": "code",
   "execution_count": 12,
   "metadata": {
    "collapsed": false
   },
   "outputs": [
    {
     "name": "stdout",
     "output_type": "stream",
     "text": [
      "Factoring n: 391\n",
      "\n",
      "Random integer a: 90\n",
      "gcd(a,n) =  1\n",
      "quantum simulation finds the period r: 176\n",
      "r is good, we can factor!\n",
      "\n",
      "Checking possible factor gcd(a^(r/2) + 1, n):\n",
      "17 is a factor, and so is 23\n",
      "\n",
      "Checking possible factor gcd(a^(r/2) - 1, n):\n",
      "23 is a factor, and so is 17\n"
     ]
    },
    {
     "data": {
      "text/plain": [
       "(23, 17)"
      ]
     },
     "execution_count": 12,
     "metadata": {
     },
     "output_type": "execute_result"
    }
   ],
   "source": [
    "my_shors_algorithm(391)"
   ]
  },
  {
   "cell_type": "markdown",
   "metadata": {
    "collapsed": false
   },
   "source": [
    "#### Run Shor's Algorithm on random values for the primes p and q of given bits\n",
    "\n",
    "We will run this on 8 bits and 10 bits, as these are the most reasonable values.  Above 10 bits will take a really long time to run."
   ]
  },
  {
   "cell_type": "code",
   "execution_count": 13,
   "metadata": {
    "collapsed": false
   },
   "outputs": [
   ],
   "source": [
    "def my_find_p_q(b):\n",
    "    \"file random primes p and q of the given number of bits\"\n",
    "    \n",
    "    upper_limit = (2^b) - 1\n",
    "    lower_limit = (2^(b-1))\n",
    "    \n",
    "    p = random_prime(upper_limit, false, lower_limit)\n",
    "    q = random_prime(upper_limit, false, lower_limit)\n",
    "    \n",
    "    if q > p:\n",
    "        temp = p\n",
    "        p = q\n",
    "        q = temp\n",
    "        \n",
    "    return(p, q)\n"
   ]
  },
  {
   "cell_type": "markdown",
   "metadata": {
    "collapsed": false
   },
   "source": [
    "#### Random primes p and q of 8 bits - try running it multiple times"
   ]
  },
  {
   "cell_type": "code",
   "execution_count": 14,
   "metadata": {
    "collapsed": false
   },
   "outputs": [
    {
     "name": "stdout",
     "output_type": "stream",
     "text": [
      "p: 251 \n",
      "\n",
      "q: 229 \n",
      "\n",
      "n: 57,479 \n",
      "\n",
      "Factoring n: 57479\n",
      "\n",
      "Random integer a: 37733\n",
      "gcd(a,n) =  1\n"
     ]
    },
    {
     "name": "stdout",
     "output_type": "stream",
     "text": [
      "quantum simulation finds the period r: 9500\n",
      "r is good, we can factor!\n",
      "\n",
      "Checking possible factor gcd(a^(r/2) + 1, n):\n",
      "229 is a factor, and so is 251\n",
      "\n",
      "Checking possible factor gcd(a^(r/2) - 1, n):\n",
      "251 is a factor, and so is 229\n"
     ]
    },
    {
     "data": {
      "text/plain": [
       "(251, 229)"
      ]
     },
     "execution_count": 14,
     "metadata": {
     },
     "output_type": "execute_result"
    }
   ],
   "source": [
    "# 8 bit n\n",
    "# get a different random n each time\n",
    "\n",
    "b = 8\n",
    "\n",
    "(p, q) = my_find_p_q(b)\n",
    "n = p * q\n",
    "\n",
    "print (\"p:\", \"{:,}\".format(p), \"\\n\")\n",
    "print (\"q:\", \"{:,}\".format(q), \"\\n\")\n",
    "print (\"n:\", \"{:,}\".format(n), \"\\n\")\n",
    "\n",
    "my_shors_algorithm(n)"
   ]
  },
  {
   "cell_type": "markdown",
   "metadata": {
    "collapsed": false
   },
   "source": [
    "#### Random primes p and q of 10 bits - try running it multiple times"
   ]
  },
  {
   "cell_type": "code",
   "execution_count": 15,
   "metadata": {
    "collapsed": false
   },
   "outputs": [
    {
     "name": "stdout",
     "output_type": "stream",
     "text": [
      "p: 1,019 \n",
      "\n",
      "q: 619 \n",
      "\n",
      "n: 630,761 \n",
      "\n",
      "Factoring n: 630761\n",
      "\n",
      "Random integer a: 236318\n",
      "gcd(a,n) =  1\n"
     ]
    },
    {
     "name": "stdout",
     "output_type": "stream",
     "text": [
      "quantum simulation finds the period r: 314562\n",
      "r is good, we can factor!\n",
      "\n",
      "Checking possible factor gcd(a^(r/2) + 1, n):\n",
      "619 is a factor, and so is 1019\n",
      "\n",
      "Checking possible factor gcd(a^(r/2) - 1, n):\n",
      "1019 is a factor, and so is 619\n"
     ]
    },
    {
     "data": {
      "text/plain": [
       "(1019, 619)"
      ]
     },
     "execution_count": 15,
     "metadata": {
     },
     "output_type": "execute_result"
    }
   ],
   "source": [
    "# 10 bit n\n",
    "# get a different random n each time\n",
    "\n",
    "b = 10\n",
    "\n",
    "(p, q) = my_find_p_q(b)\n",
    "n = p * q\n",
    "\n",
    "print (\"p:\", \"{:,}\".format(p), \"\\n\")\n",
    "print (\"q:\", \"{:,}\".format(q), \"\\n\")\n",
    "print (\"n:\", \"{:,}\".format(n), \"\\n\")\n",
    "\n",
    "my_shors_algorithm(n)"
   ]
  },
  {
   "cell_type": "markdown",
   "metadata": {
    "collapsed": false
   },
   "source": [
    "#### Above 10 bits will take a really long time to run - Shor's Algorithm is very efficient for QC but not very efficient for classical computers!"
   ]
  },
  {
   "cell_type": "code",
   "execution_count": 0,
   "metadata": {
    "collapsed": false
   },
   "outputs": [
   ],
   "source": [
   ]
  },
  {
   "cell_type": "code",
   "execution_count": 0,
   "metadata": {
    "collapsed": false
   },
   "outputs": [
   ],
   "source": [
   ]
  }
 ],
 "metadata": {
  "kernelspec": {
   "display_name": "SageMath 9.1",
   "language": "sagemath",
   "metadata": {
    "cocalc": {
     "description": "Open-source mathematical software system",
     "priority": 10,
     "url": "https://www.sagemath.org/"
    }
   },
   "name": "sage-9.1"
  },
  "language_info": {
   "codemirror_mode": {
    "name": "ipython",
    "version": 3
   },
   "file_extension": ".py",
   "mimetype": "text/x-python",
   "name": "python",
   "nbconvert_exporter": "python",
   "pygments_lexer": "ipython3",
   "version": "3.7.3"
  }
 },
 "nbformat": 4,
 "nbformat_minor": 4
}