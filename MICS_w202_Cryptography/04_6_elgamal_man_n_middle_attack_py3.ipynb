{
 "cells": [
  {
   "cell_type": "markdown",
   "metadata": {
    "collapsed": false
   },
   "source": [
    "### UC Berkeley, MICS, W202-Cryptography\n",
    "### Week 04 Breakout 6\n",
    "### Elgamal Man in the Middle Attack\n"
   ]
  },
  {
   "cell_type": "markdown",
   "metadata": {
    "collapsed": false
   },
   "source": [
    "Since Elgamal is so similar to Diffie Hallman, it's no surprise that it's also subject to man in the middle attacks:\n",
    "\n",
    "* The man in the middle attack occurs when an unauthorized 3rd party \"Mallory\", secretly comes between \"Alice\" and \"Bob\"\n",
    "\n",
    "* Alice thinks Mallory is Bob.\n",
    "\n",
    "* Bob thinks Mallory is Alice.\n",
    "\n",
    "* Obviously, if we had a secure identity authentication protocol of some sort, Alice could verify Bob's identity, and Bob could verify Alice's identity.  The man in the middle attack is only successful when there is no secure identity authentication prototcol in place.\n",
    "\n",
    "* Remember, Alice gets to choose a message, unlike Diffie Hellman where she does NOT get to choose a message.  The message will typically be used as a key for symmetric protocol such as AES256.\n",
    "\n",
    "* Bob tries to execute a key exchange with Alice, so he can receive Alice's chosen message, but Mallory intercepts.\n",
    "\n",
    "* Mallory keeps Bob's value for himself.\n",
    "\n",
    "* Mallory send his own value to Alice.  Alice thinks she receives it from Bob.\n",
    "\n",
    "* Alice sends Mallory her value and the ciphertext for her message. Alice thinks she is sending it to Bob.\n",
    "\n",
    "* Mallory decypts the message.  Mallory can now re-encrypt the message with the key he shares with Bob.  Bob thinks he's receiving it from Alice\n",
    "\n",
    "* If the message is a key for symmetric encryption, messages go both ways between Bob and Alice, but Mallory is intercepting and reading (and possibly changing) them both ways.  Neither Bob nor Alice know that their messages ae being intercepted and read by Mallory.  \n",
    "\n"
   ]
  },
  {
   "cell_type": "code",
   "execution_count": 1,
   "metadata": {
    "collapsed": false
   },
   "outputs": [
   ],
   "source": [
    "from sage.all import *"
   ]
  },
  {
   "cell_type": "code",
   "execution_count": 2,
   "metadata": {
    "collapsed": false
   },
   "outputs": [
   ],
   "source": [
    "def my_print_number(label, x):\n",
    "    \"prints a number in decimal, number of digits, hex, number of bits\"\n",
    "    \n",
    "    print (\"\\n\", label, '\\n')\n",
    "    print (\"decimal:\", \"{:,}\".format(x), \"\\n\")\n",
    "    print (\"number of digits:\", x.ndigits(), \"\\n\")\n",
    "    print (\"hex:\", x.hex(), \"\\n\")\n",
    "    print (\"number of bits:\", x.nbits(), \"\\n\")"
   ]
  },
  {
   "cell_type": "code",
   "execution_count": 3,
   "metadata": {
    "collapsed": false
   },
   "outputs": [
   ],
   "source": [
    "# b is the number of bits in p\n",
    "# we will use it to ensure that Alice's and Bob's exponents are of similar size to b\n",
    "\n",
    "b = 1024"
   ]
  },
  {
   "cell_type": "markdown",
   "metadata": {
    "collapsed": false
   },
   "source": [
    "### p and g are publically known.  p is a large prime number of similar sizing as in RSA.  g is the smallest generator for p.  the security of the discrete logarithm problem does not depend on the size of g, so a small g is fine."
   ]
  },
  {
   "cell_type": "code",
   "execution_count": 4,
   "metadata": {
    "collapsed": false
   },
   "outputs": [
   ],
   "source": [
    "# p and g are publically known\n",
    "\n",
    "# g is the smallest generator we found for p\n",
    "# p is a large prime \n",
    "\n",
    "# it's always best to select a p in which 2 is a generator as it speeds things up without losing security\n",
    "\n",
    "g = 2\n",
    "\n",
    "p = 0xa42667765996150b81063e7a253b91b5da58af0ff49328bf8a3f9f38bdf1e357272af338846d1d612a71a31e35f590d6c131634306ed75bdb45c4cb9b15072127f2afac831560bc5c1f697479b1d7d6f0da191faa68eaabf5b138ea782f97ae6624c9244150d38f28231993fe0d6435d852d42782b8263aea061a40da802903b"
   ]
  },
  {
   "cell_type": "code",
   "execution_count": 5,
   "metadata": {
    "collapsed": false
   },
   "outputs": [
    {
     "name": "stdout",
     "output_type": "stream",
     "text": [
      "\n",
      " p \n",
      "\n",
      "decimal: 115,270,061,416,921,866,062,188,383,030,847,280,859,479,926,375,604,672,663,124,358,614,555,215,978,993,787,838,406,298,575,203,649,480,844,189,752,685,847,453,468,731,960,555,557,838,447,956,623,493,236,754,000,427,739,727,368,609,894,359,124,610,032,258,486,582,384,311,834,472,633,840,703,883,057,700,772,340,022,758,927,012,248,883,130,603,620,091,710,872,172,650,710,125,452,082,076,641,079,289,492,705,339 \n",
      "\n",
      "number of digits: 309 \n",
      "\n",
      "hex: a42667765996150b81063e7a253b91b5da58af0ff49328bf8a3f9f38bdf1e357272af338846d1d612a71a31e35f590d6c131634306ed75bdb45c4cb9b15072127f2afac831560bc5c1f697479b1d7d6f0da191faa68eaabf5b138ea782f97ae6624c9244150d38f28231993fe0d6435d852d42782b8263aea061a40da802903b \n",
      "\n",
      "number of bits: 1024 \n",
      "\n"
     ]
    }
   ],
   "source": [
    "my_print_number(\"p\", p)"
   ]
  },
  {
   "cell_type": "markdown",
   "metadata": {
    "collapsed": false
   },
   "source": [
    "### Bob will get a random exponent x of similar size to p, and can be even or odd, prime or composite.  Bob will calculate y by raising the generator g to the power of his exponent in modulo p.  Bob will send y to Alice. (However, Mallory is pretending to be Alice, so Bob really sends the message to Mallory)"
   ]
  },
  {
   "cell_type": "code",
   "execution_count": 6,
   "metadata": {
    "collapsed": false
   },
   "outputs": [
   ],
   "source": [
    "def my_get_random_exponent(b, p):\n",
    "    \"given a number of bits, find a random exponent of that bit size -1\"\n",
    "    \n",
    "    upper_limit = (p-2)\n",
    "    lower_limit = ( (p-2) // 2)\n",
    "    \n",
    "    return Integer(randint(lower_limit, upper_limit))"
   ]
  },
  {
   "cell_type": "code",
   "execution_count": 7,
   "metadata": {
    "collapsed": false
   },
   "outputs": [
   ],
   "source": [
    "bob_x = my_get_random_exponent(b, p)"
   ]
  },
  {
   "cell_type": "code",
   "execution_count": 8,
   "metadata": {
    "collapsed": false
   },
   "outputs": [
    {
     "name": "stdout",
     "output_type": "stream",
     "text": [
      "\n",
      " Bob's x \n",
      "\n",
      "decimal: 61,626,709,408,015,764,164,198,228,407,274,419,609,315,276,407,260,089,112,907,335,843,896,719,924,862,415,001,406,459,386,246,694,096,210,031,655,323,667,329,097,153,177,049,901,750,529,760,917,628,795,370,607,695,255,437,290,665,912,514,093,970,909,274,535,542,493,473,330,753,319,281,920,023,855,641,434,405,775,613,221,575,307,530,838,324,323,368,776,210,514,379,172,649,382,149,005,119,562,004,200,371,041 \n",
      "\n",
      "number of digits: 308 \n",
      "\n",
      "hex: 57c26494f496818a4de980b2fd16abef2ec3238fc5e034709905e1ba1ada3ba0df664b1c085150862fd05c6fb4b8499aa802e1399d71bcf6e1ee988b76b17cf791bdfb0629e32a4101206fb690030276c7e374c07c7bfcf606974956e226785a4ada8c4b114c5d607ec667fe35af071ac6f923cc5cbf684a6fc573fea3133361 \n",
      "\n",
      "number of bits: 1023 \n",
      "\n"
     ]
    }
   ],
   "source": [
    "my_print_number(\"Bob's x\", bob_x)"
   ]
  },
  {
   "cell_type": "code",
   "execution_count": 9,
   "metadata": {
    "collapsed": false
   },
   "outputs": [
   ],
   "source": [
    "bob_y = power_mod(g, bob_x, p)"
   ]
  },
  {
   "cell_type": "code",
   "execution_count": 10,
   "metadata": {
    "collapsed": false
   },
   "outputs": [
    {
     "name": "stdout",
     "output_type": "stream",
     "text": [
      "\n",
      " Bob's y \n",
      "\n",
      "decimal: 14,812,076,715,859,207,463,808,763,557,835,954,186,072,902,844,012,864,674,181,918,908,700,828,853,504,646,271,476,958,589,214,058,187,785,160,605,185,501,705,782,296,864,316,733,316,590,649,209,446,222,379,311,477,700,946,584,410,166,878,446,913,096,733,800,140,014,909,021,424,396,848,303,952,590,930,488,301,364,506,661,270,487,269,968,236,300,535,287,201,947,613,815,137,202,376,557,666,161,217,016,354,429 \n",
      "\n",
      "number of digits: 308 \n",
      "\n",
      "hex: 1517d53b39086fdba19dc5a2a09d24c3af4910069f7f2d16ef712acf65a5cea76020825c3e3b5c4cc40250f299980619e032d63a17a1e1500c4b1d90ef7eaa40da51b036e06790a0e080b866f1aa9d2ddca0881538992d6318d9aaf658ec16253a4bf82ded5a0d662d29cf3a7f580d2c42068de85796711b8c637c1810fad67d \n",
      "\n",
      "number of bits: 1021 \n",
      "\n"
     ]
    }
   ],
   "source": [
    "my_print_number(\"Bob's y\", bob_y)"
   ]
  },
  {
   "cell_type": "code",
   "execution_count": 11,
   "metadata": {
    "collapsed": false
   },
   "outputs": [
   ],
   "source": [
    "# p, g are public\n",
    "# Bob sends y to Alice (However, Mallory is pretending to be Alice, so Bob really sends the message to Mallory)\n"
   ]
  },
  {
   "cell_type": "markdown",
   "metadata": {
    "collapsed": false
   },
   "source": [
    "### Bob just sent his value to Mallory, thinking he was sending it to Alice.  Mallory has now captured Bob's y value.  Mallory will generate his own exponent and calculate his own y value.  Mallory will send this y value to Alice.  Alice will think she is receiving it from Bob."
   ]
  },
  {
   "cell_type": "code",
   "execution_count": 12,
   "metadata": {
    "collapsed": false
   },
   "outputs": [
   ],
   "source": [
    "mallory_x = my_get_random_exponent(b, p)"
   ]
  },
  {
   "cell_type": "code",
   "execution_count": 13,
   "metadata": {
    "collapsed": false
   },
   "outputs": [
    {
     "name": "stdout",
     "output_type": "stream",
     "text": [
      "\n",
      " Mallory's x \n",
      "\n",
      "decimal: 107,674,573,903,070,280,034,379,133,457,535,174,228,817,099,432,093,006,108,579,592,704,309,189,697,748,085,330,446,731,312,108,418,818,125,264,649,787,523,265,639,780,194,894,572,337,899,836,965,915,311,259,048,200,821,070,819,513,802,090,580,534,215,597,265,827,536,923,688,772,813,947,632,969,596,378,519,011,014,053,704,518,282,972,380,283,198,230,702,622,043,129,164,660,970,692,875,950,029,928,561,672,328 \n",
      "\n",
      "number of digits: 309 \n",
      "\n",
      "hex: 99556c3f0427e46e03714f466393196da943a68fcbf18232f77a069133f6c347f9063c976b312ad59ecc739c4406d04dd2a374c936e16305e27ffad63ebedb7136bc3e31f3861b0afbebd1f7c1dd78f4feba854224f4aab5a411aab0e866faeed3809828d2f687a9200e750d89df969bbcf235616844161b8a24a04fd7348088 \n",
      "\n",
      "number of bits: 1024 \n",
      "\n"
     ]
    }
   ],
   "source": [
    "my_print_number(\"Mallory's x\", mallory_x)"
   ]
  },
  {
   "cell_type": "code",
   "execution_count": 14,
   "metadata": {
    "collapsed": false
   },
   "outputs": [
   ],
   "source": [
    "mallory_y = power_mod(g, mallory_x, p)"
   ]
  },
  {
   "cell_type": "code",
   "execution_count": 15,
   "metadata": {
    "collapsed": false
   },
   "outputs": [
    {
     "name": "stdout",
     "output_type": "stream",
     "text": [
      "\n",
      " Mallory's y \n",
      "\n",
      "decimal: 113,064,498,913,704,717,265,543,152,751,788,829,997,041,837,062,452,636,437,341,464,455,391,464,468,230,677,178,911,141,160,587,396,807,844,479,565,534,422,391,430,800,398,079,185,459,429,159,904,674,717,382,535,371,011,099,740,543,984,011,607,334,444,404,224,729,869,676,847,547,955,778,341,263,163,421,800,067,499,940,653,463,222,061,564,620,895,610,641,467,238,269,952,401,744,057,063,171,546,600,594,081,710 \n",
      "\n",
      "number of digits: 309 \n",
      "\n",
      "hex: a1025a568a2a457990f6f53a7648658479a1c0c3c9bf274ae021b8ea45672f20e23b8927c37c637e468cbb45031dff3f8abcde579538162a3f3472c5cdeb42998063ea3f68798e62469f2aba5ac4003e531213baa894a097c0eb1589bdd2275189ec1a0d18646a829713ba4d9ea0a73fc3733732a7687d07df92c701821207ae \n",
      "\n",
      "number of bits: 1024 \n",
      "\n"
     ]
    }
   ],
   "source": [
    "my_print_number(\"Mallory's y\", mallory_y)"
   ]
  },
  {
   "cell_type": "code",
   "execution_count": 16,
   "metadata": {
    "collapsed": false
   },
   "outputs": [
   ],
   "source": [
    "# p, g are public\n",
    "# Mallory sends his y to Alice.  Alice thinks Mallory is Bob and that she is receiving y from Bob.\n"
   ]
  },
  {
   "cell_type": "markdown",
   "metadata": {
    "collapsed": false
   },
   "source": [
    "### Alice gets to choose a message m (plaintext). m is usually a key to be put into symmetrical such as AES256.  Alice also generates a large random number k of similar bit size to p that is < p.  k can be odd or even, prime or composite.  Alice will calculate a by raising g to the power of her exponent k.  Alice will encrypt the message m (plaintext) into b (ciphertext), using her exponent k and the y she received from Mallory (Alice thinks she received the y from Bob).  Alice sends a and b to Bob (However, Mallory is pretending to be Bob, so Alice really sends her a and b to Mallory)"
   ]
  },
  {
   "cell_type": "code",
   "execution_count": 17,
   "metadata": {
    "collapsed": false
   },
   "outputs": [
   ],
   "source": [
    "# unlike Diffie Hellman, Alice gets to set a message \n",
    "\n",
    "alice_m = 1234567890"
   ]
  },
  {
   "cell_type": "code",
   "execution_count": 18,
   "metadata": {
    "collapsed": false
   },
   "outputs": [
   ],
   "source": [
    "alice_k = my_get_random_exponent(b, p)"
   ]
  },
  {
   "cell_type": "code",
   "execution_count": 19,
   "metadata": {
    "collapsed": false
   },
   "outputs": [
    {
     "name": "stdout",
     "output_type": "stream",
     "text": [
      "\n",
      " Alice's k \n",
      "\n",
      "decimal: 58,316,097,588,472,424,164,165,355,962,158,988,301,462,510,995,998,986,159,384,478,148,052,307,055,977,873,880,477,264,974,398,880,828,454,171,893,141,872,944,640,749,559,351,362,189,563,119,513,785,332,355,325,980,081,733,252,660,677,057,988,034,025,997,003,488,044,309,347,664,601,630,656,263,995,707,813,132,493,075,666,965,743,416,900,187,029,340,538,065,107,169,432,632,177,416,501,219,994,352,191,584,728 \n",
      "\n",
      "number of digits: 308 \n",
      "\n",
      "hex: 530b7d39a95bde20bf1ba966dba4caf29b5aa50b1442cf5917502a574b8fa6b0df3bde72ee3665cdffaece543ca9c0ffec08df3d86bc8efbb02c94a3d1cd3d079024e57dcc98ab0701380278e5decea5f05ff1c827b4229acc49066ba4a2a26527bd77c1848ae25826ecbd26e30a31461373fc39c76a147bc44d78920aacb9d8 \n",
      "\n",
      "number of bits: 1023 \n",
      "\n"
     ]
    }
   ],
   "source": [
    "my_print_number(\"Alice's k\", alice_k)"
   ]
  },
  {
   "cell_type": "code",
   "execution_count": 20,
   "metadata": {
    "collapsed": false
   },
   "outputs": [
   ],
   "source": [
    "alice_a = power_mod(g, alice_k, p)"
   ]
  },
  {
   "cell_type": "code",
   "execution_count": 21,
   "metadata": {
    "collapsed": false
   },
   "outputs": [
    {
     "name": "stdout",
     "output_type": "stream",
     "text": [
      "\n",
      " Alice's a \n",
      "\n",
      "decimal: 48,977,153,091,093,316,674,244,204,500,067,767,475,744,191,075,081,030,332,837,187,091,044,037,737,085,236,725,246,434,834,221,591,447,885,230,106,744,130,695,584,413,009,813,390,998,081,536,638,715,052,384,430,669,561,700,206,090,064,150,596,961,050,140,886,918,743,684,928,817,588,883,564,903,220,156,566,183,578,993,954,604,110,417,686,355,028,293,797,549,186,502,135,932,417,101,068,237,627,668,763,440,664 \n",
      "\n",
      "number of digits: 308 \n",
      "\n",
      "hex: 45beeb8303e1d0d76d2dcc779eaaed72ff3fd474a254bf6aaf067e9a219bb8c285e9636d3538b338e0746e8dd98c6fccb7dc9d18c7c231868f7b50817178475c96fd30926997463bf2618a5ab0a7547dfb94632d5608dba19bc32a18cbed8a71d001adce01b278c9e442b5d27fb86687002f7c4e02dcb8ddcfe2fef7fe22f618 \n",
      "\n",
      "number of bits: 1023 \n",
      "\n"
     ]
    }
   ],
   "source": [
    "my_print_number(\"Alice's a\", alice_a)"
   ]
  },
  {
   "cell_type": "code",
   "execution_count": 22,
   "metadata": {
    "collapsed": false
   },
   "outputs": [
   ],
   "source": [
    "alice_b = ( (alice_m % p) * power_mod(mallory_y, alice_k, p) ) % p"
   ]
  },
  {
   "cell_type": "code",
   "execution_count": 23,
   "metadata": {
    "collapsed": false
   },
   "outputs": [
    {
     "name": "stdout",
     "output_type": "stream",
     "text": [
      "\n",
      " Alice's b \n",
      "\n",
      "decimal: 96,538,393,603,268,822,870,831,674,897,234,682,026,030,148,886,076,113,744,961,463,800,725,185,508,497,672,687,725,289,490,746,309,820,692,308,643,719,503,588,540,187,031,789,270,786,954,212,207,018,171,414,944,876,870,013,156,394,419,949,261,565,325,477,073,091,025,581,266,582,015,139,508,205,810,862,231,655,781,006,967,072,408,842,881,041,313,913,756,776,389,416,971,653,912,059,200,311,693,554,841,358,362 \n",
      "\n",
      "number of digits: 308 \n",
      "\n",
      "hex: 8979a90dca421cfd3d1b09996a9e8f851d5ab5ac121b6bbdffa2f994fc20855dad3b7b796023a80e90ca07963bfc643c8c71936e05dfc8c7fb05ecdd217092634306569fbe15bcb04f52e0331748b208ca510071304b0cec26cb123e938837713093eff80743da6038a5df4b8deaf046e08ae15bb091d097ee8e7d922c19101a \n",
      "\n",
      "number of bits: 1024 \n",
      "\n"
     ]
    }
   ],
   "source": [
    "my_print_number(\"Alice's b\", alice_b)"
   ]
  },
  {
   "cell_type": "code",
   "execution_count": 24,
   "metadata": {
    "collapsed": false
   },
   "outputs": [
   ],
   "source": [
    "# Alice sends a and b to Bob.  (However Mallory is pretending to be Bob, so Alice really sends her a and b to Mallory.)"
   ]
  },
  {
   "cell_type": "markdown",
   "metadata": {
    "collapsed": false
   },
   "source": [
    "### Mallory has just received a and b from Alice.  Using Mallory's secret exponent x, Mallory can decrypt b (ciphertext) into the original m (plaintext). "
   ]
  },
  {
   "cell_type": "code",
   "execution_count": 25,
   "metadata": {
    "collapsed": false
   },
   "outputs": [
   ],
   "source": [
    "mallory_m = ( (alice_b % p) * power_mod(alice_a, -mallory_x, p) ) % p"
   ]
  },
  {
   "cell_type": "code",
   "execution_count": 26,
   "metadata": {
    "collapsed": false
   },
   "outputs": [
    {
     "data": {
      "text/plain": [
       "1234567890"
      ]
     },
     "execution_count": 26,
     "metadata": {
     },
     "output_type": "execute_result"
    }
   ],
   "source": [
    "mallory_m"
   ]
  },
  {
   "cell_type": "markdown",
   "metadata": {
    "collapsed": false
   },
   "source": [
    "### Mallory now has the message m in plaintext.  Mallory generates a large random number k of similar bit size to p that is < p.  k can be odd or even, prime or composite.  Mallory will calculate a by raising g to the power of his exponent k.  Mallory will encrypt the message m (plaintext) into b (ciphertext), using his exponent k and the y he received from Bob.  Mallory sends a and b to Bob.  Bob thinks he's receiving a and b from Alice."
   ]
  },
  {
   "cell_type": "code",
   "execution_count": 27,
   "metadata": {
    "collapsed": false
   },
   "outputs": [
   ],
   "source": [
    "mallory_k = my_get_random_exponent(b, p)"
   ]
  },
  {
   "cell_type": "code",
   "execution_count": 28,
   "metadata": {
    "collapsed": false
   },
   "outputs": [
    {
     "name": "stdout",
     "output_type": "stream",
     "text": [
      "\n",
      " Mallory's k \n",
      "\n",
      "decimal: 106,906,876,101,153,490,623,762,451,050,521,405,758,023,764,628,602,280,649,864,631,344,522,598,214,775,749,341,461,812,354,713,062,907,577,119,251,940,279,623,979,764,787,098,226,098,446,903,194,167,830,640,013,919,126,548,707,033,686,303,576,576,996,195,941,026,791,403,509,842,466,572,422,350,986,729,245,650,738,157,579,216,487,168,760,251,925,848,510,431,360,648,180,980,050,754,586,210,428,539,992,248,322 \n",
      "\n",
      "number of digits: 309 \n",
      "\n",
      "hex: 983d8dcda551076a5a771870dd84ba6c01023d46451f9b886e1e5a1bbfb0eb8f087e1e5687ab53b23e9160d85510b7683edba4101ffc405207558fa53628f54198a1105793b63e9daa6207f059ee406b8782c04914bf9756fcbabc863214a3ab972a197caa57ed39971c6f723d5b599578064363db21e1a02293d141d8ff9002 \n",
      "\n",
      "number of bits: 1024 \n",
      "\n"
     ]
    }
   ],
   "source": [
    "my_print_number(\"Mallory's k\", mallory_k)"
   ]
  },
  {
   "cell_type": "code",
   "execution_count": 29,
   "metadata": {
    "collapsed": false
   },
   "outputs": [
   ],
   "source": [
    "mallory_a = power_mod(g, mallory_k, p)"
   ]
  },
  {
   "cell_type": "code",
   "execution_count": 30,
   "metadata": {
    "collapsed": false
   },
   "outputs": [
    {
     "name": "stdout",
     "output_type": "stream",
     "text": [
      "\n",
      " Mallory's a \n",
      "\n",
      "decimal: 6,925,742,713,799,609,021,806,106,170,396,739,835,112,591,851,211,591,926,727,768,942,434,216,389,541,898,128,359,959,915,812,889,092,460,732,337,125,773,706,358,640,237,200,465,337,932,883,845,134,153,219,134,777,853,349,269,438,852,716,522,736,975,591,000,538,773,565,166,120,632,235,967,243,561,310,083,265,529,328,296,057,401,177,946,248,728,564,310,839,824,715,656,578,632,728,114,705,232,936,917,120,543 \n",
      "\n",
      "number of digits: 307 \n",
      "\n",
      "hex: 9dcd25edf0162fc9b09a427d6b020b4eebb1c6bb09d8b149683c5d82edfc1c660eef332433230a0f7fad7315374cf1b1487cb47d09a53213af90991a4758fd34a35665d85970b839512263b36defee4188379784d388941baa1778efd26663a25ed0e3b3ddc281a243114e2b415bd7b1b2cff72ff52256daf1876ab8a61b61f \n",
      "\n",
      "number of bits: 1020 \n",
      "\n"
     ]
    }
   ],
   "source": [
    "my_print_number(\"Mallory's a\", mallory_a)"
   ]
  },
  {
   "cell_type": "code",
   "execution_count": 31,
   "metadata": {
    "collapsed": false
   },
   "outputs": [
   ],
   "source": [
    "mallory_b = ( (mallory_m % p) * power_mod(bob_y, mallory_k, p) ) % p"
   ]
  },
  {
   "cell_type": "code",
   "execution_count": 32,
   "metadata": {
    "collapsed": false
   },
   "outputs": [
    {
     "name": "stdout",
     "output_type": "stream",
     "text": [
      "\n",
      " Mallory's b \n",
      "\n",
      "decimal: 9,394,489,415,514,059,084,475,091,369,468,718,281,629,485,419,916,954,918,891,109,874,359,557,472,893,716,864,275,776,915,105,279,813,304,110,149,987,274,381,584,088,357,733,771,737,022,233,084,851,469,332,421,642,872,014,095,794,159,439,362,709,131,657,265,053,654,368,466,723,945,542,455,764,299,491,950,089,190,688,861,332,992,920,067,621,304,460,079,116,085,408,228,620,475,532,279,650,832,073,433,492,803 \n",
      "\n",
      "number of digits: 307 \n",
      "\n",
      "hex: d60d184c265fd01089ad080c64c18099b390b44b3e43ddc4f44e2b4e62dba0d966ddc43fbe9fe71058cf96708255cc4a85e85c525ae479606570cf2a28703ee725354270cb1f27b2f53995a8a9b30dc3154dc073177bbb6df972d1e99a7989e6db3d9f75b22415e8640890692787a728f60b1c045711417963a209d3eeb2d43 \n",
      "\n",
      "number of bits: 1020 \n",
      "\n"
     ]
    }
   ],
   "source": [
    "my_print_number(\"Mallory's b\", mallory_b)"
   ]
  },
  {
   "cell_type": "code",
   "execution_count": 33,
   "metadata": {
    "collapsed": false
   },
   "outputs": [
   ],
   "source": [
    "# Mallory sends a and b to Bob.  Bob thinks he's receiving a and b from Alice."
   ]
  },
  {
   "cell_type": "markdown",
   "metadata": {
    "collapsed": true
   },
   "source": [
    "### Bob receives a and b (ciphertext) from Mallory, but thinks he's receiving them from Alice.  Using his secret exponent x, Bob can decrypt b (ciphertext) into the original m (plaintext). "
   ]
  },
  {
   "cell_type": "code",
   "execution_count": 34,
   "metadata": {
    "collapsed": false
   },
   "outputs": [
   ],
   "source": [
    "bob_m = ( (mallory_b % p) * power_mod(mallory_a, -bob_x, p) ) % p"
   ]
  },
  {
   "cell_type": "code",
   "execution_count": 35,
   "metadata": {
    "collapsed": false
   },
   "outputs": [
    {
     "data": {
      "text/plain": [
       "1234567890"
      ]
     },
     "execution_count": 35,
     "metadata": {
     },
     "output_type": "execute_result"
    }
   ],
   "source": [
    "bob_m"
   ]
  },
  {
   "cell_type": "code",
   "execution_count": 36,
   "metadata": {
    "collapsed": false
   },
   "outputs": [
    {
     "name": "stdout",
     "output_type": "stream",
     "text": [
      "Bob's message matches Alice's message\n"
     ]
    }
   ],
   "source": [
    "if bob_m == alice_m:\n",
    "    print (\"Bob's message matches Alice's message\")\n",
    "else:\n",
    "    print (\"Error - Bob's message does not match Alice's message\")"
   ]
  },
  {
   "cell_type": "markdown",
   "metadata": {
    "collapsed": false
   },
   "source": [
    "### Assuming the message is a key for symmetrical encryption such as AES256, Mallory now has that key.  He can successfully intercept, decrypt, read, possibly change, and re-encrypt all messages to and from Alice and Bob."
   ]
  },
  {
   "cell_type": "code",
   "execution_count": 0,
   "metadata": {
    "collapsed": false
   },
   "outputs": [
   ],
   "source": [
   ]
  }
 ],
 "metadata": {
  "kernelspec": {
   "display_name": "SageMath 9.1",
   "language": "sagemath",
   "metadata": {
    "cocalc": {
     "description": "Open-source mathematical software system",
     "priority": 10,
     "url": "https://www.sagemath.org/"
    }
   },
   "name": "sage-9.1"
  },
  "language_info": {
   "codemirror_mode": {
    "name": "ipython",
    "version": 3
   },
   "file_extension": ".py",
   "mimetype": "text/x-python",
   "name": "python",
   "nbconvert_exporter": "python",
   "pygments_lexer": "ipython3",
   "version": "3.7.3"
  }
 },
 "nbformat": 4,
 "nbformat_minor": 4
}