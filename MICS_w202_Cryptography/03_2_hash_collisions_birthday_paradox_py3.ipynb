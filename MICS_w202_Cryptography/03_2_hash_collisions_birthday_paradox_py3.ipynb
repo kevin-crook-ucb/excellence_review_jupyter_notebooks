{
 "cells": [
  {
   "cell_type": "markdown",
   "metadata": {
    "collapsed": false
   },
   "source": [
    "### UC Berkeley, MICS, W202-Cryptography\n",
    "### Week 03 Breakout 2\n",
    "\n",
    "### Collisions in Hash Functions and using the Birthday Paradox to help understand them\n",
    "\n"
   ]
  },
  {
   "cell_type": "markdown",
   "metadata": {
    "collapsed": false
   },
   "source": [
    "In our lectures, we learned that Hash Function resistance is categorized in three ways:\n",
    "\n",
    "* Preimage resistance\n",
    "\n",
    "* Second preimage resistance\n",
    "\n",
    "* Collision resistance\n",
    "\n",
    "In this breakout, we will see an example of each of the above, starting with collision resistance, then second preimage resistance, and then preimage resisance.\n",
    "\n",
    "Next, we will see the way in which we measure the collision resistance of a hash function:\n",
    "\n",
    "The way we generally measure collision resistance is based on the Birthday Paradox, which is generally stated: How many persons do we need before the probability of at least one common birthday is > 50%.  (This ignores leap years and assumes 365 days per year.)\n",
    "\n",
    "The answer to the birthday paradox is 23, which suprises most people.  Most people guess 1/365, which is wrong.  Below we will see the probabilities of the birthday paradox grow as we increase the number of persons. \n",
    "\n",
    "The birthday paradox forms the way we measure the collision resistance of a hash function.  To translate the birthday paradox into a hash function, we assume the hash value range is 365 and each person's birthday is the input value to the hash. \n",
    "\n",
    "Below we will see for various hash sizes the number of input values needed before we reach a 50% chance of a collision.\n",
    "\n",
    "Attacks based on collisions are often called \"birthday attacks\" because they use the principles of the birthday paradox.  \n"
   ]
  },
  {
   "cell_type": "code",
   "execution_count": 1,
   "metadata": {
    "collapsed": false
   },
   "outputs": [
   ],
   "source": [
    "import hashlib\n",
    "import binascii\n",
    "import subprocess\n",
    "from sage.all import *"
   ]
  },
  {
   "cell_type": "markdown",
   "metadata": {
    "collapsed": false
   },
   "source": [
    "### Example of an Attack on Collision Resistance\n",
    "\n",
    "The example belows shows two random hexidecimal strings which are not identical, yet they both yield the same MD5 hash value, which proves a collision."
   ]
  },
  {
   "cell_type": "code",
   "execution_count": 2,
   "metadata": {
    "collapsed": false
   },
   "outputs": [
   ],
   "source": [
    "hex_string_1 = 'd131dd02c5e6eec4693d9a0698aff95c2fcab58712467eab4004583eb8fb7f8955ad340609f4b30283e488832571415a085125e8f7cdc99fd91dbdf280373c5bd8823e3156348f5bae6dacd436c919c6dd53e2b487da03fd02396306d248cda0e99f33420f577ee8ce54b67080a80d1ec69821bcb6a8839396f9652b6ff72a70'\n",
    "\n",
    "byte_buffer_1 = binascii.a2b_hex(hex_string_1)\n",
    "\n",
    "hex_string_2 = 'd131dd02c5e6eec4693d9a0698aff95c2fcab50712467eab4004583eb8fb7f8955ad340609f4b30283e4888325f1415a085125e8f7cdc99fd91dbd7280373c5bd8823e3156348f5bae6dacd436c919c6dd53e23487da03fd02396306d248cda0e99f33420f577ee8ce54b67080280d1ec69821bcb6a8839396f965ab6ff72a70'\n",
    "\n",
    "byte_buffer_2 = binascii.a2b_hex(hex_string_2)"
   ]
  },
  {
   "cell_type": "code",
   "execution_count": 3,
   "metadata": {
    "collapsed": false,
    "scrolled": true
   },
   "outputs": [
    {
     "name": "stdout",
     "output_type": "stream",
     "text": [
      "position: 38 hex_string_1: 8 hex_string_2: 0\n",
      "position: 90 hex_string_1: 7 hex_string_2: f\n",
      "position: 118 hex_string_1: f hex_string_2: 7\n",
      "position: 166 hex_string_1: b hex_string_2: 3\n",
      "position: 218 hex_string_1: a hex_string_2: 2\n",
      "position: 246 hex_string_1: 2 hex_string_2: a\n"
     ]
    }
   ],
   "source": [
    "# the hex strings above are not identical, but they only differ in 6 hex digits\n",
    "# the following code will show you the 6 positions in which they differ\n",
    "# positions are zero based\n",
    "\n",
    "for (index, c1) in enumerate(hex_string_1):\n",
    "    if c1 != hex_string_2[index]:\n",
    "        print (\"position:\", index, \"hex_string_1:\", c1, \"hex_string_2:\", hex_string_2[index])"
   ]
  },
  {
   "cell_type": "code",
   "execution_count": 4,
   "metadata": {
    "collapsed": false
   },
   "outputs": [
    {
     "name": "stdout",
     "output_type": "stream",
     "text": [
      "string 1 MD5: 79054025255fb1a26e4bc422aef54eb4\n",
      "string 2 MD5: 79054025255fb1a26e4bc422aef54eb4\n"
     ]
    }
   ],
   "source": [
    "# the the md5 hash values are identical for the two different byte strings\n",
    "# this proves a collision has occurred\n",
    "\n",
    "print (\"string 1 MD5:\", hashlib.md5(byte_buffer_1).hexdigest())\n",
    "print (\"string 2 MD5:\", hashlib.md5(byte_buffer_2).hexdigest())"
   ]
  },
  {
   "cell_type": "markdown",
   "metadata": {
    "collapsed": false
   },
   "source": [
    "### Example of an Attack on Second Preimage Resistance\n",
    "\n",
    "In this example, we have two executables, both with the same MD5 hash value.  However they are two totally different programs with totally different outputs.  This proves a second preimage attack.  This shows that someone can substitute one executable for another executable and it will pass a verification of an MD5 hash check.\n",
    "\n",
    "You will need to uploade the executables hello and erase.  Make sure you don't accidentially view them in the editor, as that makes slight changes to them and invalidates the MD5 hash value. Make sure you don't in anyway alter them that invalidates the MD5 hash value.\n",
    "\n",
    "Note: if you are running this jupyter notebook on Windows, you will need to use different versions of the executables and make appropriate changes to the cells below."
   ]
  },
  {
   "cell_type": "markdown",
   "metadata": {
    "collapsed": false
   },
   "source": [
    "**Note: the programs hello & erase are Linux executables.  You will have to have shell access to a Linux shell where the Jupyter Notebook is running for this to work.  If you can't get it to work, it's not a big deal, you can follow along in class to understand it.  You can still run the code cells below this section, as they will still work.**"
   ]
  },
  {
   "cell_type": "code",
   "execution_count": 5,
   "metadata": {
    "collapsed": false
   },
   "outputs": [
    {
     "name": "stdout",
     "output_type": "stream",
     "text": [
      "\n"
     ]
    }
   ],
   "source": [
    "# change the mode of our files to be executable\n",
    "\n",
    "print (subprocess.Popen(\"chmod 744 hello erase\", shell=True, stdout=subprocess.PIPE).stdout.read().decode())"
   ]
  },
  {
   "cell_type": "code",
   "execution_count": 6,
   "metadata": {
    "collapsed": false
   },
   "outputs": [
    {
     "name": "stdout",
     "output_type": "stream",
     "text": [
      "-rwxr--r-- 1 user user 4072 Aug 10 12:22 erase\n",
      "-rwxr--r-- 1 user user 4072 Aug 10 12:22 hello\n",
      "\n"
     ]
    }
   ],
   "source": [
    "# see the listing of our two executables\n",
    "\n",
    "print (subprocess.Popen(\"ls -l hello erase\", shell=True, stdout=subprocess.PIPE).stdout.read().decode())"
   ]
  },
  {
   "cell_type": "code",
   "execution_count": 7,
   "metadata": {
    "collapsed": false
   },
   "outputs": [
    {
     "name": "stdout",
     "output_type": "stream",
     "text": [
      "hello program MD5: da5c61e1edc0f18337e46418e48c1290\n",
      "erase program MD5: da5c61e1edc0f18337e46418e48c1290\n"
     ]
    }
   ],
   "source": [
    "# see that the MD5 hash value is the same for both executables\n",
    "\n",
    "f1 = open('hello', \"rb\")\n",
    "r1 = f1.read()\n",
    "f1.close()\n",
    "print (\"hello program MD5:\", hashlib.md5(r1).hexdigest())\n",
    "\n",
    "f2 = open(\"erase\", \"rb\")\n",
    "r2 = f2.read()\n",
    "f2.close()\n",
    "print (\"erase program MD5:\", hashlib.md5(r2).hexdigest())\n"
   ]
  },
  {
   "cell_type": "code",
   "execution_count": 8,
   "metadata": {
    "collapsed": false
   },
   "outputs": [
    {
     "name": "stdout",
     "output_type": "stream",
     "text": [
      "Hello, world!\n",
      "\n",
      "(press enter to quit)\n"
     ]
    }
   ],
   "source": [
    "# run the hello program and see its output\n",
    "\n",
    "print (subprocess.Popen(\"./hello\", shell=True, stdout=subprocess.PIPE).stdout.read().decode())"
   ]
  },
  {
   "cell_type": "code",
   "execution_count": 9,
   "metadata": {
    "collapsed": false
   },
   "outputs": [
    {
     "name": "stdout",
     "output_type": "stream",
     "text": [
      "This program is evil!!!\n",
      "Erasing hard drive...1Gb...2Gb... just kidding!\n",
      "Nothing was erased.\n",
      "\n",
      "(press enter to quit)\n"
     ]
    }
   ],
   "source": [
    "# run the erase program and see its output\n",
    "\n",
    "# it does NOT really erase, just demonstrating that a malicous program can be substituted for a good program\n",
    "# and still have a valid MD5 hash\n",
    "\n",
    "print (subprocess.Popen(\"./erase\", shell=True, stdout=subprocess.PIPE).stdout.read().decode())"
   ]
  },
  {
   "cell_type": "markdown",
   "metadata": {
    "collapsed": false
   },
   "source": [
    "### Example of an Attack on Preimage Resistance\n",
    "\n",
    "In this example, let's suppose that a big box store has an in house credit card that requires a 5 digit pin.  The computer system for point of sale does not store the actual pin.  It generates an SHA256 hash of the pin and stores the hash value.  Suppose some hackers attack the big box store and recover the  list of SHA256 hashes.  Since they know pins must be 5 digits, they can easily recover the pin for all accounts by simply looping through all 100,000 possibilites and finding a hash that matches, which proves they have recovered the preimage of the hash.\n",
    "\n",
    "Even though the hash is collision resistant, if the input lengths are small, it's possible to check all possibilities."
   ]
  },
  {
   "cell_type": "code",
   "execution_count": 10,
   "metadata": {
    "collapsed": false
   },
   "outputs": [
    {
     "name": "stdout",
     "output_type": "stream",
     "text": [
      "15b75c24361d4ab459be3a5893e2323d1b018182ae8aa16f0e85f9c634e2388e\n"
     ]
    }
   ],
   "source": [
    "# suppose a customer sets their pin to 74858\n",
    "# the big box store's computer generates an SHA256 hash and stores the hash value\n",
    "\n",
    "pin = 74858\n",
    "\n",
    "pin_sha256 = hashlib.sha256(str(pin).encode())\n",
    "\n",
    "print (pin_sha256.hexdigest())"
   ]
  },
  {
   "cell_type": "code",
   "execution_count": 11,
   "metadata": {
    "collapsed": false
   },
   "outputs": [
    {
     "name": "stdout",
     "output_type": "stream",
     "text": [
      "preimage is recovered as: 74858\n"
     ]
    }
   ],
   "source": [
    "# we can simply loop from 0 to 99,999 to cover all possible values for a 5 digit pin\n",
    "# if the SHA256 hash value matches the SHA256 hash value\n",
    "# we have successfully recovered the customer's pin value of 74858\n",
    "\n",
    "i = 0\n",
    "\n",
    "while i <= 99999:\n",
    "    if hashlib.sha256(str(i).encode()).hexdigest() == pin_sha256.hexdigest():\n",
    "        print (\"preimage is recovered as:\", i)\n",
    "        break\n",
    "    i += 1"
   ]
  },
  {
   "cell_type": "markdown",
   "metadata": {
    "collapsed": false
   },
   "source": [
    "### Birthday Paradox: How many persons do we need before the probability of at least one common birthday is > 50%. (This ignores leap years and assumes 365 days per year.)"
   ]
  },
  {
   "cell_type": "code",
   "execution_count": 12,
   "metadata": {
    "collapsed": false
   },
   "outputs": [
   ],
   "source": [
    "def my_birthday_paradox(stop_value):\n",
    "    \"loop from 1 to stop value, for the given number calculate the probability that two persons will have the same birthday\"\n",
    "    \n",
    "    for i in range(1, stop_value):\n",
    "        \n",
    "        p = (1 - float(factorial(365) / ( (365 ** i) * factorial(365 - i)))) * 100\n",
    "        \n",
    "        print (\"persons:\", i, \"     probability:\",\"{:.5g}\".format(p), \"%\")"
   ]
  },
  {
   "cell_type": "code",
   "execution_count": 13,
   "metadata": {
    "collapsed": false
   },
   "outputs": [
    {
     "name": "stdout",
     "output_type": "stream",
     "text": [
      "persons: 1      probability: 0 %\n",
      "persons: 2      probability: 0.27397 %\n",
      "persons: 3      probability: 0.82042 %\n",
      "persons: 4      probability: 1.6356 %\n",
      "persons: 5      probability: 2.7136 %\n",
      "persons: 6      probability: 4.0462 %\n",
      "persons: 7      probability: 5.6236 %\n",
      "persons: 8      probability: 7.4335 %\n",
      "persons: 9      probability: 9.4624 %\n",
      "persons: 10      probability: 11.695 %\n",
      "persons: 11      probability: 14.114 %\n",
      "persons: 12      probability: 16.702 %\n",
      "persons: 13      probability: 19.441 %\n",
      "persons: 14      probability: 22.31 %\n",
      "persons: 15      probability: 25.29 %\n",
      "persons: 16      probability: 28.36 %\n",
      "persons: 17      probability: 31.501 %\n",
      "persons: 18      probability: 34.691 %\n",
      "persons: 19      probability: 37.912 %\n",
      "persons: 20      probability: 41.144 %\n",
      "persons: 21      probability: 44.369 %\n",
      "persons: 22      probability: 47.57 %\n",
      "persons: 23      probability: 50.73 %\n",
      "persons: 24      probability: 53.834 %\n",
      "persons: 25      probability: 56.87 %\n",
      "persons: 26      probability: 59.824 %\n",
      "persons: 27      probability: 62.686 %\n",
      "persons: 28      probability: 65.446 %\n",
      "persons: 29      probability: 68.097 %\n",
      "persons: 30      probability: 70.632 %\n",
      "persons: 31      probability: 73.045 %\n",
      "persons: 32      probability: 75.335 %\n",
      "persons: 33      probability: 77.497 %\n",
      "persons: 34      probability: 79.532 %\n",
      "persons: 35      probability: 81.438 %\n",
      "persons: 36      probability: 83.218 %\n",
      "persons: 37      probability: 84.873 %\n",
      "persons: 38      probability: 86.407 %\n",
      "persons: 39      probability: 87.822 %\n",
      "persons: 40      probability: 89.123 %\n",
      "persons: 41      probability: 90.315 %\n",
      "persons: 42      probability: 91.403 %\n",
      "persons: 43      probability: 92.392 %\n",
      "persons: 44      probability: 93.289 %\n",
      "persons: 45      probability: 94.098 %\n",
      "persons: 46      probability: 94.825 %\n",
      "persons: 47      probability: 95.477 %\n",
      "persons: 48      probability: 96.06 %\n",
      "persons: 49      probability: 96.578 %\n",
      "persons: 50      probability: 97.037 %\n",
      "persons: 51      probability: 97.443 %\n",
      "persons: 52      probability: 97.8 %\n",
      "persons: 53      probability: 98.114 %\n",
      "persons: 54      probability: 98.388 %\n",
      "persons: 55      probability: 98.626 %\n",
      "persons: 56      probability: 98.833 %\n",
      "persons: 57      probability: 99.012 %\n",
      "persons: 58      probability: 99.166 %\n",
      "persons: 59      probability: 99.299 %\n",
      "persons: 60      probability: 99.412 %\n",
      "persons: 61      probability: 99.509 %\n",
      "persons: 62      probability: 99.591 %\n",
      "persons: 63      probability: 99.66 %\n",
      "persons: 64      probability: 99.719 %\n",
      "persons: 65      probability: 99.768 %\n",
      "persons: 66      probability: 99.81 %\n",
      "persons: 67      probability: 99.844 %\n",
      "persons: 68      probability: 99.873 %\n",
      "persons: 69      probability: 99.896 %\n",
      "persons: 70      probability: 99.916 %\n",
      "persons: 71      probability: 99.932 %\n",
      "persons: 72      probability: 99.945 %\n",
      "persons: 73      probability: 99.956 %\n",
      "persons: 74      probability: 99.965 %\n",
      "persons: 75      probability: 99.972 %\n",
      "persons: 76      probability: 99.978 %\n",
      "persons: 77      probability: 99.982 %\n",
      "persons: 78      probability: 99.986 %\n",
      "persons: 79      probability: 99.989 %\n",
      "persons: 80      probability: 99.991 %\n",
      "persons: 81      probability: 99.993 %\n",
      "persons: 82      probability: 99.995 %\n",
      "persons: 83      probability: 99.996 %\n",
      "persons: 84      probability: 99.997 %\n",
      "persons: 85      probability: 99.998 %\n",
      "persons: 86      probability: 99.998 %\n",
      "persons: 87      probability: 99.999 %\n",
      "persons: 88      probability: 99.999 %\n",
      "persons: 89      probability: 99.999 %\n",
      "persons: 90      probability: 99.999 %\n"
     ]
    }
   ],
   "source": [
    "# watch the probability grow as the number of persons grows\n",
    "\n",
    "my_birthday_paradox(91)"
   ]
  },
  {
   "cell_type": "markdown",
   "metadata": {
    "collapsed": false
   },
   "source": [
    "### Using the same logic of the birthday paradox, for all of the common hash sizes, calculate the number of input values needed before we reach a 50% chance of a collision."
   ]
  },
  {
   "cell_type": "code",
   "execution_count": 14,
   "metadata": {
    "collapsed": false
   },
   "outputs": [
   ],
   "source": [
    "def my_hash_collision_probability(hash_bits):\n",
    "    \"for the given number of hash bits, calculate the hash value range, and the number of input points to have a 50% probability of a collision \"\n",
    "    \n",
    "    print (\"\\nbits:\", hash_bits)\n",
    "    \n",
    "    print (\"\\nhash value range:\", \"{:,}\".format(2 ** hash_bits))\n",
    "    print (\"\\n    digits:\", (2 ** hash_bits).ndigits())\n",
    "    \n",
    "    n = float(2 ** hash_bits)\n",
    "    \n",
    "    # find k where probability > 50%\n",
    "    \n",
    "    k = float(sqrt( ( log(2) + (2 * n) ) ))\n",
    "    \n",
    "    print (\"\\nApproximate number of input points to have a 50% probability of a collision:\", \"{:,}\".format(floor(k)))\n",
    "    print (\"\\n    digits:\", (floor(k)).ndigits())\n",
    "    "
   ]
  },
  {
   "cell_type": "code",
   "execution_count": 15,
   "metadata": {
    "collapsed": false,
    "scrolled": true
   },
   "outputs": [
    {
     "name": "stdout",
     "output_type": "stream",
     "text": [
      "\n",
      "bits: 16\n",
      "\n",
      "hash value range: 65,536\n",
      "\n",
      "    digits: 5\n",
      "\n",
      "Approximate number of input points to have a 50% probability of a collision: 362\n"
     ]
    },
    {
     "name": "stdout",
     "output_type": "stream",
     "text": [
      "\n",
      "    digits: 3\n"
     ]
    }
   ],
   "source": [
    "my_hash_collision_probability(16)"
   ]
  },
  {
   "cell_type": "code",
   "execution_count": 16,
   "metadata": {
    "collapsed": false
   },
   "outputs": [
    {
     "name": "stdout",
     "output_type": "stream",
     "text": [
      "\n",
      "bits: 32\n",
      "\n",
      "hash value range: 4,294,967,296\n",
      "\n",
      "    digits: 10\n",
      "\n",
      "Approximate number of input points to have a 50% probability of a collision: 92,681\n",
      "\n",
      "    digits: 5\n"
     ]
    }
   ],
   "source": [
    "my_hash_collision_probability(32)"
   ]
  },
  {
   "cell_type": "code",
   "execution_count": 17,
   "metadata": {
    "collapsed": false
   },
   "outputs": [
    {
     "name": "stdout",
     "output_type": "stream",
     "text": [
      "\n",
      "bits: 64\n",
      "\n",
      "hash value range: 18,446,744,073,709,551,616\n",
      "\n",
      "    digits: 20\n",
      "\n",
      "Approximate number of input points to have a 50% probability of a collision: 6,074,000,999\n",
      "\n",
      "    digits: 10\n"
     ]
    }
   ],
   "source": [
    "my_hash_collision_probability(64)"
   ]
  },
  {
   "cell_type": "code",
   "execution_count": 18,
   "metadata": {
    "collapsed": false
   },
   "outputs": [
    {
     "name": "stdout",
     "output_type": "stream",
     "text": [
      "\n",
      "bits: 128\n",
      "\n",
      "hash value range: 340,282,366,920,938,463,463,374,607,431,768,211,456\n",
      "\n",
      "    digits: 39\n",
      "\n",
      "Approximate number of input points to have a 50% probability of a collision: 26,087,635,650,665,566,208\n",
      "\n",
      "    digits: 20\n"
     ]
    }
   ],
   "source": [
    "# MD5 is 128 bits\n",
    "\n",
    "my_hash_collision_probability(128)"
   ]
  },
  {
   "cell_type": "code",
   "execution_count": 19,
   "metadata": {
    "collapsed": false
   },
   "outputs": [
    {
     "name": "stdout",
     "output_type": "stream",
     "text": [
      "\n",
      "bits: 160\n",
      "\n",
      "hash value range: 1,461,501,637,330,902,918,203,684,832,716,283,019,655,932,542,976\n",
      "\n",
      "    digits: 49\n",
      "\n",
      "Approximate number of input points to have a 50% probability of a collision: 1,709,679,290,002,018,547,007,488\n",
      "\n",
      "    digits: 25\n"
     ]
    }
   ],
   "source": [
    "# SHA1 is 160 bits\n",
    "\n",
    "my_hash_collision_probability(160)"
   ]
  },
  {
   "cell_type": "code",
   "execution_count": 20,
   "metadata": {
    "collapsed": false
   },
   "outputs": [
    {
     "name": "stdout",
     "output_type": "stream",
     "text": [
      "\n",
      "bits: 224\n",
      "\n",
      "hash value range: 26,959,946,667,150,639,794,667,015,087,019,630,673,637,144,422,540,572,481,103,610,249,216\n",
      "\n",
      "    digits: 68\n",
      "\n",
      "Approximate number of input points to have a 50% probability of a collision: 7,343,016,637,207,169,433,382,599,627,112,448\n",
      "\n",
      "    digits: 34\n"
     ]
    }
   ],
   "source": [
    "# SHA224 is 224 bits\n",
    "\n",
    "my_hash_collision_probability(224)"
   ]
  },
  {
   "cell_type": "code",
   "execution_count": 21,
   "metadata": {
    "collapsed": false
   },
   "outputs": [
    {
     "name": "stdout",
     "output_type": "stream",
     "text": [
      "\n",
      "bits: 256\n",
      "\n",
      "hash value range: 115,792,089,237,316,195,423,570,985,008,687,907,853,269,984,665,640,564,039,457,584,007,913,129,639,936\n",
      "\n",
      "    digits: 78\n",
      "\n",
      "Approximate number of input points to have a 50% probability of a collision: 481,231,938,336,009,055,986,162,049,162,441,392,128\n",
      "\n",
      "    digits: 39\n"
     ]
    }
   ],
   "source": [
    "# SHA256 is 256 bits\n",
    "\n",
    "my_hash_collision_probability(256)"
   ]
  },
  {
   "cell_type": "code",
   "execution_count": 22,
   "metadata": {
    "collapsed": false
   },
   "outputs": [
    {
     "name": "stdout",
     "output_type": "stream",
     "text": [
      "\n",
      "bits: 384\n",
      "\n",
      "hash value range: 39,402,006,196,394,479,212,279,040,100,143,613,805,079,739,270,465,446,667,948,293,404,245,721,771,497,210,611,414,266,254,884,915,640,806,627,990,306,816\n",
      "\n",
      "    digits: 116\n",
      "\n",
      "Approximate number of input points to have a 50% probability of a collision: 8,877,162,406,579,535,435,504,187,527,070,416,120,068,134,593,633,712,078,848\n",
      "\n",
      "    digits: 58\n"
     ]
    }
   ],
   "source": [
    "# SHA384 is 384 bits\n",
    "\n",
    "my_hash_collision_probability(384)"
   ]
  },
  {
   "cell_type": "code",
   "execution_count": 23,
   "metadata": {
    "collapsed": false
   },
   "outputs": [
    {
     "name": "stdout",
     "output_type": "stream",
     "text": [
      "\n",
      "bits: 512\n",
      "\n",
      "hash value range: 13,407,807,929,942,597,099,574,024,998,205,846,127,479,365,820,592,393,377,723,561,443,721,764,030,073,546,976,801,874,298,166,903,427,690,031,858,186,486,050,853,753,882,811,946,569,946,433,649,006,084,096\n",
      "\n",
      "    digits: 155\n",
      "\n",
      "Approximate number of input points to have a 50% probability of a collision: 163,754,743,014,928,266,429,063,303,432,457,985,651,110,375,675,065,736,754,496,156,385,529,317,818,368\n",
      "\n",
      "    digits: 78\n"
     ]
    }
   ],
   "source": [
    "# SHA512 is 512 bits\n",
    "\n",
    "my_hash_collision_probability(512)"
   ]
  },
  {
   "cell_type": "code",
   "execution_count": 0,
   "metadata": {
    "collapsed": false
   },
   "outputs": [
   ],
   "source": [
   ]
  },
  {
   "cell_type": "code",
   "execution_count": 0,
   "metadata": {
    "collapsed": false
   },
   "outputs": [
   ],
   "source": [
   ]
  }
 ],
 "metadata": {
  "kernelspec": {
   "display_name": "SageMath 9.1",
   "language": "sagemath",
   "metadata": {
    "cocalc": {
     "description": "Open-source mathematical software system",
     "priority": 10,
     "url": "https://www.sagemath.org/"
    }
   },
   "name": "sage-9.1"
  },
  "language_info": {
   "codemirror_mode": {
    "name": "ipython",
    "version": 3
   },
   "file_extension": ".py",
   "mimetype": "text/x-python",
   "name": "python",
   "nbconvert_exporter": "python",
   "pygments_lexer": "ipython3",
   "version": "3.7.3"
  }
 },
 "nbformat": 4,
 "nbformat_minor": 4
}