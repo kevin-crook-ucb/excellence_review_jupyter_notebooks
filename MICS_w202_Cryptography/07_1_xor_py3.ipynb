{
 "cells": [
  {
   "cell_type": "markdown",
   "metadata": {
    "collapsed": false
   },
   "source": [
    "### UC Berkeley, MICS, W202-Cryptography\n",
    "### Week 07 Breakout 1\n",
    "### Exclusive OR aka XOR "
   ]
  },
  {
   "cell_type": "markdown",
   "metadata": {
    "collapsed": false
   },
   "source": [
    "In this breakout, we will examine the Exclusive OR aka XOR function at the bit level.\n",
    "\n",
    "We will start with some basic XOR examples.\n",
    "\n",
    "We will then see how to swap two numbers without using a temporary variable using XOR."
   ]
  },
  {
   "cell_type": "code",
   "execution_count": 1,
   "metadata": {
    "collapsed": false
   },
   "outputs": [
   ],
   "source": [
    "from sage.all import *"
   ]
  },
  {
   "cell_type": "code",
   "execution_count": 2,
   "metadata": {
    "collapsed": false
   },
   "outputs": [
   ],
   "source": [
    "def my_print_binary(name, x, bits):\n",
    "    \"given a name, a number x, and a size, print the number in binary\"\n",
    "    \n",
    "    print (name, format(x, 'b').zfill(bits))"
   ]
  },
  {
   "cell_type": "markdown",
   "metadata": {
    "collapsed": false
   },
   "source": [
    "#### Given two numbers x and y, print the bit patterns for each, and print the XOR bit pattern "
   ]
  },
  {
   "cell_type": "code",
   "execution_count": 3,
   "metadata": {
    "collapsed": false
   },
   "outputs": [
   ],
   "source": [
    "def my_xor(x, y):\n",
    "    \"given x and y, do an xor and print details\"\n",
    "    \n",
    "    display_bits = max(x.nbits(), y.nbits())\n",
    "    \n",
    "    my_print_binary('x       = ', x, display_bits)\n",
    "    my_print_binary('y       = ', y, display_bits)\n",
    "    \n",
    "    print (\"\")\n",
    "    \n",
    "    x = x ^^ y\n",
    "    my_print_binary('x xor y = ', x, display_bits)\n",
    "    "
   ]
  },
  {
   "cell_type": "code",
   "execution_count": 4,
   "metadata": {
    "collapsed": false
   },
   "outputs": [
    {
     "name": "stdout",
     "output_type": "stream",
     "text": [
      "x       =  101\n",
      "y       =  111\n",
      "\n",
      "x xor y =  010\n"
     ]
    }
   ],
   "source": [
    "my_xor(5,7)"
   ]
  },
  {
   "cell_type": "code",
   "execution_count": 5,
   "metadata": {
    "collapsed": false
   },
   "outputs": [
    {
     "name": "stdout",
     "output_type": "stream",
     "text": [
      "x       =  1101\n",
      "y       =  1111\n",
      "\n",
      "x xor y =  0010\n"
     ]
    }
   ],
   "source": [
    "my_xor(13,15)"
   ]
  },
  {
   "cell_type": "code",
   "execution_count": 6,
   "metadata": {
    "collapsed": false
   },
   "outputs": [
    {
     "name": "stdout",
     "output_type": "stream",
     "text": [
      "x       =  1010011\n",
      "y       =  1100010\n",
      "\n",
      "x xor y =  0110001\n"
     ]
    }
   ],
   "source": [
    "my_xor(83, 98)"
   ]
  },
  {
   "cell_type": "code",
   "execution_count": 7,
   "metadata": {
    "collapsed": false,
    "scrolled": true
   },
   "outputs": [
    {
     "name": "stdout",
     "output_type": "stream",
     "text": [
      "x       =  0000001000001010001111111000100000001101100100101100010101101\n",
      "y       =  1101101111000100001011101010001001100000111011101010000110010\n",
      "\n",
      "x xor y =  1101100111001110000100010010101001101101011111000110010011111\n"
     ]
    }
   ],
   "source": [
    "my_xor(18374973927348397,1979479183085917234)"
   ]
  },
  {
   "cell_type": "markdown",
   "metadata": {
    "collapsed": false
   },
   "source": [
    "#### We can swap two variables without using a temporary variable using XOR"
   ]
  },
  {
   "cell_type": "code",
   "execution_count": 8,
   "metadata": {
    "collapsed": false
   },
   "outputs": [
    {
     "name": "stdout",
     "output_type": "stream",
     "text": [
      "x 5\n",
      "y 7\n",
      "\n",
      "after swap\n",
      "x 7\n",
      "y 5\n"
     ]
    }
   ],
   "source": [
    "# First the usual way using a temporary variable\n",
    "\n",
    "x = 5\n",
    "y = 7\n",
    "print (\"x\", x)\n",
    "print (\"y\", y)\n",
    "\n",
    "temp = x\n",
    "x = y\n",
    "y = temp\n",
    "\n",
    "print (\"\\nafter swap\")\n",
    "print (\"x\", x)\n",
    "print (\"y\", y)"
   ]
  },
  {
   "cell_type": "code",
   "execution_count": 9,
   "metadata": {
    "collapsed": false
   },
   "outputs": [
   ],
   "source": [
    "# Now we will swap using XOR intead of the temporary variable\n",
    "\n",
    "def my_xor_swap(x, y):\n",
    "    \"given x and y, do an xor swap and print details\"\n",
    "    \n",
    "    display_bits = max(x.nbits(), y.nbits())\n",
    "    \n",
    "    my_print_binary('x           = ', x, display_bits)\n",
    "    my_print_binary('y           = ', y, display_bits)\n",
    "    \n",
    "    print (\"\")\n",
    "    \n",
    "    x = x ^^ y\n",
    "    my_print_binary('x = x xor y = ', x, display_bits)\n",
    "    \n",
    "    y = x ^^ y\n",
    "    my_print_binary('y = x xor y = ', y, display_bits)\n",
    "    \n",
    "    x = x ^^ y\n",
    "    my_print_binary('x = x xor y = ', x, display_bits)\n",
    "    \n",
    "    print (\"\")\n",
    "    \n",
    "    my_print_binary('x           = ', x, display_bits)\n",
    "    my_print_binary('y           = ', y, display_bits)"
   ]
  },
  {
   "cell_type": "code",
   "execution_count": 10,
   "metadata": {
    "collapsed": false
   },
   "outputs": [
    {
     "name": "stdout",
     "output_type": "stream",
     "text": [
      "x           =  101\n",
      "y           =  111\n",
      "\n",
      "x = x xor y =  010\n",
      "y = x xor y =  101\n",
      "x = x xor y =  111\n",
      "\n",
      "x           =  111\n",
      "y           =  101\n"
     ]
    }
   ],
   "source": [
    "my_xor_swap(5, 7)"
   ]
  },
  {
   "cell_type": "code",
   "execution_count": 11,
   "metadata": {
    "collapsed": false
   },
   "outputs": [
    {
     "name": "stdout",
     "output_type": "stream",
     "text": [
      "x           =  01111\n",
      "y           =  11011\n",
      "\n",
      "x = x xor y =  10100\n",
      "y = x xor y =  01111\n",
      "x = x xor y =  11011\n",
      "\n",
      "x           =  11011\n",
      "y           =  01111\n"
     ]
    }
   ],
   "source": [
    "my_xor_swap(15, 27)"
   ]
  },
  {
   "cell_type": "code",
   "execution_count": 12,
   "metadata": {
    "collapsed": false
   },
   "outputs": [
    {
     "name": "stdout",
     "output_type": "stream",
     "text": [
      "x           =  1010011\n",
      "y           =  1011011\n",
      "\n",
      "x = x xor y =  0001000\n",
      "y = x xor y =  1010011\n",
      "x = x xor y =  1011011\n",
      "\n",
      "x           =  1011011\n",
      "y           =  1010011\n"
     ]
    }
   ],
   "source": [
    "my_xor_swap(83, 91)"
   ]
  },
  {
   "cell_type": "code",
   "execution_count": 13,
   "metadata": {
    "collapsed": false
   },
   "outputs": [
    {
     "name": "stdout",
     "output_type": "stream",
     "text": [
      "x           =  101101000100110110001001110000111010110\n",
      "y           =  000010001100000011001100111100010101001\n",
      "\n",
      "x = x xor y =  101111001000110101000101001100101111111\n",
      "y = x xor y =  101101000100110110001001110000111010110\n",
      "x = x xor y =  000010001100000011001100111100010101001\n",
      "\n",
      "x           =  000010001100000011001100111100010101001\n",
      "y           =  101101000100110110001001110000111010110\n"
     ]
    }
   ],
   "source": [
    "my_xor_swap(387197493718, 18797197481)"
   ]
  },
  {
   "cell_type": "code",
   "execution_count": 0,
   "metadata": {
    "collapsed": false
   },
   "outputs": [
   ],
   "source": [
   ]
  }
 ],
 "metadata": {
  "kernelspec": {
   "display_name": "SageMath 9.1",
   "language": "sagemath",
   "metadata": {
    "cocalc": {
     "description": "Open-source mathematical software system",
     "priority": 10,
     "url": "https://www.sagemath.org/"
    }
   },
   "name": "sage-9.1"
  },
  "language_info": {
   "codemirror_mode": {
    "name": "ipython",
    "version": 3
   },
   "file_extension": ".py",
   "mimetype": "text/x-python",
   "name": "python",
   "nbconvert_exporter": "python",
   "pygments_lexer": "ipython3",
   "version": "3.7.3"
  }
 },
 "nbformat": 4,
 "nbformat_minor": 4
}