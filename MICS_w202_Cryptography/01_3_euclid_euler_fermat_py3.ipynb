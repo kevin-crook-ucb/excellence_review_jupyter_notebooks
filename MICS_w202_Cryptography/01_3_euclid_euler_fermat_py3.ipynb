{
 "cells": [
  {
   "cell_type": "markdown",
   "metadata": {
    "collapsed": false
   },
   "source": [
    "### UC Berkeley, MICS, W202-Cryptography\n",
    "### Week 01 Breakout 3\n",
    "### Euclidean Algorithm, Greatest Common Divisor, Relatively Prime Numbers\n",
    "### Extended Euclidean Algorithm, Bezout's Identity\n",
    "### Euler's Totient Function, Fermat-Euler Theorem"
   ]
  },
  {
   "cell_type": "markdown",
   "metadata": {
    "collapsed": false
   },
   "source": [
    "The Euclidean Algorithm in SageMath is gcd() and it gives us the Greatest Common Divisor between two integers.\n",
    "\n",
    "When the gcd(x,y) = 1, we know that x and y are Relatively Prime Numbers, so it's very easy to check and see if two integers are relatively prime.\n",
    "\n",
    "Bezout's Identity tells us that there exists two integers a and b such that:\n",
    "ax + by = gcd(x,y)\n",
    "\n",
    "If x and y are relatively prime, then gcd(x,y) = 1 so:\n",
    "ax + by = 1\n",
    "\n",
    "We can use the Extended Euclidean Algorithm to find a and b for any case.  The Extended Euclidean Algorithm in SageMath is xgcd()\n",
    "\n",
    "Execute and discuss the code cells below."
   ]
  },
  {
   "cell_type": "code",
   "execution_count": 1,
   "metadata": {
    "collapsed": false
   },
   "outputs": [
   ],
   "source": [
    "from sage.all import *"
   ]
  },
  {
   "cell_type": "code",
   "execution_count": 2,
   "metadata": {
    "collapsed": false
   },
   "outputs": [
   ],
   "source": [
    "def my_gcd_xgcd(x,y):\n",
    "    \"find the gcd between two integers, the factors of the integers, see if they are relatively prime or not, and solve bezout's identity\"\n",
    "    \n",
    "    if x <=1 or y <=1:\n",
    "        print (\"both x and y must be > 1\")\n",
    "        return\n",
    "    \n",
    "    if gcd(x,y) == 1:\n",
    "        s = \"relatively prime\"\n",
    "    else:\n",
    "        s = \"NOT relatively prime\"\n",
    "    print (\"\\ngcd(\" + str(x) + \",\" + str(y) +\") = \", gcd(x,y), s, \"\\n\")\n",
    "    \n",
    "    if is_prime(x):\n",
    "        s = \"prime\"\n",
    "    else:\n",
    "        s = \"composite\"\n",
    "    print (str(x), \"factors:\", factor(x), s)\n",
    "    \n",
    "    if is_prime(y):\n",
    "        s = \"prime\"\n",
    "    else:\n",
    "        s = \"composite\"\n",
    "    print (str(y), \"factors:\", factor(y), s)\n",
    "    \n",
    "    (g, a, b) = xgcd(x,y)\n",
    "    print (\"\\nax + by = gcd(x,y)\")\n",
    "    print (\"(\" + str(a) + \" * \" + str(x) + \") + (\" + str(b) + \" * \" + str(y) + \") = \" + str(g))"
   ]
  },
  {
   "cell_type": "code",
   "execution_count": 3,
   "metadata": {
    "collapsed": false
   },
   "outputs": [
    {
     "name": "stdout",
     "output_type": "stream",
     "text": [
      "\n",
      "gcd(5,3) =  1 relatively prime \n",
      "\n",
      "5 factors: 5 prime\n",
      "3 factors: 3 prime\n",
      "\n",
      "ax + by = gcd(x,y)\n",
      "(-1 * 5) + (2 * 3) = 1\n"
     ]
    }
   ],
   "source": [
    "my_gcd_xgcd(5,3)"
   ]
  },
  {
   "cell_type": "code",
   "execution_count": 4,
   "metadata": {
    "collapsed": false
   },
   "outputs": [
    {
     "name": "stdout",
     "output_type": "stream",
     "text": [
      "\n",
      "gcd(7,27) =  1 relatively prime \n",
      "\n",
      "7 factors: 7 prime\n",
      "27 factors: 3^3 composite\n",
      "\n",
      "ax + by = gcd(x,y)\n",
      "(4 * 7) + (-1 * 27) = 1\n"
     ]
    }
   ],
   "source": [
    "# note that 27 is composite and they are still relatively prime\n",
    "\n",
    "my_gcd_xgcd(7, 27)"
   ]
  },
  {
   "cell_type": "code",
   "execution_count": 5,
   "metadata": {
    "collapsed": false
   },
   "outputs": [
    {
     "name": "stdout",
     "output_type": "stream",
     "text": [
      "\n",
      "gcd(14,8) =  2 NOT relatively prime \n",
      "\n",
      "14 factors: 2 * 7 composite\n",
      "8 factors: 2^3 composite\n",
      "\n",
      "ax + by = gcd(x,y)\n",
      "(-1 * 14) + (2 * 8) = 2\n"
     ]
    }
   ],
   "source": [
    "my_gcd_xgcd(14, 8)"
   ]
  },
  {
   "cell_type": "code",
   "execution_count": 6,
   "metadata": {
    "collapsed": false
   },
   "outputs": [
    {
     "name": "stdout",
     "output_type": "stream",
     "text": [
      "\n",
      "gcd(12837483,38293838) =  1 relatively prime \n",
      "\n",
      "12837483 factors: 3^2 * 19 * 37 * 2029 composite\n",
      "38293838 factors: 2 * 11^2 * 229 * 691 composite\n",
      "\n",
      "ax + by = gcd(x,y)\n",
      "(106853 * 12837483) + (-35821 * 38293838) = 1\n"
     ]
    }
   ],
   "source": [
    "# note that both are composite, but they are still relatively prime\n",
    "\n",
    "my_gcd_xgcd(12837483,38293838)"
   ]
  },
  {
   "cell_type": "code",
   "execution_count": 7,
   "metadata": {
    "collapsed": false
   },
   "outputs": [
    {
     "name": "stdout",
     "output_type": "stream",
     "text": [
      "\n",
      "gcd(12837482,38293838) =  2 NOT relatively prime \n",
      "\n",
      "12837482 factors: 2 * 7 * 17 * 53939 composite\n",
      "38293838 factors: 2 * 11^2 * 229 * 691 composite\n",
      "\n",
      "ax + by = gcd(x,y)\n",
      "(3225078 * 12837482) + (-1081163 * 38293838) = 2\n"
     ]
    }
   ],
   "source": [
    "my_gcd_xgcd(12837482,38293838)"
   ]
  },
  {
   "cell_type": "code",
   "execution_count": 8,
   "metadata": {
    "collapsed": false
   },
   "outputs": [
    {
     "name": "stdout",
     "output_type": "stream",
     "text": [
      "\n",
      "gcd(6266806,48900194) =  14 NOT relatively prime \n",
      "\n",
      "6266806 factors: 2 * 7^2 * 13 * 4919 composite\n",
      "48900194 factors: 2 * 7 * 17 * 205463 composite\n",
      "\n",
      "ax + by = gcd(x,y)\n",
      "(82408 * 6266806) + (-10561 * 48900194) = 14\n"
     ]
    }
   ],
   "source": [
    "my_gcd_xgcd(6266806, 48900194)"
   ]
  },
  {
   "cell_type": "markdown",
   "metadata": {
    "collapsed": false
   },
   "source": [
    "### Euler's Totient - phi()\n",
    "\n",
    "Euler's Totient phi(n) for an integer n > 1 is the number of integers in the range [1,(n-1)] that are relatively prime to n.  Note that these numbers can be composite, they just have to be relatively prime to n.\n",
    "\n",
    "In the special case of p a prime number, phi(p) = (p-1).\n",
    "\n",
    "In the special case of p and q both prime, phi(pq) = (p-1)(q-1)\n",
    "\n",
    "Execute and discuss the following code cells."
   ]
  },
  {
   "cell_type": "code",
   "execution_count": 9,
   "metadata": {
    "collapsed": false
   },
   "outputs": [
   ],
   "source": [
    "def my_phi(n):\n",
    "    \"given a number find Euler's Totient\"\n",
    "    \n",
    "    if n <= 1:\n",
    "        print (\"n must be > 1\")\n",
    "        return\n",
    "    \n",
    "    if is_prime(n):\n",
    "        s = \"prime\"\n",
    "    else:\n",
    "        s = \"composite\"\n",
    "    \n",
    "    print (\"\\nn = \", n, s, \"\\n\")\n",
    "    \n",
    "    phi = 0\n",
    "    \n",
    "    for i in range(1,n):\n",
    "        \n",
    "        if is_prime(i):\n",
    "            s1 = \"prime\"\n",
    "        elif i == 1:\n",
    "            s1 = \"neither\"\n",
    "        else:\n",
    "            s1 = \"composite\"\n",
    "                \n",
    "        if gcd(i,n) == 1:\n",
    "            phi += 1\n",
    "            s2 = \"relatively prime\"\n",
    "        else:\n",
    "            s2 = \"NOT relatively prime, gcd is \" + str(gcd(i,n))\n",
    "            \n",
    "        print (\"  \", i, s1, \",\", s2)\n",
    "        \n",
    "    print (\"\\n   phi\", phi)\n",
    "    \n",
    "    return phi\n",
    "            "
   ]
  },
  {
   "cell_type": "code",
   "execution_count": 10,
   "metadata": {
    "collapsed": false
   },
   "outputs": [
    {
     "name": "stdout",
     "output_type": "stream",
     "text": [
      "\n",
      "n =  7 prime \n",
      "\n",
      "   1 neither , relatively prime\n",
      "   2 prime , relatively prime\n",
      "   3 prime , relatively prime\n",
      "   4 composite , relatively prime\n",
      "   5 prime"
     ]
    },
    {
     "name": "stdout",
     "output_type": "stream",
     "text": [
      " , relatively prime\n",
      "   6 composite , relatively prime\n",
      "\n",
      "   phi 6\n"
     ]
    },
    {
     "data": {
      "text/plain": [
       "6"
      ]
     },
     "execution_count": 10,
     "metadata": {
     },
     "output_type": "execute_result"
    }
   ],
   "source": [
    "my_phi(7)"
   ]
  },
  {
   "cell_type": "code",
   "execution_count": 11,
   "metadata": {
    "collapsed": false
   },
   "outputs": [
    {
     "name": "stdout",
     "output_type": "stream",
     "text": [
      "\n",
      "n =  4 composite \n",
      "\n",
      "   1 neither , relatively prime\n",
      "   2 prime , NOT relatively prime, gcd is 2\n",
      "   3 prime , relatively prime\n",
      "\n",
      "   phi 2\n"
     ]
    },
    {
     "data": {
      "text/plain": [
       "2"
      ]
     },
     "execution_count": 11,
     "metadata": {
     },
     "output_type": "execute_result"
    }
   ],
   "source": [
    "my_phi(4)"
   ]
  },
  {
   "cell_type": "code",
   "execution_count": 12,
   "metadata": {
    "collapsed": false
   },
   "outputs": [
    {
     "name": "stdout",
     "output_type": "stream",
     "text": [
      "\n",
      "n =  27 composite \n",
      "\n",
      "   1 neither , relatively prime\n",
      "   2 prime , relatively prime\n",
      "   3 prime , NOT relatively prime, gcd is 3\n",
      "   4 composite , relatively prime\n",
      "   5 prime , relatively prime\n",
      "   6 composite , NOT relatively prime, gcd is 3\n",
      "   7 prime , relatively prime\n",
      "   8 composite , relatively prime\n",
      "   9 composite , NOT relatively prime, gcd is 9\n",
      "   10 composite , relatively prime\n",
      "   11 prime , relatively prime\n",
      "   12 composite , NOT relatively prime, gcd is 3\n",
      "   13 prime , relatively prime\n",
      "   14 composite , relatively prime\n",
      "   15 composite , NOT relatively prime, gcd is 3\n",
      "   16 composite , relatively prime\n",
      "   17 prime , relatively prime\n",
      "   18 composite , NOT relatively prime, gcd is 9\n",
      "   19 prime , relatively prime\n",
      "   20 composite , relatively prime\n",
      "   21 composite , NOT relatively prime, gcd is 3\n",
      "   22 composite , relatively prime\n",
      "   23 prime , relatively prime\n",
      "   24 composite , NOT relatively prime, gcd is 3\n",
      "   25 composite , relatively prime\n",
      "   26 composite , relatively prime\n",
      "\n",
      "   phi 18\n"
     ]
    },
    {
     "data": {
      "text/plain": [
       "18"
      ]
     },
     "execution_count": 12,
     "metadata": {
     },
     "output_type": "execute_result"
    }
   ],
   "source": [
    "my_phi(27)"
   ]
  },
  {
   "cell_type": "code",
   "execution_count": 13,
   "metadata": {
    "collapsed": false
   },
   "outputs": [
   ],
   "source": [
    "def my_phi_2(x, y):\n",
    "    \"Find Euler's Totient for the product of two integers\"\n",
    "    \n",
    "    if x <= 1 or y <= 1:\n",
    "        print (\"x and y must both be > 1\")\n",
    "        return\n",
    "    \n",
    "    phi_x = my_phi(x)\n",
    "    phi_y = my_phi(y)\n",
    "    phi_xy = my_phi(x*y)\n",
    "    \n",
    "    print (\"\\n\" + str(x-1) + \" * \" + str(y-1) + \" = \" + str((x-1)*(y-1)))"
   ]
  },
  {
   "cell_type": "code",
   "execution_count": 14,
   "metadata": {
    "collapsed": false
   },
   "outputs": [
    {
     "name": "stdout",
     "output_type": "stream",
     "text": [
      "\n",
      "n =  3 prime \n",
      "\n",
      "   1 neither , relatively prime\n",
      "   2 prime , relatively prime\n",
      "\n",
      "   phi 2\n",
      "\n",
      "n =  5 prime \n",
      "\n",
      "   1 neither , relatively prime\n",
      "   2 prime , relatively prime\n",
      "   3 prime , relatively prime\n",
      "   4 composite , relatively prime\n",
      "\n",
      "   phi 4\n",
      "\n",
      "n =  15 composite \n",
      "\n",
      "   1 neither , relatively prime\n",
      "   2 prime , relatively prime\n",
      "   3 prime , NOT relatively prime, gcd is 3\n",
      "   4 composite , relatively prime\n",
      "   5 prime , NOT relatively prime, gcd is 5\n",
      "   6 composite , NOT relatively prime, gcd is 3\n",
      "   7 prime , relatively prime\n",
      "   8 composite , relatively prime\n",
      "   9 composite , NOT relatively prime, gcd is 3\n",
      "   10 composite , NOT relatively prime, gcd is 5\n",
      "   11 prime , relatively prime\n",
      "   12 composite , NOT relatively prime, gcd is 3\n",
      "   13 prime , relatively prime\n",
      "   14 composite , relatively prime\n",
      "\n",
      "   phi 8\n",
      "\n",
      "2 * 4 = 8\n"
     ]
    }
   ],
   "source": [
    "my_phi_2(3, 5)"
   ]
  },
  {
   "cell_type": "code",
   "execution_count": 15,
   "metadata": {
    "collapsed": false
   },
   "outputs": [
    {
     "name": "stdout",
     "output_type": "stream",
     "text": [
      "\n",
      "n =  4 composite \n",
      "\n",
      "   1 neither , relatively prime\n",
      "   2 prime , NOT relatively prime, gcd is 2\n",
      "   3 prime , relatively prime\n",
      "\n",
      "   phi 2\n",
      "\n",
      "n =  3 prime \n",
      "\n",
      "   1 neither , relatively prime\n",
      "   2 prime , relatively prime\n",
      "\n",
      "   phi 2\n",
      "\n",
      "n =  12 composite \n",
      "\n",
      "   1 neither , relatively prime\n",
      "   2 prime , NOT relatively prime, gcd is 2\n",
      "   3 prime , NOT relatively prime, gcd is 3\n",
      "   4 composite , NOT relatively prime, gcd is 4\n",
      "   5 prime , relatively prime\n",
      "   6 composite , NOT relatively prime, gcd is 6\n",
      "   7 prime , relatively prime\n",
      "   8 composite , NOT relatively prime, gcd is 4\n",
      "   9 composite , NOT relatively prime, gcd is 3\n",
      "   10 composite , NOT relatively prime, gcd is 2\n",
      "   11 prime , relatively prime\n",
      "\n",
      "   phi 4\n",
      "\n",
      "3 * 2 = 6\n"
     ]
    }
   ],
   "source": [
    "my_phi_2(4,3)"
   ]
  },
  {
   "cell_type": "markdown",
   "metadata": {
    "collapsed": false
   },
   "source": [
    "### Fermat-Euler Theorem\n",
    "\n",
    "The Fermat-Euler Theorem tells us that if m and n are relatively prime, then m^phi(n) is congruent to 1 (mod n)\n",
    "\n",
    "n does NOT have to be prime!\n",
    "\n",
    "Execute and discuss the following code cells"
   ]
  },
  {
   "cell_type": "code",
   "execution_count": 16,
   "metadata": {
    "collapsed": false
   },
   "outputs": [
   ],
   "source": [
    "def my_fermat_euler(m, n):\n",
    "    \"given m and n demonstrate that fermat euler holds\"\n",
    "    \n",
    "    if m <=1 or n <= 1:\n",
    "        print (\"m and n must both be > 1\")\n",
    "        return\n",
    "    \n",
    "    if gcd(m, n) != 1:\n",
    "        print (\"m and n must be relatively prime, gcd = \", gcd(m,n))\n",
    "        return\n",
    "    \n",
    "    phi = my_phi(n)\n",
    "    \n",
    "    print (\"\\n\" + str(m) + \"^\" + str(phi) + \" = \" + str(power(m, phi)) + \" (mod \" + str(n) + \") = \", power_mod(m, phi, n))\n",
    "    \n",
    "    "
   ]
  },
  {
   "cell_type": "code",
   "execution_count": 17,
   "metadata": {
    "collapsed": false
   },
   "outputs": [
    {
     "name": "stdout",
     "output_type": "stream",
     "text": [
      "\n",
      "n =  7 prime \n",
      "\n",
      "   1 neither , relatively prime\n",
      "   2 prime , relatively prime\n",
      "   3 prime , relatively prime\n",
      "   4 composite , relatively prime\n",
      "   5 prime , relatively prime\n",
      "   6 composite , relatively prime\n",
      "\n",
      "   phi 6\n",
      "\n",
      "5^6 = 15625 (mod 7) =  1\n"
     ]
    }
   ],
   "source": [
    "my_fermat_euler(5,7)"
   ]
  },
  {
   "cell_type": "code",
   "execution_count": 18,
   "metadata": {
    "collapsed": false
   },
   "outputs": [
    {
     "name": "stdout",
     "output_type": "stream",
     "text": [
      "\n",
      "n =  11 prime \n",
      "\n",
      "   1 neither , relatively prime\n",
      "   2 prime , relatively prime\n",
      "   3 prime , relatively prime\n",
      "   4 composite , relatively prime\n",
      "   5 prime , relatively prime\n",
      "   6 composite , relatively prime\n",
      "   7 prime , relatively prime\n",
      "   8 composite , relatively prime\n",
      "   9 composite , relatively prime\n",
      "   10 composite , relatively prime\n",
      "\n",
      "   phi 10\n",
      "\n",
      "13^10 = 137858491849 (mod 11) =  1\n"
     ]
    }
   ],
   "source": [
    "my_fermat_euler(13,11)"
   ]
  },
  {
   "cell_type": "code",
   "execution_count": 19,
   "metadata": {
    "collapsed": false
   },
   "outputs": [
    {
     "name": "stdout",
     "output_type": "stream",
     "text": [
      "\n",
      "n =  9 composite \n",
      "\n",
      "   1 neither , relatively prime\n",
      "   2 prime , relatively prime\n",
      "   3 prime , NOT relatively prime, gcd is 3\n",
      "   4 composite , relatively prime\n",
      "   5 prime , relatively prime\n",
      "   6 composite , NOT relatively prime, gcd is 3\n",
      "   "
     ]
    },
    {
     "name": "stdout",
     "output_type": "stream",
     "text": [
      "7 prime , relatively prime\n",
      "   8 composite , relatively prime\n",
      "\n",
      "   phi 6\n",
      "\n",
      "2^6 = 64 (mod 9) =  1\n"
     ]
    }
   ],
   "source": [
    "my_fermat_euler(2,9)"
   ]
  },
  {
   "cell_type": "markdown",
   "metadata": {
    "collapsed": false
   },
   "source": [
    "### Fermat's Little Theorem and Finding Large Primes\n",
    "\n",
    "A variation of Fermat-Euler is Fermat's Little Theorem which states:\n",
    "\n",
    "If a is an integer and p is prime, then a^p is congruent to a (mod p)\n",
    "\n",
    "We can use this to check to see if a number is composite. we typically use 2 for a since it's the smallest prime number, it will be the least computationally intensive. \n",
    "\n",
    "If Fermat's Little Theorem does not hold, we know the number is for sure composite.\n",
    "\n",
    "If Fermat's Little Theroem holds, it may be prime, but it may also be composite. These are called the Carmichael Numbers (a recent TV commercial features a mathematician trying to solve Carmichael's Totient Conjecture which is still an open problem)\n",
    "\n",
    "We only need to check odd numbers, as 2 is the only even prime number\n",
    "\n",
    "There are several algorithms presented in our textbook to find large primes.  Most of them generate a large random odd number, use Fermat's Little Theorem to rule out most composite numbers (primes are much rarer than composite numbers), and then use further test usually called \"witness tests\" to verify primes.  Prime numbers are generally approximately spaced at distances of the natural logarithm (log base e where e is 2.7..) of the last prime number.\n",
    "\n",
    "Execute and discuss the following code cells"
   ]
  },
  {
   "cell_type": "code",
   "execution_count": 20,
   "metadata": {
    "collapsed": false
   },
   "outputs": [
   ],
   "source": [
    "def my_fermat_little(start, end):\n",
    "    \"using Fermat's Little Theorem, check to see if odd integers between start and end inclusive are composite, prime, or Carmichael Numbers\"\n",
    "    \n",
    "    if start <= 1:\n",
    "        print (\"start must be > 1\")\n",
    "        return\n",
    "    \n",
    "    if is_even(start):\n",
    "        start += 1\n",
    "    \n",
    "    for i in range(start, end + 1, 2):\n",
    "        if is_prime(i):\n",
    "            s = \"prime\"\n",
    "        else:\n",
    "            s = \"composite\"\n",
    "        print (i, s) \n",
    "        print (\"   Fermat: 2^\" + str(i) + \" = \" + str(power_mod(2, i, i)) + \" (mod \",i,\")\" \"\\n\")\n",
    "        if (not is_prime(i)) and power_mod(2, i, i) == 2:\n",
    "            print (\"*** Carmichael Number:\", i, \" ***\")"
   ]
  },
  {
   "cell_type": "code",
   "execution_count": 21,
   "metadata": {
    "collapsed": false
   },
   "outputs": [
    {
     "name": "stdout",
     "output_type": "stream",
     "text": [
      "3 prime\n",
      "   Fermat: 2^3 = 2 (mod  3 )\n",
      "\n",
      "5 prime\n",
      "   Fermat: 2^5 = 2 (mod  5 )\n",
      "\n",
      "7 prime\n",
      "   Fermat: 2^7 = 2 (mod  7 )\n",
      "\n",
      "9 composite\n",
      "   Fermat: 2^9 = 8 (mod  9 )\n",
      "\n",
      "11 prime\n",
      "   Fermat: 2^11 = 2 (mod  11 )\n",
      "\n",
      "13 prime\n",
      "   Fermat: 2^13 = 2 (mod  13 )\n",
      "\n",
      "15 composite\n",
      "   Fermat: 2^15 = 8 (mod  15 )\n",
      "\n",
      "17 prime\n",
      "   Fermat: 2^17 = 2 (mod  17 )\n",
      "\n",
      "19 prime\n",
      "   Fermat: 2^19 = 2 (mod  19 )\n",
      "\n",
      "21 composite\n",
      "   Fermat: 2^21 = 8 (mod  21 )\n",
      "\n",
      "23 prime\n",
      "   Fermat: 2^23 = 2 (mod  23 )\n",
      "\n",
      "25 composite\n",
      "   Fermat: 2^25 = 7 (mod  25 )\n",
      "\n",
      "27 composite\n",
      "   Fermat: 2^27 = 26 (mod  27 )\n",
      "\n",
      "29 prime\n",
      "   Fermat: 2^29 = 2 (mod  29 )\n",
      "\n",
      "31 prime\n",
      "   Fermat: 2^31 = 2 (mod  31 )\n",
      "\n",
      "33 composite\n",
      "   Fermat: 2^33 = 8 (mod  33 )\n",
      "\n",
      "35 composite\n",
      "   Fermat: 2^35 = 18 (mod  35 )\n",
      "\n",
      "37 prime\n",
      "   Fermat: 2^37 = 2 (mod  37 )\n",
      "\n",
      "39 composite\n",
      "   Fermat: 2^39 = 8 (mod  39 )\n",
      "\n",
      "41 prime\n",
      "   Fermat: 2^41 = 2 (mod  41 )\n",
      "\n",
      "43 prime\n",
      "   Fermat: 2^43 = 2 (mod  43 )\n",
      "\n",
      "45 composite\n",
      "   Fermat: 2^45 = 17 (mod  45 )\n",
      "\n",
      "47 prime\n",
      "   Fermat: 2^47 = 2 (mod  47 )\n",
      "\n",
      "49 composite\n",
      "   Fermat: 2^49 = 30 (mod  49 )\n",
      "\n",
      "51 composite\n",
      "   Fermat: 2^51 = 8 (mod  51 )\n",
      "\n",
      "53 prime\n",
      "   Fermat: 2^53 = 2 (mod  53 )\n",
      "\n",
      "55 composite\n",
      "   Fermat: 2^55 = 43 (mod  55 )\n",
      "\n",
      "57 composite\n",
      "   Fermat: 2^57 = 8 (mod  57 )\n",
      "\n",
      "59 prime\n",
      "   Fermat: 2^59 = 2 (mod  59 )\n",
      "\n",
      "61 prime\n",
      "   Fermat: 2^61 = 2 (mod  61 )\n",
      "\n",
      "63 composite\n",
      "   Fermat: 2^63 = 8 (mod  63 )\n",
      "\n",
      "65 composite\n",
      "   Fermat: 2^65 = 32 (mod  65 )\n",
      "\n",
      "67 prime\n",
      "   Fermat: 2^67 = 2 (mod  67 )\n",
      "\n",
      "69 composite\n",
      "   Fermat: 2^69 = 8 (mod  69 )\n",
      "\n",
      "71 prime\n",
      "   Fermat: 2^71 = 2 (mod  71 )\n",
      "\n",
      "73 prime\n",
      "   Fermat: 2^73 = 2 (mod  73 )\n",
      "\n",
      "75 composite\n",
      "   Fermat: 2^75 = 68 (mod  75 )\n",
      "\n",
      "77 composite\n",
      "   Fermat: 2^77 = 18 (mod  77 )\n",
      "\n",
      "79 prime\n",
      "   Fermat: 2^79 = 2 (mod  79 )\n",
      "\n",
      "81 composite\n",
      "   Fermat: 2^81 = 80 (mod  81 )\n",
      "\n",
      "83 prime\n",
      "   Fermat: 2^83 = 2 (mod  83 )\n",
      "\n",
      "85 composite\n",
      "   Fermat: 2^85 = 32 (mod  85 )\n",
      "\n",
      "87 composite\n",
      "   Fermat: 2^87 = 8 (mod  87 )\n",
      "\n",
      "89 prime\n",
      "   Fermat: 2^89 = 2 (mod  89 )\n",
      "\n",
      "91 composite\n",
      "   Fermat: 2^91 = 37 (mod  91 )\n",
      "\n",
      "93 composite\n",
      "   Fermat: 2^93 = 8 (mod  93 )\n",
      "\n",
      "95 composite\n",
      "   Fermat: 2^95 = 13 (mod  95 )\n",
      "\n",
      "97 prime\n",
      "   Fermat: 2^97 = 2 (mod  97 )\n",
      "\n",
      "99 composite\n",
      "   Fermat: 2^99 = 17 (mod  99 )\n",
      "\n"
     ]
    }
   ],
   "source": [
    "my_fermat_little(2, 100)"
   ]
  },
  {
   "cell_type": "code",
   "execution_count": 22,
   "metadata": {
    "collapsed": false,
    "scrolled": true
   },
   "outputs": [
    {
     "name": "stdout",
     "output_type": "stream",
     "text": [
      "561 composite\n",
      "   Fermat: 2^561 = 2 (mod  561 )\n",
      "\n",
      "*** Carmichael Number: 561  ***\n"
     ]
    }
   ],
   "source": [
    "my_fermat_little(561, 561)"
   ]
  },
  {
   "cell_type": "code",
   "execution_count": 23,
   "metadata": {
    "collapsed": false
   },
   "outputs": [
    {
     "name": "stdout",
     "output_type": "stream",
     "text": [
      "1105 composite\n",
      "   Fermat: 2^1105 = 2 (mod  1105 )\n",
      "\n",
      "*** Carmichael Number: 1105  ***\n"
     ]
    }
   ],
   "source": [
    "my_fermat_little(1105, 1105)"
   ]
  },
  {
   "cell_type": "code",
   "execution_count": 24,
   "metadata": {
    "collapsed": false
   },
   "outputs": [
    {
     "name": "stdout",
     "output_type": "stream",
     "text": [
      "1729 composite\n",
      "   Fermat: 2^1729 = 2 (mod  1729 )\n",
      "\n",
      "*** Carmichael Number: 1729  ***\n"
     ]
    }
   ],
   "source": [
    "my_fermat_little(1729, 1729)"
   ]
  },
  {
   "cell_type": "code",
   "execution_count": 0,
   "metadata": {
    "collapsed": false
   },
   "outputs": [
   ],
   "source": [
   ]
  }
 ],
 "metadata": {
  "kernelspec": {
   "display_name": "SageMath 9.1",
   "language": "sagemath",
   "metadata": {
    "cocalc": {
     "description": "Open-source mathematical software system",
     "priority": 10,
     "url": "https://www.sagemath.org/"
    }
   },
   "name": "sage-9.1"
  },
  "language_info": {
   "codemirror_mode": {
    "name": "ipython",
    "version": 3
   },
   "file_extension": ".py",
   "mimetype": "text/x-python",
   "name": "python",
   "nbconvert_exporter": "python",
   "pygments_lexer": "ipython3",
   "version": "3.7.3"
  }
 },
 "nbformat": 4,
 "nbformat_minor": 4
}