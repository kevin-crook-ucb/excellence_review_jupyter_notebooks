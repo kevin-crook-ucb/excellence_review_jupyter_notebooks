{
 "cells": [
  {
   "cell_type": "markdown",
   "metadata": {
    "collapsed": false
   },
   "source": [
    "### UC Berkeley, MICS, W202-Cryptography\n",
    "### Week 04 Breakout 3\n",
    "### Diffie Hellman Key Exchange\n"
   ]
  },
  {
   "cell_type": "markdown",
   "metadata": {
    "collapsed": false
   },
   "source": [
    "The Diffie Hellman Key Exchange is based on the computational intractibility of the discrete logarithm problem for a large prime numer p.\n",
    "\n",
    "Diffie Hellman (DH) pre-dates RSA.\n",
    "\n",
    "Diffie Hellman is different from RSA in the following ways:\n",
    "\n",
    "* DH is based the computational intractiblity of the discrete logarithm problem for a large prime number p.  RSA is based on the computational intractibility of factoring the product of two large prime numbers (n = pq).\n",
    "\n",
    "* With DH, there is no n!  Just p!\n",
    "\n",
    "* With RSA the key to be exchanged can be chosen.  With DH, we cannot choose the key.  The key is generated as part of the algorithm.\n",
    "\n",
    "* DH is subject to man in the middle attacks (the subject of our next breakout), while RSA is NOT subject to man in the middle attacks.\n",
    "\n",
    "The Diffie Hellman algorithm works as follows (using the names and notation from our lectures):\n",
    "\n",
    "* Publically known: for the discrete logarithm, the large prime p, and the generator g\n",
    "\n",
    "* Alice generates a large random number of similar bit size to p that is < p.  The number can be odd or even, prime or composite.  This is Alice's exponent, which she must keep secret!\n",
    "\n",
    "* Alice calculates g ^ alice_exponent (mod p) and sends this value to Bob.\n",
    "\n",
    "* Likewise, Bob generates an exponent, calculates g ^ bob_exponent (mod p) and sends this value to Alice.  Bob of course, keeps his exponent secret!\n",
    "\n",
    "* Alice can calculate the key by raising the value Bob sent her to her private exponent in modulo p.\n",
    "\n",
    "* Likewise, Bob can calculate the key by raising the value Alice sent him to his private exponent in modulo p.\n",
    "\n",
    "* Alice and Bob now have the same key!  Note that neither Bob or Alice picked the key.\n",
    "\n",
    "* It's typical to use put the key into the AES256 symmetric algorithm with a 256 bit key.  To accomplish this, it's common to put the key through a SHA256 hash."
   ]
  },
  {
   "cell_type": "code",
   "execution_count": 1,
   "metadata": {
    "collapsed": false
   },
   "outputs": [
   ],
   "source": [
    "import hashlib\n",
    "from sage.all import *"
   ]
  },
  {
   "cell_type": "code",
   "execution_count": 2,
   "metadata": {
    "collapsed": false
   },
   "outputs": [
   ],
   "source": [
    "def my_print_number(label, x):\n",
    "    \"prints a number in decimal, number of digits, hex, number of bits\"\n",
    "    \n",
    "    print (\"\\n\", label, '\\n')\n",
    "    print (\"decimal:\", \"{:,}\".format(x), \"\\n\")\n",
    "    print (\"number of digits:\", x.ndigits(), \"\\n\")\n",
    "    print (\"hex:\", x.hex(), \"\\n\")\n",
    "    print (\"number of bits:\", x.nbits(), \"\\n\")"
   ]
  },
  {
   "cell_type": "code",
   "execution_count": 3,
   "metadata": {
    "collapsed": false
   },
   "outputs": [
   ],
   "source": [
    "# b is the number of bits in p\n",
    "# we will use it to ensure that Alice's and Bob's exponents are of similar size to b\n",
    "\n",
    "b = 1024"
   ]
  },
  {
   "cell_type": "markdown",
   "metadata": {
    "collapsed": false
   },
   "source": [
    "### p and g are publically known.  p is a large prime number of similar sizing as in RSA.  g is the smallest generator for p.  the security of the discrete logarithm problem does not depend on the size of g, so a small g is fine."
   ]
  },
  {
   "cell_type": "code",
   "execution_count": 4,
   "metadata": {
    "collapsed": false
   },
   "outputs": [
   ],
   "source": [
    "# p and g are publically known\n",
    "\n",
    "# g is the smallest generator we found for p\n",
    "# p is a large prime \n",
    "\n",
    "# it's always best to select a p in which 2 is a generator as it speeds things up without losing security\n",
    "\n",
    "g = 2\n",
    "\n",
    "p = 0xa42667765996150b81063e7a253b91b5da58af0ff49328bf8a3f9f38bdf1e357272af338846d1d612a71a31e35f590d6c131634306ed75bdb45c4cb9b15072127f2afac831560bc5c1f697479b1d7d6f0da191faa68eaabf5b138ea782f97ae6624c9244150d38f28231993fe0d6435d852d42782b8263aea061a40da802903b"
   ]
  },
  {
   "cell_type": "code",
   "execution_count": 5,
   "metadata": {
    "collapsed": false
   },
   "outputs": [
    {
     "name": "stdout",
     "output_type": "stream",
     "text": [
      "\n",
      " p \n",
      "\n",
      "decimal: 115,270,061,416,921,866,062,188,383,030,847,280,859,479,926,375,604,672,663,124,358,614,555,215,978,993,787,838,406,298,575,203,649,480,844,189,752,685,847,453,468,731,960,555,557,838,447,956,623,493,236,754,000,427,739,727,368,609,894,359,124,610,032,258,486,582,384,311,834,472,633,840,703,883,057,700,772,340,022,758,927,012,248,883,130,603,620,091,710,872,172,650,710,125,452,082,076,641,079,289,492,705,339 \n",
      "\n",
      "number of digits: 309 \n",
      "\n",
      "hex: a42667765996150b81063e7a253b91b5da58af0ff49328bf8a3f9f38bdf1e357272af338846d1d612a71a31e35f590d6c131634306ed75bdb45c4cb9b15072127f2afac831560bc5c1f697479b1d7d6f0da191faa68eaabf5b138ea782f97ae6624c9244150d38f28231993fe0d6435d852d42782b8263aea061a40da802903b \n",
      "\n",
      "number of bits: 1024 \n",
      "\n"
     ]
    }
   ],
   "source": [
    "my_print_number(\"p\", p)"
   ]
  },
  {
   "cell_type": "markdown",
   "metadata": {
    "collapsed": false
   },
   "source": [
    "### Alice will get a random exponent of similar size to p, and can be even or odd, prime or composite.  Alice will raise the generator g to the power of her exponent in modulo p and send this value to Bob."
   ]
  },
  {
   "cell_type": "code",
   "execution_count": 6,
   "metadata": {
    "collapsed": false
   },
   "outputs": [
   ],
   "source": [
    "def my_get_random_exponent(b, p):\n",
    "    \"given a number of bits, find a random exponent of that bit size -1\"\n",
    "    \n",
    "    upper_limit = (p-2)\n",
    "    lower_limit = ( (p-2) // 2)\n",
    "    \n",
    "    return Integer(randint(lower_limit, upper_limit))"
   ]
  },
  {
   "cell_type": "code",
   "execution_count": 7,
   "metadata": {
    "collapsed": false
   },
   "outputs": [
   ],
   "source": [
    "alice_exponent = my_get_random_exponent(b, p)"
   ]
  },
  {
   "cell_type": "code",
   "execution_count": 8,
   "metadata": {
    "collapsed": false,
    "scrolled": true
   },
   "outputs": [
    {
     "name": "stdout",
     "output_type": "stream",
     "text": [
      "\n",
      " Alice's exponent \n",
      "\n",
      "decimal: 82,558,183,617,675,672,500,218,880,383,049,606,137,611,990,699,093,116,494,326,948,992,796,432,113,942,251,322,925,923,288,999,411,775,747,801,017,752,048,235,647,298,680,375,220,777,907,711,746,012,101,367,179,638,872,284,613,080,266,875,314,870,146,294,276,648,534,054,092,088,366,075,041,958,379,320,869,133,921,376,959,396,858,675,313,014,326,620,952,241,010,788,397,438,136,579,224,398,965,333,562,547,090"
     ]
    },
    {
     "name": "stdout",
     "output_type": "stream",
     "text": [
      " \n",
      "\n",
      "number of digits: 308 \n",
      "\n",
      "hex: 759116eb029b2b29fc384babe22ac3527c8f912a706ca8da3bdb1ed039baa41f976ee51ae44fdb681bf79b0336d8949466826973447c58807760d9af04de5c433aa6f64eff3b6cfb3f6e7eaa7a3342be249b02ad4d2e7adf62fba21edf3a6d384e943e77fac38182d82beef404cb21406c594c990e3c783be39ac7341c10db92 \n",
      "\n",
      "number of bits: 1023 \n",
      "\n"
     ]
    }
   ],
   "source": [
    "my_print_number(\"Alice's exponent\", alice_exponent)"
   ]
  },
  {
   "cell_type": "code",
   "execution_count": 9,
   "metadata": {
    "collapsed": false
   },
   "outputs": [
   ],
   "source": [
    "alice_sends = power_mod(g, alice_exponent, p)"
   ]
  },
  {
   "cell_type": "code",
   "execution_count": 10,
   "metadata": {
    "collapsed": false
   },
   "outputs": [
    {
     "name": "stdout",
     "output_type": "stream",
     "text": [
      "\n",
      " Alice sends Bob \n",
      "\n",
      "decimal: 11,681,290,514,113,317,994,788,964,227,172,739,086,126,558,130,317,014,459,339,074,715,639,399,854,223,439,482,212,164,145,123,830,373,666,080,795,011,904,882,490,389,808,461,121,685,067,782,955,664,894,682,029,229,133,300,958,571,012,217,350,456,038,729,493,150,997,002,999,990,135,482,582,059,133,515,689,576,813,514,242,068,334,064,620,072,581,105,806,702,414,425,167,063,666,301,271,503,822,563,798,633,667 \n",
      "\n",
      "number of digits: 308 \n",
      "\n",
      "hex: 10a27c586c0f7bcd1eed91006fd97cc6dad2a45067de5adae18520aecfd99a7beaffce8b3b0926c8335cee5fae3ac8d1394e95d7ada9456812ea67f04fbc57c99332e551105beee770a4a64b9b28374c1e9ac97c42d99174154e21b2d2fc7296fda932e27ee601c771d807b523c9b83cf5e71b612139f89c59c3994478074cc3 \n",
      "\n",
      "number of bits: 1021 \n",
      "\n"
     ]
    }
   ],
   "source": [
    "my_print_number(\"Alice sends Bob\", alice_sends)"
   ]
  },
  {
   "cell_type": "markdown",
   "metadata": {
    "collapsed": false
   },
   "source": [
    "### Likewise, Bob will get a random exponent of similar size to p, and can be even or odd, prime or composite.  Bob will raise the generator g to the power of his exponent in modulo p and send this value to Alice."
   ]
  },
  {
   "cell_type": "code",
   "execution_count": 11,
   "metadata": {
    "collapsed": false
   },
   "outputs": [
   ],
   "source": [
    "bob_exponent = my_get_random_exponent(b, p)"
   ]
  },
  {
   "cell_type": "code",
   "execution_count": 12,
   "metadata": {
    "collapsed": false
   },
   "outputs": [
    {
     "name": "stdout",
     "output_type": "stream",
     "text": [
      "\n",
      " Bob's exponent \n",
      "\n",
      "decimal: 61,232,871,875,818,732,074,363,710,214,537,577,821,101,110,794,459,165,686,022,792,510,034,306,243,509,003,912,945,177,655,938,631,084,778,542,401,089,471,661,754,496,135,995,206,572,545,371,180,076,008,495,228,111,422,549,463,140,740,230,128,867,674,965,736,873,025,642,598,973,902,141,866,056,662,716,544,695,945,279,969,729,471,075,560,397,747,011,896,629,040,618,688,605,602,388,012,338,117,017,365,908,504 \n",
      "\n",
      "number of digits: 308 \n",
      "\n",
      "hex: 5732d12866b2dc2d44e5f00152b6cd97948327a83d9f921b6f04568029e88185cf26bcfbb4087ad0c0ba0b4492cd499355602f48a6d2c4885f954ca2f78d8b5559879d7ff2fbe8f3632a6d6a1dd3a5d6fd3c4eb6011c20cdc1928f9767bcb0f2623b57a5c6b30c165ea9e44673871f1c4a3085d0cd085a36d4539160edcc0c18 \n",
      "\n",
      "number of bits: 1023 \n",
      "\n"
     ]
    }
   ],
   "source": [
    "my_print_number(\"Bob's exponent\", bob_exponent)"
   ]
  },
  {
   "cell_type": "code",
   "execution_count": 13,
   "metadata": {
    "collapsed": false
   },
   "outputs": [
   ],
   "source": [
    "bob_sends = power_mod(g, bob_exponent, p)"
   ]
  },
  {
   "cell_type": "code",
   "execution_count": 14,
   "metadata": {
    "collapsed": false
   },
   "outputs": [
    {
     "name": "stdout",
     "output_type": "stream",
     "text": [
      "\n",
      " Bob sends Alice \n",
      "\n",
      "decimal: 90,374,616,391,543,087,802,264,270,924,861,039,981,422,863,292,835,093,531,878,428,477,770,873,456,903,865,039,541,006,162,332,102,926,934,033,863,781,399,478,237,499,926,619,672,294,085,745,285,443,532,503,969,380,187,390,090,703,544,538,368,496,426,055,723,517,975,506,309,224,057,786,757,431,869,489,246,584,824,225,749,097,386,429,684,459,986,515,102,861,135,562,153,698,586,729,448,870,944,746,090,168,775 \n",
      "\n",
      "number of digits: 308 \n",
      "\n",
      "hex: 80b29e26c4d96be76437a88375b70ad9405f28805b6e31d0e41a721da3e701102174687087a58eb932311d072d0bcbf89d3394cee799e18fb0a81b6a1a5f979baba53cfc594d1bd082b1b3110b8a36fc9a84b63c97f304e5c4699a4c0c7f6c2085d4accc3fd2b0a9723e5dff47bd2430d1f95652923341a67b601b65105281c7 \n",
      "\n",
      "number of bits: 1024 \n",
      "\n"
     ]
    }
   ],
   "source": [
    "my_print_number(\"Bob sends Alice\", bob_sends)"
   ]
  },
  {
   "cell_type": "markdown",
   "metadata": {
    "collapsed": false
   },
   "source": [
    "### Alice will take the value sent to her by Bob and raise it to the power of her exponent in modulo p. This will be the key (Bob's key should match)"
   ]
  },
  {
   "cell_type": "code",
   "execution_count": 15,
   "metadata": {
    "collapsed": false
   },
   "outputs": [
   ],
   "source": [
    "alice_key = power_mod(bob_sends, alice_exponent, p)"
   ]
  },
  {
   "cell_type": "code",
   "execution_count": 16,
   "metadata": {
    "collapsed": false
   },
   "outputs": [
    {
     "name": "stdout",
     "output_type": "stream",
     "text": [
      "\n",
      " Alice's key \n",
      "\n",
      "decimal: 87,568,296,126,494,992,802,208,110,188,934,153,627,843,976,630,664,894,963,954,487,494,071,104,066,252,197,632,390,322,197,195,345,985,892,686,755,813,274,630,688,711,038,510,628,625,780,327,055,002,233,943,204,191,908,974,568,462,952,568,845,808,686,589,347,355,786,555,206,041,896,644,840,927,404,346,304,819,296,092,178,635,198,917,696,852,775,669,854,270,380,295,649,877,136,646,292,889,867,668,803,817,637 \n",
      "\n",
      "number of digits: 308 \n",
      "\n",
      "hex: 7cb38e7dacc376a17253c1531b4c8b22f146778b678aaff0b6033247f7b1c80d0acf5f43a8a6d8042140fd24d321b002a4d0a6feb13c0424d61987f18dfea64e07c4be8b3ec62d1b7266d7f9fdc775a33080fb008bc0e6a94e1ad6d8ba567aa09b2455f3abbf82c7db78b04a3d279e77b88429c822c4fe800d5ca52f5df810a5 \n",
      "\n",
      "number of bits: 1023 \n",
      "\n"
     ]
    }
   ],
   "source": [
    "my_print_number(\"Alice's key\", alice_key)"
   ]
  },
  {
   "cell_type": "markdown",
   "metadata": {
    "collapsed": false
   },
   "source": [
    "### Likewise, Bob will take the value sent to him by Alice and raise it to the power of his exponent in modulo p. This will be the key (Alice's key should match)"
   ]
  },
  {
   "cell_type": "code",
   "execution_count": 17,
   "metadata": {
    "collapsed": false
   },
   "outputs": [
   ],
   "source": [
    "bob_key = power_mod(alice_sends, bob_exponent, p)"
   ]
  },
  {
   "cell_type": "code",
   "execution_count": 18,
   "metadata": {
    "collapsed": false
   },
   "outputs": [
    {
     "name": "stdout",
     "output_type": "stream",
     "text": [
      "\n",
      " Bob's key \n",
      "\n",
      "decimal: 87,568,296,126,494,992,802,208,110,188,934,153,627,843,976,630,664,894,963,954,487,494,071,104,066,252,197,632,390,322,197,195,345,985,892,686,755,813,274,630,688,711,038,510,628,625,780,327,055,002,233,943,204,191,908,974,568,462,952,568,845,808,686,589,347,355,786,555,206,041,896,644,840,927,404,346,304,819,296,092,178,635,198,917,696,852,775,669,854,270,380,295,649,877,136,646,292,889,867,668,803,817,637 \n",
      "\n",
      "number of digits: 308 \n",
      "\n",
      "hex: 7cb38e7dacc376a17253c1531b4c8b22f146778b678aaff0b6033247f7b1c80d0acf5f43a8a6d8042140fd24d321b002a4d0a6feb13c0424d61987f18dfea64e07c4be8b3ec62d1b7266d7f9fdc775a33080fb008bc0e6a94e1ad6d8ba567aa09b2455f3abbf82c7db78b04a3d279e77b88429c822c4fe800d5ca52f5df810a5 \n",
      "\n",
      "number of bits: 1023 \n",
      "\n"
     ]
    }
   ],
   "source": [
    "my_print_number(\"Bob's key\", bob_key)"
   ]
  },
  {
   "cell_type": "markdown",
   "metadata": {
    "collapsed": false
   },
   "source": [
    "### Verify that Alice's key and Bob's key match"
   ]
  },
  {
   "cell_type": "code",
   "execution_count": 19,
   "metadata": {
    "collapsed": false
   },
   "outputs": [
    {
     "name": "stdout",
     "output_type": "stream",
     "text": [
      "Alice's key matches Bob's key!\n"
     ]
    }
   ],
   "source": [
    "if alice_key == bob_key:\n",
    "    print (\"Alice's key matches Bob's key!\")\n",
    "else:\n",
    "    print (\"Error - keys do NOT match!\")"
   ]
  },
  {
   "cell_type": "markdown",
   "metadata": {
    "collapsed": false
   },
   "source": [
    "### Often keys generated by Diffie Hellman are used for AES256 with a 256 bit key.  It's common to use a SHA256 hash of the Diffie Hellman generated key."
   ]
  },
  {
   "cell_type": "code",
   "execution_count": 20,
   "metadata": {
    "collapsed": false
   },
   "outputs": [
    {
     "name": "stdout",
     "output_type": "stream",
     "text": [
      "\n",
      "Alice and Bob should both have the same sha256 values for the key generated by Diffie Hellman:\n",
      "Alice's sha256: e90b1e7a32b027b22c3f638d9421fc415e20ee592e230a70a89aea79437ad1a4\n",
      "  Bob's sha256: e90b1e7a32b027b22c3f638d9421fc415e20ee592e230a70a89aea79437ad1a4\n"
     ]
    }
   ],
   "source": [
    "alice_sha256 = hashlib.sha256(str(alice_key).encode('utf-8')).hexdigest()\n",
    "\n",
    "bob_sha256 = hashlib.sha256(str(bob_key).encode('utf-8')).hexdigest()\n",
    "\n",
    "print (\"\\nAlice and Bob should both have the same sha256 values for the key generated by Diffie Hellman:\")\n",
    "\n",
    "print (\"Alice's sha256: \" + alice_sha256)\n",
    "print (\"  Bob's sha256: \" + bob_sha256)"
   ]
  },
  {
   "cell_type": "code",
   "execution_count": 0,
   "metadata": {
    "collapsed": false
   },
   "outputs": [
   ],
   "source": [
   ]
  }
 ],
 "metadata": {
  "kernelspec": {
   "display_name": "SageMath 9.1",
   "language": "sagemath",
   "metadata": {
    "cocalc": {
     "description": "Open-source mathematical software system",
     "priority": 10,
     "url": "https://www.sagemath.org/"
    }
   },
   "name": "sage-9.1"
  },
  "language_info": {
   "codemirror_mode": {
    "name": "ipython",
    "version": 3
   },
   "file_extension": ".py",
   "mimetype": "text/x-python",
   "name": "python",
   "nbconvert_exporter": "python",
   "pygments_lexer": "ipython3",
   "version": "3.7.3"
  }
 },
 "nbformat": 4,
 "nbformat_minor": 4
}