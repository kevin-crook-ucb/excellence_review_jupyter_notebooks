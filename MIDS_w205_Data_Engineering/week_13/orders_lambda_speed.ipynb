{
 "cells": [
  {
   "cell_type": "markdown",
   "id": "396cf29a",
   "metadata": {},
   "source": [
    "# Orders Lambda Speed"
   ]
  },
  {
   "cell_type": "code",
   "execution_count": 1,
   "id": "a1da48d2",
   "metadata": {},
   "outputs": [],
   "source": [
    "import kafka\n",
    "\n",
    "import pprint\n",
    "\n",
    "from IPython.display import clear_output\n",
    "\n",
    "import time"
   ]
  },
  {
   "cell_type": "markdown",
   "id": "163dbb08",
   "metadata": {},
   "source": [
    "## Continually read streaming data from the topic orders_stream"
   ]
  },
  {
   "cell_type": "code",
   "execution_count": 2,
   "id": "6a10275f",
   "metadata": {},
   "outputs": [],
   "source": [
    "topic = \"orders_stream\"\n",
    "\n",
    "stream = kafka.KafkaConsumer(topic, \n",
    "                             bootstrap_servers=['kafka:29092'], \n",
    "                             auto_offset_reset='earliest')\n"
   ]
  },
  {
   "cell_type": "code",
   "execution_count": null,
   "id": "d3e19aac",
   "metadata": {},
   "outputs": [
    {
     "name": "stdout",
     "output_type": "stream",
     "text": [
      "\n",
      "=================================\n",
      "   Orders Lambda Speed Process\n",
      "=================================\n",
      "\n",
      "\n",
      "Clearing the screen every 10 objects to prevent running out of output space ...\n",
      "\n",
      "Offset: 150    Value: b'{\"order_id\": 14682, \"sub_total\": 1909.15, \"tax\": 152.73, \"total\": 2061.88, '\n",
      "Offset: 151    Value: b'{\"order_id\": 14683, \"sub_total\": 399.8, \"tax\": 31.98, \"total\": 431.78, \"lin'\n",
      "Offset: 152    Value: b'{\"order_id\": 14684, \"sub_total\": 399.8, \"tax\": 31.98, \"total\": 431.78, \"lin'\n",
      "Offset: 153    Value: b'{\"order_id\": 14685, \"sub_total\": 149.95, \"tax\": 12.0, \"total\": 161.95, \"lin'\n",
      "Offset: 154    Value: b'{\"order_id\": 14686, \"sub_total\": 1059.35, \"tax\": 84.75, \"total\": 1144.1, \"l'\n",
      "Offset: 155    Value: b'{\"order_id\": 14687, \"sub_total\": 939.35, \"tax\": 75.15, \"total\": 1014.5, \"li'\n",
      "Offset: 156    Value: b'{\"order_id\": 14688, \"sub_total\": 2099.1, \"tax\": 167.93, \"total\": 2267.03, \"'\n",
      "Offset: 157    Value: b'{\"order_id\": 14689, \"sub_total\": 89.85, \"tax\": 7.19, \"total\": 97.04, \"line_'\n",
      "Offset: 158    Value: b'{\"order_id\": 14690, \"sub_total\": 1399.45, \"tax\": 111.96, \"total\": 1511.41, '\n",
      "Offset: 159    Value: b'{\"order_id\": 14691, \"sub_total\": 269.55, \"tax\": 21.56, \"total\": 291.11, \"li'\n"
     ]
    }
   ],
   "source": [
    "i = 0\n",
    "\n",
    "for message in stream:\n",
    "    \n",
    "    if i == 10:\n",
    "        i = 0\n",
    "        clear_output(wait=True)            \n",
    "        print(\"\\n=================================\")\n",
    "        print(\"   Orders Lambda Speed Process\")\n",
    "        print(\"=================================\\n\")\n",
    "        print(\"\\nClearing the screen every 10 objects to prevent running out of output space ...\\n\")\n",
    "        \n",
    "\n",
    "    \n",
    "    print(\"Offset:\", message.offset, \"   Value:\", message.value[:75])\n",
    "    \n",
    "    i += 1"
   ]
  },
  {
   "cell_type": "code",
   "execution_count": null,
   "id": "d181de08",
   "metadata": {},
   "outputs": [],
   "source": []
  }
 ],
 "metadata": {
  "kernelspec": {
   "display_name": "Python 3",
   "language": "python",
   "name": "python3"
  },
  "language_info": {
   "codemirror_mode": {
    "name": "ipython",
    "version": 3
   },
   "file_extension": ".py",
   "mimetype": "text/x-python",
   "name": "python",
   "nbconvert_exporter": "python",
   "pygments_lexer": "ipython3",
   "version": "3.8.8"
  }
 },
 "nbformat": 4,
 "nbformat_minor": 5
}
