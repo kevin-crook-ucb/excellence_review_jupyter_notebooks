{
 "cells": [
  {
   "cell_type": "markdown",
   "metadata": {
    "collapsed": false
   },
   "source": [
    "### UC Berkeley, MICS, W202-Cryptography\n",
    "### Week 05 Breakout 4\n",
    "### Elliptic Curves - Prime Curves - Hasse's Theorem and the Trace of Frobenius - survey of industry standard prime curves"
   ]
  },
  {
   "cell_type": "markdown",
   "metadata": {
    "collapsed": false
   },
   "source": [
    "We will see in coming weeks that the computational intractability of the Elliptic Curve Discrete Logarithm problem forms the basis for Elliptic Curve Cryptography.  In order to achieve this, the prime curve must have a large prime p value which means it will have a large number of points.  We must also have well chosen values for A and B to ensure the period for scalar multiplication is long. \n",
    "\n",
    "We learned in our lecture that the number of points is approximately:\n",
    "\n",
    "number of points = 50% * 2 * p + 1 = p + 1\n",
    "\n",
    "Hasse's Theorem gives us a boundary for the number of points:\n",
    "\n",
    "number of points = p + 1 - tp\n",
    "\n",
    "where tp is the Trace of Frobenius with absolute value (tp) <= 2 * square root of p\n",
    "\n",
    "There is a polynomial time algorithm with computational complexity of O((log p)^6), known as SEA, developed by Elkies and Atkin, improved by Schoof that can determine the number of points on a prime curve of large order.  In SageMath, SEA is implemented in the cardinality() method of the EllipticCurve() class.\n",
    "\n",
    "There are published industry standard prime curves of large order published by various government standards and private organizations.   These published curves typically give A, B, p and a starting point (it can be very hard to find a starting point)  We will take a look at the number of points for these and do some scalar multiplcations from the starting point.\n",
    "\n",
    "Remember, for a good published industry standard curve:\n",
    "\n",
    "* Large p value ensures a lot of points (note the number of points is independent of A and B)\n",
    "\n",
    "* A and B determine the period for scalar multiplication of points. Back in breakout 2, we saw the period for scalar multiplications.  Even with a large p value, and large values for x and y in a point, if A and B are chosen poorly, the period can be very short and easy to break.\n",
    "\n",
    "* Published industry standard curves tend to have a very small A absolute value and a very large B absolute value.  This is because A is used in the slope formula, while B is not used in the slope formula.  With a small A absolute value, it's very important to select a large B absolute value that will yield a large period for scalar multiplication.\n",
    "\n",
    "Here are some published industry standard elliptic curve prime curves we will take a look at:\n",
    "\n",
    "FIPS PUB 186-4\n",
    "\n",
    "* Curve P-192\n",
    "\n",
    "* Curve P-224\n",
    "\n",
    "* Curve P-256\n",
    "\n",
    "* Curve P-384\n",
    "\n",
    "* Curve P-521"
   ]
  },
  {
   "cell_type": "code",
   "execution_count": 1,
   "metadata": {
    "collapsed": false
   },
   "outputs": [
   ],
   "source": [
    "from sage.all import *"
   ]
  },
  {
   "cell_type": "code",
   "execution_count": 2,
   "metadata": {
    "collapsed": false
   },
   "outputs": [
   ],
   "source": [
    "def my_sea_hasse_frobenius(A, B, p):\n",
    "    \"Given an elliptic curve prime curve defined by A, B, p, count the number of point by various methods and estimates\"\n",
    "    \n",
    "    E = EllipticCurve(GF(p), [A,B])\n",
    "    \n",
    "    print (\"A: \" + str(A))\n",
    "    \n",
    "    print (\"B: \" + str(B))\n",
    "    \n",
    "    print (\"p: \" + str(p))\n",
    "    \n",
    "    print (\"SEA: \" + str(E.cardinality()))\n",
    "   \n",
    "    print (\"Hasse upper bound: \" + \"{:.3g}\".format(float(2.0) * float(sqrt(p))))\n",
    "    \n",
    "    print (\"Trace of Frobenius: \" + str(E.trace_of_frobenius()))"
   ]
  },
  {
   "cell_type": "code",
   "execution_count": 3,
   "metadata": {
    "collapsed": false
   },
   "outputs": [
    {
     "name": "stdout",
     "output_type": "stream",
     "text": [
      "A: 4\n",
      "B: 6\n",
      "p: 3\n",
      "SEA: 4\n",
      "Hasse upper bound: 3.46\n",
      "Trace of Frobenius: 0\n"
     ]
    }
   ],
   "source": [
    "A = 4\n",
    "B = 6\n",
    "p = 3\n",
    "\n",
    "my_sea_hasse_frobenius(A, B, p)"
   ]
  },
  {
   "cell_type": "code",
   "execution_count": 4,
   "metadata": {
    "collapsed": false
   },
   "outputs": [
    {
     "name": "stdout",
     "output_type": "stream",
     "text": [
      "A: 4\n",
      "B: 6\n",
      "p: 5\n",
      "SEA: 8\n",
      "Hasse upper bound: 4.47\n",
      "Trace of Frobenius: -2\n"
     ]
    }
   ],
   "source": [
    "A = 4\n",
    "B = 6\n",
    "p = 5\n",
    "\n",
    "my_sea_hasse_frobenius(A, B, p)"
   ]
  },
  {
   "cell_type": "code",
   "execution_count": 5,
   "metadata": {
    "collapsed": false
   },
   "outputs": [
    {
     "name": "stdout",
     "output_type": "stream",
     "text": [
      "A: 4\n",
      "B: 6\n",
      "p: 7\n",
      "SEA: 11\n",
      "Hasse upper bound: 5.29\n",
      "Trace of Frobenius: -3\n"
     ]
    }
   ],
   "source": [
    "A = 4\n",
    "B = 6\n",
    "p = 7\n",
    "\n",
    "my_sea_hasse_frobenius(A, B, p)"
   ]
  },
  {
   "cell_type": "code",
   "execution_count": 6,
   "metadata": {
    "collapsed": false
   },
   "outputs": [
    {
     "name": "stdout",
     "output_type": "stream",
     "text": [
      "A: 4\n",
      "B: 6\n",
      "p: 11\n",
      "SEA: 16\n",
      "Hasse upper bound: 6.63\n",
      "Trace of Frobenius: -4\n"
     ]
    }
   ],
   "source": [
    "A = 4\n",
    "B = 6\n",
    "p = 11\n",
    "\n",
    "my_sea_hasse_frobenius(A, B, p)"
   ]
  },
  {
   "cell_type": "code",
   "execution_count": 7,
   "metadata": {
    "collapsed": false
   },
   "outputs": [
    {
     "name": "stdout",
     "output_type": "stream",
     "text": [
      "A: 4\n",
      "B: 6\n",
      "p: 13\n",
      "SEA: 14\n",
      "Hasse upper bound: 7.21\n",
      "Trace of Frobenius: 0\n"
     ]
    }
   ],
   "source": [
    "A = 4\n",
    "B = 6\n",
    "p = 13\n",
    "\n",
    "my_sea_hasse_frobenius(A, B, p)"
   ]
  },
  {
   "cell_type": "code",
   "execution_count": 8,
   "metadata": {
    "collapsed": false
   },
   "outputs": [
    {
     "name": "stdout",
     "output_type": "stream",
     "text": [
      "A: 4\n",
      "B: 6\n",
      "p: 17\n",
      "SEA: 15\n",
      "Hasse upper bound: 8.25\n",
      "Trace of Frobenius: 3\n"
     ]
    }
   ],
   "source": [
    "A = 4\n",
    "B = 6\n",
    "p = 17\n",
    "\n",
    "my_sea_hasse_frobenius(A, B, p)"
   ]
  },
  {
   "cell_type": "code",
   "execution_count": 9,
   "metadata": {
    "collapsed": false
   },
   "outputs": [
   ],
   "source": [
    "def my_standard_prime_curve(A, B, p, P_x, P_y):\n",
    "    \"Given a published industry standard elliptic curve prime curve, print info plus scalar multiplication examples\"\n",
    "    \n",
    "    E = EllipticCurve(GF(p), [A,B])\n",
    "    \n",
    "    P = E(P_x,P_y)\n",
    "    \n",
    "    print (\"\\n\")\n",
    "    print (\"A:\" + str(A) + \"\\n\")\n",
    "    print (\"B:\\n\" + str(B.hex()) + \"\\n\" + \"{:,}\".format(B) + \"\\ndigits:\" + str(B.ndigits()) + \"\\n\")\n",
    "    print (\"p:\\n\" + str(p.hex()) + \"\\n\" + \"{:,}\".format(p) + \"\\ndigits:\" + str(p.ndigits()) + \"\\n\")\n",
    "    \n",
    "    hasse = 2 * floor(sqrt(p))\n",
    "    \n",
    "    print (\"Hasse upper bound:\\n\" + str(hasse.hex()) + \"\\n\" + \"{:,}\".format(hasse) + \"\\ndigits:\" + str(hasse.ndigits()) + \"\\n\")\n",
    "    \n",
    "    \n",
    "    print (\"Base Point:\\n\" + str(P_x.hex()) + \"\\n\" + str(P_y.hex()) + \"\\n\")\n",
    "    \n",
    "    for i in range(2, 11):\n",
    "        \n",
    "        Q = P * i\n",
    "        \n",
    "        Q_x = Integer(Q[0])\n",
    "        Q_y = Integer(Q[1])\n",
    "        \n",
    "        \n",
    "        print (str(i) + \" * Base Point:\\n\" + str(Q_x.hex()) + \"\\n\" + str(Q_y.hex()) + \"\\n\")\n",
    "    "
   ]
  },
  {
   "cell_type": "code",
   "execution_count": 10,
   "metadata": {
    "collapsed": false
   },
   "outputs": [
    {
     "name": "stdout",
     "output_type": "stream",
     "text": [
      "\n",
      "\n",
      "A:-3\n",
      "\n",
      "B:\n",
      "64210519e59c80e70fa7e9ab72243049feb8deecc146b9b1\n",
      "2,455,155,546,008,943,817,740,293,915,197,451,784,769,108,058,161,191,238,065\n",
      "digits:58\n",
      "\n",
      "p:\n",
      "fffffffffffffffffffffffffffffffeffffffffffffffff\n",
      "6,277,101,735,386,680,763,835,789,423,207,666,416,083,908,700,390,324,961,279\n",
      "digits:58\n",
      "\n",
      "Hasse upper bound:\n",
      "1fffffffffffffffffffffffe\n",
      "158,456,325,028,528,675,187,087,900,670\n",
      "digits:30\n",
      "\n",
      "Base Point:\n",
      "188da80eb03090f67cbf20eb43a18800f4ff0afd82ff1012\n",
      "7192b95ffc8da78631011ed6b24cdd573f977a11e794811\n",
      "\n",
      "2 * Base Point:\n",
      "dafebf5828783f2ad35534631588a3f629a70fb16982a888\n",
      "dd6bda0d993da0fa46b27bbc141b868f59331afa5c7e93ab\n",
      "\n",
      "3 * Base Point:\n",
      "76e32a2557599e6edcd283201fb2b9aadfd0d359cbb263da\n",
      "782c37e372ba4520aa62e0fed121d49ef3b543660cfd05fd\n",
      "\n",
      "4 * Base Point:\n",
      "35433907297cc378b0015703374729d7a4fe46647084e4ba\n",
      "a2649984f2135c301ea3acb0776cd4f125389b311db3be32\n",
      "\n",
      "5 * Base Point:\n",
      "10bb8e9840049b183e078d9c300e1605590118ebdd7ff590\n",
      "31361008476f917badc9f836e62762be312b72543cceaea1\n",
      "\n",
      "6 * Base Point:\n",
      "a37abc6c431f9ac398bf5bd1aa6678320ace8ecb93d23f2a\n",
      "851b3caec99908dbfed7040a1bbda90e081f7c5710bc68f0\n",
      "\n",
      "7 * Base Point:\n",
      "8da75a1f75ddcd7660f923243060edce5de37f007011fcfd\n",
      "57cb5fcf6860b35418240db8fdb3c01dd4b702f96409ffb5\n",
      "\n",
      "8 * Base Point:\n",
      "2fa1f92d1ecce92014771993cc14899d4b5977883397edde\n",
      "a338afdef78b7214273b8b5978ef733ff2dd8a8e9738f6c0\n",
      "\n",
      "9 * Base Point:\n",
      "818a4d308b1cabb74e9e8f2ba8d27c9e1d9d375ab980388f\n",
      "1d1aa5e208d87cd7c292f7cbb457cdf30ea542176c8e739\n",
      "\n",
      "10 * Base Point:\n",
      "aa7c4f9ef99e3e96d1aede2bd9238842859bb150d1fe9d85\n",
      "3212a36547edc62901ee3658b2f4859460eb5eb2491397b0\n",
      "\n"
     ]
    }
   ],
   "source": [
    "# FIPS Curve P-192\n",
    "\n",
    "p = 0xfffffffffffffffffffffffffffffffeffffffffffffffff\n",
    "\n",
    "A = -3\n",
    "B = 0x64210519e59c80e70fa7e9ab72243049feb8deecc146b9b1\n",
    "\n",
    "P_x = 0x188da80eb03090f67cbf20eb43a18800f4ff0afd82ff1012\n",
    "P_y = 0x07192b95ffc8da78631011ed6b24cdd573f977a11e794811\n",
    "\n",
    "my_standard_prime_curve(A, B, p, P_x, P_y)"
   ]
  },
  {
   "cell_type": "code",
   "execution_count": 11,
   "metadata": {
    "collapsed": false
   },
   "outputs": [
    {
     "name": "stdout",
     "output_type": "stream",
     "text": [
      "\n",
      "\n",
      "A:-3\n",
      "\n",
      "B:\n",
      "b4050a850c04b3abf54132565044b0b7d7bfd8ba270b39432355ffb4\n",
      "18,958,286,285,566,608,000,408,668,544,493,926,415,504,680,968,679,321,075,787,234,672,564\n",
      "digits:68\n",
      "\n",
      "p:\n",
      "ffffffffffffffffffffffffffffffff000000000000000000000001\n",
      "26,959,946,667,150,639,794,667,015,087,019,630,673,557,916,260,026,308,143,510,066,298,881\n",
      "digits:68\n",
      "\n",
      "Hasse upper bound:\n",
      "1fffffffffffffffffffffffffffe\n",
      "10,384,593,717,069,655,257,060,992,658,440,190\n",
      "digits:35\n",
      "\n",
      "Base Point:\n",
      "b70e0cbd6bb4bf7f321390b94a03c1d356c21122343280d6115c1d21\n",
      "bd376388b5f723fb4c22dfe6cd4375a05a07476444d5819985007e34\n",
      "\n",
      "2 * Base Point:\n",
      "706a46dc76dcb76798e60e6d89474788d16dc18032d268fd1a704fa6\n",
      "1c2b76a7bc25e7702a704fa986892849fca629487acf3709d2e4e8bb\n",
      "\n",
      "3 * Base Point:\n",
      "df1b1d66a551d0d31eff822558b9d2cc75c2180279fe0d08fd896d04\n",
      "a3f7f03cadd0be444c0aa56830130ddf77d317344e1af3591981a925\n",
      "\n",
      "4 * Base Point:\n",
      "ae99feebb5d26945b54892092a8aee02912930fa41cd114e40447301\n",
      "482580a0ec5bc47e88bc8c378632cd196cb3fa058a7114eb03054c9\n",
      "\n",
      "5 * Base Point:\n",
      "31c49ae75bce7807cdff22055d94ee9021fedbb5ab51c57526f011aa\n",
      "27e8bff1745635ec5ba0c9f1c2ede15414c6507d29ffe37e790a079b\n",
      "\n",
      "6 * Base Point:\n",
      "1f2483f82572251fca975fea40db821df8ad82a3c002ee6c57112408\n",
      "89faf0ccb750d99b553c574fad7ecfb0438586eb3952af5b4b153c7e\n",
      "\n",
      "7 * Base Point:\n",
      "db2f6be630e246a5cf7d99b85194b123d487e2d466b94b24a03c3e28\n",
      "f3a30085497f2f611ee2517b163ef8c53b715d18bb4e4808d02b963\n",
      "\n",
      "8 * Base Point:\n",
      "858e6f9cc6c12c31f5df124aa77767b05c8bc021bd683d2b55571550\n",
      "46dcd3ea5c43898c5c5fc4fdac7db39c2f02ebee4e3541d1e78047a\n",
      "\n",
      "9 * Base Point:\n",
      "2fdcccfee720a77ef6cb3bfbb447f9383117e3daa4a07e36ed15f78d\n",
      "371732e4f41bf4f7883035e6a79fcedc0e196eb07b48171697517463\n",
      "\n",
      "10 * Base Point:\n",
      "aea9e17a306517eb89152aa7096d2c381ec813c51aa880e7bee2c0fd\n",
      "39bb30eab337e0a521b6cba1abe4b2b3a3e524c14a3fe3eb116b655f\n",
      "\n"
     ]
    }
   ],
   "source": [
    "# FIPS Curve P-224\n",
    "\n",
    "p = 0xffffffffffffffffffffffffffffffff000000000000000000000001\n",
    "\n",
    "A = -3\n",
    "B = 0xb4050a850c04b3abf54132565044b0b7d7bfd8ba270b39432355ffb4\n",
    "\n",
    "P_x = 0xb70e0cbd6bb4bf7f321390b94a03c1d356c21122343280d6115c1d21\n",
    "P_y = 0xbd376388b5f723fb4c22dfe6cd4375a05a07476444d5819985007e34\n",
    "\n",
    "my_standard_prime_curve(A, B, p, P_x, P_y)"
   ]
  },
  {
   "cell_type": "code",
   "execution_count": 12,
   "metadata": {
    "collapsed": false
   },
   "outputs": [
    {
     "name": "stdout",
     "output_type": "stream",
     "text": [
      "\n",
      "\n",
      "A:-3\n",
      "\n",
      "B:\n",
      "5ac635d8aa3a93e7b3ebbd55769886bc651d06b0cc53b0f63bce3c3e27d2604b\n",
      "41,058,363,725,152,142,129,326,129,780,047,268,409,114,441,015,993,725,554,835,256,314,039,467,401,291\n",
      "digits:77\n",
      "\n",
      "p:\n",
      "ffffffff00000001000000000000000000000000ffffffffffffffffffffffff\n",
      "115,792,089,210,356,248,762,697,446,949,407,573,530,086,143,415,290,314,195,533,631,308,867,097,853,951\n",
      "digits:78\n",
      "\n",
      "Hasse upper bound:\n",
      "1ffffffff00000000c000000060000000\n",
      "680,564,733,762,648,764,426,319,935,326,885,249,024\n",
      "digits:39\n",
      "\n",
      "Base Point:\n",
      "6b17d1f2e12c4247f8bce6e563a440f277037d812deb33a0f4a13945d898c296\n",
      "4fe342e2fe1a7f9b8ee7eb4a7c0f9e162bce33576b315ececbb6406837bf51f5\n",
      "\n",
      "2 * Base Point:\n",
      "7cf27b188d034f7e8a52380304b51ac3c08969e277f21b35a60b48fc47669978\n",
      "7775510db8ed040293d9ac69f7430dbba7dade63ce982299e04b79d227873d1\n",
      "\n",
      "3 * Base Point:\n",
      "5ecbe4d1a6330a44c8f7ef951d4bf165e6c6b721efada985fb41661bc6e7fd6c\n",
      "8734640c4998ff7e374b06ce1a64a2ecd82ab036384fb83d9a79b127a27d5032\n",
      "\n",
      "4 * Base Point:\n",
      "e2534a3532d08fbba02dde659ee62bd0031fe2db785596ef509302446b030852\n",
      "e0f1575a4c633cc719dfee5fda862d764efc96c3f30ee0055c42c23f184ed8c6\n",
      "\n",
      "5 * Base Point:\n",
      "51590b7a515140d2d784c85608668fdfef8c82fd1f5be52421554a0dc3d033ed\n",
      "e0c17da8904a727d8ae1bf36bf8a79260d012f00d4d80888d1d0bb44fda16da4\n",
      "\n",
      "6 * Base Point:\n",
      "b01a172a76a4602c92d3242cb897dde3024c740debb215b4c6b0aae93c2291a9\n",
      "e85c10743237dad56fec0e2dfba703791c00f7701c7e16bdfd7c48538fc77fe2\n",
      "\n",
      "7 * Base Point:\n",
      "8e533b6fa0bf7b4625bb30667c01fb607ef9f8b8a80fef5b300628703187b2a3\n",
      "73eb1dbde03318366d069f83a6f5900053c73633cb041b21c55e1a86c1f400b4\n",
      "\n",
      "8 * Base Point:\n",
      "62d9779dbee9b0534042742d3ab54cadc1d238980fce97dbb4dd9dc1db6fb393\n",
      "ad5accbd91e9d8244ff15d771167cee0a2ed51f6bbe76a78da540a6a0f09957e\n",
      "\n",
      "9 * Base Point:\n",
      "ea68d7b6fedf0b71878938d51d71f8729e0acb8c2c6df8b3d79e8a4b90949ee0\n",
      "2a2744c972c9fce787014a964a8ea0c84d714feaa4de823fe85a224a4dd048fa\n",
      "\n",
      "10 * Base Point:\n",
      "cef66d6b2a3a993e591214d1ea223fb545ca6c471c48306e4c36069404c5723f\n",
      "878662a229aaae906e123cdd9d3b4c10590ded29fe751eeeca34bbaa44af0773\n",
      "\n"
     ]
    }
   ],
   "source": [
    "# FIPS Curve P-256\n",
    "\n",
    "p = 0xffffffff00000001000000000000000000000000ffffffffffffffffffffffff\n",
    "\n",
    "A = -3\n",
    "B = 0x5ac635d8aa3a93e7b3ebbd55769886bc651d06b0cc53b0f63bce3c3e27d2604b\n",
    "\n",
    "P_x = 0x6b17d1f2e12c4247f8bce6e563a440f277037d812deb33a0f4a13945d898c296\n",
    "P_y = 0x4fe342e2fe1a7f9b8ee7eb4a7c0f9e162bce33576b315ececbb6406837bf51f5\n",
    "\n",
    "my_standard_prime_curve(A, B, p, P_x, P_y)"
   ]
  },
  {
   "cell_type": "code",
   "execution_count": 13,
   "metadata": {
    "collapsed": false
   },
   "outputs": [
    {
     "name": "stdout",
     "output_type": "stream",
     "text": [
      "\n",
      "\n",
      "A:-3\n",
      "\n",
      "B:\n",
      "b3312fa7e23ee7e4988e056be3f82d19181d9c6efe8141120314088f5013875ac656398d8a2ed19d2a85c8edd3ec2aef\n",
      "27,580,193,559,959,705,877,849,011,840,389,048,093,056,905,856,361,568,521,428,707,301,988,689,241,309,860,865,136,260,764,883,745,107,765,439,761,230,575\n",
      "digits:116\n",
      "\n",
      "p:\n",
      "fffffffffffffffffffffffffffffffffffffffffffffffffffffffffffffffeffffffff0000000000000000ffffffff\n",
      "39,402,006,196,394,479,212,279,040,100,143,613,805,079,739,270,465,446,667,948,293,404,245,721,771,496,870,329,047,266,088,258,938,001,861,606,973,112,319\n",
      "digits:116\n",
      "\n"
     ]
    },
    {
     "name": "stdout",
     "output_type": "stream",
     "text": [
      "Hasse upper bound:\n",
      "1fffffffffffffffffffffffffffffffffffffffffffffffe\n",
      "12,554,203,470,773,361,527,671,578,846,415,332,832,204,710,888,928,069,025,790\n",
      "digits:59\n",
      "\n",
      "Base Point:\n",
      "aa87ca22be8b05378eb1c71ef320ad746e1d3b628ba79b9859f741e082542a385502f25dbf55296c3a545e3872760ab7\n",
      "3617de4a96262c6f5d9e98bf9292dc29f8f41dbd289a147ce9da3113b5f0b8c00a60b1ce1d7e819d7a431d7c90ea0e5f\n",
      "\n",
      "2 * Base Point:\n",
      "8d999057ba3d2d969260045c55b97f089025959a6f434d651d207d19fb96e9e4fe0e86ebe0e64f85b96a9c75295df61\n",
      "8e80f1fa5b1b3cedb7bfe8dffd6dba74b275d875bc6cc43e904e505f256ab4255ffd43e94d39e22d61501e700a940e80\n",
      "\n",
      "3 * Base Point:\n",
      "77a41d4606ffa1464793c7e5fdc7d98cb9d3910202dcd06bea4f240d3566da6b408bbae5026580d02d7e5c70500c831\n",
      "c995f7ca0b0c42837d0bbe9602a9fc998520b41c85115aa5f7684c0edc111eacc24abd6be4b5d298b65f28600a2f1df1\n",
      "\n",
      "4 * Base Point:\n",
      "138251cd52ac9298c1c8aad977321deb97e709bd0b4ca0aca55dc8ad51dcfc9d1589a1597e3a5120e1efd631c63e1835\n",
      "cacae29869a62e1631e8a28181ab56616dc45d918abc09f3ab0e63cf792aa4dced7387be37bba569549f1c02b270ed67\n",
      "\n",
      "5 * Base Point:\n",
      "11de24a2c251c777573cac5ea025e467f208e51dbff98fc54f6661cbe56583b037882f4a1ca297e60abcdbc3836d84bc\n",
      "8fa696c77440f92d0f5837e90a00e7c5284b447754d5dee88c986533b6901aeb3177686d0ae8fb33184414abe6c1713a\n",
      "\n",
      "6 * Base Point:\n",
      "627be1acd064d2b2226fe0d26f2d15d3c33ebcbb7f0f5da51cbd41f26257383021317d7202ff30e50937f0854e35c5df\n",
      "9766a4cb3f8b1c21be6dda6c14f1575b2c95352644f774c99864f613715441604c45b8d84e165311733a408d3f0f934\n",
      "\n",
      "7 * Base Point:\n",
      "283c1d7365ce4788f29f8ebf234edffead6fe997fbea5ffa2d58cc9dfa7b1c508b05526f55b9ebb2040f05b48fb6d0e1\n",
      "9475c99061e41b88ba52efdb8c1690471a61d867ed799729d9c92cd01dbd225630d84ede32a78f9e64664cdac512ef8c\n",
      "\n",
      "8 * Base Point:\n",
      "1692778ea596e0be75114297a6fa383445bf227fbe58190a900c3c73256f11fb5a3258d6f403d5ece6e9b269d822c87d\n",
      "dcd2365700d4106a835388ba3db8fd0e22554adc6d521cd4bd1c30c2ec0eec196bade1e9cdd1708d6f6abfa4022b0ad2\n",
      "\n",
      "9 * Base Point:\n",
      "8f0a39a4049bcb3ef1bf29b8b025b78f2216f7291e6fd3bac6cb1ee285fb6e21c388528bfee2b9535c55e4461079118b\n",
      "62c77e1438b601d6452c4a5322c3a9799a9b3d7ca3c400c6b7678854aed9b3029e743efedfd51b68262da4f9ac664af8\n",
      "\n",
      "10 * Base Point:\n",
      "a669c5563bd67eec678d29d6ef4fde864f372d90b79b9e88931d5c29291238cced8e85ab507bf91aa9cb2d13186658fb\n",
      "a988b72ae7c1279f22d9083db5f0ecddf70119550c183c31c502df78c3b705a8296d8195248288d997784f6ab73a21dd\n",
      "\n"
     ]
    }
   ],
   "source": [
    "# FIPS Curve P-384\n",
    "\n",
    "p = 0xfffffffffffffffffffffffffffffffffffffffffffffffffffffffffffffffeffffffff0000000000000000ffffffff\n",
    "\n",
    "A = -3\n",
    "B = 0xb3312fa7e23ee7e4988e056be3f82d19181d9c6efe8141120314088f5013875ac656398d8a2ed19d2a85c8edd3ec2aef\n",
    "\n",
    "P_x = 0xaa87ca22be8b05378eb1c71ef320ad746e1d3b628ba79b9859f741e082542a385502f25dbf55296c3a545e3872760ab7\n",
    "P_y = 0x3617de4a96262c6f5d9e98bf9292dc29f8f41dbd289a147ce9da3113b5f0b8c00a60b1ce1d7e819d7a431d7c90ea0e5f \n",
    "\n",
    "my_standard_prime_curve(A, B, p, P_x, P_y)"
   ]
  },
  {
   "cell_type": "code",
   "execution_count": 14,
   "metadata": {
    "collapsed": false
   },
   "outputs": [
    {
     "name": "stdout",
     "output_type": "stream",
     "text": [
      "\n",
      "\n",
      "A:-3\n",
      "\n",
      "B:\n",
      "51953eb9618e1c9a1f929a21a0b68540eea2da725b99b315f3b8b489918ef109e156193951ec7e937b1652c0bd3bb1bf073573df883d2c34f1ef451fd46b503f00\n",
      "1,093,849,038,073,734,274,511,112,390,766,805,569,936,207,598,951,683,748,994,586,394,495,953,116,150,735,016,013,708,737,573,759,623,248,592,132,296,706,313,309,438,452,531,591,012,912,142,327,488,478,985,984\n",
      "digits:157\n",
      "\n",
      "p:\n",
      "1ffffffffffffffffffffffffffffffffffffffffffffffffffffffffffffffffffffffffffffffffffffffffffffffffffffffffffffffffffffffffffffffffff\n",
      "6,864,797,660,130,609,714,981,900,799,081,393,217,269,435,300,143,305,409,394,463,459,185,543,183,397,656,052,122,559,640,661,454,554,977,296,311,391,480,858,037,121,987,999,716,643,812,574,028,291,115,057,151\n",
      "digits:157\n",
      "\n",
      "Hasse upper bound:\n",
      "2d413cccfe779921165f626cdd52afa7c75bd82ea24eea133b45eb2160cce64552\n",
      "5,240,151,776,477,704,167,523,276,898,750,696,211,680,475,678,159,567,171,956,598,630,448,432,306,079,058\n",
      "digits:79\n",
      "\n",
      "Base Point:\n",
      "c6858e06b70404e9cd9e3ecb662395b4429c648139053fb521f828af606b4d3dbaa14b5e77efe75928fe1dc127a2ffa8de3348b3c1856a429bf97e7e31c2e5bd66\n",
      "11839296a789a3bc0045c8a5fb42c7d1bd998f54449579b446817afbd17273e662c97ee72995ef42640c550b9013fad0761353c7086a272c24088be94769fd16650\n",
      "\n",
      "2 * Base Point:\n",
      "433c219024277e7e682fcb288148c282747403279b1ccc06352c6e5505d769be97b3b204da6ef55507aa104a3a35c5af41cf2fa364d60fd967f43e3933ba6d783d\n",
      "f4bb8cc7f86db26700a7f3eceeeed3f0b5c6b5107c4da97740ab21a29906c42dbbb3e377de9f251f6b93937fa99a3248f4eafcbe95edc0f4f71be356d661f41b02\n",
      "\n",
      "3 * Base Point:\n",
      "1a73d352443de29195dd91d6a64b5959479b52a6e5b123d9ab9e5ad7a112d7a8dd1ad3f164a3a4832051da6bd16b59fe21baeb490862c32ea05a5919d2ede37ad7d\n",
      "13e9b03b97dfa62ddd9979f86c6cab814f2f1557fa82a9d0317d2f8ab1fa355ceec2e2dd4cf8dc575b02d5aced1dec3c70cf105c9bc93a590425f588ca1ee86c0e5\n",
      "\n",
      "4 * Base Point:\n",
      "35b5df64ae2ac204c354b483487c9070cdc61c891c5ff39afc06c5d55541d3ceac8659e24afe3d0750e8b88e9f078af066a1d5025b08e5a5e2fbc87412871902f3\n",
      "82096f84261279d2b673e0178eb0b4abb65521aef6e6e32e1b5ae63fe2f19907f279f283e54ba385405224f750a95b85eebb7faef04699d1d9e21f47fc346e4d0d\n",
      "\n",
      "5 * Base Point:\n",
      "652bf3c52927a432c73dbc3391c04eb0bf7a596efdb53f0d24cf03dab8f177ace4383c0c6d5e3014237112feaf137e79a329d7e1e6d8931738d5ab5096ec8f3078\n",
      "15be6ef1bdd6601d6ec8a2b73114a8112911cd8fe8e872e0051edd817c9a0347087bb6897c9072cf374311540211cf5ff79d1f007257354f7f8173cc3e8deb090cb\n",
      "\n",
      "6 * Base Point:\n",
      "1ee4569d6cdb59219532eff34f94480d195623d30977fd71cf3981506ade4ab01525fbcca16153f7394e0727a239531be8c2f66e95657f380ae23731bedf79206b9\n",
      "1de0255ad0cc64f586ae2dd270546e3b1112aabbb73da5a808e7240a926201a8a96cab72d0e56648c9df96c984de274f2203dc7b8b55ca0dade1eaccd7858d44f17\n",
      "\n",
      "7 * Base Point:\n",
      "56d5d1d99d5b7f6346eeb65fda0b073a0c5f22e0e8f5483228f018d2c2f7114c5d8c308d0abfc698d8c9a6df30dce3bbc46f953f50fdc2619a01cead882816ecd4\n",
      "3d2d1b7d9baaa2a110d1d8317a39d68478b5c582d02824f0dd71dbd98a26cbde556bd0f293cdec9e2b9523a34591ce1a5f9e76712a5ddefc7b5c6b8bc90525251b\n",
      "\n",
      "8 * Base Point:\n",
      "822c40fb6301f7262a8348396b010e25bd4e29d8a9b003e0a8b8a3b05f826298f5bfea5b8579f49f08b598c1bc8d79e1ab56289b5a6f4040586f9ea54aa78ce68\n",
      "16331911d5542fc482048fdab6e78853b9a44f8ede9e2c0715b5083de610677a8f189e9c0aa5911b4bff0ba0df065c578699f3ba940094713538ad642f11f17801c\n",
      "\n",
      "9 * Base Point:\n",
      "1585389e359e1e21826a2f5bf157156d488ed34541b988746992c4ab145b8c6b6657429e1396134da35f3c556df725a318f4f50babd85cd28661f45627967cbe207\n",
      "2a2e618c9a8aedf39f0b55557a27ae938e3088a654ee1cebb6c825ba263ddb446e0d69e5756057ac840ff56ecf4abfd87d736c2ae928880f343aa0ea86b9ad2a4e\n",
      "\n",
      "10 * Base Point:\n",
      "190eb8f22bda61f281dfcfe7bb6721ec4cd901d879ac09ac7c34a9246b11ada8910a2c7c178fcc263299daa4da9842093f37c2e411f1a8e819a87ff09a04f2f3320\n",
      "1eb5d96b8491614ba9dbaeab3b0ca2ba760c2eeb2144251b20ba97fd78a62ef62d2bf5349d44d9864bb536f6163dc57ebeff3689639739faa172954bc98135ec759\n",
      "\n"
     ]
    }
   ],
   "source": [
    "# FIPS Curve P-521\n",
    "\n",
    "p = 0x1ffffffffffffffffffffffffffffffffffffffffffffffffffffffffffffffffffffffffffffffffffffffffffffffffffffffffffffffffffffffffffffffffff\n",
    "A = -3\n",
    "B = 0x051953eb9618e1c9a1f929a21a0b68540eea2da725b99b315f3b8b489918ef109e156193951ec7e937b1652c0bd3bb1bf073573df883d2c34f1ef451fd46b503f00\n",
    "\n",
    "P_x = 0xc6858e06b70404e9cd9e3ecb662395b4429c648139053fb521f828af606b4d3dbaa14b5e77efe75928fe1dc127a2ffa8de3348b3c1856a429bf97e7e31c2e5bd66\n",
    "P_y = 0x11839296a789a3bc0045c8a5fb42c7d1bd998f54449579b446817afbd17273e662c97ee72995ef42640c550b9013fad0761353c7086a272c24088be94769fd16650\n",
    "\n",
    "my_standard_prime_curve(A, B, p, P_x, P_y)"
   ]
  },
  {
   "cell_type": "code",
   "execution_count": 0,
   "metadata": {
    "collapsed": false
   },
   "outputs": [
   ],
   "source": [
   ]
  },
  {
   "cell_type": "code",
   "execution_count": 0,
   "metadata": {
    "collapsed": false
   },
   "outputs": [
   ],
   "source": [
   ]
  }
 ],
 "metadata": {
  "kernelspec": {
   "display_name": "SageMath 9.1",
   "language": "sagemath",
   "metadata": {
    "cocalc": {
     "description": "Open-source mathematical software system",
     "priority": 10,
     "url": "https://www.sagemath.org/"
    }
   },
   "name": "sage-9.1"
  },
  "language_info": {
   "codemirror_mode": {
    "name": "ipython",
    "version": 3
   },
   "file_extension": ".py",
   "mimetype": "text/x-python",
   "name": "python",
   "nbconvert_exporter": "python",
   "pygments_lexer": "ipython3",
   "version": "3.7.3"
  }
 },
 "nbformat": 4,
 "nbformat_minor": 4
}