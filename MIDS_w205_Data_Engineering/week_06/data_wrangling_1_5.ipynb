{
 "cells": [
  {
   "cell_type": "markdown",
   "id": "6167ebde",
   "metadata": {},
   "source": [
    "# Data Wrangling 1.5"
   ]
  },
  {
   "cell_type": "code",
   "execution_count": 1,
   "id": "88d5448a",
   "metadata": {},
   "outputs": [],
   "source": [
    "import openpyxl\n",
    "\n",
    "import psycopg2\n",
    "\n",
    "import json\n",
    "\n",
    "import csv\n",
    "\n",
    "import openpyxl"
   ]
  },
  {
   "cell_type": "code",
   "execution_count": 2,
   "id": "dcdc1f2d",
   "metadata": {},
   "outputs": [],
   "source": [
    "connection = psycopg2.connect(\n",
    "    user = \"postgres\",\n",
    "    password = \"ucb\",\n",
    "    host = \"postgres\",\n",
    "    port = \"5432\",\n",
    "    database = \"postgres\"\n",
    ")"
   ]
  },
  {
   "cell_type": "code",
   "execution_count": 3,
   "id": "4eff7f82",
   "metadata": {},
   "outputs": [],
   "source": [
    "cursor = connection.cursor()"
   ]
  },
  {
   "cell_type": "markdown",
   "id": "88055441",
   "metadata": {},
   "source": [
    "# Lab: Reading Exel Workbooks and Worksheets "
   ]
  },
  {
   "cell_type": "code",
   "execution_count": 4,
   "id": "f67fc873",
   "metadata": {},
   "outputs": [],
   "source": [
    "def my_read_excel_work_book_list_sheets(excel_file_name):\n",
    "    \"open the excel file, list the sheets\"\n",
    "    \n",
    "    work_book = openpyxl.load_workbook(excel_file_name)\n",
    "    \n",
    "    print(\"\\nExcel Workbook\", excel_file_name, \"list of work sheets:\\n\")\n",
    "    \n",
    "    for s in work_book.sheetnames:\n",
    "        print(s)\n",
    "        "
   ]
  },
  {
   "cell_type": "code",
   "execution_count": 5,
   "id": "b49fd2bb",
   "metadata": {},
   "outputs": [
    {
     "name": "stdout",
     "output_type": "stream",
     "text": [
      "\n",
      "Excel Workbook temp_sale_report.xlsx list of work sheets:\n",
      "\n",
      "Sales Report\n",
      "Stores\n",
      "Customers\n",
      "Sales\n",
      "Line Items\n",
      "Products\n",
      "Holidays\n"
     ]
    }
   ],
   "source": [
    "my_read_excel_work_book_list_sheets(\"temp_sale_report.xlsx\")"
   ]
  },
  {
   "cell_type": "code",
   "execution_count": 6,
   "id": "255c4fe2",
   "metadata": {},
   "outputs": [],
   "source": [
    "def my_read_excel_work_book_sheet(excel_file_name, sheet_name, limit):\n",
    "    \"open the excel file, find the sheet_name, print the number of rows specified\"\n",
    "    \n",
    "    work_book = openpyxl.load_workbook(excel_file_name)\n",
    "    \n",
    "    work_sheet = work_book[sheet_name]\n",
    "                                       \n",
    "    print(\"\\nExcel Workbook:\", excel_file_name)\n",
    "          \n",
    "    print(\"\\nWork Sheet:\", sheet_name)\n",
    "    \n",
    "    print(\"\\nNumber of Columns:\", work_sheet.max_column)\n",
    "          \n",
    "    print(\"\\nNumber of Rows:\", work_sheet.max_row)\n",
    "    \n",
    "    work_sheet_list = []\n",
    "    \n",
    "    for i in range(1,work_sheet.max_row+1):\n",
    "        \n",
    "        row_list = []\n",
    "        \n",
    "        for j in range(1,work_sheet.max_column+1):\n",
    "            \n",
    "            row_list.append(work_sheet.cell(row = i, column = j).value)\n",
    "            \n",
    "        work_sheet_list.append(row_list)\n",
    "    \n",
    "    print(\"\\nPrinting the first\", limit, \"rows :\\n\")\n",
    "    \n",
    "    i = 0\n",
    "    for row in work_sheet_list:\n",
    "        print(row)\n",
    "        i += 1\n",
    "        if i == limit:\n",
    "            break"
   ]
  },
  {
   "cell_type": "code",
   "execution_count": 7,
   "id": "2c867ae0",
   "metadata": {},
   "outputs": [
    {
     "name": "stdout",
     "output_type": "stream",
     "text": [
      "\n",
      "Excel Workbook: temp_sale_report.xlsx\n",
      "\n",
      "Work Sheet: Sales Report\n",
      "\n",
      "Number of Columns: 29\n",
      "\n",
      "Number of Rows: 177\n",
      "\n",
      "Printing the first 10 rows :\n",
      "\n",
      "['store_id', 'store', 'receipt_number', 'sale_date', 'dow', 'day_of_week', 'month', 'line_item_id', 'product_id', 'product_name', 'quantity', 'line_item_amount', 'customer_id', 'first_name', 'last_name', 'first_last_name', 'last_first_name', 'street', 'city', 'state', 'zip', 'closest_store_id', 'distance', 'latitude', 'longitude', 'population', 'area', 'density', 'time_zone']\n",
      "[1, 'Berkeley', '001-000128112', datetime.datetime(2020, 4, 30, 0, 0), 4, 'Thursday ', 'April    ', 1, 1, 'Pistachio Salmon', 1, 12, 3491, 'Siouxie', \"M'Quharge\", \"Siouxie M'Quharge\", \"M'Quharge, Siouxie\", '747 Westridge Center', 'Alameda', 'CA', '94501', 1, 6, 37.7752, -122.2748, 63843, 8.3977, 7602.4, 'America/Los_Angeles']\n",
      "[1, 'Berkeley', '001-000128112', datetime.datetime(2020, 4, 30, 0, 0), 4, 'Thursday ', 'April    ', 2, 8, 'Brocolli Stir Fry', 1, 12, 3491, 'Siouxie', \"M'Quharge\", \"Siouxie M'Quharge\", \"M'Quharge, Siouxie\", '747 Westridge Center', 'Alameda', 'CA', '94501', 1, 6, 37.7752, -122.2748, 63843, 8.3977, 7602.4, 'America/Los_Angeles']\n",
      "[1, 'Berkeley', '001-000144249', datetime.datetime(2020, 5, 16, 0, 0), 6, 'Saturday ', 'May      ', 1, 1, 'Pistachio Salmon', 1, 12, 1597, 'Norry', 'Macauley', 'Norry Macauley', 'Macauley, Norry', '654 Sommers Plaza', 'Oakland', 'CA', '94612', 1, 3, 37.8088, -122.2691, 16062, 0.9543, 16831.56, 'America/Los_Angeles']\n",
      "[1, 'Berkeley', '001-000144249', datetime.datetime(2020, 5, 16, 0, 0), 6, 'Saturday ', 'May      ', 2, 2, 'Teriyaki Chicken', 1, 12, 1597, 'Norry', 'Macauley', 'Norry Macauley', 'Macauley, Norry', '654 Sommers Plaza', 'Oakland', 'CA', '94612', 1, 3, 37.8088, -122.2691, 16062, 0.9543, 16831.56, 'America/Los_Angeles']\n",
      "[1, 'Berkeley', '001-000144249', datetime.datetime(2020, 5, 16, 0, 0), 6, 'Saturday ', 'May      ', 3, 4, 'Eggplant Lasagna', 2, 24, 1597, 'Norry', 'Macauley', 'Norry Macauley', 'Macauley, Norry', '654 Sommers Plaza', 'Oakland', 'CA', '94612', 1, 3, 37.8088, -122.2691, 16062, 0.9543, 16831.56, 'America/Los_Angeles']\n",
      "[1, 'Berkeley', '001-000144249', datetime.datetime(2020, 5, 16, 0, 0), 6, 'Saturday ', 'May      ', 4, 6, 'Curry Chicken', 1, 12, 1597, 'Norry', 'Macauley', 'Norry Macauley', 'Macauley, Norry', '654 Sommers Plaza', 'Oakland', 'CA', '94612', 1, 3, 37.8088, -122.2691, 16062, 0.9543, 16831.56, 'America/Los_Angeles']\n",
      "[1, 'Berkeley', '001-000144249', datetime.datetime(2020, 5, 16, 0, 0), 6, 'Saturday ', 'May      ', 5, 8, 'Brocolli Stir Fry', 2, 24, 1597, 'Norry', 'Macauley', 'Norry Macauley', 'Macauley, Norry', '654 Sommers Plaza', 'Oakland', 'CA', '94612', 1, 3, 37.8088, -122.2691, 16062, 0.9543, 16831.56, 'America/Los_Angeles']\n",
      "[1, 'Berkeley', '001-000163141', datetime.datetime(2020, 6, 4, 0, 0), 4, 'Thursday ', 'June     ', 1, 1, 'Pistachio Salmon', 3, 36, 4159, 'Cheryl', 'Broe', 'Cheryl Broe', 'Broe, Cheryl', '7 Ruskin Alley', 'El Sobrante', 'CA', '94803', 1, 7, 37.9595, -122.2837, 26165, 12.2691, 2132.6, 'America/Los_Angeles']\n",
      "[1, 'Berkeley', '001-000163141', datetime.datetime(2020, 6, 4, 0, 0), 4, 'Thursday ', 'June     ', 2, 3, 'Spinach Orzo', 1, 12, 4159, 'Cheryl', 'Broe', 'Cheryl Broe', 'Broe, Cheryl', '7 Ruskin Alley', 'El Sobrante', 'CA', '94803', 1, 7, 37.9595, -122.2837, 26165, 12.2691, 2132.6, 'America/Los_Angeles']\n"
     ]
    }
   ],
   "source": [
    "my_read_excel_work_book_sheet(\"temp_sale_report.xlsx\", \"Sales Report\", 10)"
   ]
  },
  {
   "cell_type": "code",
   "execution_count": 8,
   "id": "50e644ef",
   "metadata": {},
   "outputs": [
    {
     "name": "stdout",
     "output_type": "stream",
     "text": [
      "\n",
      "Excel Workbook: temp_sale_report.xlsx\n",
      "\n",
      "Work Sheet: Stores\n",
      "\n",
      "Number of Columns: 7\n",
      "\n",
      "Number of Rows: 6\n",
      "\n",
      "Printing the first 10 rows :\n",
      "\n",
      "['store_id', 'street', 'city', 'state', 'zip', 'latitude', 'longitude']\n",
      "[1, '3000 Telegraph Ave', 'Berkeley', 'CA', '94705', 37.8555, -122.2604]\n",
      "[2, '1001 Broadway', 'Seattle', 'WA', '98122', 47.6114, -122.3214]\n",
      "[3, '2510 McKinney Ave', 'Dallas', 'TX', '75201', 32.7958, -96.8015]\n",
      "[4, '299 SE 3rd Ave', 'Miami', 'FL', '33131', 25.772, -80.1891]\n",
      "[5, '1202 Broadway', 'Nashville', 'TN', '37203', 36.1568, -86.7881]\n"
     ]
    }
   ],
   "source": [
    "my_read_excel_work_book_sheet(\"temp_sale_report.xlsx\", \"Stores\", 10)"
   ]
  },
  {
   "cell_type": "markdown",
   "id": "b3531293",
   "metadata": {},
   "source": [
    "## You try it - read the remaining worksheets in the Excel workbook: Customers, Sales, Line Items, Products, Holidays"
   ]
  },
  {
   "cell_type": "markdown",
   "id": "90f4929d",
   "metadata": {},
   "source": [
    "# Lab: Loading Excel Workbooks and Worksheets"
   ]
  },
  {
   "cell_type": "code",
   "execution_count": 9,
   "id": "4663cd57",
   "metadata": {},
   "outputs": [],
   "source": [
    "def my_export_excel_work_book_sheet_to_csv(excel_file_name, sheet_name, csv_file_name):\n",
    "    \"open the excel file, find the sheet_name, export to csv file \"\n",
    "    \n",
    "    work_book = openpyxl.load_workbook(excel_file_name)\n",
    "    \n",
    "    work_sheet = work_book[sheet_name]\n",
    "                                       \n",
    "    print(\"\\nExcel Workbook:\", excel_file_name)\n",
    "          \n",
    "    print(\"\\nWork Sheet:\", sheet_name)\n",
    "    \n",
    "    print(\"\\nNumber of Columns:\", work_sheet.max_column)\n",
    "          \n",
    "    print(\"\\nNumber of Rows:\", work_sheet.max_row)\n",
    "    \n",
    "    work_sheet_list = []\n",
    "    \n",
    "    for i in range(1,work_sheet.max_row+1):\n",
    "        \n",
    "        row_list = []\n",
    "        \n",
    "        for j in range(1,work_sheet.max_column+1):\n",
    "            \n",
    "            row_list.append(work_sheet.cell(row = i, column = j).value)\n",
    "            \n",
    "        work_sheet_list.append(row_list)\n",
    "    \n",
    "    print(\"\\nExtracting Work Sheet\", sheet_name, \"to\", csv_file_name, \"\\n\")\n",
    "    \n",
    "    f = open(csv_file_name, \"w\")    \n",
    "    writer = csv.writer(f)\n",
    "    writer.writerows(work_sheet_list)\n",
    "    f.close()"
   ]
  },
  {
   "cell_type": "code",
   "execution_count": 10,
   "id": "6f5b1ba5",
   "metadata": {},
   "outputs": [
    {
     "name": "stdout",
     "output_type": "stream",
     "text": [
      "\n",
      "Excel Workbook: temp_sale_report.xlsx\n",
      "\n",
      "Work Sheet: Sales Report\n",
      "\n",
      "Number of Columns: 29\n",
      "\n",
      "Number of Rows: 177\n",
      "\n",
      "Extracting Work Sheet Sales Report to temp_sales_report_excel.csv \n",
      "\n"
     ]
    }
   ],
   "source": [
    "my_export_excel_work_book_sheet_to_csv(\"temp_sale_report.xlsx\", \"Sales Report\", \"temp_sales_report_excel.csv\")"
   ]
  },
  {
   "cell_type": "code",
   "execution_count": 11,
   "id": "20a804c2",
   "metadata": {},
   "outputs": [
    {
     "name": "stdout",
     "output_type": "stream",
     "text": [
      "\n",
      "Excel Workbook: temp_sale_report.xlsx\n",
      "\n",
      "Work Sheet: Stores\n",
      "\n",
      "Number of Columns: 7\n",
      "\n",
      "Number of Rows: 6\n",
      "\n",
      "Extracting Work Sheet Stores to temp_stores_excel.csv \n",
      "\n"
     ]
    }
   ],
   "source": [
    "my_export_excel_work_book_sheet_to_csv(\"temp_sale_report.xlsx\", \"Stores\", \"temp_stores_excel.csv\")"
   ]
  },
  {
   "cell_type": "markdown",
   "id": "e5b5c96d",
   "metadata": {},
   "source": [
    "## Now we have csv files, which we already know how to load into database tables"
   ]
  },
  {
   "cell_type": "code",
   "execution_count": 12,
   "id": "85073c7e",
   "metadata": {},
   "outputs": [],
   "source": [
    "def my_read_csv_file(file_name, limit):\n",
    "    \"read the csv file and print only the first limit rows\"\n",
    "    \n",
    "    csv_file = open(file_name, \"r\")\n",
    "    \n",
    "    csv_data = csv.reader(csv_file)\n",
    "    \n",
    "    i = 0\n",
    "    \n",
    "    for row in csv_data:\n",
    "        i += 1\n",
    "        if i <= limit:\n",
    "            print(row)\n",
    "            \n",
    "    print(\"\\nPrinted \", min(limit, i), \"lines of \", i, \"total lines.\")"
   ]
  },
  {
   "cell_type": "code",
   "execution_count": 13,
   "id": "83bf4685",
   "metadata": {},
   "outputs": [
    {
     "name": "stdout",
     "output_type": "stream",
     "text": [
      "['store_id', 'store', 'receipt_number', 'sale_date', 'dow', 'day_of_week', 'month', 'line_item_id', 'product_id', 'product_name', 'quantity', 'line_item_amount', 'customer_id', 'first_name', 'last_name', 'first_last_name', 'last_first_name', 'street', 'city', 'state', 'zip', 'closest_store_id', 'distance', 'latitude', 'longitude', 'population', 'area', 'density', 'time_zone']\n",
      "['1', 'Berkeley', '001-000128112', '2020-04-30 00:00:00', '4', 'Thursday ', 'April    ', '1', '1', 'Pistachio Salmon', '1', '12', '3491', 'Siouxie', \"M'Quharge\", \"Siouxie M'Quharge\", \"M'Quharge, Siouxie\", '747 Westridge Center', 'Alameda', 'CA', '94501', '1', '6', '37.7752', '-122.2748', '63843', '8.3977', '7602.4', 'America/Los_Angeles']\n",
      "['1', 'Berkeley', '001-000128112', '2020-04-30 00:00:00', '4', 'Thursday ', 'April    ', '2', '8', 'Brocolli Stir Fry', '1', '12', '3491', 'Siouxie', \"M'Quharge\", \"Siouxie M'Quharge\", \"M'Quharge, Siouxie\", '747 Westridge Center', 'Alameda', 'CA', '94501', '1', '6', '37.7752', '-122.2748', '63843', '8.3977', '7602.4', 'America/Los_Angeles']\n",
      "['1', 'Berkeley', '001-000144249', '2020-05-16 00:00:00', '6', 'Saturday ', 'May      ', '1', '1', 'Pistachio Salmon', '1', '12', '1597', 'Norry', 'Macauley', 'Norry Macauley', 'Macauley, Norry', '654 Sommers Plaza', 'Oakland', 'CA', '94612', '1', '3', '37.8088', '-122.2691', '16062', '0.9543', '16831.56', 'America/Los_Angeles']\n",
      "['1', 'Berkeley', '001-000144249', '2020-05-16 00:00:00', '6', 'Saturday ', 'May      ', '2', '2', 'Teriyaki Chicken', '1', '12', '1597', 'Norry', 'Macauley', 'Norry Macauley', 'Macauley, Norry', '654 Sommers Plaza', 'Oakland', 'CA', '94612', '1', '3', '37.8088', '-122.2691', '16062', '0.9543', '16831.56', 'America/Los_Angeles']\n",
      "['1', 'Berkeley', '001-000144249', '2020-05-16 00:00:00', '6', 'Saturday ', 'May      ', '3', '4', 'Eggplant Lasagna', '2', '24', '1597', 'Norry', 'Macauley', 'Norry Macauley', 'Macauley, Norry', '654 Sommers Plaza', 'Oakland', 'CA', '94612', '1', '3', '37.8088', '-122.2691', '16062', '0.9543', '16831.56', 'America/Los_Angeles']\n",
      "['1', 'Berkeley', '001-000144249', '2020-05-16 00:00:00', '6', 'Saturday ', 'May      ', '4', '6', 'Curry Chicken', '1', '12', '1597', 'Norry', 'Macauley', 'Norry Macauley', 'Macauley, Norry', '654 Sommers Plaza', 'Oakland', 'CA', '94612', '1', '3', '37.8088', '-122.2691', '16062', '0.9543', '16831.56', 'America/Los_Angeles']\n",
      "['1', 'Berkeley', '001-000144249', '2020-05-16 00:00:00', '6', 'Saturday ', 'May      ', '5', '8', 'Brocolli Stir Fry', '2', '24', '1597', 'Norry', 'Macauley', 'Norry Macauley', 'Macauley, Norry', '654 Sommers Plaza', 'Oakland', 'CA', '94612', '1', '3', '37.8088', '-122.2691', '16062', '0.9543', '16831.56', 'America/Los_Angeles']\n",
      "['1', 'Berkeley', '001-000163141', '2020-06-04 00:00:00', '4', 'Thursday ', 'June     ', '1', '1', 'Pistachio Salmon', '3', '36', '4159', 'Cheryl', 'Broe', 'Cheryl Broe', 'Broe, Cheryl', '7 Ruskin Alley', 'El Sobrante', 'CA', '94803', '1', '7', '37.9595', '-122.2837', '26165', '12.2691', '2132.6', 'America/Los_Angeles']\n",
      "['1', 'Berkeley', '001-000163141', '2020-06-04 00:00:00', '4', 'Thursday ', 'June     ', '2', '3', 'Spinach Orzo', '1', '12', '4159', 'Cheryl', 'Broe', 'Cheryl Broe', 'Broe, Cheryl', '7 Ruskin Alley', 'El Sobrante', 'CA', '94803', '1', '7', '37.9595', '-122.2837', '26165', '12.2691', '2132.6', 'America/Los_Angeles']\n",
      "['1', 'Berkeley', '001-000163141', '2020-06-04 00:00:00', '4', 'Thursday ', 'June     ', '3', '5', 'Chicken Salad', '1', '12', '4159', 'Cheryl', 'Broe', 'Cheryl Broe', 'Broe, Cheryl', '7 Ruskin Alley', 'El Sobrante', 'CA', '94803', '1', '7', '37.9595', '-122.2837', '26165', '12.2691', '2132.6', 'America/Los_Angeles']\n",
      "['1', 'Berkeley', '001-000163141', '2020-06-04 00:00:00', '4', 'Thursday ', 'June     ', '4', '7', 'Tilapia Piccata', '1', '12', '4159', 'Cheryl', 'Broe', 'Cheryl Broe', 'Broe, Cheryl', '7 Ruskin Alley', 'El Sobrante', 'CA', '94803', '1', '7', '37.9595', '-122.2837', '26165', '12.2691', '2132.6', 'America/Los_Angeles']\n",
      "['1', 'Berkeley', '001-000163141', '2020-06-04 00:00:00', '4', 'Thursday ', 'June     ', '5', '8', 'Brocolli Stir Fry', '2', '24', '4159', 'Cheryl', 'Broe', 'Cheryl Broe', 'Broe, Cheryl', '7 Ruskin Alley', 'El Sobrante', 'CA', '94803', '1', '7', '37.9595', '-122.2837', '26165', '12.2691', '2132.6', 'America/Los_Angeles']\n",
      "['1', 'Berkeley', '001-000169216', '2020-06-09 00:00:00', '2', 'Tuesday  ', 'June     ', '1', '1', 'Pistachio Salmon', '3', '36', '4198', 'Andreana', 'Drew', 'Andreana Drew', 'Drew, Andreana', '11039 Cordelia Alley', 'El Sobrante', 'CA', '94803', '1', '7', '37.9595', '-122.2837', '26165', '12.2691', '2132.6', 'America/Los_Angeles']\n",
      "['1', 'Berkeley', '001-000169216', '2020-06-09 00:00:00', '2', 'Tuesday  ', 'June     ', '2', '3', 'Spinach Orzo', '1', '12', '4198', 'Andreana', 'Drew', 'Andreana Drew', 'Drew, Andreana', '11039 Cordelia Alley', 'El Sobrante', 'CA', '94803', '1', '7', '37.9595', '-122.2837', '26165', '12.2691', '2132.6', 'America/Los_Angeles']\n",
      "['1', 'Berkeley', '001-000169216', '2020-06-09 00:00:00', '2', 'Tuesday  ', 'June     ', '3', '4', 'Eggplant Lasagna', '4', '48', '4198', 'Andreana', 'Drew', 'Andreana Drew', 'Drew, Andreana', '11039 Cordelia Alley', 'El Sobrante', 'CA', '94803', '1', '7', '37.9595', '-122.2837', '26165', '12.2691', '2132.6', 'America/Los_Angeles']\n",
      "['1', 'Berkeley', '001-000169216', '2020-06-09 00:00:00', '2', 'Tuesday  ', 'June     ', '4', '5', 'Chicken Salad', '1', '12', '4198', 'Andreana', 'Drew', 'Andreana Drew', 'Drew, Andreana', '11039 Cordelia Alley', 'El Sobrante', 'CA', '94803', '1', '7', '37.9595', '-122.2837', '26165', '12.2691', '2132.6', 'America/Los_Angeles']\n",
      "['1', 'Berkeley', '001-000169216', '2020-06-09 00:00:00', '2', 'Tuesday  ', 'June     ', '5', '6', 'Curry Chicken', '2', '24', '4198', 'Andreana', 'Drew', 'Andreana Drew', 'Drew, Andreana', '11039 Cordelia Alley', 'El Sobrante', 'CA', '94803', '1', '7', '37.9595', '-122.2837', '26165', '12.2691', '2132.6', 'America/Los_Angeles']\n",
      "['1', 'Berkeley', '001-000169216', '2020-06-09 00:00:00', '2', 'Tuesday  ', 'June     ', '6', '8', 'Brocolli Stir Fry', '1', '12', '4198', 'Andreana', 'Drew', 'Andreana Drew', 'Drew, Andreana', '11039 Cordelia Alley', 'El Sobrante', 'CA', '94803', '1', '7', '37.9595', '-122.2837', '26165', '12.2691', '2132.6', 'America/Los_Angeles']\n",
      "['1', 'Berkeley', '001-000179181', '2020-06-18 00:00:00', '4', 'Thursday ', 'June     ', '1', '2', 'Teriyaki Chicken', '1', '12', '5394', 'Katharina', 'Bavester', 'Katharina Bavester', 'Bavester, Katharina', '522 Cordelia Lane', 'San Francisco', 'CA', '94102', '1', '10', '37.7797', '-122.4192', '31067', '0.6665', '46609.19', 'America/Los_Angeles']\n",
      "['1', 'Berkeley', '001-000179181', '2020-06-18 00:00:00', '4', 'Thursday ', 'June     ', '2', '3', 'Spinach Orzo', '1', '12', '5394', 'Katharina', 'Bavester', 'Katharina Bavester', 'Bavester, Katharina', '522 Cordelia Lane', 'San Francisco', 'CA', '94102', '1', '10', '37.7797', '-122.4192', '31067', '0.6665', '46609.19', 'America/Los_Angeles']\n",
      "['1', 'Berkeley', '001-000179181', '2020-06-18 00:00:00', '4', 'Thursday ', 'June     ', '3', '4', 'Eggplant Lasagna', '1', '12', '5394', 'Katharina', 'Bavester', 'Katharina Bavester', 'Bavester, Katharina', '522 Cordelia Lane', 'San Francisco', 'CA', '94102', '1', '10', '37.7797', '-122.4192', '31067', '0.6665', '46609.19', 'America/Los_Angeles']\n",
      "['1', 'Berkeley', '001-000179181', '2020-06-18 00:00:00', '4', 'Thursday ', 'June     ', '4', '6', 'Curry Chicken', '1', '12', '5394', 'Katharina', 'Bavester', 'Katharina Bavester', 'Bavester, Katharina', '522 Cordelia Lane', 'San Francisco', 'CA', '94102', '1', '10', '37.7797', '-122.4192', '31067', '0.6665', '46609.19', 'America/Los_Angeles']\n",
      "['1', 'Berkeley', '001-000181897', '2020-06-20 00:00:00', '6', 'Saturday ', 'June     ', '1', '1', 'Pistachio Salmon', '1', '12', '1958', 'Theresina', 'Penswick', 'Theresina Penswick', 'Penswick, Theresina', '5975 Twin Pines Hill', 'Berkeley', 'CA', '94707', '1', '3', '37.8983', '-122.2792', '11916', '1.7251', '6907.5', 'America/Los_Angeles']\n",
      "['1', 'Berkeley', '001-000181897', '2020-06-20 00:00:00', '6', 'Saturday ', 'June     ', '2', '6', 'Curry Chicken', '1', '12', '1958', 'Theresina', 'Penswick', 'Theresina Penswick', 'Penswick, Theresina', '5975 Twin Pines Hill', 'Berkeley', 'CA', '94707', '1', '3', '37.8983', '-122.2792', '11916', '1.7251', '6907.5', 'America/Los_Angeles']\n",
      "\n",
      "Printed  25 lines of  177 total lines.\n"
     ]
    }
   ],
   "source": [
    "my_read_csv_file(\"temp_sales_report_excel.csv\", 25)"
   ]
  },
  {
   "cell_type": "code",
   "execution_count": 14,
   "id": "71021e2a",
   "metadata": {},
   "outputs": [
    {
     "name": "stdout",
     "output_type": "stream",
     "text": [
      "['store_id', 'street', 'city', 'state', 'zip', 'latitude', 'longitude']\n",
      "['1', '3000 Telegraph Ave', 'Berkeley', 'CA', '94705', '37.8555', '-122.2604']\n",
      "['2', '1001 Broadway', 'Seattle', 'WA', '98122', '47.6114', '-122.3214']\n",
      "['3', '2510 McKinney Ave', 'Dallas', 'TX', '75201', '32.7958', '-96.8015']\n",
      "['4', '299 SE 3rd Ave', 'Miami', 'FL', '33131', '25.772', '-80.1891']\n",
      "['5', '1202 Broadway', 'Nashville', 'TN', '37203', '36.1568', '-86.7881']\n",
      "\n",
      "Printed  6 lines of  6 total lines.\n"
     ]
    }
   ],
   "source": [
    "my_read_csv_file(\"temp_stores_excel.csv\", 25)"
   ]
  },
  {
   "cell_type": "markdown",
   "id": "8ffb19f8",
   "metadata": {},
   "source": [
    "## You try it - extract the remaining worksheets in the workbook into csv files; verify the csv files by reading them:\n",
    "\n",
    "* Customers to temp_customers_excel.csv\n",
    "* Sales to temp_sales_excel.csv\n",
    "* Line Items to temp_line_items.csv\n",
    "* Products to temp_products_excel.csv\n",
    "* Holidays to temp_holidays_excel.csv"
   ]
  },
  {
   "cell_type": "markdown",
   "id": "d001f891",
   "metadata": {},
   "source": [
    "# Lab: Extacting Excel Workbooks and Worksheets"
   ]
  },
  {
   "cell_type": "code",
   "execution_count": 15,
   "id": "b7d495df",
   "metadata": {},
   "outputs": [],
   "source": [
    "def my_create_excel_sheet_from_query(work_sheet, query):\n",
    "    \"given a work sheet name and query, execute the query and put the results into the sheet\"\n",
    "    \n",
    "    connection.rollback()\n",
    "    \n",
    "    cursor.execute(query)\n",
    "\n",
    "    connection.rollback()\n",
    "    \n",
    "    column_list = [d[0] for d in cursor.description]\n",
    "    \n",
    "    row_number = 1\n",
    "    column_number = 1\n",
    "    \n",
    "    for column_name in column_list:\n",
    "        \n",
    "        work_sheet.cell(row = row_number, column = column_number, value=column_name)\n",
    "        \n",
    "        openpyxl.worksheet.dimensions.ColumnDimension(work_sheet, index=chr(ord('A')+row_number-1), bestFit=True)\n",
    "        \n",
    "        column_number += 1\n",
    "    \n",
    "    rows = cursor.fetchall()\n",
    "    \n",
    "    row_number = 2\n",
    "    \n",
    "    for row in rows:\n",
    "        \n",
    "        for column_number in range(1, len(column_list)+1):\n",
    "        \n",
    "            work_sheet.cell(row = row_number, column = column_number, value=row[column_number-1])\n",
    "        \n",
    "        \n",
    "        row_number += 1\n"
   ]
  },
  {
   "cell_type": "code",
   "execution_count": 16,
   "id": "9076e5e4",
   "metadata": {},
   "outputs": [],
   "source": [
    "work_book = openpyxl.Workbook()\n"
   ]
  },
  {
   "cell_type": "code",
   "execution_count": 17,
   "id": "7891df3e",
   "metadata": {},
   "outputs": [],
   "source": [
    "work_sheet = work_book.active\n",
    "work_sheet.title = \"Sales Report\"\n",
    "\n",
    "query = \"\"\"\n",
    "\n",
    "select s.store_id,\n",
    "       s.city as store,\n",
    "       (lpad(sa.store_id::text, 3, '0') || '-' || lpad(sa.sale_id::text, 9, '0')) as receipt_number,\n",
    "       sa.sale_date,\n",
    "       extract(dow from sa.sale_date) as dow,\n",
    "       to_char(sa.sale_date, 'Day') as day_of_week,\n",
    "       to_char(sa.sale_date, 'Month') as month,\n",
    "       l.line_item_id,\n",
    "       l.product_id,\n",
    "       p.description as product_name,\n",
    "       l.quantity,\n",
    "       l.quantity * 12 as line_item_amount,\n",
    "       cu.customer_id,\n",
    "       cu.first_name,\n",
    "       cu.last_name,\n",
    "       (cu.first_name || ' ' || cu.last_name) as first_last_name,\n",
    "       (cu.last_name || ', ' || cu.first_name) as last_first_name,\n",
    "       cu.street,\n",
    "       cu.city,\n",
    "       cu.state,\n",
    "       cu.zip,\n",
    "       cu.closest_store_id,\n",
    "       cu.distance,\n",
    "       z.latitude,\n",
    "       z.longitude,\n",
    "       z.population,\n",
    "       z.area,\n",
    "       z.density,\n",
    "       z.time_zone\n",
    "from temp_stores as s\n",
    "     join temp_sales as sa\n",
    "         on s.store_id = sa.store_id \n",
    "     join temp_customers as cu\n",
    "         on sa.customer_id = cu.customer_id\n",
    "     join temp_line_items l\n",
    "         on sa.store_id = l.store_id and sa.sale_id = l.sale_id\n",
    "     join temp_products p\n",
    "         on l.product_id = p.product_id\n",
    "     join zip_codes z\n",
    "         on cu.zip = z.zip\n",
    "order by s.store_id, sa.sale_id, l.line_item_id\n",
    "\n",
    "\n",
    "\"\"\"\n",
    "\n",
    "my_create_excel_sheet_from_query(work_sheet, query)\n",
    "\n"
   ]
  },
  {
   "cell_type": "code",
   "execution_count": 18,
   "id": "8e5f1fca",
   "metadata": {},
   "outputs": [],
   "source": [
    "work_sheet = work_book.create_sheet(\"Stores\")\n",
    "\n",
    "query = \"\"\"\n",
    "\n",
    "select *\n",
    "from temp_stores\n",
    "order by store_id\n",
    "\n",
    "\n",
    "\"\"\"\n",
    "\n",
    "my_create_excel_sheet_from_query(work_sheet, query)\n"
   ]
  },
  {
   "cell_type": "code",
   "execution_count": 19,
   "id": "e9f8d397",
   "metadata": {},
   "outputs": [],
   "source": [
    "work_book.save(\"temp_sale_report_2.xlsx\")"
   ]
  },
  {
   "cell_type": "code",
   "execution_count": 20,
   "id": "deba9b4b",
   "metadata": {},
   "outputs": [
    {
     "name": "stdout",
     "output_type": "stream",
     "text": [
      "\n",
      "Excel Workbook temp_sale_report_2.xlsx list of work sheets:\n",
      "\n",
      "Sales Report\n",
      "Stores\n"
     ]
    }
   ],
   "source": [
    "my_read_excel_work_book_list_sheets(\"temp_sale_report_2.xlsx\")"
   ]
  },
  {
   "cell_type": "code",
   "execution_count": 21,
   "id": "e0d04ff0",
   "metadata": {},
   "outputs": [
    {
     "name": "stdout",
     "output_type": "stream",
     "text": [
      "\n",
      "Excel Workbook: temp_sale_report_2.xlsx\n",
      "\n",
      "Work Sheet: Sales Report\n",
      "\n",
      "Number of Columns: 29\n",
      "\n",
      "Number of Rows: 177\n",
      "\n",
      "Printing the first 10 rows :\n",
      "\n",
      "['store_id', 'store', 'receipt_number', 'sale_date', 'dow', 'day_of_week', 'month', 'line_item_id', 'product_id', 'product_name', 'quantity', 'line_item_amount', 'customer_id', 'first_name', 'last_name', 'first_last_name', 'last_first_name', 'street', 'city', 'state', 'zip', 'closest_store_id', 'distance', 'latitude', 'longitude', 'population', 'area', 'density', 'time_zone']\n",
      "[1, 'Berkeley', '001-000128112', datetime.datetime(2020, 4, 30, 0, 0), 4, 'Thursday ', 'April    ', 1, 1, 'Pistachio Salmon', 1, 12, 3491, 'Siouxie', \"M'Quharge\", \"Siouxie M'Quharge\", \"M'Quharge, Siouxie\", '747 Westridge Center', 'Alameda', 'CA', '94501', 1, 6, 37.7752, -122.2748, 63843, 8.3977, 7602.4, 'America/Los_Angeles']\n",
      "[1, 'Berkeley', '001-000128112', datetime.datetime(2020, 4, 30, 0, 0), 4, 'Thursday ', 'April    ', 2, 8, 'Brocolli Stir Fry', 1, 12, 3491, 'Siouxie', \"M'Quharge\", \"Siouxie M'Quharge\", \"M'Quharge, Siouxie\", '747 Westridge Center', 'Alameda', 'CA', '94501', 1, 6, 37.7752, -122.2748, 63843, 8.3977, 7602.4, 'America/Los_Angeles']\n",
      "[1, 'Berkeley', '001-000144249', datetime.datetime(2020, 5, 16, 0, 0), 6, 'Saturday ', 'May      ', 1, 1, 'Pistachio Salmon', 1, 12, 1597, 'Norry', 'Macauley', 'Norry Macauley', 'Macauley, Norry', '654 Sommers Plaza', 'Oakland', 'CA', '94612', 1, 3, 37.8088, -122.2691, 16062, 0.9543, 16831.56, 'America/Los_Angeles']\n",
      "[1, 'Berkeley', '001-000144249', datetime.datetime(2020, 5, 16, 0, 0), 6, 'Saturday ', 'May      ', 2, 2, 'Teriyaki Chicken', 1, 12, 1597, 'Norry', 'Macauley', 'Norry Macauley', 'Macauley, Norry', '654 Sommers Plaza', 'Oakland', 'CA', '94612', 1, 3, 37.8088, -122.2691, 16062, 0.9543, 16831.56, 'America/Los_Angeles']\n",
      "[1, 'Berkeley', '001-000144249', datetime.datetime(2020, 5, 16, 0, 0), 6, 'Saturday ', 'May      ', 3, 4, 'Eggplant Lasagna', 2, 24, 1597, 'Norry', 'Macauley', 'Norry Macauley', 'Macauley, Norry', '654 Sommers Plaza', 'Oakland', 'CA', '94612', 1, 3, 37.8088, -122.2691, 16062, 0.9543, 16831.56, 'America/Los_Angeles']\n",
      "[1, 'Berkeley', '001-000144249', datetime.datetime(2020, 5, 16, 0, 0), 6, 'Saturday ', 'May      ', 4, 6, 'Curry Chicken', 1, 12, 1597, 'Norry', 'Macauley', 'Norry Macauley', 'Macauley, Norry', '654 Sommers Plaza', 'Oakland', 'CA', '94612', 1, 3, 37.8088, -122.2691, 16062, 0.9543, 16831.56, 'America/Los_Angeles']\n",
      "[1, 'Berkeley', '001-000144249', datetime.datetime(2020, 5, 16, 0, 0), 6, 'Saturday ', 'May      ', 5, 8, 'Brocolli Stir Fry', 2, 24, 1597, 'Norry', 'Macauley', 'Norry Macauley', 'Macauley, Norry', '654 Sommers Plaza', 'Oakland', 'CA', '94612', 1, 3, 37.8088, -122.2691, 16062, 0.9543, 16831.56, 'America/Los_Angeles']\n",
      "[1, 'Berkeley', '001-000163141', datetime.datetime(2020, 6, 4, 0, 0), 4, 'Thursday ', 'June     ', 1, 1, 'Pistachio Salmon', 3, 36, 4159, 'Cheryl', 'Broe', 'Cheryl Broe', 'Broe, Cheryl', '7 Ruskin Alley', 'El Sobrante', 'CA', '94803', 1, 7, 37.9595, -122.2837, 26165, 12.2691, 2132.6, 'America/Los_Angeles']\n",
      "[1, 'Berkeley', '001-000163141', datetime.datetime(2020, 6, 4, 0, 0), 4, 'Thursday ', 'June     ', 2, 3, 'Spinach Orzo', 1, 12, 4159, 'Cheryl', 'Broe', 'Cheryl Broe', 'Broe, Cheryl', '7 Ruskin Alley', 'El Sobrante', 'CA', '94803', 1, 7, 37.9595, -122.2837, 26165, 12.2691, 2132.6, 'America/Los_Angeles']\n"
     ]
    }
   ],
   "source": [
    "my_read_excel_work_book_sheet(\"temp_sale_report_2.xlsx\", \"Sales Report\", 10)"
   ]
  },
  {
   "cell_type": "code",
   "execution_count": 22,
   "id": "2305dff1",
   "metadata": {},
   "outputs": [
    {
     "name": "stdout",
     "output_type": "stream",
     "text": [
      "\n",
      "Excel Workbook: temp_sale_report_2.xlsx\n",
      "\n",
      "Work Sheet: Stores\n",
      "\n",
      "Number of Columns: 7\n",
      "\n",
      "Number of Rows: 6\n",
      "\n",
      "Printing the first 10 rows :\n",
      "\n",
      "['store_id', 'street', 'city', 'state', 'zip', 'latitude', 'longitude']\n",
      "[1, '3000 Telegraph Ave', 'Berkeley', 'CA', '94705', 37.8555, -122.2604]\n",
      "[2, '1001 Broadway', 'Seattle', 'WA', '98122', 47.6114, -122.3214]\n",
      "[3, '2510 McKinney Ave', 'Dallas', 'TX', '75201', 32.7958, -96.8015]\n",
      "[4, '299 SE 3rd Ave', 'Miami', 'FL', '33131', 25.772, -80.1891]\n",
      "[5, '1202 Broadway', 'Nashville', 'TN', '37203', 36.1568, -86.7881]\n"
     ]
    }
   ],
   "source": [
    "my_read_excel_work_book_sheet(\"temp_sale_report_2.xlsx\", \"Stores\", 10)"
   ]
  },
  {
   "cell_type": "markdown",
   "id": "e25670e0",
   "metadata": {},
   "source": [
    "## You try it -  add code cells to the above code to add worksheets for Customers, Sales, Line Items, Products, and Holidays; verify by reading the sheets"
   ]
  },
  {
   "cell_type": "code",
   "execution_count": null,
   "id": "4f332cda",
   "metadata": {},
   "outputs": [],
   "source": []
  }
 ],
 "metadata": {
  "kernelspec": {
   "display_name": "Python 3",
   "language": "python",
   "name": "python3"
  },
  "language_info": {
   "codemirror_mode": {
    "name": "ipython",
    "version": 3
   },
   "file_extension": ".py",
   "mimetype": "text/x-python",
   "name": "python",
   "nbconvert_exporter": "python",
   "pygments_lexer": "ipython3",
   "version": "3.8.8"
  }
 },
 "nbformat": 4,
 "nbformat_minor": 5
}
