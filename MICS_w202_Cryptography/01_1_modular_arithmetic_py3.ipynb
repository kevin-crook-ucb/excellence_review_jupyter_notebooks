{
 "cells": [
  {
   "cell_type": "markdown",
   "metadata": {
    "collapsed": true
   },
   "source": [
    "### UC Berkeley, MICS, W202 Cryptography\n",
    "### Week 01 Breakout 1\n",
    "### Modular Arithmetic\n",
    "\n"
   ]
  },
  {
   "cell_type": "markdown",
   "metadata": {
    "collapsed": false
   },
   "source": [
    "Modular Arithmetic is based on integer division, with (div n) yielding the integer dividend, and (mod n) yielding the remainder.\n",
    "\n",
    "In formal mathematics and in cryptography, we call remainders as \"residues\"\n",
    "\n",
    "Residue will always be a positive integer in the range [0, (n-1)], inclusive.\n",
    "\n",
    "Residues are periodic rotating through the range.\n",
    "\n",
    "Execute and discuss the following code cells."
   ]
  },
  {
   "cell_type": "code",
   "execution_count": 1,
   "metadata": {
    "collapsed": false
   },
   "outputs": [
   ],
   "source": [
    "from sage.all import *"
   ]
  },
  {
   "cell_type": "code",
   "execution_count": 2,
   "metadata": {
    "collapsed": false
   },
   "outputs": [
   ],
   "source": [
    "def my_list_divs_mods(start, end, n):\n",
    "    \"spin through integers from start to end, inclusive, and perform a (div n), (mod n)\"\n",
    "    \n",
    "    for i in range(start, end+1):\n",
    "        print (str(i) + \" (div \" + str(n) + \") = \", i // n, \"\\t\\t\" + str(i) + \" (mod \" + str(n) + \") = \", i % n, \"\\n\")"
   ]
  },
  {
   "cell_type": "code",
   "execution_count": 3,
   "metadata": {
    "collapsed": false
   },
   "outputs": [
    {
     "name": "stdout",
     "output_type": "stream",
     "text": [
      "-10 (div 3) =  -4 \t\t-10 (mod 3) =  2 \n",
      "\n",
      "-9 (div 3) =  -3 \t\t-9 (mod 3) =  0 \n",
      "\n",
      "-8 (div 3) =  -3 \t\t-8 (mod 3) =  1 \n",
      "\n",
      "-7 (div 3) =  -3 \t\t-7 (mod 3) =  2 \n",
      "\n",
      "-6 (div 3) =  -2 \t\t-6 (mod 3) =  0 \n",
      "\n",
      "-5 (div 3) =  -2 \t\t-5 (mod 3) =  1 \n",
      "\n",
      "-4 (div 3) =  -2 \t\t-4 (mod 3) =  2 \n",
      "\n",
      "-3 (div 3) =  -1 \t\t-3 (mod 3) =  0 \n",
      "\n",
      "-2 (div 3) =  -1 \t\t-2 (mod 3) =  1 \n",
      "\n",
      "-1 (div 3) =  -1 \t\t-1 (mod 3) =  2 \n",
      "\n",
      "0 (div 3) =  0 \t\t0 (mod 3) =  0 \n",
      "\n",
      "1 (div 3) =  0 \t\t1 (mod 3) =  1 \n",
      "\n",
      "2 (div 3) =  0 \t\t2 (mod 3) =  2 \n",
      "\n",
      "3 (div 3) =  1 \t\t3 (mod 3) =  0 \n",
      "\n",
      "4 (div 3) =  1 \t\t4 (mod 3) =  1 \n",
      "\n",
      "5 (div 3) =  1 \t\t5 (mod 3) =  2 \n",
      "\n",
      "6 (div 3) =  2 \t\t6 (mod 3) =  0 \n",
      "\n",
      "7 (div 3) =  2 \t\t7 (mod 3) =  1 \n",
      "\n",
      "8 (div 3) =  2 \t\t8 (mod 3) =  2 \n",
      "\n",
      "9 (div 3) =  3 \t\t9 (mod 3) =  0 \n",
      "\n",
      "10 (div 3) =  3 \t\t10 (mod 3) =  1 \n",
      "\n"
     ]
    }
   ],
   "source": [
    "my_list_divs_mods(-10, 10, 3)"
   ]
  },
  {
   "cell_type": "code",
   "execution_count": 4,
   "metadata": {
    "collapsed": false
   },
   "outputs": [
    {
     "name": "stdout",
     "output_type": "stream",
     "text": [
      "-10 (div 5) =  -2 \t\t-10 (mod 5) =  0 \n",
      "\n",
      "-9 (div 5) =  -2 \t\t-9 (mod 5) =  1 \n",
      "\n",
      "-8 (div 5) =  -2 \t\t-8 (mod 5) =  2 \n",
      "\n",
      "-7 (div 5) =  -2 \t\t-7 (mod 5) =  3 \n",
      "\n",
      "-6 (div 5) =  -2 \t\t-6 (mod 5) =  4 \n",
      "\n",
      "-5 (div 5) =  -1 \t\t-5 (mod 5) =  0 \n",
      "\n",
      "-4 (div 5) =  -1 \t\t-4 (mod 5) =  1 \n",
      "\n",
      "-3 (div 5) =  -1 \t\t-3 (mod 5) =  2 \n",
      "\n",
      "-2 (div 5) =  -1 \t\t-2 (mod 5) =  3 \n",
      "\n",
      "-1 (div 5) =  -1 \t\t-1 (mod 5) =  4 \n",
      "\n",
      "0 (div 5) =  0 \t\t0 (mod 5) =  0 \n",
      "\n",
      "1 (div 5) =  0 \t\t1 (mod 5) =  1 \n",
      "\n",
      "2 (div 5) =  0 \t\t2 (mod 5) =  2 \n",
      "\n",
      "3 (div 5) =  0 \t\t3 (mod 5) =  3 \n",
      "\n",
      "4 (div 5) =  0 \t\t4 (mod 5) =  4 \n",
      "\n",
      "5 (div 5) =  1 \t\t5 (mod 5) =  0 \n",
      "\n",
      "6 (div 5) =  1 \t\t6 (mod 5) =  1 \n",
      "\n",
      "7 (div 5) =  1 \t\t7 (mod 5) =  2 \n",
      "\n",
      "8 (div 5) =  1 \t\t8 (mod 5) =  3 \n",
      "\n",
      "9 (div 5) =  1 \t\t9 (mod 5) =  4 \n",
      "\n",
      "10 (div 5) =  2 \t\t10 (mod 5) =  0 \n",
      "\n"
     ]
    }
   ],
   "source": [
    "my_list_divs_mods(-10, 10, 5)"
   ]
  },
  {
   "cell_type": "code",
   "execution_count": 5,
   "metadata": {
    "collapsed": false
   },
   "outputs": [
    {
     "name": "stdout",
     "output_type": "stream",
     "text": [
      "-10 (div 7) =  -2 \t\t-10 (mod 7) =  4 \n",
      "\n",
      "-9 (div 7) =  -2 \t\t-9 (mod 7) =  5 \n",
      "\n",
      "-8 (div 7) =  -2 \t\t-8 (mod 7) =  6 \n",
      "\n",
      "-7 (div 7) =  -1 \t\t-7 (mod 7) =  0 \n",
      "\n",
      "-6 (div 7) =  -1 \t\t-6 (mod 7) =  1 \n",
      "\n",
      "-5 (div 7) =  -1 \t\t-5 (mod 7) =  2 \n",
      "\n",
      "-4 (div 7) =  -1 \t\t-4 (mod 7) =  3 \n",
      "\n",
      "-3 (div 7) =  -1 \t\t-3 (mod 7) =  4 \n",
      "\n",
      "-2 (div 7) =  -1 \t\t-2 (mod 7) =  5 \n",
      "\n",
      "-1 (div 7) =  -1 \t\t-1 (mod 7) =  6 \n",
      "\n",
      "0 (div 7) =  0 \t\t0 (mod 7) =  0 \n",
      "\n",
      "1 (div 7) =  0 \t\t1 (mod 7) =  1 \n",
      "\n",
      "2 (div 7) =  0 \t\t2 (mod 7) =  2 \n",
      "\n",
      "3 (div 7) =  0 \t\t3 (mod 7) =  3 \n",
      "\n",
      "4 (div 7) =  0 \t\t4 (mod 7) =  4 \n",
      "\n",
      "5 (div 7) =  0 \t\t5 (mod 7) =  5 \n",
      "\n",
      "6 (div 7) =  0 \t\t6 (mod 7) =  6 \n",
      "\n",
      "7 (div 7) =  1 \t\t7 (mod 7) =  0 \n",
      "\n",
      "8 (div 7) =  1 \t\t8 (mod 7) =  1 \n",
      "\n",
      "9 (div 7) =  1 \t\t9 (mod 7) =  2 \n",
      "\n",
      "10 (div 7) =  1 \t\t10 (mod 7) =  3 \n",
      "\n"
     ]
    }
   ],
   "source": [
    "my_list_divs_mods(-10, 10, 7)"
   ]
  },
  {
   "cell_type": "markdown",
   "metadata": {
    "collapsed": false
   },
   "source": [
    "### kn (mod n) = 0\n",
    "\n",
    "We will make good use of this in our proofs. If we are working in modulo n, and we can prove a term is equal to kn, we can eliminate that term as a zero.\n",
    "\n",
    "Execute and discuss the following code cells"
   ]
  },
  {
   "cell_type": "code",
   "execution_count": 6,
   "metadata": {
    "collapsed": false
   },
   "outputs": [
   ],
   "source": [
    "def my_list_kn_mods(start, end, n):\n",
    "    \"spin through integers from start to end, inclusive, and perform a kn (mod n)\"\n",
    "    \n",
    "    for i in range(start, end+1):\n",
    "        print (str(i) + \"*\" + str(n) + \" (mod \" + str(n) + \") = \", (i * n) % n, \"\\n\")"
   ]
  },
  {
   "cell_type": "code",
   "execution_count": 7,
   "metadata": {
    "collapsed": false
   },
   "outputs": [
    {
     "name": "stdout",
     "output_type": "stream",
     "text": [
      "-10*3 (mod 3) =  0 \n",
      "\n",
      "-9*3 (mod 3) =  0 \n",
      "\n",
      "-8*3 (mod 3) =  0 \n",
      "\n",
      "-7*3 (mod 3) =  0 \n",
      "\n",
      "-6*3 (mod 3) =  0 \n",
      "\n",
      "-5*3 (mod 3) =  0 \n",
      "\n",
      "-4*3 (mod 3) =  0 \n",
      "\n",
      "-3*3 (mod 3) =  0 \n",
      "\n",
      "-2*3 (mod 3) =  0 \n",
      "\n",
      "-1*3 (mod 3) =  0 \n",
      "\n",
      "0*3 (mod 3) =  0 \n",
      "\n",
      "1*3 (mod 3) =  0 \n",
      "\n",
      "2*3 (mod 3) =  0 \n",
      "\n",
      "3*3 (mod 3) =  0 \n",
      "\n",
      "4*3 (mod 3) =  0 \n",
      "\n",
      "5*3 (mod 3) =  0 \n",
      "\n",
      "6*3 (mod 3) =  0 \n",
      "\n",
      "7*3 (mod 3) =  0 \n",
      "\n",
      "8*3 (mod 3) =  0 \n",
      "\n",
      "9*3 (mod 3) =  0 \n",
      "\n",
      "10*3 (mod 3) =  0 \n",
      "\n"
     ]
    }
   ],
   "source": [
    "my_list_kn_mods(-10, 10, 3)"
   ]
  },
  {
   "cell_type": "code",
   "execution_count": 8,
   "metadata": {
    "collapsed": false
   },
   "outputs": [
    {
     "name": "stdout",
     "output_type": "stream",
     "text": [
      "-10*5 (mod 5) =  0 \n",
      "\n",
      "-9*5 (mod 5) =  0 \n",
      "\n",
      "-8*5 (mod 5) =  0 \n",
      "\n",
      "-7*5 (mod 5) =  0 \n",
      "\n",
      "-6*5 (mod 5) =  0 \n",
      "\n",
      "-5*5 (mod 5) =  0 \n",
      "\n",
      "-4*5 (mod 5) =  0 \n",
      "\n",
      "-3*5 (mod 5) =  0 \n",
      "\n",
      "-2*5 (mod 5) =  0 \n",
      "\n",
      "-1*5 (mod 5) =  0 \n",
      "\n",
      "0*5 (mod 5) =  0 \n",
      "\n",
      "1*5 (mod 5) =  0 \n",
      "\n",
      "2*5 (mod 5) =  0 \n",
      "\n",
      "3*5 (mod 5) =  0 \n",
      "\n",
      "4*5 (mod 5) =  0 \n",
      "\n",
      "5*5 (mod 5) =  0 \n",
      "\n",
      "6*5 (mod 5) =  0 \n",
      "\n",
      "7*5 (mod 5) =  0 \n",
      "\n",
      "8*5 (mod 5) =  0 \n",
      "\n",
      "9*5 (mod 5) =  0 \n",
      "\n",
      "10*5 (mod 5) =  0 \n",
      "\n"
     ]
    }
   ],
   "source": [
    "my_list_kn_mods(-10, 10, 5)"
   ]
  },
  {
   "cell_type": "code",
   "execution_count": 9,
   "metadata": {
    "collapsed": false
   },
   "outputs": [
    {
     "name": "stdout",
     "output_type": "stream",
     "text": [
      "-10*7 (mod 7) =  0 \n",
      "\n",
      "-9*7 (mod 7) =  0 \n",
      "\n",
      "-8*7 (mod 7) =  0 \n",
      "\n",
      "-7*7 (mod 7) =  0 \n",
      "\n",
      "-6*7 (mod 7) =  0 \n",
      "\n",
      "-5*7 (mod 7) =  0 \n",
      "\n",
      "-4*7 (mod 7) =  0 \n",
      "\n",
      "-3*7 (mod 7) =  0 \n",
      "\n",
      "-2*7 (mod 7) =  0 \n",
      "\n",
      "-1*7 (mod 7) =  0 \n",
      "\n",
      "0*7 (mod 7) =  0 \n",
      "\n",
      "1*7 (mod 7) =  0 \n",
      "\n",
      "2*7 (mod 7) =  0 \n",
      "\n",
      "3*7 (mod 7) =  0 \n",
      "\n",
      "4*7 (mod 7) =  0 \n",
      "\n",
      "5*7 (mod 7) =  0 \n",
      "\n",
      "6*7 (mod 7) =  0 \n",
      "\n",
      "7*7 (mod 7) =  0 \n",
      "\n",
      "8*7 (mod 7) =  0 \n",
      "\n",
      "9*7 (mod 7) =  0 \n",
      "\n",
      "10*7 (mod 7) =  0 \n",
      "\n"
     ]
    }
   ],
   "source": [
    "my_list_kn_mods(-10, 10, 7)"
   ]
  },
  {
   "cell_type": "markdown",
   "metadata": {
    "collapsed": false
   },
   "source": [
    "### if b < n then kn + b (mod n) = b \n",
    "\n",
    "We will make good use of the in our proofs.  If we are working in modulo n, and we can prove a term is equal to kn + b, we know b will be the residue.\n",
    "\n",
    "Execute and discuss the following code cells."
   ]
  },
  {
   "cell_type": "code",
   "execution_count": 10,
   "metadata": {
    "collapsed": false
   },
   "outputs": [
   ],
   "source": [
    "def my_list_kn_plus_b_mods(start, end, n, b):\n",
    "    \"spin through integers from start to end, inclusive, and perform a kn + b (mod n)\"\n",
    "    \n",
    "    if b >= n:\n",
    "        print (\"b >= n will exit\")\n",
    "        return\n",
    "    \n",
    "    for i in range(start, end+1):\n",
    "        print (str(i) + \"*\" + str(n) + \" + \" + str(b) + \" (mod \" + str(n) + \") = \", ((i * n) + b) % n, \"\\n\")"
   ]
  },
  {
   "cell_type": "code",
   "execution_count": 11,
   "metadata": {
    "collapsed": false
   },
   "outputs": [
    {
     "name": "stdout",
     "output_type": "stream",
     "text": [
      "b >= n will exit\n"
     ]
    }
   ],
   "source": [
    "my_list_kn_plus_b_mods(-10, 10, 3, 3)"
   ]
  },
  {
   "cell_type": "code",
   "execution_count": 12,
   "metadata": {
    "collapsed": false
   },
   "outputs": [
    {
     "name": "stdout",
     "output_type": "stream",
     "text": [
      "-10*3 + 1 (mod 3) =  1 \n",
      "\n",
      "-9*3 + 1 (mod 3) =  1 \n",
      "\n",
      "-8*3 + 1 (mod 3) =  1 \n",
      "\n",
      "-7*3 + 1 (mod 3) =  1 \n",
      "\n",
      "-6*3 + 1 (mod 3) =  1 \n",
      "\n",
      "-5*3 + 1 (mod 3) =  1 \n",
      "\n",
      "-4*3 + 1 (mod 3) =  1 \n",
      "\n",
      "-3*3 + 1 (mod 3) =  1 \n",
      "\n",
      "-2*3 + 1 (mod 3) =  1 \n",
      "\n",
      "-1*3 + 1 (mod 3) =  1 \n",
      "\n",
      "0*3 + 1 (mod 3) =  1 \n",
      "\n",
      "1*3 + 1 (mod 3) =  1 \n",
      "\n",
      "2*3 + 1 (mod 3) =  1 \n",
      "\n",
      "3*3 + 1 (mod 3) =  1 \n",
      "\n",
      "4*3 + 1 (mod 3) =  1 \n",
      "\n",
      "5*3 + 1 (mod 3) =  1 \n",
      "\n",
      "6*3 + 1 (mod 3) =  1 \n",
      "\n",
      "7*3 + 1 (mod 3) =  1 \n",
      "\n",
      "8*3 + 1 (mod 3) =  1 \n",
      "\n",
      "9*3 + 1 (mod 3) =  1 \n",
      "\n",
      "10*3 + 1 (mod 3) =  1 \n",
      "\n"
     ]
    }
   ],
   "source": [
    "my_list_kn_plus_b_mods(-10, 10, 3, 1)"
   ]
  },
  {
   "cell_type": "code",
   "execution_count": 13,
   "metadata": {
    "collapsed": false
   },
   "outputs": [
    {
     "name": "stdout",
     "output_type": "stream",
     "text": [
      "-10*5 + 3 (mod 5) =  3 \n",
      "\n",
      "-9*5 + 3 (mod 5) =  3 \n",
      "\n",
      "-8*5 + 3 (mod 5) =  3 \n",
      "\n",
      "-7*5 + 3 (mod 5) =  3 \n",
      "\n",
      "-6*5 + 3 (mod 5) =  3 \n",
      "\n",
      "-5*5 + 3 (mod 5) =  3 \n",
      "\n",
      "-4*5 + 3 (mod 5) =  3 \n",
      "\n",
      "-3*5 + 3 (mod 5) =  3 \n",
      "\n",
      "-2*5 + 3 (mod 5) =  3 \n",
      "\n",
      "-1*5 + 3 (mod 5) =  3 \n",
      "\n",
      "0*5 + 3 (mod 5) =  3 \n",
      "\n",
      "1*5 + 3 (mod 5) =  3 \n",
      "\n",
      "2*5 + 3 (mod 5) =  3 \n",
      "\n",
      "3*5 + 3 (mod 5) =  3 \n",
      "\n",
      "4*5 + 3 (mod 5) =  3 \n",
      "\n",
      "5*5 + 3 (mod 5) =  3 \n",
      "\n",
      "6*5 + 3 (mod 5) =  3 \n",
      "\n",
      "7*5 + 3 (mod 5) =  3 \n",
      "\n",
      "8*5 + 3 (mod 5) =  3 \n",
      "\n",
      "9*5 + 3 (mod 5) =  3 \n",
      "\n",
      "10*5 + 3 (mod 5) =  3 \n",
      "\n"
     ]
    }
   ],
   "source": [
    "my_list_kn_plus_b_mods(-10, 10, 5, 3)"
   ]
  },
  {
   "cell_type": "code",
   "execution_count": 14,
   "metadata": {
    "collapsed": false
   },
   "outputs": [
    {
     "name": "stdout",
     "output_type": "stream",
     "text": [
      "-10*7 + 4 (mod 7) =  4 \n",
      "\n",
      "-9*7 + 4 (mod 7) =  4 \n",
      "\n",
      "-8*7 + 4 (mod 7) =  4 \n",
      "\n",
      "-7*7 + 4 (mod 7) =  4 \n",
      "\n",
      "-6*7 + 4 (mod 7) =  4 \n",
      "\n",
      "-5*7 + 4 (mod 7) =  4 \n",
      "\n",
      "-4*7 + 4 (mod 7) =  4 \n",
      "\n",
      "-3*7 + 4 (mod 7) =  4 \n",
      "\n",
      "-2*7 + 4 (mod 7) =  4 \n",
      "\n",
      "-1*7 + 4 (mod 7) =  4 \n",
      "\n",
      "0*7 + 4 (mod 7) =  4 \n",
      "\n",
      "1*7 + 4 (mod 7) =  4 \n",
      "\n",
      "2*7 + 4 (mod 7) =  4 \n",
      "\n",
      "3*7 + 4 (mod 7) =  4 \n",
      "\n",
      "4*7 + 4 (mod 7) =  4 \n",
      "\n",
      "5*7 + 4 (mod 7) =  4 \n",
      "\n",
      "6*7 + 4 (mod 7) =  4 \n",
      "\n",
      "7*7 + 4 (mod 7) =  4 \n",
      "\n",
      "8*7 + 4 (mod 7) =  4 \n",
      "\n",
      "9*7 + 4 (mod 7) =  4 \n",
      "\n",
      "10*7 + 4 (mod 7) =  4 \n",
      "\n"
     ]
    }
   ],
   "source": [
    "my_list_kn_plus_b_mods(-10, 10, 7, 4)"
   ]
  },
  {
   "cell_type": "markdown",
   "metadata": {
    "collapsed": false
   },
   "source": [
    "### Using Modular Arithmetic for Check Digits\n",
    "\n",
    "Most numbers such as airline ticket numbers and credit card numbers use modular arithmetic for check digits.  For example, if you take an airline ticket number, you will find that the least significant digit is actually a check digit.  It is a mod 7 of the other digits. Credit card numbers usually had several check digits of various schemes.  In the era before widespread computer networking, this was an easy way to guard against forgery. There were special calculator like devices that a merchant could type in a airline ticket number or a credit card number, and it would verify the check digits and let the merchant know if it was valid or not.  Airline tickets used to take weeks or months before the airlines got the paper original issue document, so it was important to know that it was valid.  Credit cards often were just but in a manual carbon copy device.  The other advantage is that when typed into a computer, it's really easy to valid against data entry errors without having to do a database lookup."
   ]
  },
  {
   "cell_type": "markdown",
   "metadata": {
    "collapsed": false
   },
   "source": [
    "### Fast Powering Algorithm\n",
    "\n",
    "Raising an integer to an integer power in modulo is computationally intractible when either (or both) of the integer or the power are large.\n",
    "\n",
    "You might think we do that all the time without problem.  Probably you are converting the integers to floats.  This works for numbers up to about 14 digits, but has rounding errors above 14 digits.  We will be working with numbers of hundreds of digits, and we need 100% precision, so this won't work.\n",
    "\n",
    "In order to accomplish this, we will use the Fast Powering Algorithm, which is covered in your reading assignments in Hoffstein 1.3.2.  This algorithm is implemented in the power_mod() function in SageMath.\n",
    "\n",
    "If we try to do this the regular way without using reals, we will get a stack trace.\n",
    "\n",
    "Execute and discuss the code cells below."
   ]
  },
  {
   "cell_type": "code",
   "execution_count": 15,
   "metadata": {
    "collapsed": false
   },
   "outputs": [
    {
     "name": "stdout",
     "output_type": "stream",
     "text": [
      "13,773,739,420,921,412,111\n",
      "13,773,739,420,921,411,584\n"
     ]
    }
   ],
   "source": [
    "# converting a large integer to a float will get rounding errors\n",
    "# look at the 5 least significant digits, the different is due to rounding error\n",
    "\n",
    "my_int_1 = 13773739420921412111\n",
    "my_float = float(13773739420921412111)\n",
    "my_int_2 = int(my_float)\n",
    "\n",
    "print (\"{:,}\".format(my_int_1))\n",
    "print (\"{:,}\".format(my_int_2))"
   ]
  },
  {
   "cell_type": "code",
   "execution_count": 16,
   "metadata": {
    "collapsed": false
   },
   "outputs": [
    {
     "ename": "OverflowError",
     "evalue": "exponent must be at most 9223372036854775807",
     "output_type": "error",
     "traceback": [
      "\u001b[0;31m---------------------------------------------------------------------------\u001b[0m",
      "\u001b[0;31mOverflowError\u001b[0m                             Traceback (most recent call last)",
      "\u001b[0;32m<ipython-input-16-fa0e222ac2b7>\u001b[0m in \u001b[0;36m<module>\u001b[0;34m()\u001b[0m\n\u001b[1;32m      3\u001b[0m \u001b[0;31m# WILL GET A STACK TRACE !!!\u001b[0m\u001b[0;34m\u001b[0m\u001b[0;34m\u001b[0m\u001b[0;34m\u001b[0m\u001b[0m\n\u001b[1;32m      4\u001b[0m \u001b[0;34m\u001b[0m\u001b[0m\n\u001b[0;32m----> 5\u001b[0;31m \u001b[0mprint\u001b[0m\u001b[0;34m(\u001b[0m\u001b[0;34m(\u001b[0m\u001b[0mInteger\u001b[0m\u001b[0;34m(\u001b[0m\u001b[0;36m10878114965438583173\u001b[0m\u001b[0;34m)\u001b[0m \u001b[0;34m**\u001b[0m \u001b[0mInteger\u001b[0m\u001b[0;34m(\u001b[0m\u001b[0;36m10715813634594853843\u001b[0m\u001b[0;34m)\u001b[0m\u001b[0;34m)\u001b[0m \u001b[0;34m%\u001b[0m \u001b[0mInteger\u001b[0m\u001b[0;34m(\u001b[0m\u001b[0;36m13773739420921412111\u001b[0m\u001b[0;34m)\u001b[0m\u001b[0;34m)\u001b[0m\u001b[0;34m\u001b[0m\u001b[0;34m\u001b[0m\u001b[0m\n\u001b[0m",
      "\u001b[0;32m/ext/sage/sage-9.1_1804/local/lib/python3.7/site-packages/sage/rings/integer.pyx\u001b[0m in \u001b[0;36msage.rings.integer.Integer.__pow__ (build/cythonized/sage/rings/integer.c:14951)\u001b[0;34m()\u001b[0m\n\u001b[1;32m   2220\u001b[0m \u001b[0;34m\u001b[0m\u001b[0m\n\u001b[1;32m   2221\u001b[0m         \u001b[0;32mif\u001b[0m \u001b[0mtype\u001b[0m\u001b[0;34m(\u001b[0m\u001b[0mleft\u001b[0m\u001b[0;34m)\u001b[0m \u001b[0;32mis\u001b[0m \u001b[0mtype\u001b[0m\u001b[0;34m(\u001b[0m\u001b[0mright\u001b[0m\u001b[0;34m)\u001b[0m\u001b[0;34m:\u001b[0m\u001b[0;34m\u001b[0m\u001b[0;34m\u001b[0m\u001b[0m\n\u001b[0;32m-> 2222\u001b[0;31m             \u001b[0;32mreturn\u001b[0m \u001b[0;34m(\u001b[0m\u001b[0;34m<\u001b[0m\u001b[0mInteger\u001b[0m\u001b[0;34m>\u001b[0m\u001b[0mleft\u001b[0m\u001b[0;34m)\u001b[0m\u001b[0;34m.\u001b[0m\u001b[0m_pow_\u001b[0m\u001b[0;34m(\u001b[0m\u001b[0mright\u001b[0m\u001b[0;34m)\u001b[0m\u001b[0;34m\u001b[0m\u001b[0;34m\u001b[0m\u001b[0m\n\u001b[0m\u001b[1;32m   2223\u001b[0m         \u001b[0;32melif\u001b[0m \u001b[0misinstance\u001b[0m\u001b[0;34m(\u001b[0m\u001b[0mleft\u001b[0m\u001b[0;34m,\u001b[0m \u001b[0mElement\u001b[0m\u001b[0;34m)\u001b[0m\u001b[0;34m:\u001b[0m\u001b[0;34m\u001b[0m\u001b[0;34m\u001b[0m\u001b[0m\n\u001b[1;32m   2224\u001b[0m             \u001b[0;32mreturn\u001b[0m \u001b[0mcoercion_model\u001b[0m\u001b[0;34m.\u001b[0m\u001b[0mbin_op\u001b[0m\u001b[0;34m(\u001b[0m\u001b[0mleft\u001b[0m\u001b[0;34m,\u001b[0m \u001b[0mright\u001b[0m\u001b[0;34m,\u001b[0m \u001b[0moperator\u001b[0m\u001b[0;34m.\u001b[0m\u001b[0mpow\u001b[0m\u001b[0;34m)\u001b[0m\u001b[0;34m\u001b[0m\u001b[0;34m\u001b[0m\u001b[0m\n",
      "\u001b[0;32m/ext/sage/sage-9.1_1804/local/lib/python3.7/site-packages/sage/rings/integer.pyx\u001b[0m in \u001b[0;36msage.rings.integer.Integer._pow_ (build/cythonized/sage/rings/integer.c:15301)\u001b[0;34m()\u001b[0m\n\u001b[1;32m   2300\u001b[0m                 \u001b[0mr\u001b[0m \u001b[0;34m=\u001b[0m \u001b[0msmallInteger\u001b[0m\u001b[0;34m(\u001b[0m\u001b[0;36m1\u001b[0m\u001b[0;34m)\u001b[0m\u001b[0;34m\u001b[0m\u001b[0;34m\u001b[0m\u001b[0m\n\u001b[1;32m   2301\u001b[0m         \u001b[0;32melse\u001b[0m\u001b[0;34m:\u001b[0m\u001b[0;34m\u001b[0m\u001b[0;34m\u001b[0m\u001b[0m\n\u001b[0;32m-> 2302\u001b[0;31m             \u001b[0;32mraise\u001b[0m \u001b[0mOverflowError\u001b[0m\u001b[0;34m(\u001b[0m\u001b[0;34mf\"exponent must be at most {LONG_MAX}\"\u001b[0m\u001b[0;34m)\u001b[0m\u001b[0;34m\u001b[0m\u001b[0;34m\u001b[0m\u001b[0m\n\u001b[0m\u001b[1;32m   2303\u001b[0m         \u001b[0;32mif\u001b[0m \u001b[0mmpz_sgn\u001b[0m\u001b[0;34m(\u001b[0m\u001b[0mexp\u001b[0m\u001b[0;34m)\u001b[0m \u001b[0;34m>=\u001b[0m \u001b[0;36m0\u001b[0m\u001b[0;34m:\u001b[0m\u001b[0;34m\u001b[0m\u001b[0;34m\u001b[0m\u001b[0m\n\u001b[1;32m   2304\u001b[0m             \u001b[0;32mreturn\u001b[0m \u001b[0mr\u001b[0m\u001b[0;34m\u001b[0m\u001b[0;34m\u001b[0m\u001b[0m\n",
      "\u001b[0;31mOverflowError\u001b[0m: exponent must be at most 9223372036854775807"
     ]
    }
   ],
   "source": [
    "# try to raise 10878114965438583173 to the 10715813634594853843rd power in modulo 13773739420921412111 the normal way\n",
    "\n",
    "# WILL GET A STACK TRACE !!!\n",
    "\n",
    "print((10878114965438583173 ** 10715813634594853843) % 13773739420921412111)"
   ]
  },
  {
   "cell_type": "code",
   "execution_count": 17,
   "metadata": {
    "collapsed": false
   },
   "outputs": [
    {
     "data": {
      "text/plain": [
       "4451516438760726435"
      ]
     },
     "execution_count": 17,
     "metadata": {
     },
     "output_type": "execute_result"
    }
   ],
   "source": [
    "# raise 10878114965438583173 to the 10715813634594853843rd power in modulo 13773739420921412111\n",
    "# the power_mod() function uses the fast powering algorithm\n",
    "\n",
    "power_mod(10878114965438583173, 10715813634594853843, 13773739420921412111)"
   ]
  },
  {
   "cell_type": "code",
   "execution_count": 18,
   "metadata": {
    "collapsed": false
   },
   "outputs": [
    {
     "name": "stdout",
     "output_type": "stream",
     "text": [
      "0b11110111000110111101101001110110101100001001010001111110100011\n"
     ]
    }
   ],
   "source": [
    "# the fast powering algorithm uses powers of 2\n",
    "# it helps to look at the number in binary \n",
    "\n",
    "print (bin(4451516438760726435))"
   ]
  },
  {
   "cell_type": "code",
   "execution_count": 19,
   "metadata": {
    "collapsed": false
   },
   "outputs": [
    {
     "name": "stdout",
     "output_type": "stream",
     "text": [
      "65537\n",
      "0b10000000000000001\n"
     ]
    }
   ],
   "source": [
    "# later when we get to RSA exponents, under certain conditions we will select 65537 as an exponent\n",
    "# why add the 1?  it needs to be an odd number\n",
    "\n",
    "print (2 ** 16 + 1)\n",
    "print (bin(65537))"
   ]
  },
  {
   "cell_type": "code",
   "execution_count": 0,
   "metadata": {
    "collapsed": false
   },
   "outputs": [
   ],
   "source": [
   ]
  }
 ],
 "metadata": {
  "kernelspec": {
   "display_name": "SageMath 9.1",
   "language": "sagemath",
   "metadata": {
    "cocalc": {
     "description": "Open-source mathematical software system",
     "priority": 10,
     "url": "https://www.sagemath.org/"
    }
   },
   "name": "sage-9.1"
  },
  "language_info": {
   "codemirror_mode": {
    "name": "ipython",
    "version": 2
   },
   "file_extension": ".py",
   "mimetype": "text/x-python",
   "name": "python",
   "nbconvert_exporter": "python",
   "pygments_lexer": "ipython2",
   "version": "2.7.15"
  }
 },
 "nbformat": 4,
 "nbformat_minor": 4
}