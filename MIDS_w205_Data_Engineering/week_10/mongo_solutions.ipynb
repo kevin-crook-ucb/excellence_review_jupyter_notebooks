{
 "cells": [
  {
   "cell_type": "markdown",
   "id": "bdfded9a",
   "metadata": {},
   "source": [
    "# Mongo Solutions"
   ]
  },
  {
   "cell_type": "code",
   "execution_count": 1,
   "id": "6209b8cd",
   "metadata": {},
   "outputs": [],
   "source": [
    "import pymongo\n",
    "\n",
    "import json\n",
    "\n",
    "import pprint"
   ]
  },
  {
   "cell_type": "code",
   "execution_count": 2,
   "id": "7fc9706a",
   "metadata": {},
   "outputs": [],
   "source": [
    "mongo = pymongo.MongoClient(\"mongodb://mongo:27017/\")"
   ]
  },
  {
   "cell_type": "code",
   "execution_count": 3,
   "id": "27e9aa21",
   "metadata": {},
   "outputs": [],
   "source": [
    "db = mongo[\"acme_gourmet_meals\"]"
   ]
  },
  {
   "cell_type": "markdown",
   "id": "afb2a682",
   "metadata": {},
   "source": [
    "## You try it\n",
    "\n",
    "## Create a collection called sales; load the file temp_sales_nested.json into the collection; run some queries on the collection\n"
   ]
  },
  {
   "cell_type": "code",
   "execution_count": 4,
   "id": "9959ca51",
   "metadata": {},
   "outputs": [],
   "source": [
    "sales_collection = db[\"sales\"]\n",
    "sales_collection.drop()"
   ]
  },
  {
   "cell_type": "code",
   "execution_count": 5,
   "id": "d13f0c84",
   "metadata": {},
   "outputs": [],
   "source": [
    "sales_collection = db[\"sales\"]"
   ]
  },
  {
   "cell_type": "code",
   "execution_count": 6,
   "id": "d591e87c",
   "metadata": {},
   "outputs": [],
   "source": [
    "f = open(\"temp_sales_nested.json\")\n",
    "file_json = json.load(f)\n",
    "f.close()\n",
    "\n",
    "sales_json_list = file_json[\"sales\"]"
   ]
  },
  {
   "cell_type": "code",
   "execution_count": 7,
   "id": "70008321",
   "metadata": {},
   "outputs": [],
   "source": [
    "inserted_documents = sales_collection.insert_many(sales_json_list)"
   ]
  },
  {
   "cell_type": "code",
   "execution_count": 8,
   "id": "ff343cd9",
   "metadata": {},
   "outputs": [
    {
     "name": "stdout",
     "output_type": "stream",
     "text": [
      "[ObjectId('619309a650b5925412beb92e'), ObjectId('619309a650b5925412beb92f'), ObjectId('619309a650b5925412beb930'), ObjectId('619309a650b5925412beb931'), ObjectId('619309a650b5925412beb932'), ObjectId('619309a650b5925412beb933'), ObjectId('619309a650b5925412beb934'), ObjectId('619309a650b5925412beb935'), ObjectId('619309a650b5925412beb936'), ObjectId('619309a650b5925412beb937'), ObjectId('619309a650b5925412beb938'), ObjectId('619309a650b5925412beb939'), ObjectId('619309a650b5925412beb93a'), ObjectId('619309a650b5925412beb93b'), ObjectId('619309a650b5925412beb93c'), ObjectId('619309a650b5925412beb93d'), ObjectId('619309a650b5925412beb93e'), ObjectId('619309a650b5925412beb93f'), ObjectId('619309a650b5925412beb940'), ObjectId('619309a650b5925412beb941'), ObjectId('619309a650b5925412beb942'), ObjectId('619309a650b5925412beb943'), ObjectId('619309a650b5925412beb944'), ObjectId('619309a650b5925412beb945'), ObjectId('619309a650b5925412beb946'), ObjectId('619309a650b5925412beb947'), ObjectId('619309a650b5925412beb948'), ObjectId('619309a650b5925412beb949'), ObjectId('619309a650b5925412beb94a'), ObjectId('619309a650b5925412beb94b'), ObjectId('619309a650b5925412beb94c'), ObjectId('619309a650b5925412beb94d'), ObjectId('619309a650b5925412beb94e'), ObjectId('619309a650b5925412beb94f'), ObjectId('619309a650b5925412beb950'), ObjectId('619309a650b5925412beb951'), ObjectId('619309a650b5925412beb952'), ObjectId('619309a650b5925412beb953'), ObjectId('619309a650b5925412beb954'), ObjectId('619309a650b5925412beb955'), ObjectId('619309a650b5925412beb956'), ObjectId('619309a650b5925412beb957'), ObjectId('619309a650b5925412beb958'), ObjectId('619309a650b5925412beb959'), ObjectId('619309a650b5925412beb95a'), ObjectId('619309a650b5925412beb95b'), ObjectId('619309a650b5925412beb95c'), ObjectId('619309a650b5925412beb95d'), ObjectId('619309a650b5925412beb95e'), ObjectId('619309a650b5925412beb95f')]\n"
     ]
    }
   ],
   "source": [
    "print(inserted_documents.inserted_ids)"
   ]
  },
  {
   "cell_type": "code",
   "execution_count": 9,
   "id": "a3924ae5",
   "metadata": {},
   "outputs": [
    {
     "name": "stdout",
     "output_type": "stream",
     "text": [
      "receipt: 001-000128112 total_amount: 24\n",
      "receipt: 001-000144249 total_amount: 84\n",
      "receipt: 001-000163141 total_amount: 96\n",
      "receipt: 001-000169216 total_amount: 144\n",
      "receipt: 001-000179181 total_amount: 48\n",
      "receipt: 001-000181897 total_amount: 48\n",
      "receipt: 001-000248269 total_amount: 60\n",
      "receipt: 001-000250031 total_amount: 24\n",
      "receipt: 001-000255285 total_amount: 36\n",
      "receipt: 001-000263524 total_amount: 48\n",
      "receipt: 002-000105004 total_amount: 36\n",
      "receipt: 002-000109083 total_amount: 132\n",
      "receipt: 002-000115446 total_amount: 12\n",
      "receipt: 002-000115912 total_amount: 48\n",
      "receipt: 002-000119996 total_amount: 36\n",
      "receipt: 002-000144107 total_amount: 96\n",
      "receipt: 002-000158290 total_amount: 84\n",
      "receipt: 002-000203726 total_amount: 132\n",
      "receipt: 002-000217889 total_amount: 24\n",
      "receipt: 002-000218323 total_amount: 48\n",
      "receipt: 003-000099402 total_amount: 36\n",
      "receipt: 003-000131547 total_amount: 84\n",
      "receipt: 003-000131827 total_amount: 108\n",
      "receipt: 003-000134868 total_amount: 48\n",
      "receipt: 003-000154102 total_amount: 24\n",
      "receipt: 003-000164376 total_amount: 108\n",
      "receipt: 003-000177427 total_amount: 24\n",
      "receipt: 003-000183488 total_amount: 12\n",
      "receipt: 003-000186881 total_amount: 144\n",
      "receipt: 003-000209184 total_amount: 36\n",
      "receipt: 004-000089887 total_amount: 48\n",
      "receipt: 004-000111979 total_amount: 108\n",
      "receipt: 004-000115633 total_amount: 120\n",
      "receipt: 004-000137286 total_amount: 24\n",
      "receipt: 004-000138546 total_amount: 96\n",
      "receipt: 004-000143587 total_amount: 60\n",
      "receipt: 004-000177033 total_amount: 48\n",
      "receipt: 004-000177233 total_amount: 60\n",
      "receipt: 004-000183530 total_amount: 144\n",
      "receipt: 004-000192337 total_amount: 96\n",
      "receipt: 005-000088989 total_amount: 24\n",
      "receipt: 005-000104373 total_amount: 48\n",
      "receipt: 005-000105691 total_amount: 24\n",
      "receipt: 005-000107715 total_amount: 36\n",
      "receipt: 005-000109305 total_amount: 120\n",
      "receipt: 005-000126722 total_amount: 36\n",
      "receipt: 005-000136553 total_amount: 36\n",
      "receipt: 005-000136735 total_amount: 96\n",
      "receipt: 005-000147541 total_amount: 96\n",
      "receipt: 005-000157919 total_amount: 48\n"
     ]
    }
   ],
   "source": [
    "for sale_document in sales_collection.find():\n",
    "    print(\"receipt:\", sale_document['receipt_number'], \"total_amount:\", sale_document['total_amount'])"
   ]
  },
  {
   "cell_type": "code",
   "execution_count": 10,
   "id": "24e1dd5c",
   "metadata": {},
   "outputs": [
    {
     "name": "stdout",
     "output_type": "stream",
     "text": [
      "receipt: 001-000163141 total_amount: 96\n",
      "receipt: 001-000169216 total_amount: 144\n",
      "receipt: 002-000109083 total_amount: 132\n",
      "receipt: 002-000144107 total_amount: 96\n",
      "receipt: 002-000203726 total_amount: 132\n",
      "receipt: 003-000131827 total_amount: 108\n",
      "receipt: 003-000164376 total_amount: 108\n",
      "receipt: 003-000186881 total_amount: 144\n",
      "receipt: 004-000111979 total_amount: 108\n",
      "receipt: 004-000115633 total_amount: 120\n",
      "receipt: 004-000138546 total_amount: 96\n",
      "receipt: 004-000183530 total_amount: 144\n",
      "receipt: 004-000192337 total_amount: 96\n",
      "receipt: 005-000109305 total_amount: 120\n",
      "receipt: 005-000136735 total_amount: 96\n",
      "receipt: 005-000147541 total_amount: 96\n"
     ]
    }
   ],
   "source": [
    "filter = { \"total_amount\": { \"$gte\": 96} }\n",
    "  \n",
    "for sale_document in sales_collection.find(filter):\n",
    "    print(\"receipt:\", sale_document['receipt_number'], \"total_amount:\", sale_document['total_amount'])"
   ]
  },
  {
   "cell_type": "code",
   "execution_count": 11,
   "id": "125b0016",
   "metadata": {},
   "outputs": [
    {
     "name": "stdout",
     "output_type": "stream",
     "text": [
      "receipt: 001-000128112 total_amount: 24\n",
      "receipt: 001-000144249 total_amount: 84\n",
      "receipt: 001-000163141 total_amount: 96\n",
      "receipt: 001-000169216 total_amount: 144\n",
      "receipt: 001-000181897 total_amount: 48\n",
      "receipt: 001-000248269 total_amount: 60\n",
      "receipt: 001-000263524 total_amount: 48\n",
      "receipt: 002-000105004 total_amount: 36\n",
      "receipt: 002-000218323 total_amount: 48\n",
      "receipt: 003-000164376 total_amount: 108\n",
      "receipt: 003-000186881 total_amount: 144\n",
      "receipt: 003-000209184 total_amount: 36\n",
      "receipt: 004-000089887 total_amount: 48\n",
      "receipt: 004-000111979 total_amount: 108\n",
      "receipt: 004-000138546 total_amount: 96\n",
      "receipt: 004-000143587 total_amount: 60\n",
      "receipt: 004-000177233 total_amount: 60\n",
      "receipt: 004-000183530 total_amount: 144\n",
      "receipt: 005-000109305 total_amount: 120\n"
     ]
    }
   ],
   "source": [
    "filter = { \"line_items.product_id\": 8 }\n",
    "    \n",
    "for sale_document in sales_collection.find(filter):\n",
    "    print(\"receipt:\", sale_document['receipt_number'], \"total_amount:\", sale_document['total_amount'])"
   ]
  },
  {
   "cell_type": "code",
   "execution_count": 12,
   "id": "5861d569",
   "metadata": {},
   "outputs": [
    {
     "name": "stdout",
     "output_type": "stream",
     "text": [
      "receipt: 001-000169216 total_amount: 144\n",
      "receipt: 002-000109083 total_amount: 132\n",
      "receipt: 003-000186881 total_amount: 144\n",
      "receipt: 004-000115633 total_amount: 120\n",
      "receipt: 004-000192337 total_amount: 96\n"
     ]
    }
   ],
   "source": [
    "filter = { \"line_items.quantity\": 4 }\n",
    "    \n",
    "for sale_document in sales_collection.find(filter):\n",
    "    print(\"receipt:\", sale_document['receipt_number'], \"total_amount:\", sale_document['total_amount'])"
   ]
  },
  {
   "cell_type": "markdown",
   "id": "c93e5477",
   "metadata": {},
   "source": [
    "## You try it\n",
    "\n",
    "\n",
    "## Create a collection called customers; load the file temp_customers_nested.json into the collection; run some queries on the collection"
   ]
  },
  {
   "cell_type": "code",
   "execution_count": 13,
   "id": "1fe287be",
   "metadata": {},
   "outputs": [],
   "source": [
    "customers_collection = db[\"customers\"]\n",
    "customers_collection.drop()"
   ]
  },
  {
   "cell_type": "code",
   "execution_count": 14,
   "id": "737af696",
   "metadata": {},
   "outputs": [],
   "source": [
    "customers_collection = db[\"customers\"]"
   ]
  },
  {
   "cell_type": "code",
   "execution_count": 15,
   "id": "dfae9b40",
   "metadata": {},
   "outputs": [],
   "source": [
    "f = open(\"temp_customers_nested.json\")\n",
    "file_json = json.load(f)\n",
    "f.close()\n",
    "\n",
    "customers_json_list = file_json[\"customers\"]"
   ]
  },
  {
   "cell_type": "code",
   "execution_count": 16,
   "id": "858fb442",
   "metadata": {},
   "outputs": [],
   "source": [
    "inserted_documents = customers_collection.insert_many(customers_json_list)"
   ]
  },
  {
   "cell_type": "code",
   "execution_count": 17,
   "id": "09342c1c",
   "metadata": {},
   "outputs": [
    {
     "name": "stdout",
     "output_type": "stream",
     "text": [
      "[ObjectId('619309bd50b5925412beb960'), ObjectId('619309bd50b5925412beb961'), ObjectId('619309bd50b5925412beb962'), ObjectId('619309bd50b5925412beb963'), ObjectId('619309bd50b5925412beb964'), ObjectId('619309bd50b5925412beb965'), ObjectId('619309bd50b5925412beb966'), ObjectId('619309bd50b5925412beb967'), ObjectId('619309bd50b5925412beb968'), ObjectId('619309bd50b5925412beb969'), ObjectId('619309bd50b5925412beb96a'), ObjectId('619309bd50b5925412beb96b'), ObjectId('619309bd50b5925412beb96c'), ObjectId('619309bd50b5925412beb96d'), ObjectId('619309bd50b5925412beb96e'), ObjectId('619309bd50b5925412beb96f'), ObjectId('619309bd50b5925412beb970'), ObjectId('619309bd50b5925412beb971'), ObjectId('619309bd50b5925412beb972'), ObjectId('619309bd50b5925412beb973'), ObjectId('619309bd50b5925412beb974'), ObjectId('619309bd50b5925412beb975'), ObjectId('619309bd50b5925412beb976'), ObjectId('619309bd50b5925412beb977'), ObjectId('619309bd50b5925412beb978'), ObjectId('619309bd50b5925412beb979'), ObjectId('619309bd50b5925412beb97a'), ObjectId('619309bd50b5925412beb97b'), ObjectId('619309bd50b5925412beb97c'), ObjectId('619309bd50b5925412beb97d'), ObjectId('619309bd50b5925412beb97e'), ObjectId('619309bd50b5925412beb97f'), ObjectId('619309bd50b5925412beb980'), ObjectId('619309bd50b5925412beb981'), ObjectId('619309bd50b5925412beb982'), ObjectId('619309bd50b5925412beb983'), ObjectId('619309bd50b5925412beb984'), ObjectId('619309bd50b5925412beb985'), ObjectId('619309bd50b5925412beb986'), ObjectId('619309bd50b5925412beb987'), ObjectId('619309bd50b5925412beb988'), ObjectId('619309bd50b5925412beb989'), ObjectId('619309bd50b5925412beb98a'), ObjectId('619309bd50b5925412beb98b'), ObjectId('619309bd50b5925412beb98c'), ObjectId('619309bd50b5925412beb98d'), ObjectId('619309bd50b5925412beb98e'), ObjectId('619309bd50b5925412beb98f'), ObjectId('619309bd50b5925412beb990'), ObjectId('619309bd50b5925412beb991')]\n"
     ]
    }
   ],
   "source": [
    "print(inserted_documents.inserted_ids)"
   ]
  },
  {
   "cell_type": "code",
   "execution_count": 18,
   "id": "58bed550",
   "metadata": {},
   "outputs": [
    {
     "name": "stdout",
     "output_type": "stream",
     "text": [
      "Rose Slimings\n",
      "Norry Macauley\n",
      "Theresina Penswick\n",
      "Kevon Wickett\n",
      "Siouxie M'Quharge\n",
      "Cheryl Broe\n",
      "Andreana Drew\n",
      "Dom Risbrough\n",
      "Katharina Bavester\n",
      "Lyndsay Iuorio\n",
      "Beth Scotchmor\n",
      "Cornell Brammar\n",
      "Cecilla Lewry\n",
      "Markos Toderi\n",
      "Debby Leber\n",
      "Dasi Radden\n",
      "Emlynne Takle\n",
      "Sim Dorie\n",
      "Lula Stoneman\n",
      "Shannon Morrall\n",
      "Raquel Ansill\n",
      "Ted Campany\n",
      "Zackariah McCreath\n",
      "Yancey Lamyman\n",
      "Betta Swatland\n",
      "Pryce Slafford\n",
      "Sheffield Dunkerton\n",
      "Christin Penny\n",
      "Brianne Dundendale\n",
      "Merell Cruikshanks\n",
      "Sue Delepine\n",
      "Darb Goucher\n",
      "Brnaba Challicombe\n",
      "Royce Fielders\n",
      "Joice Chidgey\n",
      "Michale Caudle\n",
      "Tobin Pude\n",
      "Lucilia Logg\n",
      "Billy Cattini\n",
      "Juliette Simoncello\n",
      "Nestor Winfred\n",
      "Gus Haliburton\n",
      "Kerrin Bridel\n",
      "Meagan Gussin\n",
      "Frederica Cabrer\n",
      "Jareb Girt\n",
      "Ezmeralda McCreadie\n",
      "Nobie Nuemann\n",
      "Garwin Aleksankin\n",
      "Mindy Bockh\n"
     ]
    }
   ],
   "source": [
    "for customer_document in customers_collection.find():\n",
    "    print(customer_document['first_name'], customer_document['last_name']  )"
   ]
  },
  {
   "cell_type": "code",
   "execution_count": 19,
   "id": "c9d4d6fc",
   "metadata": {},
   "outputs": [
    {
     "name": "stdout",
     "output_type": "stream",
     "text": [
      "Rose Slimings\n",
      "Kevon Wickett\n",
      "Beth Scotchmor\n",
      "Markos Toderi\n",
      "Emlynne Takle\n",
      "Lula Stoneman\n",
      "Betta Swatland\n",
      "Pryce Slafford\n",
      "Juliette Simoncello\n",
      "Nestor Winfred\n"
     ]
    }
   ],
   "source": [
    "filter = { \"last_name\": { \"$gte\": \"S\"} }\n",
    "  \n",
    "for customer_document in customers_collection.find(filter):\n",
    "    print(customer_document['first_name'], customer_document['last_name']  )"
   ]
  },
  {
   "cell_type": "code",
   "execution_count": 20,
   "id": "1de3f5b7",
   "metadata": {},
   "outputs": [
    {
     "name": "stdout",
     "output_type": "stream",
     "text": [
      "Cheryl Broe\n",
      "Andreana Drew\n",
      "Beth Scotchmor\n",
      "Dasi Radden\n",
      "Lula Stoneman\n",
      "Raquel Ansill\n",
      "Zackariah McCreath\n",
      "Christin Penny\n",
      "Royce Fielders\n",
      "Tobin Pude\n",
      "Lucilia Logg\n",
      "Billy Cattini\n",
      "Juliette Simoncello\n",
      "Nestor Winfred\n",
      "Gus Haliburton\n",
      "Frederica Cabrer\n"
     ]
    }
   ],
   "source": [
    "filter = { \"sales.total_amount\": { \"$gte\": 96} }\n",
    "  \n",
    "for customer_document in customers_collection.find(filter):\n",
    "    print(customer_document['first_name'], customer_document['last_name']  )"
   ]
  },
  {
   "cell_type": "code",
   "execution_count": 21,
   "id": "6d407b68",
   "metadata": {},
   "outputs": [
    {
     "name": "stdout",
     "output_type": "stream",
     "text": [
      "Norry Macauley\n",
      "Theresina Penswick\n",
      "Kevon Wickett\n",
      "Siouxie M'Quharge\n",
      "Cheryl Broe\n",
      "Andreana Drew\n",
      "Dom Risbrough\n",
      "Markos Toderi\n",
      "Sim Dorie\n",
      "Zackariah McCreath\n",
      "Christin Penny\n",
      "Merell Cruikshanks\n",
      "Sue Delepine\n",
      "Brnaba Challicombe\n",
      "Royce Fielders\n",
      "Joice Chidgey\n",
      "Tobin Pude\n",
      "Billy Cattini\n",
      "Frederica Cabrer\n"
     ]
    }
   ],
   "source": [
    "filter = { \"sales.line_items.product_id\": 8 }\n",
    "\n",
    "for customer_document in customers_collection.find(filter):\n",
    "    print(customer_document['first_name'], customer_document['last_name']  )"
   ]
  }
 ],
 "metadata": {
  "kernelspec": {
   "display_name": "Python 3",
   "language": "python",
   "name": "python3"
  },
  "language_info": {
   "codemirror_mode": {
    "name": "ipython",
    "version": 3
   },
   "file_extension": ".py",
   "mimetype": "text/x-python",
   "name": "python",
   "nbconvert_exporter": "python",
   "pygments_lexer": "ipython3",
   "version": "3.8.8"
  }
 },
 "nbformat": 4,
 "nbformat_minor": 5
}
