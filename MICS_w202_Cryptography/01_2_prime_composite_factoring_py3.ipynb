{
 "cells": [
  {
   "cell_type": "markdown",
   "metadata": {
    "collapsed": false
   },
   "source": [
    "### UC Berkeley, MICS, W202-Cryptography\n",
    "### Week 01 Breakout 2\n",
    "### Prime Numbers, Composite Numbers\n",
    "### Large Prime Numbers, Product of 2 Large Prime Numbers, Factoring a Product of 2 Large Primes"
   ]
  },
  {
   "cell_type": "markdown",
   "metadata": {
    "collapsed": false
   },
   "source": [
    "### Prime Numbers / Composite Numbers\n",
    "\n",
    "Prime number = an integer > 1 that has no divisor (even divisor) other than itself and 1.\n",
    "(When we say \"divisor\" we mean an \"even divisor\")\n",
    "\n",
    "Composite number = an integer > 1 that is not prime\n",
    "\n",
    "Real numbers that are not integers are neither prime nor composite.\n",
    "\n",
    "Negative integers are not prime, nor composite, but they can be even or odd.  They are even if 2 divides the number, odd otherwise.\n",
    "\n",
    "0 is neither prime nor composite.  0 is even.  0 is neither positive nor negative.\n",
    "\n",
    "1 is neither prime nor composite.  1 is odd.\n",
    "\n",
    "2 is prime (often the \"forgotten prime\"). 2 is even.  2 is the only even prime number.  We will take advantage of the fact that 2 is both prime and even in cryptography.  Unfortunately, black hat hackers also take advantage of the fact that 2 is both prime and even.  2 is also the smallest prime, which we will take advantage of when an algorithm works equally well with any prime number and the smaller the number the faster the algorithm runs.\n",
    "\n",
    "Use and discuss the following code cells to help understand the above concepts."
   ]
  },
  {
   "cell_type": "code",
   "execution_count": 1,
   "metadata": {
    "collapsed": false
   },
   "outputs": [
   ],
   "source": [
    "from sage.all import *"
   ]
  },
  {
   "cell_type": "code",
   "execution_count": 2,
   "metadata": {
    "collapsed": false
   },
   "outputs": [
   ],
   "source": [
    "def my_list_is_prime(start, end):\n",
    "    \"spin through integers from start to end, inclusive, and see if they are prime or not, and if they are even or odd\"\n",
    "    \n",
    "    num_primes = 0\n",
    "    \n",
    "    for i in range(start, end+1):\n",
    "        if is_prime(i):\n",
    "            s1 = \"prime\"\n",
    "            num_primes += 1\n",
    "        elif i > 1:\n",
    "            s1 = \"composite\"\n",
    "        else:\n",
    "            s1 = \"neither prime nor composite\"\n",
    "        if is_even(i):\n",
    "            s2 = \", even\"\n",
    "        else:\n",
    "            s2 = \", odd\"\n",
    "        print (i, s1, s2, \"\\n\")\n",
    "        \n",
    "    print (\"\\n\\nTotal integers:\", end-start+1, \"\\n\")\n",
    "    print (\"Total number of primes:\", num_primes, \"\\n\")"
   ]
  },
  {
   "cell_type": "code",
   "execution_count": 3,
   "metadata": {
    "collapsed": false
   },
   "outputs": [
    {
     "name": "stdout",
     "output_type": "stream",
     "text": [
      "-10 neither prime nor composite , even \n",
      "\n",
      "-9 neither prime nor composite , odd \n",
      "\n",
      "-8 neither prime nor composite , even \n",
      "\n",
      "-7 neither prime nor composite , odd \n",
      "\n",
      "-6 neither prime nor composite , even \n",
      "\n",
      "-5 neither prime nor composite , odd \n",
      "\n",
      "-4 neither prime nor composite , even \n",
      "\n",
      "-3 neither prime nor composite , odd \n",
      "\n",
      "-2 neither prime nor composite , even \n",
      "\n",
      "-1 neither prime nor composite , odd \n",
      "\n",
      "0 neither prime nor composite , even \n",
      "\n",
      "1 neither prime nor composite , odd \n",
      "\n",
      "2 prime , even \n",
      "\n",
      "3 prime , odd \n",
      "\n",
      "4 composite , even \n",
      "\n",
      "5 prime , odd \n",
      "\n",
      "6 composite , even \n",
      "\n",
      "7 prime , odd \n",
      "\n",
      "8 composite , even \n",
      "\n",
      "9 composite , odd \n",
      "\n",
      "10 composite , even \n",
      "\n",
      "11 prime , odd \n",
      "\n",
      "12 composite , even \n",
      "\n",
      "13 prime , odd \n",
      "\n",
      "14 composite , even \n",
      "\n",
      "15 composite , odd \n",
      "\n",
      "16 composite , even \n",
      "\n",
      "17 prime , odd \n",
      "\n",
      "18 composite , even \n",
      "\n",
      "19 prime , odd \n",
      "\n",
      "20 composite , even \n",
      "\n",
      "21 composite , odd \n",
      "\n",
      "22 composite , even \n",
      "\n",
      "23 prime , odd \n",
      "\n",
      "24 composite , even \n",
      "\n",
      "25 composite , odd \n",
      "\n",
      "26 composite , even \n",
      "\n",
      "27 composite , odd \n",
      "\n",
      "28 composite , even \n",
      "\n",
      "29 prime , odd \n",
      "\n",
      "30 composite , even \n",
      "\n",
      "31 prime , odd \n",
      "\n",
      "32 composite , even \n",
      "\n",
      "33 composite , odd \n",
      "\n",
      "34 composite , even \n",
      "\n",
      "35 composite , odd \n",
      "\n",
      "36 composite , even \n",
      "\n",
      "37 prime , odd \n",
      "\n",
      "38 composite , even \n",
      "\n",
      "39 composite , odd \n",
      "\n",
      "40 composite , even \n",
      "\n",
      "41 prime , odd \n",
      "\n",
      "42 composite , even \n",
      "\n",
      "43 prime , odd \n",
      "\n",
      "44 composite , even \n",
      "\n",
      "45 composite , odd \n",
      "\n",
      "46 composite , even \n",
      "\n",
      "47 prime , odd \n",
      "\n",
      "48 composite , even \n",
      "\n",
      "49 composite , odd \n",
      "\n",
      "50 composite , even \n",
      "\n",
      "51 composite , odd \n",
      "\n",
      "52 composite , even \n",
      "\n",
      "53 prime , odd \n",
      "\n",
      "54 composite , even \n",
      "\n",
      "55 composite , odd \n",
      "\n",
      "56 composite , even \n",
      "\n",
      "57 composite , odd \n",
      "\n",
      "58 composite , even \n",
      "\n",
      "59 prime , odd \n",
      "\n",
      "60 composite , even \n",
      "\n",
      "61 prime , odd \n",
      "\n",
      "62 composite , even \n",
      "\n",
      "63 composite , odd \n",
      "\n",
      "64 composite , even \n",
      "\n",
      "65 composite , odd \n",
      "\n",
      "66 composite , even \n",
      "\n",
      "67 prime , odd \n",
      "\n",
      "68 composite , even \n",
      "\n",
      "69 composite , odd \n",
      "\n",
      "70 composite , even \n",
      "\n",
      "71 prime , odd \n",
      "\n",
      "72 composite , even \n",
      "\n",
      "73 prime , odd \n",
      "\n",
      "74 composite , even \n",
      "\n",
      "75 composite , odd \n",
      "\n",
      "76 composite , even \n",
      "\n",
      "77 composite , odd \n",
      "\n",
      "78 composite , even \n",
      "\n",
      "79 prime , odd \n",
      "\n",
      "80 composite , even \n",
      "\n",
      "81 composite , odd \n",
      "\n",
      "82 composite , even \n",
      "\n",
      "83 prime , odd \n",
      "\n",
      "84 composite , even \n",
      "\n",
      "85 composite , odd \n",
      "\n",
      "86 composite , even \n",
      "\n",
      "87 composite , odd \n",
      "\n",
      "88 composite , even \n",
      "\n",
      "89 prime , odd \n",
      "\n",
      "90 composite , even \n",
      "\n",
      "91 composite , odd \n",
      "\n",
      "92 composite , even \n",
      "\n",
      "93 composite , odd \n",
      "\n",
      "94 composite , even \n",
      "\n",
      "95 composite , odd \n",
      "\n",
      "96 composite , even \n",
      "\n",
      "97 prime , odd \n",
      "\n",
      "98 composite , even \n",
      "\n",
      "99 composite , odd \n",
      "\n",
      "100 composite , even \n",
      "\n",
      "\n",
      "\n",
      "Total integers: 111 \n",
      "\n",
      "Total number of primes: 25 \n",
      "\n"
     ]
    }
   ],
   "source": [
    "my_list_is_prime(-10, 100)"
   ]
  },
  {
   "cell_type": "markdown",
   "metadata": {
    "collapsed": false
   },
   "source": [
    "### Fundamental Theorem of Arithmetic\n",
    "\n",
    "Fundamental Theorem of Arithmetic = all integers > 1 can be uniquely factored into a product of prime numbers\n",
    "\n",
    "Execute and discuss the following code cells to help understand factorization of numbers into a product of prime numbers"
   ]
  },
  {
   "cell_type": "code",
   "execution_count": 4,
   "metadata": {
    "collapsed": false
   },
   "outputs": [
   ],
   "source": [
    "def my_list_factors(start, end):\n",
    "    \"spin through integers from start to end, inclusive, and factor them, start at 1 if start is < 1\"\n",
    "    \n",
    "    if start < 1:\n",
    "        start = 1\n",
    "        print (\"\\nStarting at 1\\n\")\n",
    "    \n",
    "    for i in range(start, end+1):\n",
    "        if is_prime(i):\n",
    "            s1 = \"prime\"\n",
    "        else:\n",
    "            s1 = \"\"\n",
    "        print (i, \":\", s1, factor(i), \"\\n\")\n",
    "        "
   ]
  },
  {
   "cell_type": "code",
   "execution_count": 5,
   "metadata": {
    "collapsed": false
   },
   "outputs": [
    {
     "name": "stdout",
     "output_type": "stream",
     "text": [
      "\n",
      "Starting at 1\n",
      "\n",
      "1 :  1 \n",
      "\n",
      "2 : prime 2 \n",
      "\n",
      "3 : prime 3 \n",
      "\n",
      "4 :  2^2 \n",
      "\n",
      "5 : prime 5 \n",
      "\n",
      "6 :  2 * 3 \n",
      "\n",
      "7 : prime 7 \n",
      "\n",
      "8 :  2^3 \n",
      "\n",
      "9 :  3^2 \n",
      "\n",
      "10 :  2 * 5"
     ]
    },
    {
     "name": "stdout",
     "output_type": "stream",
     "text": [
      " \n",
      "\n",
      "11 : prime 11 \n",
      "\n",
      "12 :  2^2 * 3 \n",
      "\n",
      "13 : prime 13 \n",
      "\n",
      "14 :  2 * 7 \n",
      "\n",
      "15 :  3 * 5 \n",
      "\n",
      "16 :  2^4 \n",
      "\n",
      "17 : prime 17 \n",
      "\n",
      "18 :  2 * 3^2 \n",
      "\n",
      "19 : prime 19 \n",
      "\n",
      "20 :  2^2 * 5 \n",
      "\n",
      "21 :  3 * 7 \n",
      "\n",
      "22 :  2 * 11 \n",
      "\n",
      "23 : prime 23 \n",
      "\n",
      "24 :  2^3 * 3 \n",
      "\n",
      "25 :  5^2 \n",
      "\n",
      "26 :  2 * 13 \n",
      "\n",
      "27 :  3^3 \n",
      "\n",
      "28 :  2^2 * 7 \n",
      "\n",
      "29 : prime 29 \n",
      "\n",
      "30 :  2 * 3 * 5 \n",
      "\n",
      "31 : prime 31 \n",
      "\n",
      "32 :  2^5 \n",
      "\n",
      "33 :  3 * 11 \n",
      "\n",
      "34 :  2 * 17 \n",
      "\n",
      "35 :  5 * 7 \n",
      "\n",
      "36 :  2^2 * 3^2 \n",
      "\n",
      "37 : prime 37 \n",
      "\n",
      "38 :  2 * 19 \n",
      "\n",
      "39 :  3 * 13 \n",
      "\n",
      "40 :  2^3 * 5 \n",
      "\n",
      "41 : prime 41 \n",
      "\n",
      "42 :  2 * 3 * 7 \n",
      "\n",
      "43 : prime 43 \n",
      "\n",
      "44 :  2^2 * 11 \n",
      "\n",
      "45 :  3^2 * 5 \n",
      "\n",
      "46 :  2 * 23 \n",
      "\n",
      "47 : prime 47 \n",
      "\n",
      "48 :  2^4 * 3 \n",
      "\n",
      "49 :  7^2 \n",
      "\n",
      "50 :  2 * 5^2 \n",
      "\n",
      "51 :  3 * 17 \n",
      "\n",
      "52 :  2^2 * 13 \n",
      "\n",
      "53 : prime 53 \n",
      "\n",
      "54 :  2 * 3^3 \n",
      "\n",
      "55 :  5 * 11 \n",
      "\n",
      "56 :  2^3 * 7 \n",
      "\n",
      "57 :  3 * 19 \n",
      "\n",
      "58 :  2 * 29 \n",
      "\n",
      "59 : prime 59 \n",
      "\n",
      "60 :  2^2 * 3 * 5 \n",
      "\n",
      "61 : prime 61 \n",
      "\n",
      "62 :  2 * 31 \n",
      "\n",
      "63 :  3^2 * 7 \n",
      "\n",
      "64 :  2^6 \n",
      "\n",
      "65 :  5 * 13 \n",
      "\n",
      "66 :  2 * 3 * 11 \n",
      "\n",
      "67 : prime 67 \n",
      "\n",
      "68 :  2^2 * 17 \n",
      "\n",
      "69 :  3 * 23 \n",
      "\n",
      "70 :  2 * 5 * 7 \n",
      "\n",
      "71 : prime 71 \n",
      "\n",
      "72 :  2^3 * 3^2 \n",
      "\n",
      "73 : prime 73 \n",
      "\n",
      "74 :  2 * 37 \n",
      "\n",
      "75 :  3 * 5^2 \n",
      "\n",
      "76 :  2^2 * 19 \n",
      "\n",
      "77 :  7 * 11 \n",
      "\n",
      "78 :  2 * 3 * 13 \n",
      "\n",
      "79 : prime 79 \n",
      "\n",
      "80 :  2^4 * 5 \n",
      "\n",
      "81 :  3^4 \n",
      "\n",
      "82 :  2 * 41 \n",
      "\n",
      "83 : prime 83 \n",
      "\n",
      "84 :  2^2 * 3 * 7 \n",
      "\n",
      "85 :  5 * 17 \n",
      "\n",
      "86 :  2 * 43 \n",
      "\n",
      "87 :  3 * 29 \n",
      "\n",
      "88 :  2^3 * 11 \n",
      "\n",
      "89 : prime 89 \n",
      "\n",
      "90 :  2 * 3^2 * 5 \n",
      "\n",
      "91 :  7 * 13 \n",
      "\n",
      "92 :  2^2 * 23 \n",
      "\n",
      "93 :  3 * 31 \n",
      "\n",
      "94 :  2 * 47 \n",
      "\n",
      "95 :  5 * 19 \n",
      "\n",
      "96 :  2^5 * 3 \n",
      "\n",
      "97 : prime 97 \n",
      "\n",
      "98 :  2 * 7^2 \n",
      "\n",
      "99 :  3^2 * 11 \n",
      "\n",
      "100 :  2^2 * 5^2 \n",
      "\n"
     ]
    }
   ],
   "source": [
    "my_list_factors(-10, 100)"
   ]
  },
  {
   "cell_type": "markdown",
   "metadata": {
    "collapsed": false
   },
   "source": [
    "### Large Prime Numbers\n",
    "\n",
    "When studying cryptography from textbooks and articles, in order to have problems that we can work with paper and pencil, they usually use very small numbers. In actual usage, we use numbers that are much larger.\n",
    "\n",
    "Let's look at some large prime numbers of various sizes, such as 64, 128, 256, 512, 1024, 2048, 4096.  \n",
    "\n",
    "Execute and discuss the following code cells. For each large prime, note and discuss the number of digits."
   ]
  },
  {
   "cell_type": "code",
   "execution_count": 6,
   "metadata": {
    "collapsed": false
   },
   "outputs": [
   ],
   "source": [
    "def my_print_number(label, x):\n",
    "    \"prints a number in decimal, number of digits, hex, number of bits\"\n",
    "    \n",
    "    print (\"\\n\", label, '\\n')\n",
    "    print (\"decimal:\", \"{:,}\".format(x), \"\\n\")\n",
    "    print (\"number of digits:\", x.ndigits(), \"\\n\")\n",
    "    print (\"hex:\", x.hex(), \"\\n\")\n",
    "    print (\"number of bits:\", x.nbits(), \"\\n\")"
   ]
  },
  {
   "cell_type": "code",
   "execution_count": 7,
   "metadata": {
    "collapsed": false
   },
   "outputs": [
   ],
   "source": [
    "def my_find_prime(b):\n",
    "    \"find a prime p of the given number of bits\"\n",
    "    \n",
    "    upper_limit = (2^b) - 1\n",
    "    lower_limit = (2^(b-1))\n",
    "    \n",
    "    p = random_prime(upper_limit, false, lower_limit)\n",
    "    \n",
    "    my_print_number(\"p\", p)\n",
    "   \n",
    "    return (p)"
   ]
  },
  {
   "cell_type": "code",
   "execution_count": 8,
   "metadata": {
    "collapsed": false
   },
   "outputs": [
    {
     "name": "stdout",
     "output_type": "stream",
     "text": [
      "\n",
      " p \n",
      "\n",
      "decimal: 17,597,540,446,774,519,223 \n",
      "\n",
      "number of digits: 20 \n",
      "\n",
      "hex: f43705ccf29065b7 \n",
      "\n",
      "number of bits: 64 \n",
      "\n"
     ]
    },
    {
     "data": {
      "text/plain": [
       "17597540446774519223"
      ]
     },
     "execution_count": 8,
     "metadata": {
     },
     "output_type": "execute_result"
    }
   ],
   "source": [
    "my_find_prime(64)"
   ]
  },
  {
   "cell_type": "code",
   "execution_count": 9,
   "metadata": {
    "collapsed": false
   },
   "outputs": [
    {
     "name": "stdout",
     "output_type": "stream",
     "text": [
      "\n",
      " p \n",
      "\n",
      "decimal: 241,877,517,727,070,425,616,702,952,918,260,642,171 \n",
      "\n",
      "number of digits: 39 \n",
      "\n",
      "hex: b5f7ea59637becc3b0acd113e8fff17b \n",
      "\n",
      "number of bits: 128 \n",
      "\n"
     ]
    },
    {
     "data": {
      "text/plain": [
       "241877517727070425616702952918260642171"
      ]
     },
     "execution_count": 9,
     "metadata": {
     },
     "output_type": "execute_result"
    }
   ],
   "source": [
    "my_find_prime(128)"
   ]
  },
  {
   "cell_type": "code",
   "execution_count": 10,
   "metadata": {
    "collapsed": false
   },
   "outputs": [
    {
     "name": "stdout",
     "output_type": "stream",
     "text": [
      "\n",
      " p \n",
      "\n",
      "decimal: 75,799,695,160,705,920,735,614,521,160,214,438,366,147,060,968,793,152,244,843,457,813,662,282,909,541 \n",
      "\n",
      "number of digits: 77 \n",
      "\n",
      "hex: a7951b6b1a6c9b5f95a2e5de2c031519c9faf180a31366a39afd7456507d8765 \n",
      "\n",
      "number of bits: 256 \n",
      "\n"
     ]
    },
    {
     "data": {
      "text/plain": [
       "75799695160705920735614521160214438366147060968793152244843457813662282909541"
      ]
     },
     "execution_count": 10,
     "metadata": {
     },
     "output_type": "execute_result"
    }
   ],
   "source": [
    "my_find_prime(256)"
   ]
  },
  {
   "cell_type": "code",
   "execution_count": 11,
   "metadata": {
    "collapsed": false
   },
   "outputs": [
    {
     "name": "stdout",
     "output_type": "stream",
     "text": [
      "\n",
      " p \n",
      "\n",
      "decimal: 9,827,903,426,344,068,057,031,106,614,944,797,519,682,210,381,223,936,470,735,016,641,347,735,384,201,473,598,517,436,028,288,842,725,002,139,190,794,671,581,424,423,006,571,145,196,152,046,230,581,559,331 \n",
      "\n",
      "number of digits: 154 \n",
      "\n",
      "hex: bba5ca91c18ed21e5e144f75b1c5a7031006d49e1670b57c4aa1642b7e6b442592726e6ac8a795bb34e7fbc524c9da5bcfc175f5d93bfc948c161ac047704023 \n",
      "\n",
      "number of bits: 512 \n",
      "\n"
     ]
    },
    {
     "data": {
      "text/plain": [
       "9827903426344068057031106614944797519682210381223936470735016641347735384201473598517436028288842725002139190794671581424423006571145196152046230581559331"
      ]
     },
     "execution_count": 11,
     "metadata": {
     },
     "output_type": "execute_result"
    }
   ],
   "source": [
    "my_find_prime(512)"
   ]
  },
  {
   "cell_type": "code",
   "execution_count": 12,
   "metadata": {
    "collapsed": false
   },
   "outputs": [
    {
     "name": "stdout",
     "output_type": "stream",
     "text": [
      "\n",
      " p \n",
      "\n",
      "decimal: 177,963,262,296,019,498,460,314,665,704,614,846,487,329,911,534,596,723,550,723,369,916,864,198,405,106,974,988,622,459,006,803,484,467,165,510,887,921,435,769,349,386,604,831,047,032,320,227,607,089,932,284,979,256,229,629,312,362,041,643,293,417,450,803,327,663,781,823,680,435,648,681,489,502,109,837,616,584,605,377,314,050,903,579,947,346,567,153,685,105,367,139,421,679,060,364,770,644,642,072,889,401,417 \n",
      "\n",
      "number of digits: 309 \n",
      "\n",
      "hex: fd6d97d02774eb852f743529daa5dee909c37ccc83feb30ee5593e684843265df5c594458a1bdc26325eaebae5d2d64a97a8a8ba6ad3df3d026626b5d389fbdf9e8a469d36985ecffb5b8f16c3457d9f90f3038f1d616bb185d996ae17bf0d71c2d618afdafa783119007a64d1ff2cadedd3001adf81694bdc57e8991c202049 \n",
      "\n",
      "number of bits: 1024 \n",
      "\n"
     ]
    },
    {
     "data": {
      "text/plain": [
       "177963262296019498460314665704614846487329911534596723550723369916864198405106974988622459006803484467165510887921435769349386604831047032320227607089932284979256229629312362041643293417450803327663781823680435648681489502109837616584605377314050903579947346567153685105367139421679060364770644642072889401417"
      ]
     },
     "execution_count": 12,
     "metadata": {
     },
     "output_type": "execute_result"
    }
   ],
   "source": [
    "my_find_prime(1024)"
   ]
  },
  {
   "cell_type": "code",
   "execution_count": 13,
   "metadata": {
    "collapsed": false
   },
   "outputs": [
    {
     "name": "stdout",
     "output_type": "stream",
     "text": [
      "\n",
      " p \n",
      "\n",
      "decimal: 17,610,004,296,721,583,790,136,401,729,289,404,457,291,819,279,033,485,524,430,387,916,215,830,114,323,631,124,650,570,317,005,583,442,853,270,220,426,738,330,246,802,409,300,363,059,915,675,818,440,750,386,381,792,611,586,659,307,047,878,642,336,059,473,706,456,670,005,202,746,374,007,663,559,492,663,411,982,292,973,597,031,595,446,845,125,336,695,024,297,054,595,307,233,733,573,506,146,815,865,412,106,856,817,956,519,344,091,944,730,531,531,574,435,790,247,060,381,555,344,452,302,806,816,222,221,045,923,236,916,449,580,925,661,777,922,481,044,958,255,790,331,831,425,719,819,656,347,986,026,343,446,478,694,119,264,412,538,905,948,436,104,948,311,135,118,593,017,136,146,998,396,792,442,152,044,494,070,579,648,067,939,800,222,308,144,376,401,801,042,178,410,365,567,496,894,991,029,299,524,549,792,537,569,285,033 \n",
      "\n",
      "number of digits: 617 \n",
      "\n",
      "hex: 8b7f83cbeced03822540321ff296de0b82703732a9fe4aba1ea414506efa03fc63910c17ae87ac3c3cd42e4ea425ef618bf2a19aa901ca2697f96090186c1b946eab30ba49afd7551881886e4ae66ffa12f1d658642c06dea4cc60a843ac1f58a99056044db48eaa4a0932400473f0a331efd37d35fec5f4591c40abc915530132a7dca7a4dbf6981249135ed9e1b934f6887fe00b4e3cbf7a7932e6e8792ee3ae7ce9b016c35973ee0177a744288a7a9abc514e7dddbe888a18492a33c6dc059c8230bf5c572a1afe01fb9ddcab89984d8b993c6f667a9017100b348b3297622113c6e8d45fb34f67760cc6977c0b40f01ba7a5d83849298e801648e08a53a9 \n",
      "\n",
      "number of bits: 2048 \n",
      "\n"
     ]
    },
    {
     "data": {
      "text/plain": [
       "17610004296721583790136401729289404457291819279033485524430387916215830114323631124650570317005583442853270220426738330246802409300363059915675818440750386381792611586659307047878642336059473706456670005202746374007663559492663411982292973597031595446845125336695024297054595307233733573506146815865412106856817956519344091944730531531574435790247060381555344452302806816222221045923236916449580925661777922481044958255790331831425719819656347986026343446478694119264412538905948436104948311135118593017136146998396792442152044494070579648067939800222308144376401801042178410365567496894991029299524549792537569285033"
      ]
     },
     "execution_count": 13,
     "metadata": {
     },
     "output_type": "execute_result"
    }
   ],
   "source": [
    "my_find_prime(2048)"
   ]
  },
  {
   "cell_type": "code",
   "execution_count": 14,
   "metadata": {
    "collapsed": false
   },
   "outputs": [
    {
     "name": "stdout",
     "output_type": "stream",
     "text": [
      "\n",
      " p \n",
      "\n",
      "decimal: 638,784,472,708,784,731,370,812,190,058,562,856,081,773,312,036,869,054,335,239,679,972,117,377,184,387,749,491,438,811,053,841,704,404,714,267,405,249,182,711,207,038,405,242,434,162,250,648,200,686,493,724,920,772,289,592,382,891,712,799,403,164,247,873,749,389,741,633,419,766,757,769,864,638,311,473,587,409,658,387,679,703,068,224,116,873,820,915,847,050,914,204,791,608,358,183,509,706,073,751,524,709,666,989,225,810,792,075,337,454,653,771,742,694,284,271,419,581,706,583,447,077,649,695,051,150,464,262,292,209,697,837,984,493,050,382,963,025,611,838,638,144,639,934,469,739,506,452,035,351,666,319,030,852,756,084,615,400,728,907,183,564,528,708,005,107,351,139,724,417,835,830,259,788,215,178,270,303,444,579,381,594,648,320,728,300,262,733,427,172,525,582,132,105,365,025,574,183,984,641,104,104,609,873,235,506,642,703,526,198,604,710,595,365,769,712,880,166,244,154,723,302,892,466,774,849,311,261,412,811,629,028,577,171,808,845,145,648,997,183,387,403,846,779,106,198,046,138,489,454,502,576,442,212,468,748,283,432,718,792,150,243,547,276,798,008,192,755,707,978,964,960,311,253,802,434,310,280,997,501,725,867,135,951,817,255,344,401,627,365,427,737,949,711,436,457,528,741,859,003,025,239,324,883,391,655,106,099,412,250,624,914,641,898,737,566,846,869,932,389,519,487,364,597,793,923,379,746,423,193,585,957,812,826,918,162,359,043,133,001,688,264,789,722,446,314,595,588,414,791,017,656,073,367,297,027,788,354,826,661,609,552,129,911,765,731,190,990,719,249,795,767,353,941,513,290,929,082,424,466,598,827,549,962,377,497,774,876,736,413,829,305,004,359,339,781,775,399,830,611,176,601,989,600,764,889,497,227,472,185,109 \n",
      "\n",
      "number of digits: 1233 \n",
      "\n",
      "hex: 9c94175aedfc344de00b65e439e5f69376bd5fd31eb74139aa3e5d2aecffff91489b96dd23ca8dd2912f3c7b2cba66536cbad6985fcc263eb1d066606c8405713cc7afffe6abd5e1063525d6942923d2aea78583b1b11ce68d49c946b6547123d4cc293f31ae86ed048e62c6aee30ea0c5f06338a998433487b38f2596c1bf13791cca253ec69715f3900bfbb8423948f9d2ff11d1c3df3929d290a5a188252ffc7891170b593e06ca072c48af9cbaebea6355f43e009d5bfb554b49ff415b1a094d5dbc010589c5ffc2ffdc30599333e400b7ff30796a76e68d796cb2e69ec6c4724d416b16b102b9ea0e656a24cae66e8cff3a07c9f978923da96ad11578ed868d80c5596c1d51c609b65315cf7be332bad2134a7ff61070ccc82f5e208218e09e4306f44f565ed016c43e887b63f2c69409c5b132a0d1df454a9c35ba12e3ceb725e071d5126732524deee835ba9ccb2ca49018531daf9daf450b82fe04a4bdc62637316c009cc89244e136b949363f02d12a84147d7d3347946e43415c5717717c0e6ed615141733640c4302b77441b95fea3490a4eb6998500500a0841f418be1c75c95d09124a885fb63abbd8a3c1fe2de170a4fdffe974b9f3a33f3dbe84065a700b88a736e6db788cbf3e9f2023bb9c90222df2ef14b17f7cf6bcfa3c54922feac5adf8d26a022c5a0b8c074f2c1b40e36feb5c909c1273afa9ca715 \n",
      "\n",
      "number of bits: 4096 \n",
      "\n"
     ]
    },
    {
     "data": {
      "text/plain": [
       "638784472708784731370812190058562856081773312036869054335239679972117377184387749491438811053841704404714267405249182711207038405242434162250648200686493724920772289592382891712799403164247873749389741633419766757769864638311473587409658387679703068224116873820915847050914204791608358183509706073751524709666989225810792075337454653771742694284271419581706583447077649695051150464262292209697837984493050382963025611838638144639934469739506452035351666319030852756084615400728907183564528708005107351139724417835830259788215178270303444579381594648320728300262733427172525582132105365025574183984641104104609873235506642703526198604710595365769712880166244154723302892466774849311261412811629028577171808845145648997183387403846779106198046138489454502576442212468748283432718792150243547276798008192755707978964960311253802434310280997501725867135951817255344401627365427737949711436457528741859003025239324883391655106099412250624914641898737566846869932389519487364597793923379746423193585957812826918162359043133001688264789722446314595588414791017656073367297027788354826661609552129911765731190990719249795767353941513290929082424466598827549962377497774876736413829305004359339781775399830611176601989600764889497227472185109"
      ]
     },
     "execution_count": 14,
     "metadata": {
     },
     "output_type": "execute_result"
    }
   ],
   "source": [
    "my_find_prime(4096)"
   ]
  },
  {
   "cell_type": "markdown",
   "metadata": {
    "collapsed": false
   },
   "source": [
    "### Product of Two Large Primes / Factoring the Product of Two Large Primes\n",
    "\n",
    "It's computationally easy to multiply two large prime numbers.  However, it's computationally hard to factor the product of two large prime numbers.  This forms the basis of RSA and some other asymmetric cryptography algorithms.\n",
    "\n",
    "We traditionally call the two primes p and q and the product n, so n = pq\n",
    "\n",
    "Note that both p and q are odd.  (2 is the only even prime)\n",
    "\n",
    "Note that n is odd, but not prime.  It's composite and it's factors are p and q.\n",
    "\n",
    "If we want n to be X-bits, then p and q should be X/2-bits.  n may be off by 1 bit due to random choices of p and q.\n",
    "\n",
    "In the mid 1990s, most asymmetric cryptography used 128 bits for government security and 64 bits for industy.  These were considered secure at the time.  Below we will factor a 128 bit n.  As computing power grows exponentially (Moore's Law), the number of bits required for n will increase. The current default for OpenSSH is 1024, but most experts recommend 2048. CISCO routers now use 4096. This is why Elliptic Curves over GF(p) are getting more and more popular as an altervative to RSA.\n",
    "\n",
    "WARNING: do NOT attempt to factor an n over 128 bits if you are running this in the shared environment as it will harm other users.  Do NOT attempt to factor an n over 512 bits any time in the near future as it will hang your machine and crash the notebook.\n",
    "\n",
    "Execute and discuss the following code cells. "
   ]
  },
  {
   "cell_type": "code",
   "execution_count": 15,
   "metadata": {
    "collapsed": false
   },
   "outputs": [
   ],
   "source": [
    "def my_find_n_p_q(b):\n",
    "    \"find two primes p and q that when multiplied together yield n of the given number of bits\"\n",
    "    \n",
    "    b_half = b // 2\n",
    "    \n",
    "    upper_limit = (2^b_half) - 1\n",
    "    lower_limit = (2^(b_half-1))\n",
    "    \n",
    "    p = random_prime(upper_limit, false, lower_limit)\n",
    "    q = random_prime(upper_limit, false, lower_limit)\n",
    "    \n",
    "    n = p * q\n",
    "    \n",
    "    my_print_number(\"p\", p)\n",
    "    my_print_number(\"q\", q)\n",
    "    my_print_number(\"n\", n)\n",
    "    \n",
    "    return (p, q, n)"
   ]
  },
  {
   "cell_type": "code",
   "execution_count": 16,
   "metadata": {
    "collapsed": false
   },
   "outputs": [
    {
     "name": "stdout",
     "output_type": "stream",
     "text": [
      "\n",
      " p \n",
      "\n",
      "decimal: 2,923,928,627 \n",
      "\n",
      "number of digits: 10 \n",
      "\n",
      "hex: ae479c33 \n",
      "\n",
      "number of bits: 32 \n",
      "\n",
      "\n",
      " q \n",
      "\n",
      "decimal: 2,862,453,371 \n",
      "\n",
      "number of digits: 10 \n",
      "\n",
      "hex: aa9d927b \n",
      "\n",
      "number of bits: 32 \n",
      "\n",
      "\n",
      " n \n",
      "\n",
      "decimal: 8,369,609,354,919,551,617 \n",
      "\n",
      "number of digits: 19 \n",
      "\n",
      "hex: 7426d35d3cc42281 \n",
      "\n",
      "number of bits: 63 \n",
      "\n"
     ]
    }
   ],
   "source": [
    "(p, q, n) = my_find_n_p_q(64)"
   ]
  },
  {
   "cell_type": "code",
   "execution_count": 17,
   "metadata": {
    "collapsed": false
   },
   "outputs": [
    {
     "data": {
      "text/plain": [
       "2862453371 * 2923928627"
      ]
     },
     "execution_count": 17,
     "metadata": {
     },
     "output_type": "execute_result"
    }
   ],
   "source": [
    "# waring - do NOT attempt to factor unless it's 128 bits or less!\n",
    "# if you just exected the cell above to generate a 64 bit n, then it is ok to run this factor(n)\n",
    "\n",
    "factor(n)"
   ]
  },
  {
   "cell_type": "code",
   "execution_count": 18,
   "metadata": {
    "collapsed": false
   },
   "outputs": [
    {
     "name": "stdout",
     "output_type": "stream",
     "text": [
      "\n",
      " p \n",
      "\n",
      "decimal: 17,813,219,027,452,595,413 \n",
      "\n",
      "number of digits: 20 \n",
      "\n",
      "hex: f7354453b58a8cd5 \n",
      "\n",
      "number of bits: 64 \n",
      "\n",
      "\n",
      " q \n",
      "\n",
      "decimal: 11,082,099,726,985,962,667 \n",
      "\n",
      "number of digits: 20 \n",
      "\n",
      "hex: 99cb86fc7873a4ab \n",
      "\n",
      "number of bits: 64 \n",
      "\n",
      "\n",
      " n \n",
      "\n",
      "decimal: 197,407,869,720,873,563,044,558,464,027,473,446,471 \n",
      "\n",
      "number of digits: 39 \n",
      "\n",
      "hex: 94835f6ce4647a6e630ee32421738647 \n",
      "\n",
      "number of bits: 128 \n",
      "\n"
     ]
    }
   ],
   "source": [
    "(p, q, n) = my_find_n_p_q(128)"
   ]
  },
  {
   "cell_type": "code",
   "execution_count": 19,
   "metadata": {
    "collapsed": false
   },
   "outputs": [
    {
     "data": {
      "text/plain": [
       "11082099726985962667 * 17813219027452595413"
      ]
     },
     "execution_count": 19,
     "metadata": {
     },
     "output_type": "execute_result"
    }
   ],
   "source": [
    "# waring - do NOT attempt to factor unless it's 128 bits or less!\n",
    "# if you just exected the cell above to generate a 128 bit n, then it is ok to run this factor(n)\n",
    "\n",
    "factor(n)"
   ]
  },
  {
   "cell_type": "code",
   "execution_count": 20,
   "metadata": {
    "collapsed": false
   },
   "outputs": [
    {
     "name": "stdout",
     "output_type": "stream",
     "text": [
      "\n",
      " p \n",
      "\n",
      "decimal: 227,929,291,215,122,208,031,804,817,013,008,576,123 \n",
      "\n",
      "number of digits: 39 \n",
      "\n",
      "hex: ab7995afe8d637b7ee8bd17ba2ad2e7b \n",
      "\n",
      "number of bits: 128 \n",
      "\n",
      "\n",
      " q \n",
      "\n",
      "decimal: 264,199,391,786,553,239,249,644,542,707,887,230,181 \n",
      "\n",
      "number of digits: 39 \n",
      "\n",
      "hex: c6c2f3b5d13a7508209067050ad3cce5 \n",
      "\n",
      "number of bits: 128 \n",
      "\n",
      "\n",
      " n \n",
      "\n",
      "decimal: 60,218,780,109,375,459,677,708,063,469,083,240,460,377,972,418,985,229,895,050,657,463,309,161,568,263 \n",
      "\n",
      "number of digits: 77 \n",
      "\n",
      "hex: 85229f27af965bf5fc33897f33b3c15f1bb704667a5c24fbab88272fa3559807 \n",
      "\n",
      "number of bits: 256 \n",
      "\n"
     ]
    }
   ],
   "source": [
    "(p, q, n) = my_find_n_p_q(256)"
   ]
  },
  {
   "cell_type": "code",
   "execution_count": 21,
   "metadata": {
    "collapsed": false
   },
   "outputs": [
    {
     "name": "stdout",
     "output_type": "stream",
     "text": [
      "\n",
      " p \n",
      "\n",
      "decimal: 82,210,488,575,513,175,855,033,899,888,688,180,556,472,786,778,999,747,699,682,448,989,390,223,473,249 \n",
      "\n",
      "number of digits: 77 \n",
      "\n",
      "hex: b5c17cd2c0cc1e319b18f02200d247a00ab68fb2e1e56c3bb5dfc0882a787a61 \n",
      "\n",
      "number of bits: 256 \n",
      "\n",
      "\n",
      " q \n",
      "\n",
      "decimal: 80,923,964,140,540,918,656,149,025,554,244,590,037,968,096,903,331,814,393,234,162,882,064,788,702,559 \n",
      "\n",
      "number of digits: 77 \n",
      "\n",
      "hex: b2e9572f47f1633f394bb0d0bf0abc17cd9bc0e937027d73c3b521b7670b455f \n",
      "\n",
      "number of bits: 256 \n",
      "\n",
      "\n",
      " n \n",
      "\n",
      "decimal: 6,652,798,629,461,177,111,991,898,558,295,033,291,344,233,217,426,746,633,059,050,706,747,167,631,818,642,405,578,167,490,848,320,516,397,427,955,210,744,195,751,181,841,470,303,329,079,008,869,354,344,191 \n",
      "\n",
      "number of digits: 154 \n",
      "\n",
      "hex: 7f0633cb78e4fc38692b0e7370a95d835e1386680bc014bdefb277708e1ffb724a50f5db87eab2589975e25e1388edc4e3a3f914be136b0b29586ebb84dc8eff \n",
      "\n",
      "number of bits: 511 \n",
      "\n"
     ]
    }
   ],
   "source": [
    "(p, q, n) = my_find_n_p_q(512)"
   ]
  },
  {
   "cell_type": "code",
   "execution_count": 22,
   "metadata": {
    "collapsed": false
   },
   "outputs": [
    {
     "name": "stdout",
     "output_type": "stream",
     "text": [
      "\n",
      " p \n",
      "\n",
      "decimal: 11,326,788,666,057,144,615,636,423,864,040,685,142,978,966,467,403,751,772,657,449,972,131,987,385,920,442,409,321,102,401,280,134,244,721,562,317,712,420,663,619,978,980,777,542,137,334,548,065,306,361,819 \n",
      "\n",
      "number of digits: 155 \n",
      "\n",
      "hex: d8443091c390d6867184417a5592488beda530af1d689fd47ebff56fff939ec8c8e1b30b73adcb9e901cf7d8dc6689ef6fa226f5bd8facf0750e49af95253fdb \n",
      "\n",
      "number of bits: 512 \n",
      "\n",
      "\n",
      " q \n",
      "\n",
      "decimal: 10,839,650,277,708,285,569,835,598,578,868,266,066,611,025,939,905,470,808,325,148,267,496,648,902,397,216,606,535,597,356,923,704,354,781,822,910,831,385,561,164,711,462,216,537,145,776,563,185,770,997,977 \n",
      "\n",
      "number of digits: 155 \n",
      "\n",
      "hex: cef71b5c97694812b64b9bc5e741496b37d546c55a767813959c54c26b115a41e24218393e1fe2d7a9d7441b923f66aae60553bc2eff9da857fbdae676caa8d9 \n",
      "\n",
      "number of bits: 512 \n",
      "\n",
      "\n",
      " n \n",
      "\n",
      "decimal: 122,778,427,909,569,389,095,458,104,642,237,886,973,006,912,512,409,075,372,691,561,105,166,622,589,970,237,539,243,006,314,001,637,290,214,842,606,642,811,301,668,198,916,153,112,515,850,182,627,921,701,314,089,887,020,643,428,470,832,778,825,710,100,838,141,407,136,443,435,297,266,794,705,372,754,405,664,662,357,368,233,454,571,273,308,300,476,703,609,461,929,637,413,447,670,355,820,485,502,362,679,040,163 \n",
      "\n",
      "number of digits: 309 \n",
      "\n",
      "hex: aed79ffd918c3ae29c55a1e177edc17178423edaab39b48a2d251ba0d22b374ddded19fdf8e92b9f19b15a3aa7948ac462a8a32bde13e0f76ece541b81a4a3ed8d98d94ba77eaa9d1b1e5c278e683f45b40d1d50ee609cd4f781636e0fb051bcfd0c20b26dc99b9709b8b3caacd409dc20ca0ca732252b946d53674b3348d8a3 \n",
      "\n",
      "number of bits: 1024 \n",
      "\n"
     ]
    }
   ],
   "source": [
    "(p, q, n) = my_find_n_p_q(1024)"
   ]
  },
  {
   "cell_type": "code",
   "execution_count": 23,
   "metadata": {
    "collapsed": false
   },
   "outputs": [
    {
     "name": "stdout",
     "output_type": "stream",
     "text": [
      "\n",
      " p \n",
      "\n",
      "decimal: 118,377,093,915,143,299,676,411,609,116,295,078,394,847,861,974,058,524,357,979,598,540,034,934,628,027,543,883,257,366,367,095,153,442,038,935,089,720,275,707,166,870,413,681,024,200,963,083,852,121,890,986,694,893,830,853,210,457,070,317,372,253,815,050,272,084,417,824,035,280,648,661,464,633,377,253,236,239,616,678,315,433,124,025,117,309,756,060,906,303,004,466,128,537,735,590,751,613,086,726,949,902,827 \n",
      "\n",
      "number of digits: 309 \n",
      "\n",
      "hex: a8931780633c137e00a76f472497549e85146af088ee0cf7f77d862aaf397705dbe8f92634debe8eb18f373e21e1918b8fe7f87bf9a220ee37696b2785c72d9c24938fa90cf767615adae7e437d6e4b1aca522979f2749c35044fd7d4a788c036969b17dca39fa548140d65ec9ed2e5019eb4c5b465f89d414ace7484a7719eb \n",
      "\n",
      "number of bits: 1024 \n",
      "\n",
      "\n",
      " q \n",
      "\n",
      "decimal: 159,208,452,521,696,678,761,119,979,575,229,000,527,071,757,621,374,207,224,394,266,188,781,154,875,463,748,833,521,601,823,246,573,903,449,314,809,004,940,354,802,169,850,618,291,723,769,860,458,360,078,719,943,481,271,278,764,235,098,717,413,417,146,621,751,853,650,611,499,951,309,781,699,266,751,490,362,473,944,996,382,519,115,310,574,342,374,701,465,599,392,969,788,255,056,959,239,217,281,900,054,443,209 \n",
      "\n",
      "number of digits: 309 \n",
      "\n",
      "hex: e2b869a650c027d683424330b92349bb389dfc36117b5295bbedf5c7acafabeaf6fc711725a9d8f356a7dff12d65bd778c5a101986ce1217b0cafc90b284abfa3126ed095ca42032c69b38c30d61668a48f605ab3dce247a3a22295090b370d7249733710d5249a5c3c7735452840af7a5a801eab8429fc6b2f133403499f4c9 \n",
      "\n",
      "number of bits: 1024 \n",
      "\n",
      "\n",
      " n \n",
      "\n",
      "decimal: 18,846,633,936,245,520,836,577,037,840,245,672,292,876,329,754,219,576,606,027,972,652,726,220,753,816,900,524,282,578,854,121,879,575,019,289,694,673,579,387,674,345,642,602,548,621,763,952,977,308,691,026,656,244,492,565,048,515,842,896,027,356,438,671,375,362,534,246,416,803,342,117,865,697,199,868,780,366,184,313,771,065,424,284,796,901,417,080,713,170,279,647,927,131,471,304,334,324,031,103,880,808,452,298,825,430,149,773,440,069,489,270,254,580,857,865,528,841,468,050,052,140,884,376,719,631,459,235,135,771,431,989,334,437,507,237,934,593,171,962,142,642,874,906,158,570,083,716,619,404,016,340,195,740,411,265,158,077,277,145,477,448,297,616,183,162,730,416,076,204,498,259,893,376,563,838,379,870,038,877,093,610,110,899,902,251,296,814,619,967,820,442,896,586,957,686,844,074,863,111,876,390,792,140,051,843 \n",
      "\n",
      "number of digits: 617 \n",
      "\n",
      "hex: 954b4a0a1513c23ca55de9565311678b5bd89b28cb959374c115c56047ac4fa60d630058677291f8a39e195dcd2d9d458e371485cb636d158c412d3ccc79cc1e6217325ab995912f62fe6f9726f92ad4d0da73f501b1db3e288efcdd9b622773dcf116d5d36c6fbf5e9600f3f7112d5a94eddf9977a2db04a3c7b9f47a84a696642ce707927f336a295fd8f77f042c485c915a0ac48eab870b3a682dbf3acb362bf8a705e726a4b499901a3a1cf20e5f58be0359706262e010f971723f3dd6c099196e6450b09297ceb08685daf778fe26c1e5e5c0d4a279333be8a1ec330ab9a27bd3cb721147b6342108ca13ea62009b76ffdc8843f95915b27cee35aa5583 \n",
      "\n",
      "number of bits: 2048 \n",
      "\n"
     ]
    }
   ],
   "source": [
    "(p, q, n) = my_find_n_p_q(2048)"
   ]
  },
  {
   "cell_type": "code",
   "execution_count": 24,
   "metadata": {
    "collapsed": false
   },
   "outputs": [
    {
     "name": "stdout",
     "output_type": "stream",
     "text": [
      "\n",
      " p \n",
      "\n",
      "decimal: 31,086,276,731,903,900,998,979,997,976,616,044,335,339,806,545,905,540,812,057,854,567,174,394,811,094,645,261,099,857,561,859,267,413,743,629,013,593,468,719,192,596,351,304,011,970,127,972,872,119,366,235,804,116,204,177,826,441,781,521,372,931,606,833,871,908,018,248,872,269,575,593,219,810,600,468,682,486,304,562,458,042,182,601,407,195,727,694,956,608,053,624,214,052,711,709,747,438,476,135,950,935,184,957,827,921,437,017,640,233,094,958,137,716,107,013,722,710,358,975,014,435,123,489,816,825,797,386,845,455,225,922,437,890,009,114,673,272,778,808,821,938,773,900,895,271,510,036,981,939,694,475,811,724,097,865,119,030,509,430,010,356,344,372,201,156,884,118,215,500,169,246,618,526,581,157,165,057,168,243,418,502,943,218,504,308,148,851,047,209,332,380,442,131,111,016,329,606,448,524,712,292,975,494,654,603 \n",
      "\n",
      "number of digits: 617 \n",
      "\n",
      "hex: f64030de84bd74796557d63246594945a12ca8005bf3c0446068300508621ae903e97ae7f71cfeb6879d01a3c88e1806f830440f91e593739b6d28cdc8be0937229200b9025206e773cef65446c15e71f5b10199c021ddc537158784ab377aa9ecc818d8454790b920cfbec8f07d07c6a1b982afed7aae8ea981fb97ad9cbe3388e0189ee2e8d3f6a501798ecc4ce66114a826ff893265d4d54ae64e5431da28ee0c6005d92c55249a0d2a51463b099c9638391f281a42d1341691214ad4cd57257184dc528c1d65126894e0ed7f9edf744aad9120fe0ea11c585cab5957cf0508772195ae44538e2a1b2ea142644158e058cb1442dfb0b205d493a3730d6a8b \n",
      "\n",
      "number of bits: 2048 \n",
      "\n",
      "\n",
      " q \n",
      "\n",
      "decimal: 28,778,504,192,487,627,321,265,111,150,304,308,237,464,855,100,869,798,380,411,217,223,001,776,394,826,765,149,775,377,124,591,447,173,956,712,421,862,823,695,323,055,742,319,881,495,275,879,382,932,910,851,017,299,079,381,269,669,422,401,855,222,743,513,521,668,271,924,773,225,739,529,870,190,624,927,818,168,462,222,978,321,036,800,488,022,589,303,954,961,843,378,812,403,429,384,279,124,490,409,403,795,085,243,292,631,467,079,680,631,933,743,300,760,937,570,058,631,399,078,195,700,427,394,449,324,839,110,906,233,298,418,333,380,447,553,762,668,283,685,182,182,296,809,773,181,490,562,510,692,169,037,668,671,950,488,089,062,043,287,997,616,308,813,720,999,136,261,158,010,590,544,256,235,490,839,681,817,081,751,401,231,299,428,780,568,706,631,456,343,842,202,795,130,944,501,688,352,675,624,549,446,428,146,434,589 \n",
      "\n",
      "number of digits: 617 \n",
      "\n",
      "hex: e3f83c0456610f97cd1b2177ced40ddd81d10f74c59d478c264400aa8f45c60f8f65d88f295b43922cd048de78667108ee8b0c06ec5da2ecae0645b8f7ae61d15e71033e7fc00d3339f12e59919023743074909ac44c76a1a1c376753a113e9feaac1f099534183e597167179e0781235a0882e518f7c8edcf36d886abdf68d9ecac7b0d4ae92a809f490466f3c36a2f04851f0899f4e68b3476d0c8f5414df0824ed03e358dbb720becb721b80cba6d2461bdc73cf0362e0515c2c9355195662046b2f81120e39bb8181b99e2bfac248c626ce6036fde8418ce9cbb799ae8440bd003dd6f7e84e2b4f681a16f8f645b6ce0f8bd11da7fed61abd59ba866821d \n",
      "\n",
      "number of bits: 2048 \n",
      "\n",
      "\n",
      " n \n",
      "\n",
      "decimal: 894,616,545,257,926,992,891,183,112,550,851,284,989,913,326,933,546,771,034,888,618,278,129,333,844,121,484,908,507,314,085,922,730,267,993,460,318,825,462,935,936,558,176,362,356,158,298,701,915,601,302,745,043,144,011,402,097,262,323,542,653,862,618,231,064,359,887,039,439,577,601,899,794,590,219,922,359,870,145,270,222,587,699,576,219,825,485,737,318,266,707,222,020,487,700,985,402,716,715,785,599,417,873,010,294,397,637,993,514,644,374,634,405,446,173,684,654,796,658,006,601,297,468,194,180,614,675,595,989,647,910,859,610,962,440,876,940,257,737,686,232,340,947,377,676,353,468,546,058,321,336,351,205,159,161,424,226,789,420,862,313,331,765,840,065,428,842,380,120,274,529,326,832,978,970,138,216,276,935,805,763,862,164,254,979,685,399,289,961,425,689,126,181,223,852,521,118,620,241,997,361,191,936,325,288,247,154,412,977,577,311,536,082,920,134,784,435,098,806,653,000,717,114,541,960,994,186,954,477,693,533,893,130,244,582,913,918,669,338,975,909,443,616,087,536,730,116,302,265,973,534,057,454,600,935,522,167,084,580,998,139,742,878,657,455,664,396,926,186,498,884,322,922,782,219,791,802,118,447,880,595,549,938,281,812,466,844,695,052,639,687,195,472,965,440,698,583,719,704,994,822,764,027,083,408,883,627,207,623,281,298,253,203,916,729,025,269,564,470,079,149,779,878,831,961,230,889,808,644,493,666,973,452,198,205,891,411,234,424,365,576,433,949,562,838,059,224,891,714,890,089,699,335,470,796,341,455,360,164,968,876,008,969,754,180,346,223,409,685,328,218,083,524,409,030,491,740,518,806,439,445,380,115,271,346,218,413,705,627,022,347,894,180,337,294,386,961,974,220,381,111,809,318,427,741,826,254,902,487,263,167 \n",
      "\n",
      "number of digits: 1233 \n",
      "\n",
      "hex: db49b33fded06e2401a6a3b66d20eb2433e043f3aea94a64bb0a7bd83d378f19b9d9bd5d67a29a81a6168aea97dcb362aba870be447d5f5565f7f40f2c1a64db164cdde7d23c6c8266380a9bba116a46cc5a70c1c78c636240edd674c41e309592fd0aa30c02a9a9f691878751f07fae115083b2d32ea5b30ac8b533979bba2ef79a7efb692a27c591c54976655622b0cb6754354a752f94108a43e0d989bf38cab86cc15fce82d227e09ed4a30eea20d6ce9e9b54c0025808cc52b33e02744f20013e3e42a2e7cb7766c329c8b659b6e8db05b172e04d9c256d0b021ad2984df8fd8a428ed34fe0c575f371a4c8297ec4fc9f98e205d3411b106736dc151b8dcd29dbf81096e76f91b146c2f7cd93ddd9d4e480bf4c69fe9d80dfaceb233ac6d75581ce1da0dd693909cd4880b5da1007695de91385bb16a2b4d13e4828b9e88d37c12cae8b36e7a079eb8fd9cab4bb9ad07135226c5ff70631cc79f8349ef07b97dbbe08054557e9044384b0dc8d403aaa64a6b6b3b298c691e24254df0bb09a1be05d34f0fce270b468aafee72c129098fd5da055a215eab55a7a1d21b6e0ff8429dbb7afcbc0cd7694a2bf90f7b4b47482b607c0929f550c4feefccc3a734c2a754f8e2514a598777bd456522e963910805a72b01efdb70aa32b8bd90ee1831adffcd85db2d1695672384e1141ad0a553a6d79ca286b5b4c885d8401a7bf \n",
      "\n",
      "number of bits: 4096 \n",
      "\n"
     ]
    }
   ],
   "source": [
    "(p, q, n) = my_find_n_p_q(4096)"
   ]
  },
  {
   "cell_type": "code",
   "execution_count": 0,
   "metadata": {
    "collapsed": false
   },
   "outputs": [
   ],
   "source": [
   ]
  }
 ],
 "metadata": {
  "kernelspec": {
   "display_name": "SageMath 9.1",
   "language": "sagemath",
   "metadata": {
    "cocalc": {
     "description": "Open-source mathematical software system",
     "priority": 10,
     "url": "https://www.sagemath.org/"
    }
   },
   "name": "sage-9.1"
  },
  "language_info": {
   "codemirror_mode": {
    "name": "ipython",
    "version": 3
   },
   "file_extension": ".py",
   "mimetype": "text/x-python",
   "name": "python",
   "nbconvert_exporter": "python",
   "pygments_lexer": "ipython3",
   "version": "3.7.3"
  }
 },
 "nbformat": 4,
 "nbformat_minor": 4
}