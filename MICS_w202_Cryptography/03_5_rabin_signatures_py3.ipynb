{
 "cells": [
  {
   "cell_type": "markdown",
   "metadata": {
    "collapsed": false
   },
   "source": [
    "### UC Berkeley, MICS, W202-Cryptography\n",
    "### Week 03 Breakout 5\n",
    "\n",
    "### Rabin Signatures\n",
    "\n",
    "In RSA, we used odd exponents for e and d.\n",
    "\n",
    "Rabin Signatures are based on using 2 as one of the exponents (squaring) and using 1/2 (square root) for the other exponent.\n",
    "\n",
    "Since we are finding square roots (quadratic residue) in modulo n where n = pq and both p and q are prime, we have 4 square roots for each square (if the roots exist).  Essentially a square in modulo prime has 2 square roots.  So both p and q have 2 square roots each.  So n has 4 square roots.\n",
    "\n",
    "(Note: consider the caveat \"if the square roots exist\" applies to all of this.  I won't keep repeating it here.)\n",
    "\n",
    "The first advantage we notice is that both e and d will be public, along with n.  Essentially only p and q need to be kept secret.  \n",
    "\n",
    "Squaring in modulo n is computationally easy, and it only has 1 solution, so it's good for the public part.\n",
    "\n",
    "Finding a square root in modular n (unless we know p, q and p, q were both selected under strict constraints) is computationally intractible given a large enough n, and also, it has 4 solutions as previously discussed.  Since it has 4 solutions, it's generally unsuitable for the public part, but good for the private part.  If someone uses it for the public part, which one of the 4 solutions should they use?  (There are some work around schemes but they never caught on)\n",
    "\n",
    "So, the best use of Rabin is for digital signatures.  To digitally sign, we encrypt a message by taking the 4 square roots in modulo n, and select 1 as the digital signature.  The verify the signature, all we have to do is square the digital signature in modulo n, which only has 1 solution, and compare it to the original.  \n",
    "\n",
    "Since Rabin is so similar to RSA with the difference being the exponents, as you can guess, it's subject to the same homomorphic attacks that RSA is.  So we need to add padding, similar to what we did with RSA, but Rabin specifies a collision resistant hash is needed after the padding.\n",
    "\n",
    "Steps:\n",
    "\n",
    "We will use e = 1/2 and d = 2.  we will take a square root to encrypt and take a square to decrypt.\n",
    "\n",
    "n = pq very similar in sizing to RSA, because if we can factor n into p and q, we can break Rabin.\n",
    "\n",
    "p and q must be chosen such that p mod 4 = 3 and q mod 4 = 3.  This constraint ensures that both p and q will have 1 of 4 quadratic residues in modulo.  This makes it really easy to find squares because so many exist.\n",
    "\n",
    "We generate a random pad, concatenate the pad with our message, and take a hash.  Most sources recommend a minimum 256 bit hash at present.  Also, the size of n needs to be at least 4 times the size of the hash, so if we use a 256 bit hash, n needs to be at least 1024 bits.\n",
    "\n",
    "We must now verify if the hash we just calculated is a square. We have a really quick way to check if the hash is a square. If h^((p-1)/2) mod p = 1 and h^((q-1)/2) mod q = 1, then it's a square!\n",
    "\n",
    "The digital signature formula takes the roots of h in p and the roots of h in q, selects 1 of each, and then uses the Chinese Remainder Theorem to combine them. (I'll let you look at the code below)  The formula looks really complicated, but it actually has very few operations.\n",
    "\n",
    "Verification of the digital signature is the best part.  Simply square the digital signature in modulo n and compare it to a hash of the original message and with the padding.  If they match the digital signature is valid.  \n",
    "\n"
   ]
  },
  {
   "cell_type": "code",
   "execution_count": 1,
   "metadata": {
    "collapsed": false
   },
   "outputs": [
   ],
   "source": [
    "import hashlib\n",
    "from sage.all import *"
   ]
  },
  {
   "cell_type": "code",
   "execution_count": 2,
   "metadata": {
    "collapsed": false
   },
   "outputs": [
   ],
   "source": [
    "def my_print_number(label, x):\n",
    "    \"prints a number in decimal, number of digits, hex, number of bits\"\n",
    "    \n",
    "    print (\"\\n\", label, '\\n')\n",
    "    print (\"decimal:\", \"{:,}\".format(x), \"\\n\")\n",
    "    print (\"number of digits:\", x.ndigits(), \"\\n\")\n",
    "    print (\"hex:\", x.hex(), \"\\n\")\n",
    "    print (\"number of bits:\", x.nbits(), \"\\n\")"
   ]
  },
  {
   "cell_type": "code",
   "execution_count": 3,
   "metadata": {
    "collapsed": false
   },
   "outputs": [
   ],
   "source": [
    "def my_find_n_p_q(b):\n",
    "    \"find two primes p and q, that satisfy p (mod 4) = 3 and q (mod 4) = 3, that when multiplied together yield n of the given number of bits\"\n",
    "    \n",
    "    max_tries = 10\n",
    "    \n",
    "    b_half = b // 2\n",
    "    \n",
    "    upper_limit = (2^b_half) - 1\n",
    "    lower_limit = (2^(b_half-1))\n",
    "    \n",
    "    p = random_prime(upper_limit, false, lower_limit)\n",
    "    \n",
    "    tries = 1\n",
    "    \n",
    "    while power_mod(p, 1, 4) != 3:\n",
    "        p = random_prime(upper_limit, false, lower_limit)\n",
    "        tries += 1\n",
    "        if tries > max_tries:\n",
    "            print (\"max tries \", max_tries, \"could not find a p where p (mod 4) = 3!\")\n",
    "            return\n",
    "        \n",
    "    print (\"\\nfinding p where p (mod 4) = 3 took \", tries, \"tries\\n\")\n",
    "    \n",
    "    q = random_prime(upper_limit, false, lower_limit)\n",
    "    \n",
    "    tries = 1\n",
    "    \n",
    "    while power_mod(q, 1, 4) != 3:\n",
    "        q = random_prime(upper_limit, false, lower_limit)\n",
    "        tries += 1\n",
    "        if tries > max_tries:\n",
    "            print (\"max tries \", max_tries, \"could not find a q where q (mod 4) = 3!\")\n",
    "            return\n",
    "    \n",
    "    print (\"\\nfinding q where q (mod 4) = 3 took \", tries, \"tries\\n\")\n",
    "    \n",
    "    n = p * q\n",
    "    \n",
    "    my_print_number(\"p\", p)\n",
    "    my_print_number(\"q\", q)\n",
    "    my_print_number(\"n\", n)\n",
    "    \n",
    "    return (p, q, n)"
   ]
  },
  {
   "cell_type": "code",
   "execution_count": 4,
   "metadata": {
    "collapsed": false
   },
   "outputs": [
    {
     "name": "stdout",
     "output_type": "stream",
     "text": [
      "\n",
      "finding p where p (mod 4) = 3 took  1 tries\n",
      "\n"
     ]
    },
    {
     "name": "stdout",
     "output_type": "stream",
     "text": [
      "\n",
      "finding q where q (mod 4) = 3 took  1 tries\n",
      "\n",
      "\n",
      " p \n",
      "\n",
      "decimal: 21,874,941,132,649,201,033,883,029,325,890,384,000,995,668,447,472,104,501,206,359,188,144,285,604,722,870,455,576,770,755,972,685,486,660,625,942,890,220,459,490,285,027,658,285,714,443,928,101,285,095,141,382,217,525,779,769,937,582,306,979,701,372,330,527,661,099,229,296,708,974,890,354,134,155,680,860,781,524,942,029,702,454,487,377,463,791,543,075,107,458,778,060,005,114,161,285,066,941,109,130,297,937,760,620,918,711,081,030,475,725,498,258,018,378,699,269,082,525,813,311,085,989,502,556,122,171,907,815,933,948,977,909,990,266,429,580,144,376,346,822,287,456,611,349,981,588,843,710,163,356,598,447,269,499,772,760,979,431,052,183,749,615,901,742,763,964,416,720,077,440,253,369,484,198,172,945,661,901,837,977,706,431,959,876,077,985,320,012,112,055,896,508,464,881,934,388,210,672,671,549,603,593,291,020,031 \n",
      "\n",
      "number of digits: 617 \n",
      "\n",
      "hex: ad486cf156f1c570085419bc05c970b18756f2a65fac4d2e2c3cb84dad83de71ba4bcc31fcdaf1673041bb83178fd537a3fadf28e7d976ab5e43d0548699c6bb5a7986192114db24d9dab030fe32352cfb62cb42a5dfd39fcd947344083c6751d8c78479abf7d524777499c45ff72b589ea6ff8827adb9c78134a797ebf85f31efb0c286406e423961816e332eeffee431be298782a7351068be9c6d649d1ab6ef802adc467dcab11bc518645ced080544d3453e23ca31171ecc3b1a0af130fda6130a767e8e2f03b7375e8f74bb89f79744194ca0c5d866b817ec8d914431a24d1ffa03db177907990671bd2bb934db6d2470ea48ea9ecf333aba27b67fb6ff \n",
      "\n",
      "number of bits: 2048 \n",
      "\n",
      "\n",
      " q \n",
      "\n",
      "decimal: 24,086,402,179,538,566,121,955,931,642,783,369,769,227,193,134,975,987,841,580,599,808,774,261,046,256,162,973,641,173,880,598,951,672,808,421,098,199,879,079,954,650,167,943,516,278,640,565,828,263,632,160,763,966,717,939,245,534,309,342,991,383,699,694,138,476,047,809,550,326,654,296,614,696,799,063,984,543,279,770,912,564,151,247,808,903,900,512,480,426,581,063,238,587,095,864,374,345,303,726,123,084,033,420,212,160,271,437,042,512,226,871,120,591,824,701,008,699,866,860,994,986,071,690,707,219,788,719,250,599,939,672,323,734,408,003,248,440,063,975,134,072,258,467,876,761,654,690,934,382,127,243,263,443,287,451,724,463,731,284,145,844,807,070,701,288,140,050,712,583,440,522,216,727,840,380,789,988,638,145,716,658,944,520,344,224,917,445,918,809,888,640,612,439,864,078,695,006,300,481,838,463,970,564,596,571 \n",
      "\n",
      "number of digits: 617 \n",
      "\n",
      "hex: becd1227551cc409588e3828a9bca5f85d97f99a6eda2ef219b82a0192249321d4204b5538cb836e7200be8ec746d5c24987da9e58a700b75af370a927e34d322bb066c9aae82d2b9f6396f42624267d31c060a6b832f330252030c9e3f4f34c9607971056457d37900d71804d74bd79e24655fb6fff0d155845817c2ad805d54032ee917ab92ca298e4b95dab34120e037b979ecfc402a96d9dc5a38ab1dc0fa23364e6843ea2aac3fc3ac917e1f8e5caa03067d8948d909503e14f9c19adce7363ddb4ef828e865add023bc85eb1324495aa6e5a0fc55ad82efb092480849d04440151adcaf123f8cceb092c621c122d89f77e9640132674a8fe7376db635b \n",
      "\n",
      "number of bits: 2048 \n",
      "\n",
      "\n",
      " n \n",
      "\n",
      "decimal: 526,888,629,774,719,546,038,954,425,453,537,477,129,752,576,930,092,158,225,495,897,050,919,165,390,965,393,527,601,964,951,226,853,504,605,736,054,120,170,525,789,828,167,077,930,426,916,694,637,025,667,831,017,606,241,739,475,193,906,518,106,413,567,108,975,551,040,125,143,738,744,401,811,811,794,041,270,181,162,074,049,866,612,425,132,952,512,510,821,576,118,473,173,412,970,100,365,706,218,627,682,323,711,263,269,621,876,773,986,800,040,956,972,750,237,066,413,593,237,010,049,613,365,971,491,168,318,349,450,271,855,139,276,894,409,161,697,886,625,595,840,158,822,910,505,883,416,045,704,591,924,291,365,683,187,859,733,196,562,154,626,941,255,429,360,899,632,369,258,968,841,763,706,798,203,123,243,446,202,276,938,562,044,052,074,238,191,741,951,601,509,319,576,438,984,700,324,692,012,370,840,399,452,442,617,544,845,617,798,749,447,650,331,751,816,991,799,877,675,994,327,073,756,982,041,199,246,349,127,054,015,927,505,696,058,470,634,761,475,366,108,491,381,063,584,739,633,460,697,943,217,442,394,900,193,196,920,451,482,265,446,907,936,848,278,897,128,280,254,969,969,424,616,510,646,144,108,495,798,018,380,543,987,982,849,659,264,777,735,225,066,434,407,825,820,173,258,461,119,497,624,065,687,080,727,750,382,186,377,813,320,459,372,160,083,320,833,709,237,742,612,696,246,985,521,320,092,257,732,503,582,314,026,303,125,289,327,699,691,665,405,902,601,338,078,187,608,492,231,344,739,348,709,941,087,515,637,438,039,671,077,016,377,904,853,013,339,932,814,115,915,186,195,106,310,853,517,541,799,869,028,242,079,637,753,688,387,009,583,408,293,551,692,261,545,273,242,754,350,591,116,640,893,304,376,723,171,584,594,913,701 \n",
      "\n",
      "number of digits: 1233 \n",
      "\n",
      "hex: 81269024131825cf52c598c90cf57d3698b38c91c00fa061a7460a60aa158d131b14510ebc3d9ed3494bed2321dd68b5fdcbc6ef3fa371e2433a7ecdad88e392781be87ad95bd1691d0605f28a62c699a6f11937ed50da849d73b9fe76b524c507860b66600bf54971d8cac282245f266ca32a1483cdbca9751c0ae84b3784d74a4ff98381a092f0172f49eab309ded2aebbbd2516679161c1d2f9c85b4809bd61522a0c9bd9f765452c85ac21c15b1bfb3ea9d692791cf538fcd974557b6728ea1f5949e6a8a90f5df67603bc8b4b8c9fcff9b829825d4ecbff8e4edac5fa85ef8515741ecd1ed2b293324cac3fca449168b7b0d88efbf107b7b3b13b0a44258129a981fc89bd8e85309b2b605558fbbb30a8fee39c8c7a30fce5c1f2880a2471d1cab74e014ed472ef2eec61fc49014fa24fbdd4f711bee8806973ae98d19f1328d532be9ec7d4d5b04ad40cb78fe109223f762e259cd3c05d49c0a574dfa13141ddf98871739a09d5a246ae9d9e06a2540123cec7165d794db62e8d7b2c2790df95716be4776f5cc09735e3673b89364ae85a7f7742e885951c1beeb3d959e03c2b8564614ac20267551bcc4139924b85ba3b0c107324cdd31cbd613652b9c0ed206885e0f62ba4b99e72a51719274ea5457d36228fda5e229baa6d5701c2c7131f979f82a93d9ac562697a612256b3168e4a2fcf3a01d03dbbd9594fa9a5 \n",
      "\n",
      "number of bits: 4096 \n",
      "\n"
     ]
    }
   ],
   "source": [
    "# come back here and re-run with the remaining bit sizes\n",
    "\n",
    "# since the hash is 256 bits, and there 4 quadratic residues, we must use a minimum bit size of 1024\n",
    "\n",
    "#(p, q, n) = my_find_n_p_q(1024)\n",
    "#(p, q, n) = my_find_n_p_q(2048)\n",
    "(p, q, n) = my_find_n_p_q(4096)\n"
   ]
  },
  {
   "cell_type": "code",
   "execution_count": 5,
   "metadata": {
    "collapsed": false
   },
   "outputs": [
   ],
   "source": [
    "# m is our original message\n",
    "\n",
    "m = 1234567890"
   ]
  },
  {
   "cell_type": "code",
   "execution_count": 6,
   "metadata": {
    "collapsed": false
   },
   "outputs": [
   ],
   "source": [
    "def my_pad_hash_verify_repeat(m, p, q):\n",
    "    \"give a message m, pad it, hash it, verify it's a square in modulo n\"\n",
    "    \n",
    "    max_tries = 100\n",
    "    \n",
    "    found = False\n",
    "    \n",
    "    tries = 0\n",
    "    \n",
    "    while not found:\n",
    "        \n",
    "        tries += 1\n",
    "        if tries > max_tries:\n",
    "            print (\"max tries \", max_tries, \"could not find a padded hashed message that was a square in modulo n!\")\n",
    "            return (0, 0)\n",
    "        \n",
    "        # find a random pad of size 5\n",
    "        random_pad = str(randint(10000,99999))\n",
    "        \n",
    "        # hash the original message concatenated with the random pad\n",
    "        h = Integer(\"0x\" + hashlib.sha256((str(m) + random_pad).encode('utf-8')).hexdigest())\n",
    "        \n",
    "        if power_mod(h, (p-1)//2, p) != 1:\n",
    "            continue\n",
    "            \n",
    "        if power_mod(h, (q-1)//2, q) != 1:\n",
    "            continue\n",
    "            \n",
    "        found = true\n",
    "    \n",
    "    print (\"\\ntook \", tries, \" tries to find a padded hashed message that was a square in modulo n\\n\")\n",
    "    \n",
    "    return random_pad, h"
   ]
  },
  {
   "cell_type": "code",
   "execution_count": 7,
   "metadata": {
    "collapsed": false,
    "scrolled": true
   },
   "outputs": [
    {
     "name": "stdout",
     "output_type": "stream",
     "text": [
      "\n",
      "took  4  tries to find a padded hashed message that was a square in modulo n\n",
      "\n",
      "h padded hashed message in hex: 0x9b416d15ecb9c0fcc25ddf84c541ef184a40c33a4cd5fa1db896ec9e0ea76ab \n",
      "\n",
      "pad: 70699\n"
     ]
    }
   ],
   "source": [
    "(pad, h) = my_pad_hash_verify_repeat(m, p, q)\n",
    "\n",
    "print (\"h padded hashed message in hex:\", hex(h), \"\\n\")\n",
    "\n",
    "print (\"pad:\", str(pad))"
   ]
  },
  {
   "cell_type": "code",
   "execution_count": 8,
   "metadata": {
    "collapsed": false
   },
   "outputs": [
   ],
   "source": [
    "def my_create_signature(h, n, p, q):\n",
    "    \"given the padded hash h, n, p, q, create the rabin signature in modulo n\"\n",
    "    \n",
    "    s1 = power_mod(p, q-2, q) * power_mod(h, (q+1)//4, q)\n",
    "    \n",
    "    s2 = power_mod(q, p-2, p) * power_mod(h, (p+1)//4, p)\n",
    "    \n",
    "    s = power_mod( (s1 * p) + (s2 * q), 1, n)\n",
    "    \n",
    "    return s"
   ]
  },
  {
   "cell_type": "code",
   "execution_count": 9,
   "metadata": {
    "collapsed": false
   },
   "outputs": [
    {
     "name": "stdout",
     "output_type": "stream",
     "text": [
      "\n",
      " rabin signature \n",
      "\n",
      "decimal: 467,944,690,835,187,459,757,306,440,848,559,951,750,188,099,755,253,892,742,675,269,368,991,833,578,674,937,002,701,315,153,882,597,979,077,070,153,861,142,800,942,299,758,549,040,643,971,841,874,229,359,297,871,877,011,089,073,364,072,004,062,996,700,382,842,364,946,977,910,456,410,087,044,383,267,341,893,707,924,780,407,463,121,650,207,523,409,333,220,188,109,626,704,570,301,245,098,686,070,528,502,660,141,411,735,157,832,156,754,535,917,336,860,752,602,328,615,639,992,917,695,342,164,827,252,199,744,937,195,344,660,557,240,758,716,138,301,089,116,919,718,654,978,299,762,244,554,819,692,236,683,824,060,869,134,680,986,932,304,486,960,437,643,620,011,127,080,665,782,634,672,259,657,066,468,353,713,067,172,157,622,909,322,917,537,317,896,182,040,164,900,660,069,103,270,590,424,939,625,146,210,863,942,803,227,749,565,609,844,321,879,706,998,404,348,830,243,273,086,222,173,064,374,766,268,729,531,596,063,356,639,628,782,418,822,520,521,737,763,372,172,239,082,869,561,847,250,548,104,992,382,099,466,320,371,354,589,948,108,036,623,986,643,171,952,977,706,387,382,044,087,141,509,866,703,682,260,889,421,707,100,468,019,843,412,832,898,976,405,747,802,295,517,958,921,315,745,866,206,732,562,285,434,553,466,441,643,011,609,701,033,753,127,089,695,597,065,018,790,021,032,203,259,798,744,224,467,071,170,753,450,474,580,257,610,025,599,943,897,775,826,214,524,658,258,268,198,572,547,227,131,132,217,497,460,159,048,405,168,508,346,007,670,672,140,198,724,525,159,296,544,362,105,946,464,485,613,482,701,114,128,713,872,646,093,911,516,727,636,119,398,289,836,556,669,095,119,000,394,696,242,620,651,513,663,123,078,482,501,934,476 \n",
      "\n",
      "number of digits: 1233 \n",
      "\n",
      "hex: 72b3cc11f65f0253196758ba20ebdb0397ac2599ae2a3c6aa2c25991008789827557ac7a3c87c5cb6f34509c117ba685cbc20c97f50ce63d712b993da8a4190713889976415ae9234626669937aa0c23c295d1fa483fa3f149e575a24894f816f5ade2642d98046ac7a36efaf41fed04ea6763af2144153aa23a077b81bef96662abba488f384c2ab59e8f4f0da2eb9c232f421105ed32ee23733dcab9d8eeb6cb40e169712018e0149eb78d9ef1a0ea424fba0de67b1bfb4b88e22229498d52790f3062ba6abfa97a35c03246ab121499e9dc0082b7049c2af75728928ae784b7f7c7dd20c2ac0c7845bfb5dbc60b50670660c51aeebdadd88766f698248cff0d05e4b6268ba8a24c449532cb3d124a8d8861f25551d49964796061c26c19ca122e887b3a5534abc27a57a42c98cd867fe59afe266ff7d11d9740ee9b061306bb59ceb3f8c64717951e354f144554e0a917d4616d59991f8b67250fd12ca58b77a8f6acdc4a05bffd6c53aec7dd523cb0363fbe1ffd32f13b1bde67e5bfbd1a303c216c1c422b2f2e4a2b2f0e2931507a2b948cf503021b49b08c9cf7614f957dfddbbfa6f0f3b1d05ce04d06c99e268d3ee2160e7305e69206e8934c8477d7681fb76b45f9722fe47c6bff981bbd1ee53a3de6543f1eae47203d8a7cb122a33774a3bfec9c45a5f906eef963b3f6acd3455bebcb6ea8584a27f10ebaa19d8c \n",
      "\n",
      "number of bits: 4095 \n",
      "\n"
     ]
    }
   ],
   "source": [
    "signature = my_create_signature(h, n, p, q)\n",
    "\n",
    "my_print_number(\"rabin signature\", signature)"
   ]
  },
  {
   "cell_type": "code",
   "execution_count": 10,
   "metadata": {
    "collapsed": false
   },
   "outputs": [
   ],
   "source": [
    "def my_verify_signature(signature, m, pad, n):\n",
    "    \"given the signature, the original message, the pad used, square the signature in modulo n and verify it matches the hash of the message and pad\"\n",
    "    \n",
    "    square_of_signature = power_mod(signature, 2, n)\n",
    "    \n",
    "    # hash the original message concatenated with the random pad\n",
    "    hash_message_pad = Integer(\"0x\" + hashlib.sha256((str(m) + pad).encode('utf-8')).hexdigest())\n",
    "    \n",
    "    if square_of_signature == hash_message_pad:\n",
    "        print (\"signature is valid!\")\n",
    "    else:\n",
    "        print (\"signature is NOT valid!\")\n",
    "        \n",
    "    "
   ]
  },
  {
   "cell_type": "code",
   "execution_count": 11,
   "metadata": {
    "collapsed": false
   },
   "outputs": [
    {
     "name": "stdout",
     "output_type": "stream",
     "text": [
      "signature is valid!\n"
     ]
    }
   ],
   "source": [
    "my_verify_signature(signature, m, pad, n)"
   ]
  },
  {
   "cell_type": "code",
   "execution_count": 0,
   "metadata": {
    "collapsed": false
   },
   "outputs": [
   ],
   "source": [
   ]
  }
 ],
 "metadata": {
  "kernelspec": {
   "display_name": "SageMath 9.1",
   "language": "sagemath",
   "metadata": {
    "cocalc": {
     "description": "Open-source mathematical software system",
     "priority": 10,
     "url": "https://www.sagemath.org/"
    }
   },
   "name": "sage-9.1"
  },
  "language_info": {
   "codemirror_mode": {
    "name": "ipython",
    "version": 3
   },
   "file_extension": ".py",
   "mimetype": "text/x-python",
   "name": "python",
   "nbconvert_exporter": "python",
   "pygments_lexer": "ipython3",
   "version": "3.7.3"
  }
 },
 "nbformat": 4,
 "nbformat_minor": 4
}