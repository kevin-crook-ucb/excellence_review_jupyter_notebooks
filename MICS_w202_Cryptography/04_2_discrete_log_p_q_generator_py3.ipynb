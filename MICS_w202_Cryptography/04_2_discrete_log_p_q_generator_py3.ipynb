{
 "cells": [
  {
   "cell_type": "markdown",
   "metadata": {
    "collapsed": false
   },
   "source": [
    "### UC Berkeley, MICS, W202-Cryptography\n",
    "### Week 04 Breakout 2\n",
    "### Discrete Logarithms - Finding Generators (Primitive Roots) for a Discrete Logarithm for a large prime p using the method of p = 2q + 1, where p and q are large primes"
   ]
  },
  {
   "cell_type": "markdown",
   "metadata": {
    "collapsed": false
   },
   "source": [
    "Discrete Logarithm Problem: give a large prime p, a generator (primitive root) g, a in 1..(p-1) inclusive, find k such that g ^ k is congruent to a (mod p)\n",
    "\n",
    "Solving the discrete logarithm problem is computationally intractible given a large prime p.  \n",
    "\n",
    "A generator (primitive root), when raised to powers between 1..(p-1) inclusive, produces all values from 1..(p-1) inclusive\n",
    "\n",
    "Finding a generator for a large p in computationally intractible, unless we use our special method of p = 2q + 1, which we will cover in this breakout:\n",
    "\n",
    "* we need to size p in bits using RSA guidelines, 1024 bits is safe today, most now recommend 2048, some even use 4096\n",
    "\n",
    "* q should be 1 bit smaller than p\n",
    "\n",
    "* we find a random prime q, calculate p = 2q + 1, and check to see if p is prime (which is relatively rare)\n",
    "\n",
    "* if p is prime, we continue, otherwise we keep generating random prime q until we find p = 2q + 1 where p is prime\n",
    "\n",
    "* note: it can take a lot of tries to find a p depending on the number of bits\n",
    "\n",
    "* after we find a suitable p and q, we need to find a generator g.  if g ^ q (mod p) is not equal to 1, then g is a generator\n",
    "\n",
    "* since the computational intractibility of a discrete logarithm is not affected by the size of g, we want to use the smallest g, even 2 is ok if 2 is a generator\n"
   ]
  },
  {
   "cell_type": "code",
   "execution_count": 1,
   "metadata": {
    "collapsed": false
   },
   "outputs": [
   ],
   "source": [
    "from sage.all import *"
   ]
  },
  {
   "cell_type": "code",
   "execution_count": 2,
   "metadata": {
    "collapsed": false
   },
   "outputs": [
   ],
   "source": [
    "def my_print_number(label, x):\n",
    "    \"prints a number in decimal, number of digits, hex, number of bits\"\n",
    "    \n",
    "    print (\"\\n\", label, '\\n')\n",
    "    print (\"decimal:\", \"{:,}\".format(x), \"\\n\")\n",
    "    print (\"number of digits:\", x.ndigits(), \"\\n\")\n",
    "    print (\"hex:\", x.hex(), \"\\n\")\n",
    "    print (\"number of bits:\", x.nbits(), \"\\n\")"
   ]
  },
  {
   "cell_type": "code",
   "execution_count": 3,
   "metadata": {
    "collapsed": false
   },
   "outputs": [
   ],
   "source": [
    "def my_find_prime(b):\n",
    "    \"find a prime p of the given number of bits\"\n",
    "    \n",
    "    upper_limit = (2^b) - 1\n",
    "    lower_limit = (2^(b-1))\n",
    "    \n",
    "    p = random_prime(upper_limit, false, lower_limit)\n",
    "   \n",
    "    return (p)"
   ]
  },
  {
   "cell_type": "code",
   "execution_count": 4,
   "metadata": {
    "collapsed": false
   },
   "outputs": [
   ],
   "source": [
    "def my_find_discrete_log_p_q(b, max_tries):\n",
    "    \"given a number of bits, find p and q, such that p is of bit size, p and q are both prime, and p = 2q + 1\"\n",
    "    \n",
    "    tries = 0\n",
    "    \n",
    "    found = False\n",
    "    \n",
    "    while not found:\n",
    "        \n",
    "        q = my_find_prime(b-1)\n",
    "    \n",
    "        p = (2 * q) + 1\n",
    "        \n",
    "        if is_prime(p):\n",
    "            found = true\n",
    "            break\n",
    "        \n",
    "        tries += 1\n",
    "        \n",
    "        if tries > max_tries:\n",
    "            print (\"maximum tries without finding a p an q\")\n",
    "            return (1, 1)\n",
    "    \n",
    "    print (\"\\nTook \" + str(tries) + \" tries to find a p and q in \" + str(b) + \" bits\")\n",
    "    \n",
    "    return (p, q)\n"
   ]
  },
  {
   "cell_type": "code",
   "execution_count": 5,
   "metadata": {
    "collapsed": false,
    "scrolled": true
   },
   "outputs": [
   ],
   "source": [
    "# here you can set the bit size for p\n",
    "# > 1024 will take a long time\n",
    "\n",
    "# time permitting you can come back here and try it multiple times, and also try different bit sizes\n",
    "\n",
    "b = 64\n",
    "#b = 128\n",
    "#b = 256\n",
    "#b = 512\n",
    "#b = 1024\n",
    "#b = 2048\n",
    "#b = 4096"
   ]
  },
  {
   "cell_type": "code",
   "execution_count": 6,
   "metadata": {
    "collapsed": false
   },
   "outputs": [
    {
     "name": "stdout",
     "output_type": "stream",
     "text": [
      "\n",
      "Took 35 tries to find a p and q in 64 bits\n"
     ]
    }
   ],
   "source": [
    "(p, q) = my_find_discrete_log_p_q(b,1000)"
   ]
  },
  {
   "cell_type": "code",
   "execution_count": 7,
   "metadata": {
    "collapsed": false
   },
   "outputs": [
    {
     "name": "stdout",
     "output_type": "stream",
     "text": [
      "\n",
      " p \n",
      "\n",
      "decimal: 10,931,848,699,714,761,683 \n",
      "\n",
      "number of digits: 20 \n",
      "\n",
      "hex: 97b5ba7914d073d3 \n",
      "\n",
      "number of bits: 64 \n",
      "\n"
     ]
    }
   ],
   "source": [
    "my_print_number(\"p\", p)"
   ]
  },
  {
   "cell_type": "code",
   "execution_count": 8,
   "metadata": {
    "collapsed": false
   },
   "outputs": [
    {
     "name": "stdout",
     "output_type": "stream",
     "text": [
      "\n",
      " q \n",
      "\n",
      "decimal: 5,465,924,349,857,380,841 \n",
      "\n",
      "number of digits: 19 \n",
      "\n",
      "hex: 4bdadd3c8a6839e9 \n",
      "\n",
      "number of bits: 63 \n",
      "\n"
     ]
    }
   ],
   "source": [
    "my_print_number(\"q\", q)"
   ]
  },
  {
   "cell_type": "code",
   "execution_count": 9,
   "metadata": {
    "collapsed": false
   },
   "outputs": [
   ],
   "source": [
    "def my_find_generator(p, q, num_generators):\n",
    "    \"given p and q where p = 2q + 1, start with 2 and find the first generator (generator size does not matter, smallest is best)\"\n",
    "    \n",
    "    print (\"\\nFinding the first \" + str(num_generators) + \" generators for p:\\n\")\n",
    "    print (\"{:,}\".format(p), \"\\n\")\n",
    "    \n",
    "    generator_list = []\n",
    "    \n",
    "    g = 2\n",
    "    \n",
    "    while len(generator_list) < num_generators:\n",
    "        \n",
    "        if g == (p - 1):\n",
    "            break\n",
    "        \n",
    "        if power_mod(g, q, p) != 1:\n",
    "            generator_list.append(g)\n",
    "            print (\"generator: \" + str(g))\n",
    "        \n",
    "        g += 1\n",
    "            \n",
    "    return generator_list"
   ]
  },
  {
   "cell_type": "code",
   "execution_count": 10,
   "metadata": {
    "collapsed": false
   },
   "outputs": [
    {
     "name": "stdout",
     "output_type": "stream",
     "text": [
      "\n",
      "Finding the first 100 generators for p:\n",
      "\n",
      "10,931,848,699,714,761,683 \n",
      "\n",
      "generator: 2\n",
      "generator: 5\n",
      "generator: 6\n",
      "generator: 7\n",
      "generator: 8\n",
      "generator: 13\n",
      "generator: 15\n",
      "generator: 17\n",
      "generator: 18\n",
      "generator: 20\n",
      "generator: 21\n",
      "generator: 22\n",
      "generator: 23\n",
      "generator: 24\n",
      "generator: 28\n",
      "generator: 31\n",
      "generator: 32\n",
      "generator: 38\n",
      "generator: 39\n",
      "generator: 45\n",
      "generator: 47\n",
      "generator: 50\n",
      "generator: 51\n",
      "generator: 52\n",
      "generator: 54\n",
      "generator: 55\n",
      "generator: 58\n",
      "generator: 60\n",
      "generator: 63\n",
      "generator: 66\n",
      "generator: 68\n",
      "generator: 69\n",
      "generator: 70\n",
      "generator: 72\n",
      "generator: 74\n",
      "generator: 77\n",
      "generator: 79\n",
      "generator: 80\n",
      "generator: 82\n",
      "generator: 83\n",
      "generator: 84\n",
      "generator: 86\n",
      "generator: 88\n",
      "generator: 89\n",
      "generator: 92\n",
      "generator: 93\n",
      "generator: 95\n",
      "generator: 96\n",
      "generator: 97\n",
      "generator: 98\n",
      "generator: 106\n",
      "generator: 107\n",
      "generator: 112\n",
      "generator: 114\n",
      "generator: 117\n",
      "generator: 118\n",
      "generator: 122\n",
      "generator: 124\n",
      "generator: 125\n",
      "generator: 128\n",
      "generator: 130\n",
      "generator: 133\n",
      "generator: 134\n",
      "generator: 135\n",
      "generator: 137\n",
      "generator: 139\n",
      "generator: 141\n",
      "generator: 142\n",
      "generator: 143\n",
      "generator: 145\n",
      "generator: 146\n",
      "generator: 149\n",
      "generator: 150\n",
      "generator: 152\n",
      "generator: 153\n",
      "generator: 156\n",
      "generator: 157\n",
      "generator: 162\n",
      "generator: 163\n",
      "generator: 165\n",
      "generator: 170\n",
      "generator: 173\n",
      "generator: 174\n",
      "generator: 175\n",
      "generator: 179\n",
      "generator: 180\n",
      "generator: 181\n",
      "generator: 182\n",
      "generator: 185\n",
      "generator: 187\n",
      "generator: 188\n",
      "generator: 189\n",
      "generator: 193\n",
      "generator: 198\n",
      "generator: 199\n",
      "generator: 200\n",
      "generator: 202\n",
      "generator: 203\n",
      "generator: 204\n",
      "generator: 205\n"
     ]
    }
   ],
   "source": [
    "generator_list = my_find_generator(p, q, 100)"
   ]
  },
  {
   "cell_type": "code",
   "execution_count": 0,
   "metadata": {
    "collapsed": false
   },
   "outputs": [
   ],
   "source": [
   ]
  }
 ],
 "metadata": {
  "kernelspec": {
   "display_name": "SageMath 9.1",
   "language": "sagemath",
   "metadata": {
    "cocalc": {
     "description": "Open-source mathematical software system",
     "priority": 10,
     "url": "https://www.sagemath.org/"
    }
   },
   "name": "sage-9.1"
  },
  "language_info": {
   "codemirror_mode": {
    "name": "ipython",
    "version": 3
   },
   "file_extension": ".py",
   "mimetype": "text/x-python",
   "name": "python",
   "nbconvert_exporter": "python",
   "pygments_lexer": "ipython3",
   "version": "3.7.3"
  }
 },
 "nbformat": 4,
 "nbformat_minor": 4
}