{
 "cells": [
  {
   "cell_type": "markdown",
   "metadata": {
    "collapsed": false
   },
   "source": [
    "### UC Berkeley, MICS, W202-Cryptography\n",
    "### Week 02  Breakout 1\n",
    "### Breaking RSA by factoring n into p and q by brute force\n"
   ]
  },
  {
   "cell_type": "markdown",
   "metadata": {
    "collapsed": false
   },
   "source": [
    "Here is an example where we will actually decode a ciphertext into plaintext by breaking RSA by factoring n into p and q by brute force.\n",
    "\n",
    "We will use 128 bits for n in this example.  128 bits was the norm in the mid 1990s when it was still computationally intractible with computers of the time. On modern computers, 128 bits is easy to factor as you will soon see.\n",
    "\n",
    "Publically known: <n, e> (public key), c (ciphertext)\n",
    "\n",
    "Objective: decrypting the ciphertext c into plaintext m using only the public key <n, e>\n",
    "\n",
    "Steps:\n",
    "* factor n into p and q using brute force\n",
    "* calculate Euler's phi = (p-1)(q-1)\n",
    "* using the Extended Euclidean Algorithm, solve Bezout's Identity for d (private key)\n",
    "* once we have recovered the private key d, we can decrypt as we normally would, m = c^d (mod n)"
   ]
  },
  {
   "cell_type": "code",
   "execution_count": 1,
   "metadata": {
    "collapsed": false
   },
   "outputs": [
   ],
   "source": [
    "from sage.all import *"
   ]
  },
  {
   "cell_type": "code",
   "execution_count": 2,
   "metadata": {
    "collapsed": false
   },
   "outputs": [
   ],
   "source": [
    "def my_print_number(label, x):\n",
    "    \"prints a number in decimal, number of digits, hex, number of bits\"\n",
    "    \n",
    "    print (\"\\n\", label, '\\n')\n",
    "    print (\"decimal:\", \"{:,}\".format(x), \"\\n\")\n",
    "    print (\"number of digits:\", x.ndigits(), \"\\n\")\n",
    "    print (\"hex:\", x.hex(), \"\\n\")\n",
    "    print (\"number of bits:\", x.nbits(), \"\\n\")"
   ]
  },
  {
   "cell_type": "code",
   "execution_count": 3,
   "metadata": {
    "collapsed": false
   },
   "outputs": [
   ],
   "source": [
    "# publically known:\n",
    "#\n",
    "# <n,e> is the public key \n",
    "# c is the cipher text\n",
    "\n",
    "n = 0x8910bcf5972f024f3fee8af55f4faef1\n",
    "e = 0x5ae303ffd95a5b66f9667d3455e5894b\n",
    "c = 0x41ed10ac1ed06b67429446d4800358bf"
   ]
  },
  {
   "cell_type": "code",
   "execution_count": 4,
   "metadata": {
    "collapsed": false
   },
   "outputs": [
    {
     "name": "stdout",
     "output_type": "stream",
     "text": [
      "\n",
      " n \n",
      "\n",
      "decimal: 182,191,144,722,964,401,241,857,980,467,499,740,913 \n",
      "\n",
      "number of digits: 39 \n",
      "\n",
      "hex: 8910bcf5972f024f3fee8af55f4faef1 \n",
      "\n",
      "number of bits: 128 \n",
      "\n"
     ]
    }
   ],
   "source": [
    "my_print_number(\"n\",n)"
   ]
  },
  {
   "cell_type": "code",
   "execution_count": 5,
   "metadata": {
    "collapsed": false
   },
   "outputs": [
    {
     "name": "stdout",
     "output_type": "stream",
     "text": [
      "\n",
      " e \n",
      "\n",
      "decimal: 120,809,252,125,207,568,615,322,638,509,316,344,139 \n",
      "\n",
      "number of digits: 39 \n",
      "\n",
      "hex: 5ae303ffd95a5b66f9667d3455e5894b \n",
      "\n",
      "number of bits: 127 \n",
      "\n"
     ]
    }
   ],
   "source": [
    "my_print_number(\"e\", e)"
   ]
  },
  {
   "cell_type": "code",
   "execution_count": 6,
   "metadata": {
    "collapsed": false
   },
   "outputs": [
    {
     "name": "stdout",
     "output_type": "stream",
     "text": [
      "\n",
      " c \n",
      "\n",
      "decimal: 87,630,732,236,826,410,830,048,074,749,582,727,359 \n",
      "\n",
      "number of digits: 38 \n",
      "\n",
      "hex: 41ed10ac1ed06b67429446d4800358bf \n",
      "\n",
      "number of bits: 127 \n",
      "\n"
     ]
    }
   ],
   "source": [
    "my_print_number(\"c\", c)"
   ]
  },
  {
   "cell_type": "code",
   "execution_count": 7,
   "metadata": {
    "collapsed": false
   },
   "outputs": [
   ],
   "source": [
    "# factor n by brute force into p and q\n",
    "\n",
    "f = factor(n)\n",
    "q = f[0][0]\n",
    "p = f[1][0]"
   ]
  },
  {
   "cell_type": "code",
   "execution_count": 8,
   "metadata": {
    "collapsed": false
   },
   "outputs": [
    {
     "name": "stdout",
     "output_type": "stream",
     "text": [
      "\n",
      " p \n",
      "\n",
      "decimal: 14,317,928,671,491,216,817 \n",
      "\n",
      "number of digits: 20 \n",
      "\n",
      "hex: c6b380445f9d55b1 \n",
      "\n",
      "number of bits: 64 \n",
      "\n"
     ]
    }
   ],
   "source": [
    "my_print_number(\"p\", p)"
   ]
  },
  {
   "cell_type": "code",
   "execution_count": 9,
   "metadata": {
    "collapsed": false
   },
   "outputs": [
    {
     "name": "stdout",
     "output_type": "stream",
     "text": [
      "\n",
      " q \n",
      "\n",
      "decimal: 12,724,685,874,831,162,689 \n",
      "\n",
      "number of digits: 20 \n",
      "\n",
      "hex: b0972a6287bdfd41 \n",
      "\n",
      "number of bits: 64 \n",
      "\n"
     ]
    }
   ],
   "source": [
    "my_print_number(\"q\",q)"
   ]
  },
  {
   "cell_type": "code",
   "execution_count": 10,
   "metadata": {
    "collapsed": false
   },
   "outputs": [
   ],
   "source": [
    "# now that we know p and q, we can easily calculate Euler's phi\n",
    "\n",
    "phi = (p - 1) * (q - 1)"
   ]
  },
  {
   "cell_type": "code",
   "execution_count": 11,
   "metadata": {
    "collapsed": false
   },
   "outputs": [
    {
     "name": "stdout",
     "output_type": "stream",
     "text": [
      "\n",
      " phi \n",
      "\n",
      "decimal: 182,191,144,722,964,401,214,815,365,921,177,361,408 \n",
      "\n",
      "number of digits: 39 \n",
      "\n",
      "hex: 8910bcf5972f024dc8a3e04e77f45c00 \n",
      "\n",
      "number of bits: 128 \n",
      "\n"
     ]
    }
   ],
   "source": [
    "my_print_number(\"phi\",phi)"
   ]
  },
  {
   "cell_type": "code",
   "execution_count": 12,
   "metadata": {
    "collapsed": false
   },
   "outputs": [
   ],
   "source": [
    "# now that we have e and phi, we can easily calculate d using the Extended Euclidean Algorithm to solve Bezout's Identity\n",
    "\n",
    "def my_calculate_d(e,phi):\n",
    "    \"given e and phi calculate d\"\n",
    "    \n",
    "    (g, d, b) = xgcd(e,phi)\n",
    "    \n",
    "    print (\"\\nd * e + b * phi = gcd(e,phi) = 1\")\n",
    "    print (\"\\n(\" + str(d) + \" * \" + str(e) + \") + (\" + str(b) + \" * \" + str(phi) + \") = \" + str(g))\n",
    "    \n",
    "    print (\"\\nraw d = \", d)\n",
    "    \n",
    "    print (\"\\nd = raw d (mod phi) = \", d % phi)\n",
    "    \n",
    "    return d % phi\n"
   ]
  },
  {
   "cell_type": "code",
   "execution_count": 13,
   "metadata": {
    "collapsed": false
   },
   "outputs": [
    {
     "name": "stdout",
     "output_type": "stream",
     "text": [
      "\n",
      "d * e + b * phi = gcd(e,phi) = 1\n",
      "\n",
      "(10551194725837900616484391979403029603 * 120809252125207568615322638509316344139) + (-6996399006077726073490624431591312377 * 182191144722964401214815365921177361408) = 1\n",
      "\n",
      "raw d =  10551194725837900616484391979403029603\n",
      "\n",
      "d = raw d (mod phi) =  10551194725837900616484391979403029603\n"
     ]
    }
   ],
   "source": [
    "d = my_calculate_d(e,phi)"
   ]
  },
  {
   "cell_type": "code",
   "execution_count": 14,
   "metadata": {
    "collapsed": false
   },
   "outputs": [
    {
     "data": {
      "text/plain": [
       "5"
      ]
     },
     "execution_count": 14,
     "metadata": {
     },
     "output_type": "execute_result"
    }
   ],
   "source": [
    "ed = e * d\n",
    "power_mod(5, ed, n)"
   ]
  },
  {
   "cell_type": "code",
   "execution_count": 15,
   "metadata": {
    "collapsed": false
   },
   "outputs": [
    {
     "name": "stdout",
     "output_type": "stream",
     "text": [
      "1234567890\n"
     ]
    }
   ],
   "source": [
    "# now that we have recovered d, we can decrypt the ciphertext c into the message m\n",
    "# the message should be 1234567890\n",
    "\n",
    "m = power_mod(c, d, n)\n",
    "print (m)"
   ]
  },
  {
   "cell_type": "markdown",
   "metadata": {
    "collapsed": false
   },
   "source": [
    "### Further Discussion (time permitting)\n",
    "\n",
    "If we have network traffic stored from years ago that used RSA encryption with 128 bits or less for key exchange, can we decrypt it now?  What types of data would no longer be meaningfull?  What types of data would still have value?\n",
    "\n",
    "128 bit was seen as secure in the mid 1990s.  1024 is the current default for OpenSSH, the most widely used implementation. Recent bulletins have come out recommending 2048 as the new default. Considering Moore's Law, how long do you estimate it will be before n of the following sizes will be broken on a everyday laptop computer:\n",
    "\n",
    "* 1024\n",
    "* 2048\n",
    "* 4096\n",
    "\n",
    "Why not just use 4096 for everything?  Give examples where we would want to use 4096.  Give examples where we would not want to use 4096.  (assume today)\n"
   ]
  },
  {
   "cell_type": "code",
   "execution_count": 0,
   "metadata": {
    "collapsed": false
   },
   "outputs": [
   ],
   "source": [
   ]
  },
  {
   "cell_type": "code",
   "execution_count": 0,
   "metadata": {
    "collapsed": false
   },
   "outputs": [
   ],
   "source": [
   ]
  }
 ],
 "metadata": {
  "kernelspec": {
   "display_name": "SageMath 9.1",
   "language": "sagemath",
   "metadata": {
    "cocalc": {
     "description": "Open-source mathematical software system",
     "priority": 10,
     "url": "https://www.sagemath.org/"
    }
   },
   "name": "sage-9.1"
  },
  "language_info": {
   "codemirror_mode": {
    "name": "ipython",
    "version": 3
   },
   "file_extension": ".py",
   "mimetype": "text/x-python",
   "name": "python",
   "nbconvert_exporter": "python",
   "pygments_lexer": "ipython3",
   "version": "3.7.3"
  }
 },
 "nbformat": 4,
 "nbformat_minor": 4
}